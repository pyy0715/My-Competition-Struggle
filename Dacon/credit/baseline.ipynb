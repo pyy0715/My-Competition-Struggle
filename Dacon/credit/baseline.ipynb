{
 "cells": [
  {
   "cell_type": "code",
   "execution_count": 18,
   "metadata": {
    "ExecuteTime": {
     "end_time": "2021-04-08T15:07:04.522371Z",
     "start_time": "2021-04-08T15:07:04.434407Z"
    }
   },
   "outputs": [],
   "source": [
    "import pandas as pd \n",
    "import numpy as np\n",
    "\n",
    "import matplotlib.pyplot as plt\n",
    "import seaborn as sns\n",
    "\n",
    "from sklearn.metrics import log_loss, classification_report\n",
    "from sklearn.preprocessing import OneHotEncoder, LabelEncoder\n",
    "from sklearn.model_selection import StratifiedKFold\n",
    "\n",
    "from lightgbm import LGBMClassifier\n",
    "import lightgbm as lgb\n",
    "from catboost import Pool, CatBoostClassifier\n",
    "\n",
    "import warnings\n",
    "warnings.filterwarnings('ignore')"
   ]
  },
  {
   "cell_type": "code",
   "execution_count": 2,
   "metadata": {
    "ExecuteTime": {
     "end_time": "2021-04-08T15:03:38.438231Z",
     "start_time": "2021-04-08T15:03:38.370272Z"
    }
   },
   "outputs": [],
   "source": [
    "train = pd.read_csv('./open/train.csv', index_col='index').reset_index(drop=True)\n",
    "test = pd.read_csv('./open/test.csv', index_col='index').reset_index(drop=True)"
   ]
  },
  {
   "cell_type": "code",
   "execution_count": 3,
   "metadata": {
    "ExecuteTime": {
     "end_time": "2021-04-08T15:03:58.409896Z",
     "start_time": "2021-04-08T15:03:58.380926Z"
    }
   },
   "outputs": [],
   "source": [
    "train['UNEMPLOYED'] = train['DAYS_EMPLOYED'].map(lambda x: 1 if x>0 else 0)\n",
    "train['DAYS_EMPLOYED'] = train['DAYS_EMPLOYED'].map(lambda x: 0 if x>0 else x)\n",
    "\n",
    "test['UNEMPLOYED'] = test['DAYS_EMPLOYED'].map(lambda x: 1 if x>0 else 0)\n",
    "test['DAYS_EMPLOYED'] = test['DAYS_EMPLOYED'].map(lambda x: 0 if x>0 else x)"
   ]
  },
  {
   "cell_type": "code",
   "execution_count": 6,
   "metadata": {
    "ExecuteTime": {
     "end_time": "2021-04-08T15:04:39.714627Z",
     "start_time": "2021-04-08T15:04:39.707436Z"
    }
   },
   "outputs": [],
   "source": [
    "train['occyp_type'] = train['occyp_type'].fillna('None')\n",
    "test['occyp_type'] = test['occyp_type'].fillna('None')"
   ]
  },
  {
   "cell_type": "code",
   "execution_count": 19,
   "metadata": {
    "ExecuteTime": {
     "end_time": "2021-04-07T19:20:10.713689Z",
     "start_time": "2021-04-07T19:20:10.692610Z"
    }
   },
   "outputs": [],
   "source": [
    "# train['income_edu'] = train['income_type'] + train['edu_type']\n",
    "# test['income_edu'] = test['income_type'] + test['edu_type']\n",
    "\n",
    "\n",
    "# train['occyp_type'] = train['occyp_type'].fillna('None')\n",
    "# test['occyp_type'] = test['occyp_type'].fillna('None')\n",
    "\n",
    "# train['income_occyp'] = train['income_type'] + train['occyp_type']\n",
    "# test['income_occyp'] = test['income_type'] + test['occyp_type']\n",
    "\n",
    "\n",
    "# train['occyp_edu'] = train['occyp_type'] + train['edu_type']\n",
    "# test['occyp_edu'] = test['occyp_type'] + test['edu_type']"
   ]
  },
  {
   "cell_type": "code",
   "execution_count": 4,
   "metadata": {
    "ExecuteTime": {
     "end_time": "2021-04-08T15:04:02.731482Z",
     "start_time": "2021-04-08T15:04:02.718376Z"
    }
   },
   "outputs": [],
   "source": [
    "train['phone_total'] = train['FLAG_MOBIL'] + train['work_phone'] + train['phone']\n",
    "test['phone_total'] = test['FLAG_MOBIL'] + test['work_phone'] + test['phone']"
   ]
  },
  {
   "cell_type": "code",
   "execution_count": 7,
   "metadata": {
    "ExecuteTime": {
     "end_time": "2021-04-08T15:05:21.559981Z",
     "start_time": "2021-04-08T15:05:21.554416Z"
    }
   },
   "outputs": [],
   "source": [
    "CATEGORY_COL = [col for col in train.columns if train[col].dtype == 'object']"
   ]
  },
  {
   "cell_type": "code",
   "execution_count": 8,
   "metadata": {
    "ExecuteTime": {
     "end_time": "2021-04-08T15:05:24.905504Z",
     "start_time": "2021-04-08T15:05:24.889887Z"
    }
   },
   "outputs": [],
   "source": [
    "# CATEGORY_COL = ['gender', 'car', 'reality', 'email', 'family_type', 'house_type', 'UNEMPLOYED', 'income_edu', 'income_occyp', 'occyp_edu']\n",
    "# CATEGORY_COL = ['gender', 'car', 'reality', 'income_edu', 'UNEMPLOYED', 'family_type', 'house_type', 'income_type', 'edu_type', 'family_house']\n",
    "NUMERIC_COL = ['child_num', 'income_total', 'DAYS_EMPLOYED', 'family_size', 'begin_month', 'DAYS_BIRTH', 'phone_total']\n",
    "\n",
    "FEATURES = CATEGORY_COL + NUMERIC_COL\n",
    "TARGET = ['credit']\n",
    "\n",
    "train = train[FEATURES+TARGET]\n",
    "test = test[FEATURES]"
   ]
  },
  {
   "cell_type": "code",
   "execution_count": 10,
   "metadata": {
    "ExecuteTime": {
     "end_time": "2021-04-08T15:05:45.594683Z",
     "start_time": "2021-04-08T15:05:45.330539Z"
    }
   },
   "outputs": [],
   "source": [
    "from sklearn.preprocessing import PolynomialFeatures\n",
    "\n",
    "poly = PolynomialFeatures()\n",
    "ohe = OneHotEncoder(handle_unknown='ignore')\n",
    "\n",
    "ohe.fit(train.loc[:, CATEGORY_COL])\n",
    "\n",
    "train_onehot_df = pd.DataFrame(ohe.transform(train.loc[:,CATEGORY_COL]).toarray(), \n",
    "                               columns=ohe.get_feature_names(CATEGORY_COL))\n",
    "train = train.drop(CATEGORY_COL, axis=1)\n",
    "\n",
    "train_onehot_df = pd.DataFrame(poly.fit_transform(train_onehot_df), \n",
    "                               columns=poly.get_feature_names())\n",
    "\n",
    "train = pd.concat([train, train_onehot_df], axis=1)"
   ]
  },
  {
   "cell_type": "code",
   "execution_count": 11,
   "metadata": {
    "ExecuteTime": {
     "end_time": "2021-04-08T15:05:46.998924Z",
     "start_time": "2021-04-08T15:05:46.894521Z"
    }
   },
   "outputs": [],
   "source": [
    "test_onehot_df = pd.DataFrame(ohe.transform(test.loc[:,CATEGORY_COL]).toarray(), \n",
    "                              columns=ohe.get_feature_names(CATEGORY_COL))\n",
    "test = test.drop(CATEGORY_COL, axis=1)\n",
    "test_onehot_df = pd.DataFrame(poly.transform(test_onehot_df),\n",
    "                              columns=poly.get_feature_names())\n",
    "test = pd.concat([test, test_onehot_df], axis=1)"
   ]
  },
  {
   "cell_type": "code",
   "execution_count": 12,
   "metadata": {
    "ExecuteTime": {
     "end_time": "2021-04-08T15:05:47.437465Z",
     "start_time": "2021-04-08T15:05:47.434419Z"
    }
   },
   "outputs": [
    {
     "name": "stdout",
     "output_type": "stream",
     "text": [
      "(26457, 1136)\n",
      "(10000, 1135)\n"
     ]
    }
   ],
   "source": [
    "print(train.shape)\n",
    "print(test.shape)"
   ]
  },
  {
   "cell_type": "code",
   "execution_count": 13,
   "metadata": {
    "ExecuteTime": {
     "end_time": "2021-04-08T15:05:52.861502Z",
     "start_time": "2021-04-08T15:05:52.857396Z"
    }
   },
   "outputs": [],
   "source": [
    "param = {'max_depth':10, \n",
    "#          'num_leaves':128,\n",
    "         'objective': 'multi-class',\n",
    "         'n_estimators':2000, \n",
    "         'learning_rate':0.05, \n",
    "         'subsample':0.7, \n",
    "         'colsample_bytree':0.7}"
   ]
  },
  {
   "cell_type": "code",
   "execution_count": 14,
   "metadata": {
    "ExecuteTime": {
     "end_time": "2021-04-08T15:05:55.661902Z",
     "start_time": "2021-04-08T15:05:55.659378Z"
    }
   },
   "outputs": [],
   "source": [
    "FEATURES = [col for col in train.columns if col!='credit']"
   ]
  },
  {
   "cell_type": "code",
   "execution_count": 15,
   "metadata": {
    "ExecuteTime": {
     "end_time": "2021-04-08T15:05:56.594689Z",
     "start_time": "2021-04-08T15:05:56.591463Z"
    }
   },
   "outputs": [
    {
     "data": {
      "text/plain": [
       "{'max_depth': 10,\n",
       " 'objective': 'multi-class',\n",
       " 'n_estimators': 2000,\n",
       " 'learning_rate': 0.05,\n",
       " 'subsample': 0.7,\n",
       " 'colsample_bytree': 0.7}"
      ]
     },
     "execution_count": 15,
     "metadata": {},
     "output_type": "execute_result"
    }
   ],
   "source": [
    "param"
   ]
  },
  {
   "cell_type": "code",
   "execution_count": 16,
   "metadata": {
    "ExecuteTime": {
     "end_time": "2021-04-08T15:06:30.945142Z",
     "start_time": "2021-04-08T15:05:58.355350Z"
    },
    "scrolled": false
   },
   "outputs": [
    {
     "name": "stdout",
     "output_type": "stream",
     "text": [
      "\n",
      "fold num_: 0\n",
      "Training until validation scores don't improve for 100 rounds\n",
      "[100]\ttraining's multi_logloss: 0.717877\tvalid_1's multi_logloss: 0.773725\n",
      "[200]\ttraining's multi_logloss: 0.664212\tvalid_1's multi_logloss: 0.755255\n",
      "[300]\ttraining's multi_logloss: 0.620323\tvalid_1's multi_logloss: 0.744471\n",
      "[400]\ttraining's multi_logloss: 0.582752\tvalid_1's multi_logloss: 0.735973\n",
      "[500]\ttraining's multi_logloss: 0.552014\tvalid_1's multi_logloss: 0.730962\n",
      "[600]\ttraining's multi_logloss: 0.523445\tvalid_1's multi_logloss: 0.728119\n",
      "[700]\ttraining's multi_logloss: 0.498498\tvalid_1's multi_logloss: 0.727337\n",
      "Early stopping, best iteration is:\n",
      "[645]\ttraining's multi_logloss: 0.511996\tvalid_1's multi_logloss: 0.727085\n",
      "\n",
      "fold num_: 1\n",
      "Training until validation scores don't improve for 100 rounds\n",
      "[100]\ttraining's multi_logloss: 0.711882\tvalid_1's multi_logloss: 0.77846\n",
      "[200]\ttraining's multi_logloss: 0.656972\tvalid_1's multi_logloss: 0.761157\n",
      "[300]\ttraining's multi_logloss: 0.613145\tvalid_1's multi_logloss: 0.751107\n",
      "[400]\ttraining's multi_logloss: 0.575203\tvalid_1's multi_logloss: 0.744399\n",
      "[500]\ttraining's multi_logloss: 0.54342\tvalid_1's multi_logloss: 0.739901\n",
      "[600]\ttraining's multi_logloss: 0.516493\tvalid_1's multi_logloss: 0.737568\n",
      "[700]\ttraining's multi_logloss: 0.488809\tvalid_1's multi_logloss: 0.736222\n",
      "[800]\ttraining's multi_logloss: 0.464802\tvalid_1's multi_logloss: 0.736032\n",
      "Early stopping, best iteration is:\n",
      "[745]\ttraining's multi_logloss: 0.477311\tvalid_1's multi_logloss: 0.735753\n",
      "\n",
      "fold num_: 2\n",
      "Training until validation scores don't improve for 100 rounds\n",
      "[100]\ttraining's multi_logloss: 0.717335\tvalid_1's multi_logloss: 0.778031\n",
      "[200]\ttraining's multi_logloss: 0.662989\tvalid_1's multi_logloss: 0.761429\n",
      "[300]\ttraining's multi_logloss: 0.620013\tvalid_1's multi_logloss: 0.752892\n",
      "[400]\ttraining's multi_logloss: 0.5835\tvalid_1's multi_logloss: 0.747739\n",
      "[500]\ttraining's multi_logloss: 0.550102\tvalid_1's multi_logloss: 0.74368\n",
      "[600]\ttraining's multi_logloss: 0.52129\tvalid_1's multi_logloss: 0.741764\n",
      "[700]\ttraining's multi_logloss: 0.495326\tvalid_1's multi_logloss: 0.741159\n",
      "[800]\ttraining's multi_logloss: 0.472074\tvalid_1's multi_logloss: 0.741655\n",
      "Early stopping, best iteration is:\n",
      "[713]\ttraining's multi_logloss: 0.491877\tvalid_1's multi_logloss: 0.74086\n",
      "\n",
      "fold num_: 3\n",
      "Training until validation scores don't improve for 100 rounds\n",
      "[100]\ttraining's multi_logloss: 0.712503\tvalid_1's multi_logloss: 0.774157\n",
      "[200]\ttraining's multi_logloss: 0.661697\tvalid_1's multi_logloss: 0.756357\n",
      "[300]\ttraining's multi_logloss: 0.619286\tvalid_1's multi_logloss: 0.746097\n",
      "[400]\ttraining's multi_logloss: 0.583112\tvalid_1's multi_logloss: 0.738577\n",
      "[500]\ttraining's multi_logloss: 0.55044\tvalid_1's multi_logloss: 0.73377\n",
      "[600]\ttraining's multi_logloss: 0.522693\tvalid_1's multi_logloss: 0.730795\n",
      "[700]\ttraining's multi_logloss: 0.497301\tvalid_1's multi_logloss: 0.728462\n",
      "[800]\ttraining's multi_logloss: 0.472878\tvalid_1's multi_logloss: 0.728422\n",
      "[900]\ttraining's multi_logloss: 0.450123\tvalid_1's multi_logloss: 0.728151\n",
      "Early stopping, best iteration is:\n",
      "[832]\ttraining's multi_logloss: 0.465178\tvalid_1's multi_logloss: 0.72754\n",
      "\n",
      "fold num_: 4\n",
      "Training until validation scores don't improve for 100 rounds\n",
      "[100]\ttraining's multi_logloss: 0.718518\tvalid_1's multi_logloss: 0.773039\n",
      "[200]\ttraining's multi_logloss: 0.663331\tvalid_1's multi_logloss: 0.756126\n",
      "[300]\ttraining's multi_logloss: 0.616683\tvalid_1's multi_logloss: 0.74634\n",
      "[400]\ttraining's multi_logloss: 0.576483\tvalid_1's multi_logloss: 0.738281\n",
      "[500]\ttraining's multi_logloss: 0.543829\tvalid_1's multi_logloss: 0.734517\n",
      "[600]\ttraining's multi_logloss: 0.515105\tvalid_1's multi_logloss: 0.73255\n",
      "[700]\ttraining's multi_logloss: 0.489302\tvalid_1's multi_logloss: 0.732084\n",
      "Early stopping, best iteration is:\n",
      "[649]\ttraining's multi_logloss: 0.501859\tvalid_1's multi_logloss: 0.731495\n",
      "\n",
      "Cross Validation Is Complete\n",
      "CV score: 0.73255 \n"
     ]
    }
   ],
   "source": [
    "oof_lgb = np.zeros((len(train),3))\n",
    "lgb_pred = np.zeros((len(test),3))\n",
    "feature_importance_df = pd.DataFrame()\n",
    "\n",
    "skf = StratifiedKFold(n_splits=5, shuffle=True, random_state=42)\n",
    "\n",
    "for fold_, (trn_idx, val_idx) in enumerate(skf.split(train, train['credit'])):\n",
    "    print(\"\\nfold num_: {}\".format(fold_))\n",
    "    y_train, y_valid = train.iloc[trn_idx][TARGET], train.iloc[val_idx][TARGET]\n",
    "    X_train, X_valid = train.iloc[trn_idx][FEATURES], train.iloc[val_idx][FEATURES]\n",
    "    \n",
    "    clf = LGBMClassifier(**param)\n",
    "    clf.fit(X_train, y_train, \n",
    "            eval_set=[(X_train, y_train), (X_valid, y_valid)], \n",
    "            early_stopping_rounds=100,\n",
    "            verbose=100)\n",
    "    \n",
    "    oof_lgb[val_idx] = clf.predict_proba(X_valid, num_iteration=clf.best_iteration_)    \n",
    "    lgb_pred += clf.predict_proba(test[FEATURES], num_iteration=clf.best_iteration_)\n",
    "\n",
    "lgb_pred /= 5    \n",
    "print('\\nCross Validation Is Complete')                           \n",
    "print(\"CV score: {:<8.5f}\".format(log_loss(train[TARGET], oof_lgb)))"
   ]
  },
  {
   "cell_type": "code",
   "execution_count": 17,
   "metadata": {
    "ExecuteTime": {
     "end_time": "2021-04-08T15:06:42.032103Z",
     "start_time": "2021-04-08T15:06:41.784575Z"
    }
   },
   "outputs": [
    {
     "data": {
      "image/png": "[encoded data removed]",
      "text/plain": [
       "<Figure size 720x432 with 1 Axes>"
      ]
     },
     "metadata": {
      "needs_background": "light"
     },
     "output_type": "display_data"
    }
   ],
   "source": [
    "feature_importance = pd.DataFrame({'feature':clf.feature_name_, 'importance':clf.feature_importances_})\n",
    "\n",
    "plt.figure(figsize=(10,6))\n",
    "sns.barplot(x='importance', \n",
    "            y='feature', \n",
    "            data=feature_importance.sort_values(by=\"importance\", ascending=False).reset_index()[:20])\n",
    "\n",
    "plt.title('TOP 10 Feature Importances over 5 Folds Average')\n",
    "plt.tight_layout()"
   ]
  },
  {
   "cell_type": "code",
   "execution_count": 21,
   "metadata": {
    "ExecuteTime": {
     "end_time": "2021-04-08T15:10:31.957721Z",
     "start_time": "2021-04-08T15:10:31.892065Z"
    }
   },
   "outputs": [],
   "source": [
    "submit = pd.read_csv('./open/sample_submission.csv')\n",
    "\n",
    "submit.iloc[:, 1:] = (lgb_pred+cat_pred)/2\n",
    "submit.to_csv('./baseline.csv', index=False)"
   ]
  },
  {
   "cell_type": "code",
   "execution_count": 22,
   "metadata": {
    "ExecuteTime": {
     "end_time": "2021-04-08T15:10:32.537756Z",
     "start_time": "2021-04-08T15:10:32.528105Z"
    }
   },
   "outputs": [
    {
     "data": {
      "text/html": [
       "<div>\n",
       "<style scoped>\n",
       "    .dataframe tbody tr th:only-of-type {\n",
       "        vertical-align: middle;\n",
       "    }\n",
       "\n",
       "    .dataframe tbody tr th {\n",
       "        vertical-align: top;\n",
       "    }\n",
       "\n",
       "    .dataframe thead th {\n",
       "        text-align: right;\n",
       "    }\n",
       "</style>\n",
       "<table border=\"1\" class=\"dataframe\">\n",
       "  <thead>\n",
       "    <tr style=\"text-align: right;\">\n",
       "      <th></th>\n",
       "      <th>index</th>\n",
       "      <th>0</th>\n",
       "      <th>1</th>\n",
       "      <th>2</th>\n",
       "    </tr>\n",
       "  </thead>\n",
       "  <tbody>\n",
       "    <tr>\n",
       "      <th>0</th>\n",
       "      <td>26457</td>\n",
       "      <td>0.054502</td>\n",
       "      <td>0.092193</td>\n",
       "      <td>0.853305</td>\n",
       "    </tr>\n",
       "    <tr>\n",
       "      <th>1</th>\n",
       "      <td>26458</td>\n",
       "      <td>0.171130</td>\n",
       "      <td>0.150883</td>\n",
       "      <td>0.677987</td>\n",
       "    </tr>\n",
       "    <tr>\n",
       "      <th>2</th>\n",
       "      <td>26459</td>\n",
       "      <td>0.056195</td>\n",
       "      <td>0.127827</td>\n",
       "      <td>0.815978</td>\n",
       "    </tr>\n",
       "    <tr>\n",
       "      <th>3</th>\n",
       "      <td>26460</td>\n",
       "      <td>0.093781</td>\n",
       "      <td>0.097098</td>\n",
       "      <td>0.809121</td>\n",
       "    </tr>\n",
       "    <tr>\n",
       "      <th>4</th>\n",
       "      <td>26461</td>\n",
       "      <td>0.076979</td>\n",
       "      <td>0.150916</td>\n",
       "      <td>0.772105</td>\n",
       "    </tr>\n",
       "    <tr>\n",
       "      <th>...</th>\n",
       "      <td>...</td>\n",
       "      <td>...</td>\n",
       "      <td>...</td>\n",
       "      <td>...</td>\n",
       "    </tr>\n",
       "    <tr>\n",
       "      <th>9995</th>\n",
       "      <td>36452</td>\n",
       "      <td>0.119955</td>\n",
       "      <td>0.274973</td>\n",
       "      <td>0.605072</td>\n",
       "    </tr>\n",
       "    <tr>\n",
       "      <th>9996</th>\n",
       "      <td>36453</td>\n",
       "      <td>0.196299</td>\n",
       "      <td>0.253860</td>\n",
       "      <td>0.549841</td>\n",
       "    </tr>\n",
       "    <tr>\n",
       "      <th>9997</th>\n",
       "      <td>36454</td>\n",
       "      <td>0.018709</td>\n",
       "      <td>0.074719</td>\n",
       "      <td>0.906572</td>\n",
       "    </tr>\n",
       "    <tr>\n",
       "      <th>9998</th>\n",
       "      <td>36455</td>\n",
       "      <td>0.154024</td>\n",
       "      <td>0.228205</td>\n",
       "      <td>0.617771</td>\n",
       "    </tr>\n",
       "    <tr>\n",
       "      <th>9999</th>\n",
       "      <td>36456</td>\n",
       "      <td>0.073508</td>\n",
       "      <td>0.241406</td>\n",
       "      <td>0.685086</td>\n",
       "    </tr>\n",
       "  </tbody>\n",
       "</table>\n",
       "<p>10000 rows × 4 columns</p>\n",
       "</div>"
      ],
      "text/plain": [
       "      index         0         1         2\n",
       "0     26457  0.054502  0.092193  0.853305\n",
       "1     26458  0.171130  0.150883  0.677987\n",
       "2     26459  0.056195  0.127827  0.815978\n",
       "3     26460  0.093781  0.097098  0.809121\n",
       "4     26461  0.076979  0.150916  0.772105\n",
       "...     ...       ...       ...       ...\n",
       "9995  36452  0.119955  0.274973  0.605072\n",
       "9996  36453  0.196299  0.253860  0.549841\n",
       "9997  36454  0.018709  0.074719  0.906572\n",
       "9998  36455  0.154024  0.228205  0.617771\n",
       "9999  36456  0.073508  0.241406  0.685086\n",
       "\n",
       "[10000 rows x 4 columns]"
      ]
     },
     "execution_count": 22,
     "metadata": {},
     "output_type": "execute_result"
    }
   ],
   "source": [
    "submit"
   ]
  },
  {
   "cell_type": "code",
   "execution_count": 20,
   "metadata": {
    "ExecuteTime": {
     "end_time": "2021-04-08T15:10:18.477803Z",
     "start_time": "2021-04-08T15:08:38.434961Z"
    },
    "scrolled": false
   },
   "outputs": [
    {
     "name": "stdout",
     "output_type": "stream",
     "text": [
      "\n",
      "Fold  0\n",
      "0:\tlearn: 1.0700296\ttest: 1.0705595\tbest: 1.0705595 (0)\ttotal: 21.5ms\tremaining: 1m 47s\n",
      "200:\tlearn: 0.6981571\ttest: 0.7673242\tbest: 0.7673242 (200)\ttotal: 3.16s\tremaining: 1m 15s\n",
      "400:\tlearn: 0.6228178\ttest: 0.7494923\tbest: 0.7494923 (400)\ttotal: 6.29s\tremaining: 1m 12s\n",
      "600:\tlearn: 0.5667685\ttest: 0.7414065\tbest: 0.7414065 (600)\ttotal: 9.48s\tremaining: 1m 9s\n",
      "800:\tlearn: 0.5224706\ttest: 0.7378679\tbest: 0.7378602 (799)\ttotal: 12.7s\tremaining: 1m 6s\n",
      "1000:\tlearn: 0.4866996\ttest: 0.7375929\tbest: 0.7372441 (936)\ttotal: 15.9s\tremaining: 1m 3s\n",
      "bestTest = 0.7371411889\n",
      "bestIteration = 1048\n",
      "Shrink model to first 1049 iterations.\n",
      "  Log loss =  0.7371412448738954\n",
      "\n",
      "Fold  1\n",
      "0:\tlearn: 1.0700820\ttest: 1.0702363\tbest: 1.0702363 (0)\ttotal: 17.1ms\tremaining: 1m 25s\n",
      "200:\tlearn: 0.7080971\ttest: 0.7624551\tbest: 0.7624551 (200)\ttotal: 3.23s\tremaining: 1m 17s\n",
      "400:\tlearn: 0.6297391\ttest: 0.7400095\tbest: 0.7400095 (400)\ttotal: 6.4s\tremaining: 1m 13s\n",
      "600:\tlearn: 0.5740193\ttest: 0.7285314\tbest: 0.7285314 (600)\ttotal: 9.57s\tremaining: 1m 10s\n",
      "800:\tlearn: 0.5295673\ttest: 0.7233076\tbest: 0.7233076 (800)\ttotal: 12.8s\tremaining: 1m 6s\n",
      "1000:\tlearn: 0.4915983\ttest: 0.7202746\tbest: 0.7202037 (981)\ttotal: 16s\tremaining: 1m 3s\n",
      "1200:\tlearn: 0.4590845\ttest: 0.7201643\tbest: 0.7199848 (1117)\ttotal: 19.2s\tremaining: 1m\n",
      "bestTest = 0.7199848201\n",
      "bestIteration = 1117\n",
      "Shrink model to first 1118 iterations.\n",
      "  Log loss =  0.7199848511543242\n",
      "\n",
      "Fold  2\n",
      "0:\tlearn: 1.0701644\ttest: 1.0709937\tbest: 1.0709937 (0)\ttotal: 17.7ms\tremaining: 1m 28s\n",
      "200:\tlearn: 0.7024726\ttest: 0.7724817\tbest: 0.7724817 (200)\ttotal: 3.12s\tremaining: 1m 14s\n",
      "400:\tlearn: 0.6289272\ttest: 0.7543835\tbest: 0.7543835 (400)\ttotal: 6.26s\tremaining: 1m 11s\n",
      "600:\tlearn: 0.5723413\ttest: 0.7443087\tbest: 0.7443087 (600)\ttotal: 9.47s\tremaining: 1m 9s\n",
      "800:\tlearn: 0.5317990\ttest: 0.7407406\tbest: 0.7407305 (799)\ttotal: 12.7s\tremaining: 1m 6s\n",
      "1000:\tlearn: 0.4916815\ttest: 0.7393447\tbest: 0.7391442 (987)\ttotal: 15.9s\tremaining: 1m 3s\n",
      "1200:\tlearn: 0.4586152\ttest: 0.7397450\tbest: 0.7387915 (1117)\ttotal: 19.2s\tremaining: 1m\n",
      "bestTest = 0.7387915413\n",
      "bestIteration = 1117\n",
      "Shrink model to first 1118 iterations.\n",
      "  Log loss =  0.7387914811717002\n",
      "\n",
      "Fold  3\n",
      "0:\tlearn: 1.0701413\ttest: 1.0698592\tbest: 1.0698592 (0)\ttotal: 16ms\tremaining: 1m 19s\n",
      "200:\tlearn: 0.7017106\ttest: 0.7610837\tbest: 0.7610837 (200)\ttotal: 3.17s\tremaining: 1m 15s\n",
      "400:\tlearn: 0.6272468\ttest: 0.7405795\tbest: 0.7405795 (400)\ttotal: 6.36s\tremaining: 1m 12s\n",
      "600:\tlearn: 0.5708363\ttest: 0.7304978\tbest: 0.7304978 (600)\ttotal: 9.57s\tremaining: 1m 10s\n",
      "800:\tlearn: 0.5266654\ttest: 0.7259566\tbest: 0.7258534 (793)\ttotal: 12.8s\tremaining: 1m 7s\n",
      "1000:\tlearn: 0.4896542\ttest: 0.7236711\tbest: 0.7236519 (998)\ttotal: 16s\tremaining: 1m 3s\n",
      "1200:\tlearn: 0.4577296\ttest: 0.7228687\tbest: 0.7226728 (1186)\ttotal: 19.3s\tremaining: 1m 1s\n",
      "bestTest = 0.7225940959\n",
      "bestIteration = 1263\n",
      "Shrink model to first 1264 iterations.\n",
      "  Log loss =  0.7225940856148252\n",
      "\n",
      "Fold  4\n",
      "0:\tlearn: 1.0698797\ttest: 1.0706706\tbest: 1.0706706 (0)\ttotal: 18.2ms\tremaining: 1m 31s\n",
      "200:\tlearn: 0.7014934\ttest: 0.7752611\tbest: 0.7752611 (200)\ttotal: 3.22s\tremaining: 1m 16s\n",
      "400:\tlearn: 0.6266561\ttest: 0.7563501\tbest: 0.7563439 (399)\ttotal: 6.38s\tremaining: 1m 13s\n",
      "600:\tlearn: 0.5713703\ttest: 0.7489629\tbest: 0.7489629 (600)\ttotal: 9.56s\tremaining: 1m 9s\n",
      "800:\tlearn: 0.5265233\ttest: 0.7451463\tbest: 0.7451091 (796)\ttotal: 12.7s\tremaining: 1m 6s\n",
      "1000:\tlearn: 0.4879740\ttest: 0.7443281\tbest: 0.7441881 (955)\ttotal: 16.3s\tremaining: 1m 5s\n",
      "bestTest = 0.7441880596\n",
      "bestIteration = 955\n",
      "Shrink model to first 956 iterations.\n",
      "  Log loss =  0.7441879907342541\n",
      "CV score: 0.73254 \n"
     ]
    }
   ],
   "source": [
    "model = CatBoostClassifier(loss_function='MultiClass', \n",
    "                           depth = 10,\n",
    "                           early_stopping_rounds=100,\n",
    "                           task_type=\"GPU\",\n",
    "                           random_state=42,\n",
    "                           learning_rate=0.05,\n",
    "                           iterations=5000)\n",
    "\n",
    "skf = StratifiedKFold(n_splits=5, random_state=74, shuffle=True)\n",
    "\n",
    "\n",
    "oof_cat = np.zeros((len(train), 3))\n",
    "cat_pred = np.zeros((len(test), 3))\n",
    "\n",
    "\n",
    "for idx, (trn_idx, val_idx) in enumerate(skf.split(train, train['credit'])):\n",
    "    y_train, y_valid = train.iloc[trn_idx][TARGET], train.iloc[val_idx][TARGET]\n",
    "    X_train, X_valid = train.iloc[trn_idx][FEATURES], train.iloc[val_idx][FEATURES]\n",
    "    \n",
    "    _train = Pool(X_train, label=y_train)\n",
    "    _valid = Pool(X_valid, label=y_valid)\n",
    "    \n",
    "    print( \"\\nFold \", idx)\n",
    "    fit_model = model.fit(_train,\n",
    "                          eval_set=_valid,\n",
    "                          use_best_model=True,\n",
    "                          verbose=200\n",
    "                         )\n",
    "    pred = fit_model.predict_proba(X_valid)\n",
    "    print( \"  Log loss = \", log_loss(y_valid, pred) )\n",
    "    oof_cat[val_idx] = pred\n",
    "    cat_pred += fit_model.predict_proba(test[FEATURES])\n",
    "cat_pred /= 5\n",
    "print(\"CV score: {:<8.5f}\".format(log_loss(train[TARGET], oof_cat)))"
   ]
  },
  {
   "cell_type": "code",
   "execution_count": null,
   "metadata": {},
   "outputs": [],
   "source": []
  },
  {
   "cell_type": "code",
   "execution_count": 34,
   "metadata": {
    "ExecuteTime": {
     "end_time": "2021-04-08T15:23:08.375064Z",
     "start_time": "2021-04-08T15:23:08.368417Z"
    }
   },
   "outputs": [],
   "source": [
    "from xgboost import XGBClassifier\n",
    "\n",
    "xgb_params={'learning_rate':0.05,\n",
    "            'booster': 'gbdt',\n",
    "            'max_depth':10,\n",
    "            'objective':'multi:softprob',\n",
    "            'num_class':3,\n",
    "            'subsample':0.7,\n",
    "            'colsample_bytree':0.7,\n",
    "            'random_state':42,\n",
    "            'tree_method':'gpu_hist',\n",
    "            'gpu_id': 0,\n",
    "            'n_jobs': -1,\n",
    "            'predictor':'gpu_predictor'}"
   ]
  },
  {
   "cell_type": "code",
   "execution_count": 40,
   "metadata": {
    "ExecuteTime": {
     "end_time": "2021-04-08T15:46:07.366053Z",
     "start_time": "2021-04-08T15:31:45.845017Z"
    }
   },
   "outputs": [
    {
     "name": "stdout",
     "output_type": "stream",
     "text": [
      "\n",
      "fold num_: 0\n",
      "[0]\tvalidation_0-mlogloss:1.07422\tvalidation_1-mlogloss:1.07579\n",
      "[100]\tvalidation_0-mlogloss:0.64483\tvalidation_1-mlogloss:0.75726\n",
      "[200]\tvalidation_0-mlogloss:0.55163\tvalidation_1-mlogloss:0.73306\n",
      "[300]\tvalidation_0-mlogloss:0.47777\tvalidation_1-mlogloss:0.72336\n",
      "[400]\tvalidation_0-mlogloss:0.42118\tvalidation_1-mlogloss:0.72113\n",
      "[500]\tvalidation_0-mlogloss:0.37411\tvalidation_1-mlogloss:0.72471\n",
      "[505]\tvalidation_0-mlogloss:0.37214\tvalidation_1-mlogloss:0.72508\n",
      "\n",
      "fold num_: 1\n",
      "[0]\tvalidation_0-mlogloss:1.07434\tvalidation_1-mlogloss:1.07560\n",
      "[100]\tvalidation_0-mlogloss:0.65109\tvalidation_1-mlogloss:0.75480\n",
      "[200]\tvalidation_0-mlogloss:0.56221\tvalidation_1-mlogloss:0.73042\n",
      "[300]\tvalidation_0-mlogloss:0.49256\tvalidation_1-mlogloss:0.72006\n",
      "[400]\tvalidation_0-mlogloss:0.43052\tvalidation_1-mlogloss:0.71564\n",
      "[489]\tvalidation_0-mlogloss:0.38573\tvalidation_1-mlogloss:0.71796\n",
      "\n",
      "fold num_: 2\n",
      "[0]\tvalidation_0-mlogloss:1.07435\tvalidation_1-mlogloss:1.07542\n",
      "[100]\tvalidation_0-mlogloss:0.64962\tvalidation_1-mlogloss:0.75541\n",
      "[200]\tvalidation_0-mlogloss:0.55550\tvalidation_1-mlogloss:0.72985\n",
      "[300]\tvalidation_0-mlogloss:0.48453\tvalidation_1-mlogloss:0.71938\n",
      "[400]\tvalidation_0-mlogloss:0.42364\tvalidation_1-mlogloss:0.71633\n",
      "[495]\tvalidation_0-mlogloss:0.37820\tvalidation_1-mlogloss:0.71901\n",
      "\n",
      "fold num_: 3\n",
      "[0]\tvalidation_0-mlogloss:1.07461\tvalidation_1-mlogloss:1.07608\n",
      "[100]\tvalidation_0-mlogloss:0.65095\tvalidation_1-mlogloss:0.75176\n",
      "[200]\tvalidation_0-mlogloss:0.55451\tvalidation_1-mlogloss:0.72309\n",
      "[300]\tvalidation_0-mlogloss:0.48209\tvalidation_1-mlogloss:0.71130\n",
      "[400]\tvalidation_0-mlogloss:0.42574\tvalidation_1-mlogloss:0.70537\n",
      "[500]\tvalidation_0-mlogloss:0.37858\tvalidation_1-mlogloss:0.70589\n",
      "[524]\tvalidation_0-mlogloss:0.36769\tvalidation_1-mlogloss:0.70719\n",
      "\n",
      "fold num_: 4\n",
      "[0]\tvalidation_0-mlogloss:1.07412\tvalidation_1-mlogloss:1.07570\n",
      "[100]\tvalidation_0-mlogloss:0.64359\tvalidation_1-mlogloss:0.75217\n",
      "[200]\tvalidation_0-mlogloss:0.55077\tvalidation_1-mlogloss:0.72599\n",
      "[300]\tvalidation_0-mlogloss:0.48047\tvalidation_1-mlogloss:0.71669\n",
      "[400]\tvalidation_0-mlogloss:0.42092\tvalidation_1-mlogloss:0.71351\n",
      "[488]\tvalidation_0-mlogloss:0.38037\tvalidation_1-mlogloss:0.71583\n",
      "\n",
      "Cross Validation Is Complete\n",
      "CV score: 0.71418 \n"
     ]
    }
   ],
   "source": [
    "oof_xgb = np.zeros((len(train),3))\n",
    "xgb_pred = np.zeros((len(test),3))\n",
    "\n",
    "skf = StratifiedKFold(n_splits=5, shuffle=True, random_state=55)\n",
    "\n",
    "for fold_, (trn_idx, val_idx) in enumerate(skf.split(train, train['credit'])):\n",
    "    print(\"\\nfold num_: {}\".format(fold_))\n",
    "    y_train, y_valid = train.iloc[trn_idx][TARGET], train.iloc[val_idx][TARGET]\n",
    "    X_train, X_valid = train.iloc[trn_idx][FEATURES], train.iloc[val_idx][FEATURES]\n",
    "    \n",
    "    clf = XGBClassifier(**param)\n",
    "    clf.fit(X_train, y_train, \n",
    "            eval_set=[(X_train, y_train), (X_valid, y_valid)], \n",
    "            eval_metric= 'mlogloss',\n",
    "            early_stopping_rounds=100,\n",
    "            verbose=100)\n",
    "    \n",
    "    oof_xgb[val_idx] = clf.predict_proba(X_valid, ntree_limit=clf.best_iteration)    \n",
    "    xgb_pred += clf.predict_proba(test[FEATURES], ntree_limit=clf.best_iteration)\n",
    "\n",
    "xgb_pred /= 5    \n",
    "print('\\nCross Validation Is Complete')                           \n",
    "print(\"CV score: {:<8.5f}\".format(log_loss(train[TARGET], oof_xgb)))"
   ]
  },
  {
   "cell_type": "code",
   "execution_count": null,
   "metadata": {},
   "outputs": [],
   "source": []
  },
  {
   "cell_type": "code",
   "execution_count": 41,
   "metadata": {
    "ExecuteTime": {
     "end_time": "2021-04-08T15:47:21.211661Z",
     "start_time": "2021-04-08T15:47:21.159487Z"
    }
   },
   "outputs": [],
   "source": [
    "submit = pd.read_csv('./open/sample_submission.csv')\n",
    "\n",
    "submit.iloc[:, 1:] = (lgb_pred+cat_pred+xgb_pred)/3\n",
    "submit.to_csv('./3_ensemble.csv', index=False)"
   ]
  },
  {
   "cell_type": "code",
   "execution_count": 42,
   "metadata": {
    "ExecuteTime": {
     "end_time": "2021-04-08T15:47:36.058560Z",
     "start_time": "2021-04-08T15:47:36.008271Z"
    }
   },
   "outputs": [],
   "source": [
    "submit = pd.read_csv('./open/sample_submission.csv')\n",
    "\n",
    "submit.iloc[:, 1:] = (xgb_pred)\n",
    "submit.to_csv('./xgb_pred.csv', index=False)"
   ]
  },
  {
   "cell_type": "code",
   "execution_count": 43,
   "metadata": {
    "ExecuteTime": {
     "end_time": "2021-04-08T15:47:39.044915Z",
     "start_time": "2021-04-08T15:47:39.040378Z"
    }
   },
   "outputs": [
    {
     "data": {
      "text/plain": [
       "array([[0.04498416, 0.0709269 , 0.88408896],\n",
       "       [0.2427224 , 0.18388246, 0.57339514],\n",
       "       [0.07334616, 0.12198667, 0.80466717],\n",
       "       ...,\n",
       "       [0.01861378, 0.0737708 , 0.90761541],\n",
       "       [0.12747196, 0.24818431, 0.62434372],\n",
       "       [0.09598809, 0.22101659, 0.68299534]])"
      ]
     },
     "execution_count": 43,
     "metadata": {},
     "output_type": "execute_result"
    }
   ],
   "source": [
    "xgb_pred"
   ]
  }
 ],
 "metadata": {
  "kernelspec": {
   "display_name": "ML_Server",
   "language": "python",
   "name": "ml_server"
  },
  "language_info": {
   "codemirror_mode": {
    "name": "ipython",
    "version": 3
   },
   "file_extension": ".py",
   "mimetype": "text/x-python",
   "name": "python",
   "nbconvert_exporter": "python",
   "pygments_lexer": "ipython3",
   "version": "3.7.9"
  },
  "toc": {
   "base_numbering": 1,
   "nav_menu": {},
   "number_sections": true,
   "sideBar": true,
   "skip_h1_title": false,
   "title_cell": "Table of Contents",
   "title_sidebar": "Contents",
   "toc_cell": false,
   "toc_position": {},
   "toc_section_display": true,
   "toc_window_display": false
  }
 },
 "nbformat": 4,
 "nbformat_minor": 4
}
