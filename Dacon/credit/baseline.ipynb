{
 "cells": [
  {
   "cell_type": "code",
   "execution_count": 65,
   "metadata": {
    "ExecuteTime": {
     "end_time": "2021-04-10T18:47:14.476937Z",
     "start_time": "2021-04-10T18:47:14.470199Z"
    }
   },
   "outputs": [],
   "source": [
    "import pandas as pd \n",
    "import numpy as np\n",
    "\n",
    "import matplotlib.pyplot as plt\n",
    "import seaborn as sns\n",
    "\n",
    "from sklearn.metrics import log_loss, classification_report\n",
    "from sklearn.preprocessing import OneHotEncoder, LabelEncoder, OrdinalEncoder\n",
    "from sklearn.model_selection import StratifiedKFold\n",
    "\n",
    "from xgboost import XGBClassifier\n",
    "from lightgbm import LGBMClassifier\n",
    "from catboost import Pool, CatBoostClassifier\n",
    "\n",
    "import warnings\n",
    "warnings.filterwarnings('ignore')"
   ]
  },
  {
   "cell_type": "code",
   "execution_count": 66,
   "metadata": {
    "ExecuteTime": {
     "end_time": "2021-04-10T18:47:14.688945Z",
     "start_time": "2021-04-10T18:47:14.639828Z"
    }
   },
   "outputs": [],
   "source": [
    "train = pd.read_csv('./open/train.csv', index_col='index').reset_index(drop=True)\n",
    "test = pd.read_csv('./open/test.csv', index_col='index').reset_index(drop=True)"
   ]
  },
  {
   "cell_type": "markdown",
   "metadata": {},
   "source": [
    "## Encoding"
   ]
  },
  {
   "cell_type": "code",
   "execution_count": 67,
   "metadata": {
    "ExecuteTime": {
     "end_time": "2021-04-10T18:47:14.984723Z",
     "start_time": "2021-04-10T18:47:14.979187Z"
    }
   },
   "outputs": [],
   "source": [
    "train['occyp_type'] = train['occyp_type'].fillna('None')\n",
    "test['occyp_type'] = test['occyp_type'].fillna('None')"
   ]
  },
  {
   "cell_type": "code",
   "execution_count": 68,
   "metadata": {
    "ExecuteTime": {
     "end_time": "2021-04-10T18:47:15.271209Z",
     "start_time": "2021-04-10T18:47:15.241020Z"
    }
   },
   "outputs": [],
   "source": [
    "train['UNEMPLOYED'] = train['DAYS_EMPLOYED'].map(lambda x: 1 if x>0 else 0).astype('object')\n",
    "train['DAYS_EMPLOYED'] = train['DAYS_EMPLOYED'].map(lambda x: 0 if x>0 else x)\n",
    "\n",
    "test['UNEMPLOYED'] = test['DAYS_EMPLOYED'].map(lambda x: 1 if x>0 else 0).astype('object')\n",
    "test['DAYS_EMPLOYED'] = test['DAYS_EMPLOYED'].map(lambda x: 0 if x>0 else x)"
   ]
  },
  {
   "cell_type": "code",
   "execution_count": 69,
   "metadata": {
    "ExecuteTime": {
     "end_time": "2021-04-10T18:47:15.349117Z",
     "start_time": "2021-04-10T18:47:15.341776Z"
    }
   },
   "outputs": [],
   "source": [
    "train.loc[train['child_num']>=4,'child_num']= 4\n",
    "test.loc[test['child_num']>=4,'child_num']= 4"
   ]
  },
  {
   "cell_type": "code",
   "execution_count": 70,
   "metadata": {
    "ExecuteTime": {
     "end_time": "2021-04-10T18:47:15.516274Z",
     "start_time": "2021-04-10T18:47:15.511994Z"
    }
   },
   "outputs": [],
   "source": [
    "train['worktm']=-(train['DAYS_EMPLOYED'])/365\n",
    "test['worktm']=-(test['DAYS_EMPLOYED'])/365"
   ]
  },
  {
   "cell_type": "code",
   "execution_count": 71,
   "metadata": {
    "ExecuteTime": {
     "end_time": "2021-04-10T18:47:15.732658Z",
     "start_time": "2021-04-10T18:47:15.727566Z"
    }
   },
   "outputs": [],
   "source": [
    "train.loc[train['family_size']>=5,'family_size']= 5\n",
    "test.loc[test['family_size']>=5,'family_size']= 5"
   ]
  },
  {
   "cell_type": "code",
   "execution_count": 72,
   "metadata": {
    "ExecuteTime": {
     "end_time": "2021-04-10T18:47:15.863161Z",
     "start_time": "2021-04-10T18:47:15.852974Z"
    }
   },
   "outputs": [],
   "source": [
    "train.loc[train['income_type']=='Pensioner', 'income_type']='State servant'\n",
    "train.loc[train['income_type']=='Student', 'income_type']='State servant'\n",
    "\n",
    "test.loc[test['income_type']=='Pensioner', 'income_type']='State servant'\n",
    "test.loc[test['income_type']=='Student', 'income_type']='State servant'"
   ]
  },
  {
   "cell_type": "code",
   "execution_count": 73,
   "metadata": {
    "ExecuteTime": {
     "end_time": "2021-04-10T18:47:16.072994Z",
     "start_time": "2021-04-10T18:47:16.022502Z"
    }
   },
   "outputs": [],
   "source": [
    "train.loc[(train['occyp_type']=='Cleaning staff') | (train['occyp_type']=='Cooking staff') | (train['occyp_type']=='Drivers') | (train['occyp_type']=='Laborers') | (train['occyp_type']=='Low-skill Laborers') | (train['occyp_type']=='Security staff') | (train['occyp_type']=='Waiters/barmen staff'),'occyp_group']='Laborwk'\n",
    "train.loc[(train['occyp_type']=='Accountants') | (train['occyp_type']=='Core staff') | (train['occyp_type']=='HR staff') | (train['occyp_type']=='Medicine staff') | (train['occyp_type']=='Private service staff') | (train['occyp_type']=='Realty agents') | (train['occyp_type']=='Sales staff') | (train['occyp_type']=='Secretaries'),'occyp_group']='officewk'\n",
    "train.loc[(train['occyp_type']=='Managers') | (train['occyp_type']=='High skill tech staff') | (train['occyp_type']=='IT staff'),'occyp_group']='hightecwk'\n",
    "\n",
    "test.loc[(test['occyp_type']=='Cleaning staff') | (test['occyp_type']=='Cooking staff') | (test['occyp_type']=='Drivers') | (test['occyp_type']=='Laborers') | (test['occyp_type']=='Low-skill Laborers') | (test['occyp_type']=='Security staff') | (test['occyp_type']=='Waiters/barmen staff'),'occyp_group']='Laborwk'\n",
    "test.loc[(test['occyp_type']=='Accountants') | (test['occyp_type']=='Core staff') | (test['occyp_type']=='HR staff') | (test['occyp_type']=='Medicine staff') | (test['occyp_type']=='Private service staff') | (test['occyp_type']=='Realty agents') | (test['occyp_type']=='Sales staff') | (test['occyp_type']=='Secretaries'),'occyp_group']='officewk'\n",
    "test.loc[(test['occyp_type']=='Managers') | (test['occyp_type']=='High skill tech staff') | (test['occyp_type']=='IT staff'),'occyp_group']='hightecwk'"
   ]
  },
  {
   "cell_type": "code",
   "execution_count": 74,
   "metadata": {
    "ExecuteTime": {
     "end_time": "2021-04-10T18:47:16.222080Z",
     "start_time": "2021-04-10T18:47:16.215953Z"
    }
   },
   "outputs": [],
   "source": [
    "train['occyp_group'] = train['occyp_group'].fillna('None')\n",
    "test['occyp_group'] = test['occyp_group'].fillna('None')"
   ]
  },
  {
   "cell_type": "code",
   "execution_count": 75,
   "metadata": {
    "ExecuteTime": {
     "end_time": "2021-04-10T18:47:16.415068Z",
     "start_time": "2021-04-10T18:47:16.408443Z"
    }
   },
   "outputs": [],
   "source": [
    "train.loc[train['edu_type']=='Academic degree','edu_type']= 'Higher education'\n",
    "test.loc[test['edu_type']=='Academic degree','edu_type']= 'Higher education'"
   ]
  },
  {
   "cell_type": "code",
   "execution_count": null,
   "metadata": {},
   "outputs": [],
   "source": []
  },
  {
   "cell_type": "code",
   "execution_count": 76,
   "metadata": {
    "ExecuteTime": {
     "end_time": "2021-04-10T18:47:16.912054Z",
     "start_time": "2021-04-10T18:47:16.909866Z"
    }
   },
   "outputs": [],
   "source": [
    "# train['income_edu'] = train['income_type'] + '-' + train['edu_type'].astype('object')\n",
    "# test['income_edu'] = test['income_type'] + '-' + test['edu_type'].astype('object')"
   ]
  },
  {
   "cell_type": "code",
   "execution_count": 77,
   "metadata": {
    "ExecuteTime": {
     "end_time": "2021-04-10T18:47:17.428949Z",
     "start_time": "2021-04-10T18:47:17.426857Z"
    }
   },
   "outputs": [],
   "source": [
    "# train['occyp_edu'] = train['occyp_type'] + '-' + train['edu_type'].astype('object')\n",
    "# test['occyp_edu'] = test['occyp_type'] + '-' + test['edu_type'].astype('object')"
   ]
  },
  {
   "cell_type": "code",
   "execution_count": 78,
   "metadata": {
    "ExecuteTime": {
     "end_time": "2021-04-10T18:47:17.829972Z",
     "start_time": "2021-04-10T18:47:17.827627Z"
    }
   },
   "outputs": [],
   "source": [
    "# train['reality_car'] = train['reality'] + '-' + train['car']\n",
    "# test['reality_car'] = test['reality'] + '-' + test['car']"
   ]
  },
  {
   "cell_type": "code",
   "execution_count": 79,
   "metadata": {
    "ExecuteTime": {
     "end_time": "2021-04-10T18:47:18.221003Z",
     "start_time": "2021-04-10T18:47:18.183247Z"
    }
   },
   "outputs": [],
   "source": [
    "edu_list = ['Lower secondary', 'Secondary / secondary special', 'Incomplete higher', 'Higher education']\n",
    "income_list = ['Working', 'State servant', 'Commercial associate']\n",
    "# reality_car_type = ['N-N', 'N-Y', 'Y-N', 'Y-Y']\n",
    "\n",
    "train['edu_type'] = train['edu_type'].map(lambda x: edu_list.index(x))\n",
    "train['income_type'] = train['income_type'].map(lambda x: income_list.index(x)) \n",
    "# train['reality_car'] = train['reality_car'].map(lambda x: reality_car_type.index(x)) \n",
    "\n",
    "test['edu_type'] = test['edu_type'].map(lambda x: edu_list.index(x)) \n",
    "test['income_type'] = test['income_type'].map(lambda x: income_list.index(x)) \n",
    "# test['reality_car'] = test['reality_car'].map(lambda x: reality_car_type.index(x)) "
   ]
  },
  {
   "cell_type": "code",
   "execution_count": 80,
   "metadata": {
    "ExecuteTime": {
     "end_time": "2021-04-10T18:47:18.542723Z",
     "start_time": "2021-04-10T18:47:18.538291Z"
    }
   },
   "outputs": [],
   "source": [
    "train['phone_total'] = train['FLAG_MOBIL'] + train['work_phone'] + train['phone']\n",
    "test['phone_total'] = test['FLAG_MOBIL'] + test['work_phone'] + test['phone']"
   ]
  },
  {
   "cell_type": "code",
   "execution_count": 81,
   "metadata": {
    "ExecuteTime": {
     "end_time": "2021-04-10T18:47:19.043250Z",
     "start_time": "2021-04-10T18:47:19.031299Z"
    }
   },
   "outputs": [],
   "source": [
    "CATEGORY_COL = [col for col in train.columns if train[col].dtype == 'object']\n",
    "# CATEGORY_COL = ['gender', 'car', 'reality', 'email', 'family_type', 'house_type', 'UNEMPLOYED', 'income_edu', 'income_occyp', 'occyp_edu']\n",
    "# CATEGORY_COL = ['gender', 'car', 'reality', 'income_edu', 'UNEMPLOYED', 'family_type', 'house_type', 'income_type', 'edu_type', 'family_house']\n",
    "NUMERIC_COL = [col for col in train.columns if train[col].dtype != 'object' and col!='credit']\n",
    "\n",
    "FEATURES = CATEGORY_COL + NUMERIC_COL\n",
    "TARGET = ['credit']\n",
    "\n",
    "train = train[FEATURES+TARGET]\n",
    "test = test[FEATURES]"
   ]
  },
  {
   "cell_type": "code",
   "execution_count": 82,
   "metadata": {
    "ExecuteTime": {
     "end_time": "2021-04-10T18:47:19.438703Z",
     "start_time": "2021-04-10T18:47:19.386499Z"
    }
   },
   "outputs": [],
   "source": [
    "from sklearn.preprocessing import PolynomialFeatures\n",
    "\n",
    "poly = PolynomialFeatures(interaction_only=True, include_bias=False)\n",
    "ohe = OneHotEncoder(handle_unknown='ignore')\n",
    "\n",
    "ohe.fit(train.loc[:, CATEGORY_COL])\n",
    "\n",
    "train_onehot_df = pd.DataFrame(ohe.transform(train.loc[:,CATEGORY_COL]).toarray(), \n",
    "                               columns=ohe.get_feature_names(CATEGORY_COL))\n",
    "train = train.drop(CATEGORY_COL, axis=1)\n",
    "\n",
    "train = pd.concat([train, train_onehot_df], axis=1)\n",
    "\n",
    "# train_poly_df = pd.DataFrame(poly.fit_transform(train_onehot_df), \n",
    "#                                columns=poly.get_feature_names())\n",
    "\n",
    "# train = pd.concat([train, train_poly_df], axis=1)"
   ]
  },
  {
   "cell_type": "code",
   "execution_count": 83,
   "metadata": {
    "ExecuteTime": {
     "end_time": "2021-04-10T18:47:20.132806Z",
     "start_time": "2021-04-10T18:47:20.110455Z"
    }
   },
   "outputs": [],
   "source": [
    "test_onehot_df = pd.DataFrame(ohe.transform(test.loc[:,CATEGORY_COL]).toarray(), \n",
    "                              columns=ohe.get_feature_names(CATEGORY_COL))\n",
    "test = test.drop(CATEGORY_COL, axis=1)\n",
    "\n",
    "test = pd.concat([test, test_onehot_df], axis=1)\n",
    "\n",
    "# test_poly_df = pd.DataFrame(poly.transform(test_onehot_df),\n",
    "#                               columns=poly.get_feature_names())\n",
    "\n",
    "# test = pd.concat([test, test_poly_df], axis=1)"
   ]
  },
  {
   "cell_type": "code",
   "execution_count": 84,
   "metadata": {
    "ExecuteTime": {
     "end_time": "2021-04-10T18:47:20.560610Z",
     "start_time": "2021-04-10T18:47:20.557589Z"
    }
   },
   "outputs": [
    {
     "name": "stdout",
     "output_type": "stream",
     "text": [
      "(26457, 57)\n",
      "(10000, 56)\n"
     ]
    }
   ],
   "source": [
    "print(train.shape)\n",
    "print(test.shape)"
   ]
  },
  {
   "cell_type": "code",
   "execution_count": 106,
   "metadata": {
    "ExecuteTime": {
     "end_time": "2021-04-10T18:57:07.501565Z",
     "start_time": "2021-04-10T18:57:07.498260Z"
    }
   },
   "outputs": [],
   "source": [
    "param = {'boosting_type':'gbdt',\n",
    "         'max_depth':-1, \n",
    "         'num_leaves':64,\n",
    "         'objective': 'multi-class',\n",
    "         'n_estimators':2000, \n",
    "         'learning_rate':0.03, \n",
    "         'subsample':0.8, \n",
    "         'colsample_bytree':0.8}"
   ]
  },
  {
   "cell_type": "code",
   "execution_count": 93,
   "metadata": {
    "ExecuteTime": {
     "end_time": "2021-04-10T18:50:20.756444Z",
     "start_time": "2021-04-10T18:50:20.753768Z"
    }
   },
   "outputs": [],
   "source": [
    "FEATURES = [col for col in train.columns if col!='credit']"
   ]
  },
  {
   "cell_type": "code",
   "execution_count": 107,
   "metadata": {
    "ExecuteTime": {
     "end_time": "2021-04-10T18:57:40.522635Z",
     "start_time": "2021-04-10T18:57:09.147304Z"
    },
    "scrolled": false
   },
   "outputs": [
    {
     "name": "stdout",
     "output_type": "stream",
     "text": [
      "\n",
      "fold num_: 0\n",
      "Training until validation scores don't improve for 100 rounds\n",
      "[100]\ttraining's multi_logloss: 0.742005\tvalid_1's multi_logloss: 0.780431\n",
      "[200]\ttraining's multi_logloss: 0.696943\tvalid_1's multi_logloss: 0.763218\n",
      "[300]\ttraining's multi_logloss: 0.661592\tvalid_1's multi_logloss: 0.752333\n",
      "[400]\ttraining's multi_logloss: 0.631627\tvalid_1's multi_logloss: 0.743917\n",
      "[500]\ttraining's multi_logloss: 0.605334\tvalid_1's multi_logloss: 0.739291\n",
      "[600]\ttraining's multi_logloss: 0.581263\tvalid_1's multi_logloss: 0.736448\n",
      "[700]\ttraining's multi_logloss: 0.558991\tvalid_1's multi_logloss: 0.733872\n",
      "[800]\ttraining's multi_logloss: 0.538566\tvalid_1's multi_logloss: 0.731586\n",
      "[900]\ttraining's multi_logloss: 0.520279\tvalid_1's multi_logloss: 0.730251\n",
      "[1000]\ttraining's multi_logloss: 0.503419\tvalid_1's multi_logloss: 0.729253\n",
      "[1100]\ttraining's multi_logloss: 0.486915\tvalid_1's multi_logloss: 0.727724\n",
      "[1200]\ttraining's multi_logloss: 0.471396\tvalid_1's multi_logloss: 0.727746\n",
      "[1300]\ttraining's multi_logloss: 0.456098\tvalid_1's multi_logloss: 0.727034\n",
      "[1400]\ttraining's multi_logloss: 0.442216\tvalid_1's multi_logloss: 0.727312\n",
      "Early stopping, best iteration is:\n",
      "[1312]\ttraining's multi_logloss: 0.454276\tvalid_1's multi_logloss: 0.726931\n",
      "\n",
      "fold num_: 1\n",
      "Training until validation scores don't improve for 100 rounds\n",
      "[100]\ttraining's multi_logloss: 0.738898\tvalid_1's multi_logloss: 0.7902\n",
      "[200]\ttraining's multi_logloss: 0.692828\tvalid_1's multi_logloss: 0.773802\n",
      "[300]\ttraining's multi_logloss: 0.657841\tvalid_1's multi_logloss: 0.764616\n",
      "[400]\ttraining's multi_logloss: 0.62764\tvalid_1's multi_logloss: 0.757441\n",
      "[500]\ttraining's multi_logloss: 0.600322\tvalid_1's multi_logloss: 0.752042\n",
      "[600]\ttraining's multi_logloss: 0.576359\tvalid_1's multi_logloss: 0.748417\n",
      "[700]\ttraining's multi_logloss: 0.553858\tvalid_1's multi_logloss: 0.74573\n",
      "[800]\ttraining's multi_logloss: 0.533367\tvalid_1's multi_logloss: 0.744171\n",
      "[900]\ttraining's multi_logloss: 0.514541\tvalid_1's multi_logloss: 0.743532\n",
      "[1000]\ttraining's multi_logloss: 0.49678\tvalid_1's multi_logloss: 0.742618\n",
      "[1100]\ttraining's multi_logloss: 0.480713\tvalid_1's multi_logloss: 0.742357\n",
      "Early stopping, best iteration is:\n",
      "[1094]\ttraining's multi_logloss: 0.481595\tvalid_1's multi_logloss: 0.742234\n",
      "\n",
      "fold num_: 2\n",
      "Training until validation scores don't improve for 100 rounds\n",
      "[100]\ttraining's multi_logloss: 0.742392\tvalid_1's multi_logloss: 0.78603\n",
      "[200]\ttraining's multi_logloss: 0.698506\tvalid_1's multi_logloss: 0.770718\n",
      "[300]\ttraining's multi_logloss: 0.663059\tvalid_1's multi_logloss: 0.760927\n",
      "[400]\ttraining's multi_logloss: 0.631096\tvalid_1's multi_logloss: 0.754306\n",
      "[500]\ttraining's multi_logloss: 0.603316\tvalid_1's multi_logloss: 0.749528\n",
      "[600]\ttraining's multi_logloss: 0.578278\tvalid_1's multi_logloss: 0.746725\n",
      "[700]\ttraining's multi_logloss: 0.555416\tvalid_1's multi_logloss: 0.74384\n",
      "[800]\ttraining's multi_logloss: 0.534453\tvalid_1's multi_logloss: 0.741482\n",
      "[900]\ttraining's multi_logloss: 0.515159\tvalid_1's multi_logloss: 0.739673\n",
      "[1000]\ttraining's multi_logloss: 0.497805\tvalid_1's multi_logloss: 0.738836\n",
      "[1100]\ttraining's multi_logloss: 0.481204\tvalid_1's multi_logloss: 0.738485\n",
      "[1200]\ttraining's multi_logloss: 0.464832\tvalid_1's multi_logloss: 0.738509\n",
      "Early stopping, best iteration is:\n",
      "[1159]\ttraining's multi_logloss: 0.471131\tvalid_1's multi_logloss: 0.738041\n",
      "\n",
      "fold num_: 3\n",
      "Training until validation scores don't improve for 100 rounds\n",
      "[100]\ttraining's multi_logloss: 0.740738\tvalid_1's multi_logloss: 0.783215\n",
      "[200]\ttraining's multi_logloss: 0.69418\tvalid_1's multi_logloss: 0.765065\n",
      "[300]\ttraining's multi_logloss: 0.659697\tvalid_1's multi_logloss: 0.755805\n",
      "[400]\ttraining's multi_logloss: 0.629435\tvalid_1's multi_logloss: 0.748719\n",
      "[500]\ttraining's multi_logloss: 0.601722\tvalid_1's multi_logloss: 0.742178\n",
      "[600]\ttraining's multi_logloss: 0.578109\tvalid_1's multi_logloss: 0.737997\n",
      "[700]\ttraining's multi_logloss: 0.556923\tvalid_1's multi_logloss: 0.735412\n",
      "[800]\ttraining's multi_logloss: 0.537368\tvalid_1's multi_logloss: 0.73238\n",
      "[900]\ttraining's multi_logloss: 0.518872\tvalid_1's multi_logloss: 0.7308\n",
      "[1000]\ttraining's multi_logloss: 0.500873\tvalid_1's multi_logloss: 0.729706\n",
      "[1100]\ttraining's multi_logloss: 0.483343\tvalid_1's multi_logloss: 0.728214\n",
      "[1200]\ttraining's multi_logloss: 0.466978\tvalid_1's multi_logloss: 0.728479\n",
      "Early stopping, best iteration is:\n",
      "[1148]\ttraining's multi_logloss: 0.475274\tvalid_1's multi_logloss: 0.727947\n",
      "\n",
      "fold num_: 4\n",
      "Training until validation scores don't improve for 100 rounds\n",
      "[100]\ttraining's multi_logloss: 0.744636\tvalid_1's multi_logloss: 0.780665\n",
      "[200]\ttraining's multi_logloss: 0.697764\tvalid_1's multi_logloss: 0.76332\n",
      "[300]\ttraining's multi_logloss: 0.66152\tvalid_1's multi_logloss: 0.753155\n",
      "[400]\ttraining's multi_logloss: 0.630979\tvalid_1's multi_logloss: 0.746524\n",
      "[500]\ttraining's multi_logloss: 0.604614\tvalid_1's multi_logloss: 0.740928\n",
      "[600]\ttraining's multi_logloss: 0.579696\tvalid_1's multi_logloss: 0.736635\n",
      "[700]\ttraining's multi_logloss: 0.55692\tvalid_1's multi_logloss: 0.733969\n",
      "[800]\ttraining's multi_logloss: 0.536604\tvalid_1's multi_logloss: 0.731843\n",
      "[900]\ttraining's multi_logloss: 0.517447\tvalid_1's multi_logloss: 0.730549\n",
      "[1000]\ttraining's multi_logloss: 0.499913\tvalid_1's multi_logloss: 0.730032\n",
      "Early stopping, best iteration is:\n",
      "[974]\ttraining's multi_logloss: 0.504359\tvalid_1's multi_logloss: 0.729851\n",
      "\n",
      "Cross Validation Is Complete\n",
      "CV score: 0.73300 \n"
     ]
    }
   ],
   "source": [
    "oof_lgb = np.zeros((len(train),3))\n",
    "lgb_pred = np.zeros((len(test),3))\n",
    "feature_importance_df = pd.DataFrame()\n",
    "\n",
    "skf = StratifiedKFold(n_splits=5, shuffle=True, random_state=42)\n",
    "\n",
    "for fold_, (trn_idx, val_idx) in enumerate(skf.split(train, train['credit'])):\n",
    "    print(\"\\nfold num_: {}\".format(fold_))\n",
    "    y_train, y_valid = train.iloc[trn_idx][TARGET], train.iloc[val_idx][TARGET]\n",
    "    X_train, X_valid = train.iloc[trn_idx][FEATURES], train.iloc[val_idx][FEATURES]\n",
    "    \n",
    "    clf = LGBMClassifier(**param)\n",
    "    clf.fit(X_train, y_train, \n",
    "            eval_set=[(X_train, y_train), (X_valid, y_valid)], \n",
    "            early_stopping_rounds=100,\n",
    "            verbose=100)\n",
    "    \n",
    "    oof_lgb[val_idx] = clf.predict_proba(X_valid, num_iteration=clf.best_iteration_)    \n",
    "    lgb_pred += clf.predict_proba(test[FEATURES], num_iteration=clf.best_iteration_)\n",
    "\n",
    "lgb_pred /= 5    \n",
    "print('\\nCross Validation Is Complete')                           \n",
    "print(\"CV score: {:<8.5f}\".format(log_loss(train[TARGET], oof_lgb)))"
   ]
  },
  {
   "cell_type": "code",
   "execution_count": 108,
   "metadata": {
    "ExecuteTime": {
     "end_time": "2021-04-10T18:58:26.097214Z",
     "start_time": "2021-04-10T18:58:25.812892Z"
    }
   },
   "outputs": [
    {
     "data": {
      "image/png": "[encoded data removed]",
      "text/plain": [
       "<Figure size 720x432 with 1 Axes>"
      ]
     },
     "metadata": {
      "needs_background": "light"
     },
     "output_type": "display_data"
    }
   ],
   "source": [
    "feature_importance = pd.DataFrame({'feature':clf.feature_name_, 'importance':clf.feature_importances_})\n",
    "\n",
    "plt.figure(figsize=(10,6))\n",
    "sns.barplot(x='importance', \n",
    "            y='feature', \n",
    "            data=feature_importance.sort_values(by=\"importance\", ascending=False).reset_index()[:20])\n",
    "\n",
    "plt.title('TOP 10 Feature Importances over 5 Folds Average')\n",
    "plt.tight_layout()"
   ]
  },
  {
   "cell_type": "code",
   "execution_count": 114,
   "metadata": {
    "ExecuteTime": {
     "end_time": "2021-04-10T19:06:26.785631Z",
     "start_time": "2021-04-10T19:01:02.286517Z"
    }
   },
   "outputs": [
    {
     "ename": "KeyboardInterrupt",
     "evalue": "",
     "output_type": "error",
     "traceback": [
      "\u001b[0;31m---------------------------------------------------------------------------\u001b[0m",
      "\u001b[0;31mKeyboardInterrupt\u001b[0m                         Traceback (most recent call last)",
      "\u001b[0;32m<ipython-input-114-cbf4b852ceb0>\u001b[0m in \u001b[0;36m<module>\u001b[0;34m()\u001b[0m\n\u001b[1;32m      1\u001b[0m result = permutation_importance(clf, X_train, y_train, n_repeats=10,\n\u001b[0;32m----> 2\u001b[0;31m                                 random_state=42, n_jobs=-1)\n\u001b[0m\u001b[1;32m      3\u001b[0m \u001b[0msorted_idx\u001b[0m \u001b[0;34m=\u001b[0m \u001b[0mresult\u001b[0m\u001b[0;34m.\u001b[0m\u001b[0mimportances_mean\u001b[0m\u001b[0;34m.\u001b[0m\u001b[0margsort\u001b[0m\u001b[0;34m(\u001b[0m\u001b[0;34m)\u001b[0m\u001b[0;34m\u001b[0m\u001b[0;34m\u001b[0m\u001b[0m\n\u001b[1;32m      4\u001b[0m \u001b[0;34m\u001b[0m\u001b[0m\n\u001b[1;32m      5\u001b[0m \u001b[0mfig\u001b[0m\u001b[0;34m,\u001b[0m \u001b[0max\u001b[0m \u001b[0;34m=\u001b[0m \u001b[0mplt\u001b[0m\u001b[0;34m.\u001b[0m\u001b[0msubplots\u001b[0m\u001b[0;34m(\u001b[0m\u001b[0;34m)\u001b[0m\u001b[0;34m\u001b[0m\u001b[0;34m\u001b[0m\u001b[0m\n",
      "\u001b[0;32m/home/yyeon/anaconda3/envs/ML_Server/lib/python3.7/site-packages/sklearn/utils/validation.py\u001b[0m in \u001b[0;36minner_f\u001b[0;34m(*args, **kwargs)\u001b[0m\n\u001b[1;32m     70\u001b[0m                           FutureWarning)\n\u001b[1;32m     71\u001b[0m         \u001b[0mkwargs\u001b[0m\u001b[0;34m.\u001b[0m\u001b[0mupdate\u001b[0m\u001b[0;34m(\u001b[0m\u001b[0;34m{\u001b[0m\u001b[0mk\u001b[0m\u001b[0;34m:\u001b[0m \u001b[0marg\u001b[0m \u001b[0;32mfor\u001b[0m \u001b[0mk\u001b[0m\u001b[0;34m,\u001b[0m \u001b[0marg\u001b[0m \u001b[0;32min\u001b[0m \u001b[0mzip\u001b[0m\u001b[0;34m(\u001b[0m\u001b[0msig\u001b[0m\u001b[0;34m.\u001b[0m\u001b[0mparameters\u001b[0m\u001b[0;34m,\u001b[0m \u001b[0margs\u001b[0m\u001b[0;34m)\u001b[0m\u001b[0;34m}\u001b[0m\u001b[0;34m)\u001b[0m\u001b[0;34m\u001b[0m\u001b[0;34m\u001b[0m\u001b[0m\n\u001b[0;32m---> 72\u001b[0;31m         \u001b[0;32mreturn\u001b[0m \u001b[0mf\u001b[0m\u001b[0;34m(\u001b[0m\u001b[0;34m**\u001b[0m\u001b[0mkwargs\u001b[0m\u001b[0;34m)\u001b[0m\u001b[0;34m\u001b[0m\u001b[0;34m\u001b[0m\u001b[0m\n\u001b[0m\u001b[1;32m     73\u001b[0m     \u001b[0;32mreturn\u001b[0m \u001b[0minner_f\u001b[0m\u001b[0;34m\u001b[0m\u001b[0;34m\u001b[0m\u001b[0m\n\u001b[1;32m     74\u001b[0m \u001b[0;34m\u001b[0m\u001b[0m\n",
      "\u001b[0;32m/home/yyeon/anaconda3/envs/ML_Server/lib/python3.7/site-packages/sklearn/inspection/_permutation_importance.py\u001b[0m in \u001b[0;36mpermutation_importance\u001b[0;34m(estimator, X, y, scoring, n_repeats, n_jobs, random_state)\u001b[0m\n\u001b[1;32m    135\u001b[0m     scores = Parallel(n_jobs=n_jobs)(delayed(_calculate_permutation_scores)(\n\u001b[1;32m    136\u001b[0m         \u001b[0mestimator\u001b[0m\u001b[0;34m,\u001b[0m \u001b[0mX\u001b[0m\u001b[0;34m,\u001b[0m \u001b[0my\u001b[0m\u001b[0;34m,\u001b[0m \u001b[0mcol_idx\u001b[0m\u001b[0;34m,\u001b[0m \u001b[0mrandom_seed\u001b[0m\u001b[0;34m,\u001b[0m \u001b[0mn_repeats\u001b[0m\u001b[0;34m,\u001b[0m \u001b[0mscorer\u001b[0m\u001b[0;34m\u001b[0m\u001b[0;34m\u001b[0m\u001b[0m\n\u001b[0;32m--> 137\u001b[0;31m     ) for col_idx in range(X.shape[1]))\n\u001b[0m\u001b[1;32m    138\u001b[0m \u001b[0;34m\u001b[0m\u001b[0m\n\u001b[1;32m    139\u001b[0m     \u001b[0mimportances\u001b[0m \u001b[0;34m=\u001b[0m \u001b[0mbaseline_score\u001b[0m \u001b[0;34m-\u001b[0m \u001b[0mnp\u001b[0m\u001b[0;34m.\u001b[0m\u001b[0marray\u001b[0m\u001b[0;34m(\u001b[0m\u001b[0mscores\u001b[0m\u001b[0;34m)\u001b[0m\u001b[0;34m\u001b[0m\u001b[0;34m\u001b[0m\u001b[0m\n",
      "\u001b[0;32m/home/yyeon/anaconda3/envs/ML_Server/lib/python3.7/site-packages/joblib/parallel.py\u001b[0m in \u001b[0;36m__call__\u001b[0;34m(self, iterable)\u001b[0m\n\u001b[1;32m   1059\u001b[0m \u001b[0;34m\u001b[0m\u001b[0m\n\u001b[1;32m   1060\u001b[0m             \u001b[0;32mwith\u001b[0m \u001b[0mself\u001b[0m\u001b[0;34m.\u001b[0m\u001b[0m_backend\u001b[0m\u001b[0;34m.\u001b[0m\u001b[0mretrieval_context\u001b[0m\u001b[0;34m(\u001b[0m\u001b[0;34m)\u001b[0m\u001b[0;34m:\u001b[0m\u001b[0;34m\u001b[0m\u001b[0;34m\u001b[0m\u001b[0m\n\u001b[0;32m-> 1061\u001b[0;31m                 \u001b[0mself\u001b[0m\u001b[0;34m.\u001b[0m\u001b[0mretrieve\u001b[0m\u001b[0;34m(\u001b[0m\u001b[0;34m)\u001b[0m\u001b[0;34m\u001b[0m\u001b[0;34m\u001b[0m\u001b[0m\n\u001b[0m\u001b[1;32m   1062\u001b[0m             \u001b[0;31m# Make sure that we get a last message telling us we are done\u001b[0m\u001b[0;34m\u001b[0m\u001b[0;34m\u001b[0m\u001b[0;34m\u001b[0m\u001b[0m\n\u001b[1;32m   1063\u001b[0m             \u001b[0melapsed_time\u001b[0m \u001b[0;34m=\u001b[0m \u001b[0mtime\u001b[0m\u001b[0;34m.\u001b[0m\u001b[0mtime\u001b[0m\u001b[0;34m(\u001b[0m\u001b[0;34m)\u001b[0m \u001b[0;34m-\u001b[0m \u001b[0mself\u001b[0m\u001b[0;34m.\u001b[0m\u001b[0m_start_time\u001b[0m\u001b[0;34m\u001b[0m\u001b[0;34m\u001b[0m\u001b[0m\n",
      "\u001b[0;32m/home/yyeon/anaconda3/envs/ML_Server/lib/python3.7/site-packages/joblib/parallel.py\u001b[0m in \u001b[0;36mretrieve\u001b[0;34m(self)\u001b[0m\n\u001b[1;32m    938\u001b[0m             \u001b[0;32mtry\u001b[0m\u001b[0;34m:\u001b[0m\u001b[0;34m\u001b[0m\u001b[0;34m\u001b[0m\u001b[0m\n\u001b[1;32m    939\u001b[0m                 \u001b[0;32mif\u001b[0m \u001b[0mgetattr\u001b[0m\u001b[0;34m(\u001b[0m\u001b[0mself\u001b[0m\u001b[0;34m.\u001b[0m\u001b[0m_backend\u001b[0m\u001b[0;34m,\u001b[0m \u001b[0;34m'supports_timeout'\u001b[0m\u001b[0;34m,\u001b[0m \u001b[0;32mFalse\u001b[0m\u001b[0;34m)\u001b[0m\u001b[0;34m:\u001b[0m\u001b[0;34m\u001b[0m\u001b[0;34m\u001b[0m\u001b[0m\n\u001b[0;32m--> 940\u001b[0;31m                     \u001b[0mself\u001b[0m\u001b[0;34m.\u001b[0m\u001b[0m_output\u001b[0m\u001b[0;34m.\u001b[0m\u001b[0mextend\u001b[0m\u001b[0;34m(\u001b[0m\u001b[0mjob\u001b[0m\u001b[0;34m.\u001b[0m\u001b[0mget\u001b[0m\u001b[0;34m(\u001b[0m\u001b[0mtimeout\u001b[0m\u001b[0;34m=\u001b[0m\u001b[0mself\u001b[0m\u001b[0;34m.\u001b[0m\u001b[0mtimeout\u001b[0m\u001b[0;34m)\u001b[0m\u001b[0;34m)\u001b[0m\u001b[0;34m\u001b[0m\u001b[0;34m\u001b[0m\u001b[0m\n\u001b[0m\u001b[1;32m    941\u001b[0m                 \u001b[0;32melse\u001b[0m\u001b[0;34m:\u001b[0m\u001b[0;34m\u001b[0m\u001b[0;34m\u001b[0m\u001b[0m\n\u001b[1;32m    942\u001b[0m                     \u001b[0mself\u001b[0m\u001b[0;34m.\u001b[0m\u001b[0m_output\u001b[0m\u001b[0;34m.\u001b[0m\u001b[0mextend\u001b[0m\u001b[0;34m(\u001b[0m\u001b[0mjob\u001b[0m\u001b[0;34m.\u001b[0m\u001b[0mget\u001b[0m\u001b[0;34m(\u001b[0m\u001b[0;34m)\u001b[0m\u001b[0;34m)\u001b[0m\u001b[0;34m\u001b[0m\u001b[0;34m\u001b[0m\u001b[0m\n",
      "\u001b[0;32m/home/yyeon/anaconda3/envs/ML_Server/lib/python3.7/site-packages/joblib/_parallel_backends.py\u001b[0m in \u001b[0;36mwrap_future_result\u001b[0;34m(future, timeout)\u001b[0m\n\u001b[1;32m    540\u001b[0m         AsyncResults.get from multiprocessing.\"\"\"\n\u001b[1;32m    541\u001b[0m         \u001b[0;32mtry\u001b[0m\u001b[0;34m:\u001b[0m\u001b[0;34m\u001b[0m\u001b[0;34m\u001b[0m\u001b[0m\n\u001b[0;32m--> 542\u001b[0;31m             \u001b[0;32mreturn\u001b[0m \u001b[0mfuture\u001b[0m\u001b[0;34m.\u001b[0m\u001b[0mresult\u001b[0m\u001b[0;34m(\u001b[0m\u001b[0mtimeout\u001b[0m\u001b[0;34m=\u001b[0m\u001b[0mtimeout\u001b[0m\u001b[0;34m)\u001b[0m\u001b[0;34m\u001b[0m\u001b[0;34m\u001b[0m\u001b[0m\n\u001b[0m\u001b[1;32m    543\u001b[0m         \u001b[0;32mexcept\u001b[0m \u001b[0mCfTimeoutError\u001b[0m \u001b[0;32mas\u001b[0m \u001b[0me\u001b[0m\u001b[0;34m:\u001b[0m\u001b[0;34m\u001b[0m\u001b[0;34m\u001b[0m\u001b[0m\n\u001b[1;32m    544\u001b[0m             \u001b[0;32mraise\u001b[0m \u001b[0mTimeoutError\u001b[0m \u001b[0;32mfrom\u001b[0m \u001b[0me\u001b[0m\u001b[0;34m\u001b[0m\u001b[0;34m\u001b[0m\u001b[0m\n",
      "\u001b[0;32m/home/yyeon/anaconda3/envs/ML_Server/lib/python3.7/concurrent/futures/_base.py\u001b[0m in \u001b[0;36mresult\u001b[0;34m(self, timeout)\u001b[0m\n\u001b[1;32m    428\u001b[0m                 \u001b[0;32mreturn\u001b[0m \u001b[0mself\u001b[0m\u001b[0;34m.\u001b[0m\u001b[0m__get_result\u001b[0m\u001b[0;34m(\u001b[0m\u001b[0;34m)\u001b[0m\u001b[0;34m\u001b[0m\u001b[0;34m\u001b[0m\u001b[0m\n\u001b[1;32m    429\u001b[0m \u001b[0;34m\u001b[0m\u001b[0m\n\u001b[0;32m--> 430\u001b[0;31m             \u001b[0mself\u001b[0m\u001b[0;34m.\u001b[0m\u001b[0m_condition\u001b[0m\u001b[0;34m.\u001b[0m\u001b[0mwait\u001b[0m\u001b[0;34m(\u001b[0m\u001b[0mtimeout\u001b[0m\u001b[0;34m)\u001b[0m\u001b[0;34m\u001b[0m\u001b[0;34m\u001b[0m\u001b[0m\n\u001b[0m\u001b[1;32m    431\u001b[0m \u001b[0;34m\u001b[0m\u001b[0m\n\u001b[1;32m    432\u001b[0m             \u001b[0;32mif\u001b[0m \u001b[0mself\u001b[0m\u001b[0;34m.\u001b[0m\u001b[0m_state\u001b[0m \u001b[0;32min\u001b[0m \u001b[0;34m[\u001b[0m\u001b[0mCANCELLED\u001b[0m\u001b[0;34m,\u001b[0m \u001b[0mCANCELLED_AND_NOTIFIED\u001b[0m\u001b[0;34m]\u001b[0m\u001b[0;34m:\u001b[0m\u001b[0;34m\u001b[0m\u001b[0;34m\u001b[0m\u001b[0m\n",
      "\u001b[0;32m/home/yyeon/anaconda3/envs/ML_Server/lib/python3.7/threading.py\u001b[0m in \u001b[0;36mwait\u001b[0;34m(self, timeout)\u001b[0m\n\u001b[1;32m    294\u001b[0m         \u001b[0;32mtry\u001b[0m\u001b[0;34m:\u001b[0m    \u001b[0;31m# restore state no matter what (e.g., KeyboardInterrupt)\u001b[0m\u001b[0;34m\u001b[0m\u001b[0;34m\u001b[0m\u001b[0m\n\u001b[1;32m    295\u001b[0m             \u001b[0;32mif\u001b[0m \u001b[0mtimeout\u001b[0m \u001b[0;32mis\u001b[0m \u001b[0;32mNone\u001b[0m\u001b[0;34m:\u001b[0m\u001b[0;34m\u001b[0m\u001b[0;34m\u001b[0m\u001b[0m\n\u001b[0;32m--> 296\u001b[0;31m                 \u001b[0mwaiter\u001b[0m\u001b[0;34m.\u001b[0m\u001b[0macquire\u001b[0m\u001b[0;34m(\u001b[0m\u001b[0;34m)\u001b[0m\u001b[0;34m\u001b[0m\u001b[0;34m\u001b[0m\u001b[0m\n\u001b[0m\u001b[1;32m    297\u001b[0m                 \u001b[0mgotit\u001b[0m \u001b[0;34m=\u001b[0m \u001b[0;32mTrue\u001b[0m\u001b[0;34m\u001b[0m\u001b[0;34m\u001b[0m\u001b[0m\n\u001b[1;32m    298\u001b[0m             \u001b[0;32melse\u001b[0m\u001b[0;34m:\u001b[0m\u001b[0;34m\u001b[0m\u001b[0;34m\u001b[0m\u001b[0m\n",
      "\u001b[0;31mKeyboardInterrupt\u001b[0m: "
     ]
    }
   ],
   "source": [
    "result = permutation_importance(clf, X_train, y_train, n_repeats=10,\n",
    "                                random_state=42, n_jobs=-1)\n",
    "sorted_idx = result.importances_mean.argsort()\n",
    "\n",
    "fig, ax = plt.subplots()\n",
    "ax.boxplot(result.importances[sorted_idx].T,\n",
    "           vert=False, labels=X_train.columns[sorted_idx])\n",
    "ax.set_title(\"Permutation Importances (train set)\")\n",
    "fig.tight_layout()\n",
    "plt.show()"
   ]
  },
  {
   "cell_type": "code",
   "execution_count": null,
   "metadata": {},
   "outputs": [],
   "source": []
  },
  {
   "cell_type": "code",
   "execution_count": null,
   "metadata": {},
   "outputs": [],
   "source": []
  },
  {
   "cell_type": "code",
   "execution_count": null,
   "metadata": {},
   "outputs": [],
   "source": []
  },
  {
   "cell_type": "code",
   "execution_count": 179,
   "metadata": {
    "ExecuteTime": {
     "end_time": "2021-04-10T16:41:26.695025Z",
     "start_time": "2021-04-10T16:41:26.638200Z"
    }
   },
   "outputs": [],
   "source": [
    "submit = pd.read_csv('./open/sample_submission.csv')\n",
    "\n",
    "submit.iloc[:, 1:] = (lgb_pred+cat_pred)/2\n",
    "submit.to_csv('./lgb_cat.csv', index=False)"
   ]
  },
  {
   "cell_type": "code",
   "execution_count": 180,
   "metadata": {
    "ExecuteTime": {
     "end_time": "2021-04-10T16:41:27.489763Z",
     "start_time": "2021-04-10T16:41:27.473234Z"
    }
   },
   "outputs": [
    {
     "data": {
      "text/html": [
       "<div>\n",
       "<style scoped>\n",
       "    .dataframe tbody tr th:only-of-type {\n",
       "        vertical-align: middle;\n",
       "    }\n",
       "\n",
       "    .dataframe tbody tr th {\n",
       "        vertical-align: top;\n",
       "    }\n",
       "\n",
       "    .dataframe thead th {\n",
       "        text-align: right;\n",
       "    }\n",
       "</style>\n",
       "<table border=\"1\" class=\"dataframe\">\n",
       "  <thead>\n",
       "    <tr style=\"text-align: right;\">\n",
       "      <th></th>\n",
       "      <th>index</th>\n",
       "      <th>0</th>\n",
       "      <th>1</th>\n",
       "      <th>2</th>\n",
       "    </tr>\n",
       "  </thead>\n",
       "  <tbody>\n",
       "    <tr>\n",
       "      <th>0</th>\n",
       "      <td>26457</td>\n",
       "      <td>0.051637</td>\n",
       "      <td>0.085315</td>\n",
       "      <td>0.863049</td>\n",
       "    </tr>\n",
       "    <tr>\n",
       "      <th>1</th>\n",
       "      <td>26458</td>\n",
       "      <td>0.140120</td>\n",
       "      <td>0.150102</td>\n",
       "      <td>0.709778</td>\n",
       "    </tr>\n",
       "    <tr>\n",
       "      <th>2</th>\n",
       "      <td>26459</td>\n",
       "      <td>0.056348</td>\n",
       "      <td>0.114691</td>\n",
       "      <td>0.828961</td>\n",
       "    </tr>\n",
       "    <tr>\n",
       "      <th>3</th>\n",
       "      <td>26460</td>\n",
       "      <td>0.114377</td>\n",
       "      <td>0.083121</td>\n",
       "      <td>0.802502</td>\n",
       "    </tr>\n",
       "    <tr>\n",
       "      <th>4</th>\n",
       "      <td>26461</td>\n",
       "      <td>0.066146</td>\n",
       "      <td>0.187739</td>\n",
       "      <td>0.746115</td>\n",
       "    </tr>\n",
       "    <tr>\n",
       "      <th>...</th>\n",
       "      <td>...</td>\n",
       "      <td>...</td>\n",
       "      <td>...</td>\n",
       "      <td>...</td>\n",
       "    </tr>\n",
       "    <tr>\n",
       "      <th>9995</th>\n",
       "      <td>36452</td>\n",
       "      <td>0.165179</td>\n",
       "      <td>0.183425</td>\n",
       "      <td>0.651396</td>\n",
       "    </tr>\n",
       "    <tr>\n",
       "      <th>9996</th>\n",
       "      <td>36453</td>\n",
       "      <td>0.187163</td>\n",
       "      <td>0.282489</td>\n",
       "      <td>0.530349</td>\n",
       "    </tr>\n",
       "    <tr>\n",
       "      <th>9997</th>\n",
       "      <td>36454</td>\n",
       "      <td>0.023807</td>\n",
       "      <td>0.086053</td>\n",
       "      <td>0.890141</td>\n",
       "    </tr>\n",
       "    <tr>\n",
       "      <th>9998</th>\n",
       "      <td>36455</td>\n",
       "      <td>0.132550</td>\n",
       "      <td>0.234612</td>\n",
       "      <td>0.632838</td>\n",
       "    </tr>\n",
       "    <tr>\n",
       "      <th>9999</th>\n",
       "      <td>36456</td>\n",
       "      <td>0.072069</td>\n",
       "      <td>0.279406</td>\n",
       "      <td>0.648525</td>\n",
       "    </tr>\n",
       "  </tbody>\n",
       "</table>\n",
       "<p>10000 rows × 4 columns</p>\n",
       "</div>"
      ],
      "text/plain": [
       "      index         0         1         2\n",
       "0     26457  0.051637  0.085315  0.863049\n",
       "1     26458  0.140120  0.150102  0.709778\n",
       "2     26459  0.056348  0.114691  0.828961\n",
       "3     26460  0.114377  0.083121  0.802502\n",
       "4     26461  0.066146  0.187739  0.746115\n",
       "...     ...       ...       ...       ...\n",
       "9995  36452  0.165179  0.183425  0.651396\n",
       "9996  36453  0.187163  0.282489  0.530349\n",
       "9997  36454  0.023807  0.086053  0.890141\n",
       "9998  36455  0.132550  0.234612  0.632838\n",
       "9999  36456  0.072069  0.279406  0.648525\n",
       "\n",
       "[10000 rows x 4 columns]"
      ]
     },
     "execution_count": 180,
     "metadata": {},
     "output_type": "execute_result"
    }
   ],
   "source": [
    "submit"
   ]
  },
  {
   "cell_type": "code",
   "execution_count": 178,
   "metadata": {
    "ExecuteTime": {
     "end_time": "2021-04-10T16:41:12.083379Z",
     "start_time": "2021-04-10T16:40:11.370637Z"
    },
    "scrolled": false
   },
   "outputs": [
    {
     "name": "stdout",
     "output_type": "stream",
     "text": [
      "\n",
      "Fold  0\n",
      "0:\tlearn: 1.0695328\ttest: 1.0698417\tbest: 1.0698417 (0)\ttotal: 10.8ms\tremaining: 54s\n",
      "200:\tlearn: 0.7129480\ttest: 0.7723420\tbest: 0.7723420 (200)\ttotal: 1.99s\tremaining: 47.4s\n",
      "400:\tlearn: 0.6398090\ttest: 0.7546691\tbest: 0.7546691 (400)\ttotal: 3.81s\tremaining: 43.7s\n",
      "600:\tlearn: 0.5849450\ttest: 0.7454504\tbest: 0.7454504 (600)\ttotal: 5.86s\tremaining: 42.9s\n",
      "800:\tlearn: 0.5426131\ttest: 0.7403600\tbest: 0.7403600 (800)\ttotal: 7.7s\tremaining: 40.4s\n",
      "1000:\tlearn: 0.5081815\ttest: 0.7384131\tbest: 0.7384131 (1000)\ttotal: 9.62s\tremaining: 38.4s\n",
      "bestTest = 0.7382042064\n",
      "bestIteration = 1049\n",
      "Shrink model to first 1050 iterations.\n",
      "  Log loss =  0.7382041721117514\n",
      "\n",
      "Fold  1\n",
      "0:\tlearn: 1.0698139\ttest: 1.0695063\tbest: 1.0695063 (0)\ttotal: 8.51ms\tremaining: 42.5s\n",
      "200:\tlearn: 0.7172604\ttest: 0.7663680\tbest: 0.7663680 (200)\ttotal: 1.91s\tremaining: 45.6s\n",
      "400:\tlearn: 0.6468369\ttest: 0.7458203\tbest: 0.7458203 (400)\ttotal: 3.76s\tremaining: 43.1s\n",
      "600:\tlearn: 0.5934359\ttest: 0.7350320\tbest: 0.7350320 (600)\ttotal: 5.72s\tremaining: 41.9s\n",
      "800:\tlearn: 0.5509259\ttest: 0.7298203\tbest: 0.7298203 (800)\ttotal: 7.65s\tremaining: 40.1s\n",
      "1000:\tlearn: 0.5147816\ttest: 0.7266209\tbest: 0.7265940 (999)\ttotal: 9.51s\tremaining: 38s\n",
      "1200:\tlearn: 0.4813577\ttest: 0.7256024\tbest: 0.7252979 (1143)\ttotal: 11.4s\tremaining: 36.2s\n",
      "bestTest = 0.7252979235\n",
      "bestIteration = 1143\n",
      "Shrink model to first 1144 iterations.\n",
      "  Log loss =  0.7252979534491799\n",
      "\n",
      "Fold  2\n",
      "0:\tlearn: 1.0696530\ttest: 1.0700738\tbest: 1.0700738 (0)\ttotal: 8.8ms\tremaining: 44s\n",
      "200:\tlearn: 0.7159854\ttest: 0.7785289\tbest: 0.7785289 (200)\ttotal: 1.86s\tremaining: 44.5s\n",
      "400:\tlearn: 0.6445847\ttest: 0.7605530\tbest: 0.7605530 (400)\ttotal: 3.81s\tremaining: 43.7s\n",
      "600:\tlearn: 0.5876390\ttest: 0.7498810\tbest: 0.7498810 (600)\ttotal: 5.87s\tremaining: 43s\n",
      "800:\tlearn: 0.5453469\ttest: 0.7453188\tbest: 0.7453188 (800)\ttotal: 7.74s\tremaining: 40.6s\n",
      "1000:\tlearn: 0.5082403\ttest: 0.7435615\tbest: 0.7434170 (981)\ttotal: 9.67s\tremaining: 38.6s\n",
      "1200:\tlearn: 0.4769633\ttest: 0.7428424\tbest: 0.7427697 (1179)\ttotal: 11.5s\tremaining: 36.5s\n",
      "bestTest = 0.7425739906\n",
      "bestIteration = 1230\n",
      "Shrink model to first 1231 iterations.\n",
      "  Log loss =  0.7425739992330143\n",
      "\n",
      "Fold  3\n",
      "0:\tlearn: 1.0696782\ttest: 1.0693838\tbest: 1.0693838 (0)\ttotal: 8.68ms\tremaining: 43.4s\n",
      "200:\tlearn: 0.7154848\ttest: 0.7665712\tbest: 0.7665712 (200)\ttotal: 2s\tremaining: 47.7s\n",
      "400:\tlearn: 0.6439781\ttest: 0.7466939\tbest: 0.7466561 (399)\ttotal: 3.85s\tremaining: 44.1s\n",
      "600:\tlearn: 0.5924081\ttest: 0.7371253\tbest: 0.7371109 (597)\ttotal: 5.75s\tremaining: 42.1s\n",
      "800:\tlearn: 0.5470770\ttest: 0.7312253\tbest: 0.7311204 (795)\ttotal: 7.77s\tremaining: 40.7s\n",
      "1000:\tlearn: 0.5103445\ttest: 0.7281316\tbest: 0.7281047 (980)\ttotal: 9.75s\tremaining: 39s\n",
      "1200:\tlearn: 0.4781382\ttest: 0.7262881\tbest: 0.7259039 (1180)\ttotal: 11.7s\tremaining: 37.1s\n",
      "bestTest = 0.7258761285\n",
      "bestIteration = 1227\n",
      "Shrink model to first 1228 iterations.\n",
      "  Log loss =  0.7258761193978088\n",
      "\n",
      "Fold  4\n",
      "0:\tlearn: 1.0696005\ttest: 1.0702458\tbest: 1.0702458 (0)\ttotal: 9.07ms\tremaining: 45.3s\n",
      "200:\tlearn: 0.7094377\ttest: 0.7794562\tbest: 0.7794562 (200)\ttotal: 1.85s\tremaining: 44.2s\n",
      "400:\tlearn: 0.6401731\ttest: 0.7612800\tbest: 0.7612800 (400)\ttotal: 3.76s\tremaining: 43.1s\n",
      "600:\tlearn: 0.5866451\ttest: 0.7540213\tbest: 0.7540213 (600)\ttotal: 5.72s\tremaining: 41.8s\n",
      "800:\tlearn: 0.5415939\ttest: 0.7498596\tbest: 0.7498051 (795)\ttotal: 7.58s\tremaining: 39.8s\n",
      "1000:\tlearn: 0.5058029\ttest: 0.7487887\tbest: 0.7485910 (981)\ttotal: 9.47s\tremaining: 37.8s\n",
      "bestTest = 0.7485909888\n",
      "bestIteration = 981\n",
      "Shrink model to first 982 iterations.\n",
      "  Log loss =  0.7485909792580447\n",
      "CV score: 0.73611 \n"
     ]
    }
   ],
   "source": [
    "model = CatBoostClassifier(loss_function='MultiClass', \n",
    "                           depth = 9,\n",
    "                           early_stopping_rounds=100,\n",
    "                           task_type=\"GPU\",\n",
    "                           random_state=42,\n",
    "                           learning_rate=0.05,\n",
    "                           iterations=5000)\n",
    "\n",
    "skf = StratifiedKFold(n_splits=5, random_state=74, shuffle=True)\n",
    "\n",
    "\n",
    "oof_cat = np.zeros((len(train), 3))\n",
    "cat_pred = np.zeros((len(test), 3))\n",
    "\n",
    "\n",
    "for idx, (trn_idx, val_idx) in enumerate(skf.split(train, train['credit'])):\n",
    "    y_train, y_valid = train.iloc[trn_idx][TARGET], train.iloc[val_idx][TARGET]\n",
    "    X_train, X_valid = train.iloc[trn_idx][FEATURES], train.iloc[val_idx][FEATURES]\n",
    "    \n",
    "    _train = Pool(X_train, label=y_train)\n",
    "    _valid = Pool(X_valid, label=y_valid)\n",
    "    \n",
    "    print( \"\\nFold \", idx)\n",
    "    fit_model = model.fit(_train,\n",
    "                          eval_set=_valid,\n",
    "                          use_best_model=True,\n",
    "                          verbose=200\n",
    "                         )\n",
    "    pred = fit_model.predict_proba(X_valid)\n",
    "    print( \"  Log loss = \", log_loss(y_valid, pred) )\n",
    "    oof_cat[val_idx] = pred\n",
    "    cat_pred += fit_model.predict_proba(test[FEATURES])\n",
    "cat_pred /= 5\n",
    "print(\"CV score: {:<8.5f}\".format(log_loss(train[TARGET], oof_cat)))"
   ]
  },
  {
   "cell_type": "code",
   "execution_count": 226,
   "metadata": {
    "ExecuteTime": {
     "end_time": "2021-04-10T17:19:16.513344Z",
     "start_time": "2021-04-10T17:19:16.510098Z"
    }
   },
   "outputs": [
    {
     "data": {
      "text/plain": [
       "{'boosting_type': 'goss',\n",
       " 'max_depth': 9,\n",
       " 'num_leaves': 128,\n",
       " 'objective': 'multi-class',\n",
       " 'n_estimators': 2000,\n",
       " 'learning_rate': 0.03,\n",
       " 'subsample': 0.7,\n",
       " 'colsample_bytree': 0.7}"
      ]
     },
     "execution_count": 226,
     "metadata": {},
     "output_type": "execute_result"
    }
   ],
   "source": [
    "param"
   ]
  },
  {
   "cell_type": "code",
   "execution_count": 100,
   "metadata": {
    "ExecuteTime": {
     "end_time": "2021-04-10T18:54:54.792113Z",
     "start_time": "2021-04-10T18:54:54.784833Z"
    }
   },
   "outputs": [],
   "source": [
    "from xgboost import XGBClassifier\n",
    "\n",
    "xgb_params={'learning_rate':0.05,\n",
    "            'booster': 'gbtree',\n",
    "            'n_estimators': 2000,\n",
    "            'max_depth':-1,\n",
    "            'objective':'multi:softprob',\n",
    "            'num_class':3,\n",
    "            'subsample':0.8,\n",
    "            'colsample_bytree':0.8,\n",
    "            'random_state':42,\n",
    "            'tree_method':'gpu_hist',\n",
    "            'gpu_id': 0,\n",
    "            'n_jobs': -1,\n",
    "            'predictor':'gpu_predictor'}"
   ]
  },
  {
   "cell_type": "code",
   "execution_count": 101,
   "metadata": {
    "ExecuteTime": {
     "end_time": "2021-04-10T18:54:58.417682Z",
     "start_time": "2021-04-10T18:54:58.413396Z"
    }
   },
   "outputs": [
    {
     "data": {
      "text/plain": [
       "XGBClassifier(base_score=None, booster='gbtree', colsample_bylevel=None,\n",
       "              colsample_bynode=None, colsample_bytree=0.8, gamma=None, gpu_id=0,\n",
       "              importance_type='gain', interaction_constraints=None,\n",
       "              learning_rate=0.05, max_delta_step=None, max_depth=-1,\n",
       "              min_child_weight=None, missing=nan, monotone_constraints=None,\n",
       "              n_estimators=2000, n_jobs=-1, num_class=3, num_parallel_tree=None,\n",
       "              objective='multi:softprob', predictor='gpu_predictor',\n",
       "              random_state=42, reg_alpha=None, reg_lambda=None,\n",
       "              scale_pos_weight=None, subsample=0.8, tree_method='gpu_hist',\n",
       "              validate_parameters=None, verbosity=None)"
      ]
     },
     "execution_count": 101,
     "metadata": {},
     "output_type": "execute_result"
    }
   ],
   "source": [
    "XGBClassifier(**xgb_params)"
   ]
  },
  {
   "cell_type": "code",
   "execution_count": 102,
   "metadata": {
    "ExecuteTime": {
     "end_time": "2021-04-10T18:54:59.320400Z",
     "start_time": "2021-04-10T18:54:59.261721Z"
    },
    "scrolled": false
   },
   "outputs": [
    {
     "name": "stdout",
     "output_type": "stream",
     "text": [
      "\n",
      "fold num_: 0\n"
     ]
    },
    {
     "ename": "XGBoostError",
     "evalue": "value -1 for Parameter max_depth should be greater equal to 0\nmax_depth: Maximum depth of the tree; 0 indicates no limit; a limit is required for depthwise policy",
     "output_type": "error",
     "traceback": [
      "\u001b[0;31m---------------------------------------------------------------------------\u001b[0m",
      "\u001b[0;31mXGBoostError\u001b[0m                              Traceback (most recent call last)",
      "\u001b[0;32m<ipython-input-102-12f86a8c939e>\u001b[0m in \u001b[0;36m<module>\u001b[0;34m()\u001b[0m\n\u001b[1;32m     14\u001b[0m             \u001b[0meval_metric\u001b[0m\u001b[0;34m=\u001b[0m \u001b[0;34m'mlogloss'\u001b[0m\u001b[0;34m,\u001b[0m\u001b[0;34m\u001b[0m\u001b[0;34m\u001b[0m\u001b[0m\n\u001b[1;32m     15\u001b[0m             \u001b[0mearly_stopping_rounds\u001b[0m\u001b[0;34m=\u001b[0m\u001b[0;36m100\u001b[0m\u001b[0;34m,\u001b[0m\u001b[0;34m\u001b[0m\u001b[0;34m\u001b[0m\u001b[0m\n\u001b[0;32m---> 16\u001b[0;31m             \u001b[0mverbose\u001b[0m\u001b[0;34m=\u001b[0m\u001b[0;36m100\u001b[0m\u001b[0;34m\u001b[0m\u001b[0;34m\u001b[0m\u001b[0m\n\u001b[0m\u001b[1;32m     17\u001b[0m            )\n\u001b[1;32m     18\u001b[0m \u001b[0;34m\u001b[0m\u001b[0m\n",
      "\u001b[0;32m/home/yyeon/anaconda3/envs/ML_Server/lib/python3.7/site-packages/xgboost/core.py\u001b[0m in \u001b[0;36minner_f\u001b[0;34m(*args, **kwargs)\u001b[0m\n\u001b[1;32m    413\u001b[0m         \u001b[0;32mfor\u001b[0m \u001b[0mk\u001b[0m\u001b[0;34m,\u001b[0m \u001b[0marg\u001b[0m \u001b[0;32min\u001b[0m \u001b[0mzip\u001b[0m\u001b[0;34m(\u001b[0m\u001b[0msig\u001b[0m\u001b[0;34m.\u001b[0m\u001b[0mparameters\u001b[0m\u001b[0;34m,\u001b[0m \u001b[0margs\u001b[0m\u001b[0;34m)\u001b[0m\u001b[0;34m:\u001b[0m\u001b[0;34m\u001b[0m\u001b[0;34m\u001b[0m\u001b[0m\n\u001b[1;32m    414\u001b[0m             \u001b[0mkwargs\u001b[0m\u001b[0;34m[\u001b[0m\u001b[0mk\u001b[0m\u001b[0;34m]\u001b[0m \u001b[0;34m=\u001b[0m \u001b[0marg\u001b[0m\u001b[0;34m\u001b[0m\u001b[0;34m\u001b[0m\u001b[0m\n\u001b[0;32m--> 415\u001b[0;31m         \u001b[0;32mreturn\u001b[0m \u001b[0mf\u001b[0m\u001b[0;34m(\u001b[0m\u001b[0;34m**\u001b[0m\u001b[0mkwargs\u001b[0m\u001b[0;34m)\u001b[0m\u001b[0;34m\u001b[0m\u001b[0;34m\u001b[0m\u001b[0m\n\u001b[0m\u001b[1;32m    416\u001b[0m \u001b[0;34m\u001b[0m\u001b[0m\n\u001b[1;32m    417\u001b[0m     \u001b[0;32mreturn\u001b[0m \u001b[0minner_f\u001b[0m\u001b[0;34m\u001b[0m\u001b[0;34m\u001b[0m\u001b[0m\n",
      "\u001b[0;32m/home/yyeon/anaconda3/envs/ML_Server/lib/python3.7/site-packages/xgboost/sklearn.py\u001b[0m in \u001b[0;36mfit\u001b[0;34m(self, X, y, sample_weight, base_margin, eval_set, eval_metric, early_stopping_rounds, verbose, xgb_model, sample_weight_eval_set, base_margin_eval_set, feature_weights, callbacks)\u001b[0m\n\u001b[1;32m   1136\u001b[0m             \u001b[0mverbose_eval\u001b[0m\u001b[0;34m=\u001b[0m\u001b[0mverbose\u001b[0m\u001b[0;34m,\u001b[0m\u001b[0;34m\u001b[0m\u001b[0;34m\u001b[0m\u001b[0m\n\u001b[1;32m   1137\u001b[0m             \u001b[0mxgb_model\u001b[0m\u001b[0;34m=\u001b[0m\u001b[0mmodel\u001b[0m\u001b[0;34m,\u001b[0m\u001b[0;34m\u001b[0m\u001b[0;34m\u001b[0m\u001b[0m\n\u001b[0;32m-> 1138\u001b[0;31m             \u001b[0mcallbacks\u001b[0m\u001b[0;34m=\u001b[0m\u001b[0mcallbacks\u001b[0m\u001b[0;34m,\u001b[0m\u001b[0;34m\u001b[0m\u001b[0;34m\u001b[0m\u001b[0m\n\u001b[0m\u001b[1;32m   1139\u001b[0m         )\n\u001b[1;32m   1140\u001b[0m \u001b[0;34m\u001b[0m\u001b[0m\n",
      "\u001b[0;32m/home/yyeon/anaconda3/envs/ML_Server/lib/python3.7/site-packages/xgboost/training.py\u001b[0m in \u001b[0;36mtrain\u001b[0;34m(params, dtrain, num_boost_round, evals, obj, feval, maximize, early_stopping_rounds, evals_result, verbose_eval, xgb_model, callbacks)\u001b[0m\n\u001b[1;32m    213\u001b[0m                           \u001b[0mevals_result\u001b[0m\u001b[0;34m=\u001b[0m\u001b[0mevals_result\u001b[0m\u001b[0;34m,\u001b[0m\u001b[0;34m\u001b[0m\u001b[0;34m\u001b[0m\u001b[0m\n\u001b[1;32m    214\u001b[0m                           \u001b[0mmaximize\u001b[0m\u001b[0;34m=\u001b[0m\u001b[0mmaximize\u001b[0m\u001b[0;34m,\u001b[0m\u001b[0;34m\u001b[0m\u001b[0;34m\u001b[0m\u001b[0m\n\u001b[0;32m--> 215\u001b[0;31m                           early_stopping_rounds=early_stopping_rounds)\n\u001b[0m\u001b[1;32m    216\u001b[0m     \u001b[0;32mreturn\u001b[0m \u001b[0mbst\u001b[0m\u001b[0;34m\u001b[0m\u001b[0;34m\u001b[0m\u001b[0m\n\u001b[1;32m    217\u001b[0m \u001b[0;34m\u001b[0m\u001b[0m\n",
      "\u001b[0;32m/home/yyeon/anaconda3/envs/ML_Server/lib/python3.7/site-packages/xgboost/training.py\u001b[0m in \u001b[0;36m_train_internal\u001b[0;34m(params, dtrain, num_boost_round, evals, obj, feval, xgb_model, callbacks, evals_result, maximize, verbose_eval, early_stopping_rounds)\u001b[0m\n\u001b[1;32m     75\u001b[0m             show_stdv=False, cvfolds=None)\n\u001b[1;32m     76\u001b[0m \u001b[0;34m\u001b[0m\u001b[0m\n\u001b[0;32m---> 77\u001b[0;31m     \u001b[0mbst\u001b[0m \u001b[0;34m=\u001b[0m \u001b[0mcallbacks\u001b[0m\u001b[0;34m.\u001b[0m\u001b[0mbefore_training\u001b[0m\u001b[0;34m(\u001b[0m\u001b[0mbst\u001b[0m\u001b[0;34m)\u001b[0m\u001b[0;34m\u001b[0m\u001b[0;34m\u001b[0m\u001b[0m\n\u001b[0m\u001b[1;32m     78\u001b[0m \u001b[0;34m\u001b[0m\u001b[0m\n\u001b[1;32m     79\u001b[0m     \u001b[0;32mfor\u001b[0m \u001b[0mi\u001b[0m \u001b[0;32min\u001b[0m \u001b[0mrange\u001b[0m\u001b[0;34m(\u001b[0m\u001b[0mstart_iteration\u001b[0m\u001b[0;34m,\u001b[0m \u001b[0mnum_boost_round\u001b[0m\u001b[0;34m)\u001b[0m\u001b[0;34m:\u001b[0m\u001b[0;34m\u001b[0m\u001b[0;34m\u001b[0m\u001b[0m\n",
      "\u001b[0;32m/home/yyeon/anaconda3/envs/ML_Server/lib/python3.7/site-packages/xgboost/callback.py\u001b[0m in \u001b[0;36mbefore_training\u001b[0;34m(self, model)\u001b[0m\n\u001b[1;32m    372\u001b[0m         \u001b[0;34m'''Function called before training.'''\u001b[0m\u001b[0;34m\u001b[0m\u001b[0;34m\u001b[0m\u001b[0m\n\u001b[1;32m    373\u001b[0m         \u001b[0;32mfor\u001b[0m \u001b[0mc\u001b[0m \u001b[0;32min\u001b[0m \u001b[0mself\u001b[0m\u001b[0;34m.\u001b[0m\u001b[0mcallbacks\u001b[0m\u001b[0;34m:\u001b[0m\u001b[0;34m\u001b[0m\u001b[0;34m\u001b[0m\u001b[0m\n\u001b[0;32m--> 374\u001b[0;31m             \u001b[0mmodel\u001b[0m \u001b[0;34m=\u001b[0m \u001b[0mc\u001b[0m\u001b[0;34m.\u001b[0m\u001b[0mbefore_training\u001b[0m\u001b[0;34m(\u001b[0m\u001b[0mmodel\u001b[0m\u001b[0;34m=\u001b[0m\u001b[0mmodel\u001b[0m\u001b[0;34m)\u001b[0m\u001b[0;34m\u001b[0m\u001b[0;34m\u001b[0m\u001b[0m\n\u001b[0m\u001b[1;32m    375\u001b[0m             \u001b[0mmsg\u001b[0m \u001b[0;34m=\u001b[0m \u001b[0;34m'before_training should return the model'\u001b[0m\u001b[0;34m\u001b[0m\u001b[0;34m\u001b[0m\u001b[0m\n\u001b[1;32m    376\u001b[0m             \u001b[0;32mif\u001b[0m \u001b[0mself\u001b[0m\u001b[0;34m.\u001b[0m\u001b[0mis_cv\u001b[0m\u001b[0;34m:\u001b[0m\u001b[0;34m\u001b[0m\u001b[0;34m\u001b[0m\u001b[0m\n",
      "\u001b[0;32m/home/yyeon/anaconda3/envs/ML_Server/lib/python3.7/site-packages/xgboost/callback.py\u001b[0m in \u001b[0;36mbefore_training\u001b[0;34m(self, model)\u001b[0m\n\u001b[1;32m    511\u001b[0m \u001b[0;34m\u001b[0m\u001b[0m\n\u001b[1;32m    512\u001b[0m     \u001b[0;32mdef\u001b[0m \u001b[0mbefore_training\u001b[0m\u001b[0;34m(\u001b[0m\u001b[0mself\u001b[0m\u001b[0;34m,\u001b[0m \u001b[0mmodel\u001b[0m\u001b[0;34m)\u001b[0m\u001b[0;34m:\u001b[0m\u001b[0;34m\u001b[0m\u001b[0;34m\u001b[0m\u001b[0m\n\u001b[0;32m--> 513\u001b[0;31m         \u001b[0mself\u001b[0m\u001b[0;34m.\u001b[0m\u001b[0mstarting_round\u001b[0m \u001b[0;34m=\u001b[0m \u001b[0mmodel\u001b[0m\u001b[0;34m.\u001b[0m\u001b[0mnum_boosted_rounds\u001b[0m\u001b[0;34m(\u001b[0m\u001b[0;34m)\u001b[0m\u001b[0;34m\u001b[0m\u001b[0;34m\u001b[0m\u001b[0m\n\u001b[0m\u001b[1;32m    514\u001b[0m         \u001b[0;32mreturn\u001b[0m \u001b[0mmodel\u001b[0m\u001b[0;34m\u001b[0m\u001b[0;34m\u001b[0m\u001b[0m\n\u001b[1;32m    515\u001b[0m \u001b[0;34m\u001b[0m\u001b[0m\n",
      "\u001b[0;32m/home/yyeon/anaconda3/envs/ML_Server/lib/python3.7/site-packages/xgboost/core.py\u001b[0m in \u001b[0;36mnum_boosted_rounds\u001b[0;34m(self)\u001b[0m\n\u001b[1;32m   1890\u001b[0m         \u001b[0mrounds\u001b[0m \u001b[0;34m=\u001b[0m \u001b[0mctypes\u001b[0m\u001b[0;34m.\u001b[0m\u001b[0mc_int\u001b[0m\u001b[0;34m(\u001b[0m\u001b[0;34m)\u001b[0m\u001b[0;34m\u001b[0m\u001b[0;34m\u001b[0m\u001b[0m\n\u001b[1;32m   1891\u001b[0m         \u001b[0;32massert\u001b[0m \u001b[0mself\u001b[0m\u001b[0;34m.\u001b[0m\u001b[0mhandle\u001b[0m \u001b[0;32mis\u001b[0m \u001b[0;32mnot\u001b[0m \u001b[0;32mNone\u001b[0m\u001b[0;34m\u001b[0m\u001b[0;34m\u001b[0m\u001b[0m\n\u001b[0;32m-> 1892\u001b[0;31m         \u001b[0m_check_call\u001b[0m\u001b[0;34m(\u001b[0m\u001b[0m_LIB\u001b[0m\u001b[0;34m.\u001b[0m\u001b[0mXGBoosterBoostedRounds\u001b[0m\u001b[0;34m(\u001b[0m\u001b[0mself\u001b[0m\u001b[0;34m.\u001b[0m\u001b[0mhandle\u001b[0m\u001b[0;34m,\u001b[0m \u001b[0mctypes\u001b[0m\u001b[0;34m.\u001b[0m\u001b[0mbyref\u001b[0m\u001b[0;34m(\u001b[0m\u001b[0mrounds\u001b[0m\u001b[0;34m)\u001b[0m\u001b[0;34m)\u001b[0m\u001b[0;34m)\u001b[0m\u001b[0;34m\u001b[0m\u001b[0;34m\u001b[0m\u001b[0m\n\u001b[0m\u001b[1;32m   1893\u001b[0m         \u001b[0;32mreturn\u001b[0m \u001b[0mrounds\u001b[0m\u001b[0;34m.\u001b[0m\u001b[0mvalue\u001b[0m\u001b[0;34m\u001b[0m\u001b[0;34m\u001b[0m\u001b[0m\n\u001b[1;32m   1894\u001b[0m \u001b[0;34m\u001b[0m\u001b[0m\n",
      "\u001b[0;32m/home/yyeon/anaconda3/envs/ML_Server/lib/python3.7/site-packages/xgboost/core.py\u001b[0m in \u001b[0;36m_check_call\u001b[0;34m(ret)\u001b[0m\n\u001b[1;32m    190\u001b[0m     \"\"\"\n\u001b[1;32m    191\u001b[0m     \u001b[0;32mif\u001b[0m \u001b[0mret\u001b[0m \u001b[0;34m!=\u001b[0m \u001b[0;36m0\u001b[0m\u001b[0;34m:\u001b[0m\u001b[0;34m\u001b[0m\u001b[0;34m\u001b[0m\u001b[0m\n\u001b[0;32m--> 192\u001b[0;31m         \u001b[0;32mraise\u001b[0m \u001b[0mXGBoostError\u001b[0m\u001b[0;34m(\u001b[0m\u001b[0mpy_str\u001b[0m\u001b[0;34m(\u001b[0m\u001b[0m_LIB\u001b[0m\u001b[0;34m.\u001b[0m\u001b[0mXGBGetLastError\u001b[0m\u001b[0;34m(\u001b[0m\u001b[0;34m)\u001b[0m\u001b[0;34m)\u001b[0m\u001b[0;34m)\u001b[0m\u001b[0;34m\u001b[0m\u001b[0;34m\u001b[0m\u001b[0m\n\u001b[0m\u001b[1;32m    193\u001b[0m \u001b[0;34m\u001b[0m\u001b[0m\n\u001b[1;32m    194\u001b[0m \u001b[0;34m\u001b[0m\u001b[0m\n",
      "\u001b[0;31mXGBoostError\u001b[0m: value -1 for Parameter max_depth should be greater equal to 0\nmax_depth: Maximum depth of the tree; 0 indicates no limit; a limit is required for depthwise policy"
     ]
    }
   ],
   "source": [
    "oof_xgb = np.zeros((len(train),3))\n",
    "xgb_pred = np.zeros((len(test),3))\n",
    "\n",
    "skf = StratifiedKFold(n_splits=5, shuffle=True, random_state=55)\n",
    "\n",
    "for fold_, (trn_idx, val_idx) in enumerate(skf.split(train, train['credit'])):\n",
    "    print(\"\\nfold num_: {}\".format(fold_))\n",
    "    y_train, y_valid = train.iloc[trn_idx][TARGET], train.iloc[val_idx][TARGET]\n",
    "    X_train, X_valid = train.iloc[trn_idx][FEATURES], train.iloc[val_idx][FEATURES]\n",
    "    \n",
    "    clf = XGBClassifier(**xgb_params)\n",
    "    clf.fit(X_train, y_train, \n",
    "            eval_set=[(X_train, y_train), (X_valid, y_valid)], \n",
    "            eval_metric= 'mlogloss',\n",
    "            early_stopping_rounds=100,\n",
    "            verbose=100\n",
    "           )\n",
    "    \n",
    "    oof_xgb[val_idx] = clf.predict_proba(X_valid, ntree_limit=clf.best_iteration)    \n",
    "    xgb_pred += clf.predict_proba(test[FEATURES], ntree_limit=clf.best_iteration)\n",
    "\n",
    "xgb_pred /= 5    \n",
    "print('\\nCross Validation Is Complete')                           \n",
    "print(\"CV score: {:<8.5f}\".format(log_loss(train[TARGET], oof_xgb)))"
   ]
  },
  {
   "cell_type": "code",
   "execution_count": 183,
   "metadata": {
    "ExecuteTime": {
     "end_time": "2021-04-10T16:45:17.262858Z",
     "start_time": "2021-04-10T16:45:17.211949Z"
    }
   },
   "outputs": [],
   "source": [
    "submit = pd.read_csv('./open/sample_submission.csv')\n",
    "\n",
    "submit.iloc[:, 1:] = (lgb_pred+cat_pred+xgb_pred)/3\n",
    "submit.to_csv('./0411_3_ensemble.csv', index=False)"
   ]
  },
  {
   "cell_type": "code",
   "execution_count": 96,
   "metadata": {
    "ExecuteTime": {
     "end_time": "2021-04-10T18:51:04.926581Z",
     "start_time": "2021-04-10T18:51:04.876241Z"
    }
   },
   "outputs": [],
   "source": [
    "submit = pd.read_csv('./open/sample_submission.csv')\n",
    "\n",
    "submit.iloc[:, 1:] = (xgb_pred)\n",
    "submit.to_csv('./0412_xgb_pred.csv', index=False)"
   ]
  },
  {
   "cell_type": "code",
   "execution_count": 91,
   "metadata": {
    "ExecuteTime": {
     "end_time": "2021-04-10T18:49:47.418939Z",
     "start_time": "2021-04-10T18:49:47.414611Z"
    }
   },
   "outputs": [
    {
     "data": {
      "text/plain": [
       "array([[0.04216759, 0.0782714 , 0.87956103],\n",
       "       [0.2105627 , 0.17055685, 0.61888044],\n",
       "       [0.041058  , 0.09921888, 0.85972311],\n",
       "       ...,\n",
       "       [0.01654804, 0.05220013, 0.93125182],\n",
       "       [0.08651753, 0.21743858, 0.69604388],\n",
       "       [0.07326753, 0.23325972, 0.69347275]])"
      ]
     },
     "execution_count": 91,
     "metadata": {},
     "output_type": "execute_result"
    }
   ],
   "source": [
    "xgb_pred"
   ]
  },
  {
   "cell_type": "code",
   "execution_count": null,
   "metadata": {},
   "outputs": [],
   "source": []
  }
 ],
 "metadata": {
  "kernelspec": {
   "display_name": "ML_Server",
   "language": "python",
   "name": "ml_server"
  },
  "language_info": {
   "codemirror_mode": {
    "name": "ipython",
    "version": 3
   },
   "file_extension": ".py",
   "mimetype": "text/x-python",
   "name": "python",
   "nbconvert_exporter": "python",
   "pygments_lexer": "ipython3",
   "version": "3.7.9"
  },
  "latex_envs": {
   "LaTeX_envs_menu_present": true,
   "autoclose": false,
   "autocomplete": true,
   "bibliofile": "biblio.bib",
   "cite_by": "apalike",
   "current_citInitial": 1,
   "eqLabelWithNumbers": true,
   "eqNumInitial": 1,
   "hotkeys": {
    "equation": "Ctrl-E",
    "itemize": "Ctrl-I"
   },
   "labels_anchors": false,
   "latex_user_defs": false,
   "report_style_numbering": false,
   "user_envs_cfg": false
  },
  "toc": {
   "base_numbering": 1,
   "nav_menu": {},
   "number_sections": true,
   "sideBar": true,
   "skip_h1_title": false,
   "title_cell": "Table of Contents",
   "title_sidebar": "Contents",
   "toc_cell": false,
   "toc_position": {},
   "toc_section_display": true,
   "toc_window_display": false
  }
 },
 "nbformat": 4,
 "nbformat_minor": 4
}
