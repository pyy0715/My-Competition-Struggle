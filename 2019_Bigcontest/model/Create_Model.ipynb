{
 "cells": [
  {
   "cell_type": "markdown",
   "metadata": {},
   "source": [
    "# Load Library"
   ]
  },
  {
   "cell_type": "code",
   "execution_count": 1,
   "metadata": {},
   "outputs": [],
   "source": [
    "suppressMessages(library(data.table))\n",
    "suppressMessages(library(tidyverse))  \n",
    "suppressMessages(library(lightgbm)) "
   ]
  },
  {
   "cell_type": "markdown",
   "metadata": {},
   "source": [
    "# Read Data"
   ]
  },
  {
   "cell_type": "code",
   "execution_count": 2,
   "metadata": {},
   "outputs": [],
   "source": [
    "train_preprocess = fread(\"../preprocess/train_preprocess.csv\", na.strings=c(\"NA\",\"NaN\", \"\"),encoding=\"UTF-8\")"
   ]
  },
  {
   "cell_type": "markdown",
   "metadata": {},
   "source": [
    "# Data for Modeling"
   ]
  },
  {
   "cell_type": "code",
   "execution_count": 3,
   "metadata": {},
   "outputs": [],
   "source": [
    "# Binary 학습을 위한 is_survive, 전체 결제금액 학습을 위한 total_amount_spent 파생변수 생성 \n",
    "train_preprocess = train_preprocess  %>%\n",
    "    mutate(is_survive = ifelse(survival_time==64,1,0),\n",
    "          total_amount_spent = survival_time * amount_spent)"
   ]
  },
  {
   "cell_type": "code",
   "execution_count": 5,
   "metadata": {},
   "outputs": [],
   "source": [
    "# split\n",
    "\n",
    "\n",
    "# --------Survival_time----------\n",
    "x_train = train_preprocess  %>% \n",
    "            select(-c(\"acc_id\",\"survival_time\",\"amount_spent\",\"is_survive\",\"total_amount_spent\"))\n",
    "\n",
    "y_train = train_preprocess  %>% \n",
    "            select(is_survive)\n",
    "\n",
    "\n",
    "# --------Total_Amount_Spent----------\n",
    "x_train2 = train_preprocess  %>% \n",
    "            filter(total_amount_spent!=0)  %>% \n",
    "            select(-c(\"acc_id\",\"survival_time\",\"amount_spent\",\"is_survive\",\"total_amount_spent\"))\n",
    "\n",
    "y_train2 = train_preprocess  %>% \n",
    "            filter(total_amount_spent!=0)  %>% \n",
    "            select(total_amount_spent)"
   ]
  },
  {
   "cell_type": "code",
   "execution_count": 6,
   "metadata": {},
   "outputs": [],
   "source": [
    "# --------Survival_time----------\n",
    "x_train<- model.matrix(~.-1, data = x_train)\n",
    "y_train<- model.matrix(~.-1, data = y_train) \n",
    "\n",
    "\n",
    "# --------Total_Amount_Spent----------\n",
    "x_train2<- model.matrix(~.-1, data = x_train2)\n",
    "y_train2<- model.matrix(~.-1, data = y_train2) "
   ]
  },
  {
   "cell_type": "markdown",
   "metadata": {},
   "source": [
    "# Light GBM"
   ]
  },
  {
   "cell_type": "code",
   "execution_count": null,
   "metadata": {},
   "outputs": [],
   "source": [
    "# 이탈 / 비이탈\n",
    "lgb.train = lgb.Dataset(data=x_train, label=y_train)\n",
    "\n",
    "# 전체 결제 금액\n",
    "lgb.train2 = lgb.Dataset(data=x_train2, label=y_train2)"
   ]
  },
  {
   "cell_type": "code",
   "execution_count": null,
   "metadata": {},
   "outputs": [],
   "source": [
    "lgb.grid = list(objective = \"binary\",\n",
    "                metric = \"auc\",\n",
    "                learning_rate = 0.03,\n",
    "                alpha = 0.5,\n",
    "                lambda = 0.5,\n",
    "                max_depth = 7)"
   ]
  },
  {
   "cell_type": "code",
   "execution_count": null,
   "metadata": {},
   "outputs": [],
   "source": [
    "lgb.grid2 = list(objective = \"regression\",\n",
    "                 metric = \"rmse\",\n",
    "                 learning_rate = 0.01,\n",
    "                 alpha = 0.5,\n",
    "                 lambda = 0.5,\n",
    "                 max_depth = 7)"
   ]
  },
  {
   "cell_type": "code",
   "execution_count": null,
   "metadata": {},
   "outputs": [],
   "source": [
    "set.seed(828)\n",
    "\n",
    "# 이탈 / 비이탈\n",
    "lgb.fit = lgb.train(params = lgb.grid, data = lgb.train, nrounds =1879, eval_freq=100)\n",
    "\n",
    "\n",
    "# 전체 결제 금액\n",
    "lgb.fit2 = lgb.train(params = lgb.grid2, data = lgb.train2, nrounds=678, eval_freq=100)"
   ]
  },
  {
   "cell_type": "code",
   "execution_count": null,
   "metadata": {},
   "outputs": [],
   "source": [
    "lgb.save(lgb.fit, \"../model/final_1.model\")\n",
    "lgb.save(lgb.fit2, \"../model/final_2.model\")"
   ]
  }
 ],
 "metadata": {
  "kernelspec": {
   "display_name": "R",
   "language": "R",
   "name": "ir"
  },
  "language_info": {
   "codemirror_mode": "r",
   "file_extension": ".r",
   "mimetype": "text/x-r-source",
   "name": "R",
   "pygments_lexer": "r",
   "version": "3.6.1"
  },
  "toc": {
   "base_numbering": 1,
   "nav_menu": {},
   "number_sections": true,
   "sideBar": true,
   "skip_h1_title": false,
   "title_cell": "Table of Contents",
   "title_sidebar": "Contents",
   "toc_cell": false,
   "toc_position": {},
   "toc_section_display": true,
   "toc_window_display": false
  }
 },
 "nbformat": 4,
 "nbformat_minor": 1
}
