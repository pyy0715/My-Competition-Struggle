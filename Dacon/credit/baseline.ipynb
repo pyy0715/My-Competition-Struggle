{
 "cells": [
  {
   "cell_type": "code",
   "execution_count": 1,
   "metadata": {
    "ExecuteTime": {
     "end_time": "2021-05-06T18:53:20.827642Z",
     "start_time": "2021-05-06T18:53:19.895685Z"
    }
   },
   "outputs": [],
   "source": [
    "import pandas as pd \n",
    "import numpy as np\n",
    "\n",
    "import matplotlib.pyplot as plt\n",
    "import seaborn as sns\n",
    "\n",
    "from sklearn.metrics import log_loss, classification_report\n",
    "from sklearn.preprocessing import OneHotEncoder, LabelEncoder, OrdinalEncoder\n",
    "from sklearn.model_selection import StratifiedKFold\n",
    "\n",
    "from xgboost import XGBClassifier\n",
    "from lightgbm import LGBMClassifier\n",
    "from catboost import Pool, CatBoostClassifier\n",
    "\n",
    "from tqdm.auto import tqdm\n",
    "\n",
    "import warnings\n",
    "warnings.filterwarnings('ignore')"
   ]
  },
  {
   "cell_type": "code",
   "execution_count": 2,
   "metadata": {
    "ExecuteTime": {
     "end_time": "2021-05-06T18:53:20.879259Z",
     "start_time": "2021-05-06T18:53:20.829245Z"
    }
   },
   "outputs": [],
   "source": [
    "train = pd.read_csv('./open/train.csv', index_col='index').reset_index(drop=True)\n",
    "test = pd.read_csv('./open/test.csv', index_col='index').reset_index(drop=True)"
   ]
  },
  {
   "cell_type": "code",
   "execution_count": 3,
   "metadata": {
    "ExecuteTime": {
     "end_time": "2021-05-06T18:53:20.882362Z",
     "start_time": "2021-05-06T18:53:20.880546Z"
    },
    "scrolled": true
   },
   "outputs": [],
   "source": [
    "# train = train.drop_duplicates().reset_index(drop=True)"
   ]
  },
  {
   "cell_type": "code",
   "execution_count": 4,
   "metadata": {
    "ExecuteTime": {
     "end_time": "2021-05-06T18:53:20.888630Z",
     "start_time": "2021-05-06T18:53:20.883601Z"
    }
   },
   "outputs": [
    {
     "name": "stdout",
     "output_type": "stream",
     "text": [
      "(26457, 19)\n",
      "(10000, 18)\n"
     ]
    }
   ],
   "source": [
    "print(train.shape)\n",
    "print(test.shape)"
   ]
  },
  {
   "cell_type": "code",
   "execution_count": 5,
   "metadata": {
    "ExecuteTime": {
     "end_time": "2021-05-06T18:53:20.923037Z",
     "start_time": "2021-05-06T18:53:20.890089Z"
    }
   },
   "outputs": [],
   "source": [
    "train['UNEMPLOYED'] = train['DAYS_EMPLOYED'].map(lambda x: 1 if x>0 else 0).astype('object')\n",
    "train['DAYS_EMPLOYED'] = train['DAYS_EMPLOYED'].map(lambda x: -1 if x>0 else x)\n",
    "\n",
    "test['UNEMPLOYED'] = test['DAYS_EMPLOYED'].map(lambda x: 1 if x>0 else 0).astype('object')\n",
    "test['DAYS_EMPLOYED'] = test['DAYS_EMPLOYED'].map(lambda x: -1 if x>0 else x)"
   ]
  },
  {
   "cell_type": "code",
   "execution_count": 6,
   "metadata": {
    "ExecuteTime": {
     "end_time": "2021-05-06T18:53:20.927860Z",
     "start_time": "2021-05-06T18:53:20.924025Z"
    }
   },
   "outputs": [],
   "source": [
    "train['employ_by_birth'] = train['DAYS_EMPLOYED'] / train['DAYS_BIRTH']\n",
    "test['employ_by_birth'] = test['DAYS_EMPLOYED'] / test['DAYS_BIRTH']"
   ]
  },
  {
   "cell_type": "code",
   "execution_count": 7,
   "metadata": {
    "ExecuteTime": {
     "end_time": "2021-05-06T18:53:20.932925Z",
     "start_time": "2021-05-06T18:53:20.929053Z"
    }
   },
   "outputs": [],
   "source": [
    "train['begin_by_employ'] = train['begin_month'] / train['DAYS_EMPLOYED']\n",
    "test['begin_by_employ'] = test['begin_month'] / test['DAYS_EMPLOYED']"
   ]
  },
  {
   "cell_type": "code",
   "execution_count": 8,
   "metadata": {
    "ExecuteTime": {
     "end_time": "2021-05-06T18:53:21.331722Z",
     "start_time": "2021-05-06T18:53:20.934580Z"
    },
    "scrolled": false
   },
   "outputs": [
    {
     "data": {
      "text/plain": [
       "<seaborn.axisgrid.FacetGrid at 0x7f8423fde490>"
      ]
     },
     "execution_count": 8,
     "metadata": {},
     "output_type": "execute_result"
    },
    {
     "data": {
      "image/png": "[encoded data removed]",
      "text/plain": [
       "<Figure size 411.875x360 with 1 Axes>"
      ]
     },
     "metadata": {
      "needs_background": "light"
     },
     "output_type": "display_data"
    }
   ],
   "source": [
    "sns.displot(\n",
    "    data= train,\n",
    "    x='begin_by_employ',\n",
    "    hue='credit',\n",
    "    kind='kde'\n",
    ")"
   ]
  },
  {
   "cell_type": "markdown",
   "metadata": {},
   "source": [
    "## Encoding"
   ]
  },
  {
   "cell_type": "code",
   "execution_count": 9,
   "metadata": {
    "ExecuteTime": {
     "end_time": "2021-05-06T18:53:21.337581Z",
     "start_time": "2021-05-06T18:53:21.333102Z"
    }
   },
   "outputs": [],
   "source": [
    "train['occyp_type'] = train['occyp_type'].fillna('None')\n",
    "test['occyp_type'] = test['occyp_type'].fillna('None')"
   ]
  },
  {
   "cell_type": "code",
   "execution_count": 10,
   "metadata": {
    "ExecuteTime": {
     "end_time": "2021-05-06T18:53:21.346940Z",
     "start_time": "2021-05-06T18:53:21.339537Z"
    }
   },
   "outputs": [],
   "source": [
    "train['work_tm']=-(train['DAYS_EMPLOYED'])//365\n",
    "test['work_tm']=-(test['DAYS_EMPLOYED'])//365"
   ]
  },
  {
   "cell_type": "code",
   "execution_count": 11,
   "metadata": {
    "ExecuteTime": {
     "end_time": "2021-05-06T18:53:21.411750Z",
     "start_time": "2021-05-06T18:53:21.348323Z"
    }
   },
   "outputs": [],
   "source": [
    "train.loc[(train['occyp_type']=='Cleaning staff') | (train['occyp_type']=='Cooking staff') | (train['occyp_type']=='Drivers') | (train['occyp_type']=='Laborers') | (train['occyp_type']=='Low-skill Laborers') | (train['occyp_type']=='Security staff') | (train['occyp_type']=='Waiters/barmen staff'),'occyp_group']='Laborwk'\n",
    "train.loc[(train['occyp_type']=='Accountants') | (train['occyp_type']=='Core staff') | (train['occyp_type']=='HR staff') | (train['occyp_type']=='Medicine staff') | (train['occyp_type']=='Private service staff') | (train['occyp_type']=='Realty agents') | (train['occyp_type']=='Sales staff') | (train['occyp_type']=='Secretaries'),'occyp_group']='officewk'\n",
    "train.loc[(train['occyp_type']=='Managers') | (train['occyp_type']=='High skill tech staff') | (train['occyp_type']=='IT staff'),'occyp_group']='hightecwk'\n",
    "\n",
    "test.loc[(test['occyp_type']=='Cleaning staff') | (test['occyp_type']=='Cooking staff') | (test['occyp_type']=='Drivers') | (test['occyp_type']=='Laborers') | (test['occyp_type']=='Low-skill Laborers') | (test['occyp_type']=='Security staff') | (test['occyp_type']=='Waiters/barmen staff'),'occyp_group']='Laborwk'\n",
    "test.loc[(test['occyp_type']=='Accountants') | (test['occyp_type']=='Core staff') | (test['occyp_type']=='HR staff') | (test['occyp_type']=='Medicine staff') | (test['occyp_type']=='Private service staff') | (test['occyp_type']=='Realty agents') | (test['occyp_type']=='Sales staff') | (test['occyp_type']=='Secretaries'),'occyp_group']='officewk'\n",
    "test.loc[(test['occyp_type']=='Managers') | (test['occyp_type']=='High skill tech staff') | (test['occyp_type']=='IT staff'),'occyp_group']='hightecwk'"
   ]
  },
  {
   "cell_type": "code",
   "execution_count": 12,
   "metadata": {
    "ExecuteTime": {
     "end_time": "2021-05-06T18:53:21.417541Z",
     "start_time": "2021-05-06T18:53:21.412835Z"
    }
   },
   "outputs": [],
   "source": [
    "train['occyp_group'] = train['occyp_group'].fillna('None')\n",
    "test['occyp_group'] = test['occyp_group'].fillna('None')"
   ]
  },
  {
   "cell_type": "code",
   "execution_count": 13,
   "metadata": {
    "ExecuteTime": {
     "end_time": "2021-05-06T18:53:21.427948Z",
     "start_time": "2021-05-06T18:53:21.418858Z"
    }
   },
   "outputs": [],
   "source": [
    "train['reality_car'] = train['reality'] + '-' + train['car']\n",
    "test['reality_car'] = test['reality'] + '-' + test['car']"
   ]
  },
  {
   "cell_type": "code",
   "execution_count": 14,
   "metadata": {
    "ExecuteTime": {
     "end_time": "2021-05-06T18:53:21.450498Z",
     "start_time": "2021-05-06T18:53:21.429394Z"
    }
   },
   "outputs": [],
   "source": [
    "reality_car_type = ['N-N', 'N-Y', 'Y-N', 'Y-Y']\n",
    "\n",
    "train['reality_car'] = train['reality_car'].map(lambda x: reality_car_type.index(x))\n",
    "test['reality_car'] = test['reality_car'].map(lambda x: reality_car_type.index(x)) "
   ]
  },
  {
   "cell_type": "code",
   "execution_count": 15,
   "metadata": {
    "ExecuteTime": {
     "end_time": "2021-05-06T18:53:21.454394Z",
     "start_time": "2021-05-06T18:53:21.451430Z"
    }
   },
   "outputs": [],
   "source": [
    "train['phone_total'] = train['FLAG_MOBIL'] + train['work_phone'] + train['phone']\n",
    "test['phone_total'] = test['FLAG_MOBIL'] + test['work_phone'] + test['phone']"
   ]
  },
  {
   "cell_type": "code",
   "execution_count": 16,
   "metadata": {
    "ExecuteTime": {
     "end_time": "2021-05-06T18:53:21.470727Z",
     "start_time": "2021-05-06T18:53:21.455742Z"
    }
   },
   "outputs": [],
   "source": [
    "CATEGORY_COL = [col for col in train.columns if train[col].dtype == 'object']\n",
    "# CATEGORY_COL = ['gender', 'car', 'reality', 'email', 'family_type', 'house_type', 'UNEMPLOYED', 'income_edu', 'income_occyp', 'occyp_edu']\n",
    "# CATEGORY_COL = ['gender', 'car', 'reality', 'income_edu', 'UNEMPLOYED', 'family_type', 'house_type', 'income_type', 'edu_type', 'family_house']\n",
    "NUMERIC_COL = [col for col in train.columns if train[col].dtype != 'object' and col!='credit']\n",
    "\n",
    "FEATURES = CATEGORY_COL + NUMERIC_COL\n",
    "\n",
    "TARGET = train['credit']\n",
    "\n",
    "train = train[FEATURES]\n",
    "test = test[FEATURES]"
   ]
  },
  {
   "cell_type": "code",
   "execution_count": 17,
   "metadata": {
    "ExecuteTime": {
     "end_time": "2021-05-06T18:53:21.551461Z",
     "start_time": "2021-05-06T18:53:21.471705Z"
    }
   },
   "outputs": [],
   "source": [
    "from sklearn.compose import make_column_transformer\n",
    "\n",
    "column_trans = make_column_transformer(\n",
    "    (OneHotEncoder(handle_unknown='ignore'), CATEGORY_COL),\n",
    "    remainder='passthrough'\n",
    ")\n",
    "\n",
    "train = column_trans.fit_transform(train)\n",
    "train = pd.DataFrame(train, columns=column_trans.get_feature_names())\n",
    "\n",
    "test = pd.DataFrame(column_trans.transform(test), columns=column_trans.get_feature_names())"
   ]
  },
  {
   "cell_type": "code",
   "execution_count": 18,
   "metadata": {
    "ExecuteTime": {
     "end_time": "2021-05-06T18:53:21.555320Z",
     "start_time": "2021-05-06T18:53:21.552415Z"
    },
    "scrolled": true
   },
   "outputs": [
    {
     "name": "stdout",
     "output_type": "stream",
     "text": [
      "(26457, 67)\n",
      "(10000, 67)\n"
     ]
    }
   ],
   "source": [
    "print(train.shape)\n",
    "print(test.shape)"
   ]
  },
  {
   "cell_type": "code",
   "execution_count": 37,
   "metadata": {
    "ExecuteTime": {
     "end_time": "2021-05-06T18:57:19.968898Z",
     "start_time": "2021-05-06T18:57:19.964826Z"
    }
   },
   "outputs": [
    {
     "data": {
      "text/plain": [
       "52"
      ]
     },
     "execution_count": 37,
     "metadata": {},
     "output_type": "execute_result"
    }
   ],
   "source": [
    "len(column_trans.get_feature_names()[:-15])"
   ]
  },
  {
   "cell_type": "code",
   "execution_count": null,
   "metadata": {},
   "outputs": [],
   "source": []
  },
  {
   "cell_type": "code",
   "execution_count": 46,
   "metadata": {
    "ExecuteTime": {
     "end_time": "2021-05-06T18:59:22.159965Z",
     "start_time": "2021-05-06T18:59:22.154426Z"
    }
   },
   "outputs": [],
   "source": [
    "param = {'boosting_type':'gbdt',\n",
    "         'max_depth': -1, \n",
    "         'num_leaves': 64,\n",
    "         'objective': 'multi-class',\n",
    "         'n_estimators': 2000, \n",
    "         'learning_rate': 0.05, \n",
    "         'subsample': 0.8, \n",
    "         'colsample_bytree': 0.8,\n",
    "         'categorical_feature': [i for i in range(53)]\n",
    "        \n",
    "        }"
   ]
  },
  {
   "cell_type": "code",
   "execution_count": 47,
   "metadata": {
    "ExecuteTime": {
     "end_time": "2021-05-06T18:59:43.065598Z",
     "start_time": "2021-05-06T18:59:22.415135Z"
    },
    "scrolled": false
   },
   "outputs": [
    {
     "name": "stdout",
     "output_type": "stream",
     "text": [
      "\n",
      "fold num_: 0\n",
      "Training until validation scores don't improve for 100 rounds\n",
      "[100]\ttraining's multi_logloss: 0.636873\tvalid_1's multi_logloss: 0.748018\n",
      "[200]\ttraining's multi_logloss: 0.546861\tvalid_1's multi_logloss: 0.730203\n",
      "[300]\ttraining's multi_logloss: 0.477561\tvalid_1's multi_logloss: 0.724632\n",
      "[400]\ttraining's multi_logloss: 0.422071\tvalid_1's multi_logloss: 0.72454\n",
      "Early stopping, best iteration is:\n",
      "[349]\ttraining's multi_logloss: 0.448624\tvalid_1's multi_logloss: 0.723007\n",
      "\n",
      "fold num_: 1\n",
      "Training until validation scores don't improve for 100 rounds\n",
      "[100]\ttraining's multi_logloss: 0.630117\tvalid_1's multi_logloss: 0.758945\n",
      "[200]\ttraining's multi_logloss: 0.535791\tvalid_1's multi_logloss: 0.743905\n",
      "[300]\ttraining's multi_logloss: 0.470545\tvalid_1's multi_logloss: 0.741582\n",
      "[400]\ttraining's multi_logloss: 0.415664\tvalid_1's multi_logloss: 0.74411\n",
      "Early stopping, best iteration is:\n",
      "[306]\ttraining's multi_logloss: 0.466628\tvalid_1's multi_logloss: 0.74132\n",
      "\n",
      "fold num_: 2\n",
      "Training until validation scores don't improve for 100 rounds\n",
      "[100]\ttraining's multi_logloss: 0.633785\tvalid_1's multi_logloss: 0.75458\n",
      "[200]\ttraining's multi_logloss: 0.538218\tvalid_1's multi_logloss: 0.735801\n",
      "[300]\ttraining's multi_logloss: 0.470243\tvalid_1's multi_logloss: 0.731873\n",
      "[400]\ttraining's multi_logloss: 0.415042\tvalid_1's multi_logloss: 0.733391\n",
      "Early stopping, best iteration is:\n",
      "[302]\ttraining's multi_logloss: 0.468828\tvalid_1's multi_logloss: 0.731612\n",
      "\n",
      "fold num_: 3\n",
      "Training until validation scores don't improve for 100 rounds\n",
      "[100]\ttraining's multi_logloss: 0.63183\tvalid_1's multi_logloss: 0.751067\n",
      "[200]\ttraining's multi_logloss: 0.538314\tvalid_1's multi_logloss: 0.733449\n",
      "[300]\ttraining's multi_logloss: 0.470974\tvalid_1's multi_logloss: 0.727125\n",
      "[400]\ttraining's multi_logloss: 0.41719\tvalid_1's multi_logloss: 0.727925\n",
      "Early stopping, best iteration is:\n",
      "[353]\ttraining's multi_logloss: 0.440879\tvalid_1's multi_logloss: 0.726786\n",
      "\n",
      "fold num_: 4\n",
      "Training until validation scores don't improve for 100 rounds\n",
      "[100]\ttraining's multi_logloss: 0.634839\tvalid_1's multi_logloss: 0.753188\n",
      "[200]\ttraining's multi_logloss: 0.539051\tvalid_1's multi_logloss: 0.73703\n",
      "[300]\ttraining's multi_logloss: 0.468601\tvalid_1's multi_logloss: 0.731417\n",
      "[400]\ttraining's multi_logloss: 0.4139\tvalid_1's multi_logloss: 0.730464\n",
      "Early stopping, best iteration is:\n",
      "[359]\ttraining's multi_logloss: 0.434949\tvalid_1's multi_logloss: 0.729781\n",
      "\n",
      "Cross Validation Is Complete\n",
      "CV score: 0.73050 \n"
     ]
    }
   ],
   "source": [
    "oof_lgb = np.zeros((len(train),3))\n",
    "lgb_pred = np.zeros((len(test),3))\n",
    "feature_importance_df = pd.DataFrame()\n",
    "\n",
    "skf = StratifiedKFold(n_splits=5, shuffle=True, random_state=42)\n",
    "\n",
    "for fold_, (trn_idx, val_idx) in enumerate(skf.split(train, TARGET)):\n",
    "    print(\"\\nfold num_: {}\".format(fold_))\n",
    "    y_train, y_valid = TARGET[trn_idx], TARGET[val_idx]\n",
    "    X_train, X_valid = train.iloc[trn_idx], train.iloc[val_idx]\n",
    "    \n",
    "    clf = LGBMClassifier(**param)\n",
    "    clf.fit(X_train, y_train, \n",
    "            eval_set=[(X_train, y_train), (X_valid, y_valid)], \n",
    "            early_stopping_rounds=100,\n",
    "            verbose=100)\n",
    "    \n",
    "    oof_lgb[val_idx] = clf.predict_proba(X_valid, num_iteration=clf.best_iteration_)    \n",
    "    lgb_pred += clf.predict_proba(test, num_iteration=clf.best_iteration_)\n",
    "\n",
    "lgb_pred /= 5    \n",
    "print('\\nCross Validation Is Complete')                           \n",
    "print(\"CV score: {:<8.5f}\".format(log_loss(TARGET, oof_lgb)))"
   ]
  },
  {
   "cell_type": "code",
   "execution_count": 48,
   "metadata": {
    "ExecuteTime": {
     "end_time": "2021-05-06T18:59:46.308559Z",
     "start_time": "2021-05-06T18:59:46.085205Z"
    }
   },
   "outputs": [
    {
     "data": {
      "image/png": "[encoded data removed]",
      "text/plain": [
       "<Figure size 720x432 with 1 Axes>"
      ]
     },
     "metadata": {
      "needs_background": "light"
     },
     "output_type": "display_data"
    }
   ],
   "source": [
    "feature_importance = pd.DataFrame({'feature':clf.feature_name_, 'importance':clf.feature_importances_})\n",
    "\n",
    "plt.figure(figsize=(10,6))\n",
    "sns.barplot(x='importance', \n",
    "            y='feature', \n",
    "            data=feature_importance.sort_values(by=\"importance\", ascending=False).reset_index()[:20])\n",
    "\n",
    "plt.title('TOP 10 Feature Importances over 5 Folds Average')\n",
    "plt.tight_layout()"
   ]
  },
  {
   "cell_type": "code",
   "execution_count": 198,
   "metadata": {
    "ExecuteTime": {
     "end_time": "2021-04-13T05:20:19.488888Z",
     "start_time": "2021-04-13T05:20:19.484705Z"
    }
   },
   "outputs": [],
   "source": [
    "# result = permutation_importance(clf, X_train, y_train, n_repeats=10,\n",
    "#                                 random_state=42, n_jobs=-1)\n",
    "# sorted_idx = result.importances_mean.argsort()\n",
    "\n",
    "# fig, ax = plt.subplots()\n",
    "# ax.boxplot(result.importances[sorted_idx].T,\n",
    "#            vert=False, labels=X_train.columns[sorted_idx])\n",
    "# ax.set_title(\"Permutation Importances (train set)\")\n",
    "# fig.tight_layout()\n",
    "# plt.show()"
   ]
  },
  {
   "cell_type": "code",
   "execution_count": null,
   "metadata": {},
   "outputs": [],
   "source": []
  },
  {
   "cell_type": "code",
   "execution_count": 136,
   "metadata": {
    "ExecuteTime": {
     "end_time": "2021-04-13T05:11:52.887438Z",
     "start_time": "2021-04-13T05:11:52.839153Z"
    }
   },
   "outputs": [],
   "source": [
    "submit = pd.read_csv('./open/sample_submission.csv')\n",
    "\n",
    "submit.iloc[:, 1:] = (lgb_pred+cat_pred)/2\n",
    "submit.to_csv('./lgb_cat.csv', index=False)"
   ]
  },
  {
   "cell_type": "code",
   "execution_count": 98,
   "metadata": {
    "ExecuteTime": {
     "end_time": "2021-04-13T19:11:34.805063Z",
     "start_time": "2021-04-13T19:11:34.800719Z"
    }
   },
   "outputs": [
    {
     "data": {
      "text/plain": [
       "array([[0.05130736, 0.08304998, 0.86564267],\n",
       "       [0.19785673, 0.23351888, 0.56862439],\n",
       "       [0.03122761, 0.07466962, 0.89410278],\n",
       "       ...,\n",
       "       [0.02839304, 0.09020285, 0.88140411],\n",
       "       [0.10593975, 0.23092058, 0.66313967],\n",
       "       [0.07574578, 0.19198286, 0.73227136]])"
      ]
     },
     "execution_count": 98,
     "metadata": {},
     "output_type": "execute_result"
    }
   ],
   "source": [
    "lgb_pred"
   ]
  },
  {
   "cell_type": "code",
   "execution_count": 101,
   "metadata": {
    "ExecuteTime": {
     "end_time": "2021-04-13T19:20:49.239163Z",
     "start_time": "2021-04-13T19:20:49.232232Z"
    },
    "scrolled": false
   },
   "outputs": [],
   "source": [
    "# model = CatBoostClassifier(loss_function='MultiClass', \n",
    "#                            depth = -1,\n",
    "#                            early_stopping_rounds=100,\n",
    "#                            task_type=\"GPU\",\n",
    "#                            random_state=42,\n",
    "#                            learning_rate=0.05,\n",
    "#                            iterations=5000)\n",
    "\n",
    "# skf = StratifiedKFold(n_splits=5, random_state=55, shuffle=True)\n",
    "\n",
    "\n",
    "# oof_cat = np.zeros((len(train), 3))\n",
    "# cat_pred = np.zeros((len(test), 3))\n",
    "\n",
    "\n",
    "# for idx, (trn_idx, val_idx) in enumerate(skf.split(train, train['credit'])):\n",
    "#     y_train, y_valid = train.iloc[trn_idx][TARGET], train.iloc[val_idx][TARGET]\n",
    "#     X_train, X_valid = train.iloc[trn_idx][FEATURES], train.iloc[val_idx][FEATURES]\n",
    "    \n",
    "#     _train = Pool(X_train, label=y_train)\n",
    "#     _valid = Pool(X_valid, label=y_valid)\n",
    "    \n",
    "#     print( \"\\nFold \", idx)\n",
    "#     fit_model = model.fit(_train,\n",
    "#                           eval_set=_valid,\n",
    "#                           use_best_model=True,\n",
    "#                           verbose=200\n",
    "#                          )\n",
    "#     pred = fit_model.predict_proba(X_valid)\n",
    "#     print( \"  Log loss = \", log_loss(y_valid, pred) )\n",
    "#     oof_cat[val_idx] = pred\n",
    "#     cat_pred += fit_model.predict_proba(test[FEATURES])\n",
    "# cat_pred /= 5\n",
    "# print(\"CV score: {:<8.5f}\".format(log_loss(train[TARGET], oof_cat)))"
   ]
  },
  {
   "cell_type": "code",
   "execution_count": 49,
   "metadata": {
    "ExecuteTime": {
     "end_time": "2021-05-06T19:00:09.549127Z",
     "start_time": "2021-05-06T19:00:09.542774Z"
    }
   },
   "outputs": [],
   "source": [
    "from xgboost import XGBClassifier\n",
    "\n",
    "xgb_params={'learning_rate':0.05,\n",
    "            'booster': 'gbtree',\n",
    "            'n_estimators': 2000,\n",
    "            'max_depth':10,\n",
    "            'objective':'multi:softprob',\n",
    "            'num_class':3,\n",
    "            'subsample':0.8,\n",
    "            'colsample_bytree':0.8,\n",
    "            'random_state':42,\n",
    "            'tree_method':'gpu_hist',\n",
    "            'gpu_id': 0,\n",
    "            'n_jobs': -1,\n",
    "            'predictor':'gpu_predictor'}"
   ]
  },
  {
   "cell_type": "code",
   "execution_count": 52,
   "metadata": {
    "ExecuteTime": {
     "end_time": "2021-05-06T19:05:03.915843Z",
     "start_time": "2021-05-06T19:03:28.397214Z"
    }
   },
   "outputs": [
    {
     "name": "stdout",
     "output_type": "stream",
     "text": [
      "\n",
      "fold num_: 0\n",
      "[0]\tvalidation_0-mlogloss:1.07328\tvalidation_1-mlogloss:1.07578\n",
      "[100]\tvalidation_0-mlogloss:0.58383\tvalidation_1-mlogloss:0.75005\n",
      "[200]\tvalidation_0-mlogloss:0.45287\tvalidation_1-mlogloss:0.72843\n",
      "[300]\tvalidation_0-mlogloss:0.36219\tvalidation_1-mlogloss:0.72591\n",
      "[365]\tvalidation_0-mlogloss:0.31363\tvalidation_1-mlogloss:0.73150\n",
      "\n",
      "fold num_: 1\n",
      "[0]\tvalidation_0-mlogloss:1.07319\tvalidation_1-mlogloss:1.07599\n",
      "[100]\tvalidation_0-mlogloss:0.57700\tvalidation_1-mlogloss:0.74919\n",
      "[200]\tvalidation_0-mlogloss:0.45281\tvalidation_1-mlogloss:0.72652\n",
      "[300]\tvalidation_0-mlogloss:0.36130\tvalidation_1-mlogloss:0.72437\n",
      "[371]\tvalidation_0-mlogloss:0.31173\tvalidation_1-mlogloss:0.72896\n",
      "\n",
      "fold num_: 2\n",
      "[0]\tvalidation_0-mlogloss:1.07351\tvalidation_1-mlogloss:1.07560\n",
      "[100]\tvalidation_0-mlogloss:0.57952\tvalidation_1-mlogloss:0.74061\n",
      "[200]\tvalidation_0-mlogloss:0.44782\tvalidation_1-mlogloss:0.72190\n",
      "[300]\tvalidation_0-mlogloss:0.35847\tvalidation_1-mlogloss:0.72135\n",
      "[333]\tvalidation_0-mlogloss:0.33274\tvalidation_1-mlogloss:0.72379\n",
      "\n",
      "fold num_: 3\n",
      "[0]\tvalidation_0-mlogloss:1.07372\tvalidation_1-mlogloss:1.07613\n",
      "[100]\tvalidation_0-mlogloss:0.57929\tvalidation_1-mlogloss:0.75638\n",
      "[200]\tvalidation_0-mlogloss:0.44972\tvalidation_1-mlogloss:0.73894\n",
      "[300]\tvalidation_0-mlogloss:0.35768\tvalidation_1-mlogloss:0.74174\n",
      "[337]\tvalidation_0-mlogloss:0.33026\tvalidation_1-mlogloss:0.74487\n",
      "\n",
      "fold num_: 4\n",
      "[0]\tvalidation_0-mlogloss:1.07350\tvalidation_1-mlogloss:1.07574\n",
      "[100]\tvalidation_0-mlogloss:0.57943\tvalidation_1-mlogloss:0.74708\n",
      "[200]\tvalidation_0-mlogloss:0.44842\tvalidation_1-mlogloss:0.73014\n",
      "[300]\tvalidation_0-mlogloss:0.35777\tvalidation_1-mlogloss:0.73128\n",
      "[342]\tvalidation_0-mlogloss:0.32757\tvalidation_1-mlogloss:0.73569\n",
      "\n",
      "SEED: 1590, Cross Validation Is Complete\n",
      "CV score: 0.72732 \n"
     ]
    }
   ],
   "source": [
    "oof_xgb = np.zeros((len(train), 3))\n",
    "xgb_pred = np.zeros((len(test), 3))\n",
    "\n",
    "skf = StratifiedKFold(n_splits=5, shuffle=True, random_state=seed)\n",
    "\n",
    "for fold_, (trn_idx, val_idx) in enumerate(skf.split(train, TARGET)):\n",
    "    print(\"\\nfold num_: {}\".format(fold_))\n",
    "    y_train, y_valid = TARGET[trn_idx], TARGET[val_idx]\n",
    "    X_train, X_valid = train.iloc[trn_idx], train.iloc[val_idx]\n",
    "\n",
    "    clf = XGBClassifier(**xgb_params)\n",
    "    clf.fit(X_train, y_train, \n",
    "            eval_set=[(X_train, y_train), (X_valid, y_valid)], \n",
    "            eval_metric= 'mlogloss',\n",
    "            early_stopping_rounds=100,\n",
    "            verbose=100\n",
    "           )\n",
    "\n",
    "    oof_xgb[val_idx] = clf.predict_proba(X_valid, ntree_limit=clf.best_iteration)    \n",
    "    xgb_pred += clf.predict_proba(test, ntree_limit=clf.best_iteration)\n",
    "\n",
    "xgb_pred /= 5  \n",
    "print(f'\\nSEED: {seed}, Cross Validation Is Complete')                           \n",
    "print(\"CV score: {:<8.5f}\".format(log_loss(TARGET, oof_xgb)))"
   ]
  },
  {
   "cell_type": "code",
   "execution_count": 51,
   "metadata": {
    "ExecuteTime": {
     "end_time": "2021-05-06T19:01:19.560279Z",
     "start_time": "2021-05-06T19:00:59.832116Z"
    },
    "scrolled": false
   },
   "outputs": [
    {
     "data": {
      "application/vnd.jupyter.widget-view+json": {
       "model_id": "31b6ecad467d4fafbec2ab2d8164a484",
       "version_major": 2,
       "version_minor": 0
      },
      "text/plain": [
       "HBox(children=(FloatProgress(value=0.0, max=3.0), HTML(value='')))"
      ]
     },
     "metadata": {},
     "output_type": "display_data"
    },
    {
     "name": "stdout",
     "output_type": "stream",
     "text": [
      "\n",
      "fold num_: 0\n",
      "[0]\tvalidation_0-mlogloss:1.07328\tvalidation_1-mlogloss:1.07578\n",
      "[100]\tvalidation_0-mlogloss:0.58383\tvalidation_1-mlogloss:0.75005\n",
      "[200]\tvalidation_0-mlogloss:0.45287\tvalidation_1-mlogloss:0.72843\n",
      "[300]\tvalidation_0-mlogloss:0.36219\tvalidation_1-mlogloss:0.72591\n",
      "[366]\tvalidation_0-mlogloss:0.31311\tvalidation_1-mlogloss:0.73158\n",
      "\n"
     ]
    },
    {
     "ename": "NameError",
     "evalue": "name 'oof_xgb' is not defined",
     "output_type": "error",
     "traceback": [
      "\u001b[0;31m---------------------------------------------------------------------------\u001b[0m",
      "\u001b[0;31mNameError\u001b[0m                                 Traceback (most recent call last)",
      "\u001b[0;32m<ipython-input-51-66dffcd3746f>\u001b[0m in \u001b[0;36m<module>\u001b[0;34m()\u001b[0m\n\u001b[1;32m     27\u001b[0m                )\n\u001b[1;32m     28\u001b[0m \u001b[0;34m\u001b[0m\u001b[0m\n\u001b[0;32m---> 29\u001b[0;31m         \u001b[0moof_xgb\u001b[0m\u001b[0;34m[\u001b[0m\u001b[0mval_idx\u001b[0m\u001b[0;34m]\u001b[0m \u001b[0;34m=\u001b[0m \u001b[0mclf\u001b[0m\u001b[0;34m.\u001b[0m\u001b[0mpredict_proba\u001b[0m\u001b[0;34m(\u001b[0m\u001b[0mX_valid\u001b[0m\u001b[0;34m,\u001b[0m \u001b[0mntree_limit\u001b[0m\u001b[0;34m=\u001b[0m\u001b[0mclf\u001b[0m\u001b[0;34m.\u001b[0m\u001b[0mbest_iteration\u001b[0m\u001b[0;34m)\u001b[0m\u001b[0;34m\u001b[0m\u001b[0;34m\u001b[0m\u001b[0m\n\u001b[0m\u001b[1;32m     30\u001b[0m         \u001b[0mxgb_pred\u001b[0m \u001b[0;34m+=\u001b[0m \u001b[0mclf\u001b[0m\u001b[0;34m.\u001b[0m\u001b[0mpredict_proba\u001b[0m\u001b[0;34m(\u001b[0m\u001b[0mtest\u001b[0m\u001b[0;34m,\u001b[0m \u001b[0mntree_limit\u001b[0m\u001b[0;34m=\u001b[0m\u001b[0mclf\u001b[0m\u001b[0;34m.\u001b[0m\u001b[0mbest_iteration\u001b[0m\u001b[0;34m)\u001b[0m\u001b[0;34m\u001b[0m\u001b[0;34m\u001b[0m\u001b[0m\n\u001b[1;32m     31\u001b[0m \u001b[0;34m\u001b[0m\u001b[0m\n",
      "\u001b[0;31mNameError\u001b[0m: name 'oof_xgb' is not defined"
     ]
    }
   ],
   "source": [
    "# cv_list = []\n",
    "\n",
    "# xgb_final_oof_train = np.zeros((len(train), 3))\n",
    "# xgb_final_oof_test = np.zeros((len(test), 3))\n",
    "\n",
    "# n_seeds = 3\n",
    "\n",
    "# for _ in tqdm(range(n_seeds) ):\n",
    "#     seed = np.random.randint(10000)\n",
    "\n",
    "#     oof_xgb = np.zeros((len(train), 3))\n",
    "#     xgb_pred = np.zeros((len(test), 3))\n",
    "    \n",
    "#     skf = StratifiedKFold(n_splits=5, shuffle=True, random_state=seed)\n",
    "    \n",
    "#     for fold_, (trn_idx, val_idx) in enumerate(skf.split(train, TARGET)):\n",
    "#         print(\"\\nfold num_: {}\".format(fold_))\n",
    "#         y_train, y_valid = TARGET[trn_idx], TARGET[val_idx]\n",
    "#         X_train, X_valid = train.iloc[trn_idx], train.iloc[val_idx]\n",
    "\n",
    "#         clf = XGBClassifier(**xgb_params)\n",
    "#         clf.fit(X_train, y_train, \n",
    "#                 eval_set=[(X_train, y_train), (X_valid, y_valid)], \n",
    "#                 eval_metric= 'mlogloss',\n",
    "#                 early_stopping_rounds=100,\n",
    "#                 verbose=100\n",
    "#                )\n",
    "\n",
    "#         oof_xgb[val_idx] = clf.predict_proba(X_valid, ntree_limit=clf.best_iteration)    \n",
    "#         xgb_pred += clf.predict_proba(test, ntree_limit=clf.best_iteration)\n",
    "    \n",
    "#     xgb_pred /= 5  \n",
    "#     xgb_final_oof_train += oof_xgb\n",
    "#     xgb_final_oof_test += xgb_pred\n",
    "#     cv_list.append(log_loss(TARGET, oof_xgb))\n",
    "#     print(f'\\nSEED: {seed}, Cross Validation Is Complete')                           \n",
    "#     print(\"CV score: {:<8.5f}\".format(log_loss(TARGET, oof_xgb)))\n",
    "                   \n",
    "# xgb_final_oof_train /= n_seeds\n",
    "# xgb_final_oof_test /= n_seeds\n",
    "\n",
    "\n",
    "# print('\\nEnsemble Is Complete')                           \n",
    "# print(\"CV score: {:<8.5f}\".format(log_loss(TARGET, xgb_final_oof_train)))"
   ]
  },
  {
   "cell_type": "code",
   "execution_count": 110,
   "metadata": {
    "ExecuteTime": {
     "end_time": "2021-04-13T19:41:34.138764Z",
     "start_time": "2021-04-13T19:41:34.124314Z"
    }
   },
   "outputs": [
    {
     "name": "stdout",
     "output_type": "stream",
     "text": [
      "CV score: 0.70573 \n"
     ]
    }
   ],
   "source": [
    "print(\"CV score: {:<8.5f}\".format(log_loss(train[TARGET], xgb_final_oof_train)))"
   ]
  },
  {
   "cell_type": "code",
   "execution_count": 105,
   "metadata": {
    "ExecuteTime": {
     "end_time": "2021-04-13T19:28:30.536274Z",
     "start_time": "2021-04-13T19:28:30.531822Z"
    },
    "scrolled": false
   },
   "outputs": [],
   "source": [
    "# oof_xgb = np.zeros((len(train),3))\n",
    "# xgb_pred = np.zeros((len(test),3))\n",
    "\n",
    "# skf = StratifiedKFold(n_splits=5, shuffle=True, random_state=55)\n",
    "\n",
    "# for fold_, (trn_idx, val_idx) in enumerate(skf.split(train, train['credit'])):\n",
    "#     print(\"\\nfold num_: {}\".format(fold_))\n",
    "#     y_train, y_valid = train.iloc[trn_idx][TARGET], train.iloc[val_idx][TARGET]\n",
    "#     X_train, X_valid = train.iloc[trn_idx][FEATURES], train.iloc[val_idx][FEATURES]\n",
    "    \n",
    "#     clf = XGBClassifier(**xgb_params)\n",
    "#     clf.fit(X_train, y_train, \n",
    "#             eval_set=[(X_train, y_train), (X_valid, y_valid)], \n",
    "#             eval_metric= 'mlogloss',\n",
    "#             early_stopping_rounds=100,\n",
    "#             verbose=100\n",
    "#            )\n",
    "    \n",
    "#     oof_xgb[val_idx] = clf.predict_proba(X_valid, ntree_limit=clf.best_iteration)    \n",
    "#     xgb_pred += clf.predict_proba(test[FEATURES], ntree_limit=clf.best_iteration)\n",
    "\n",
    "# xgb_pred /= 5    \n",
    "# print('\\nCross Validation Is Complete')                           \n",
    "# print(\"CV score: {:<8.5f}\".format(log_loss(train[TARGET], oof_xgb)))"
   ]
  },
  {
   "cell_type": "code",
   "execution_count": 214,
   "metadata": {
    "ExecuteTime": {
     "end_time": "2021-04-13T05:24:51.699347Z",
     "start_time": "2021-04-13T05:24:49.333769Z"
    }
   },
   "outputs": [
    {
     "data": {
      "text/plain": [
       "array([0.0165083 , 0.01918124, 0.01560014, 0.01608433, 0.0209005 ,\n",
       "       0.02117451, 0.        , 0.01581427, 0.01486951, 0.01643497,\n",
       "       0.01649488, 0.03054534, 0.01745131, 0.01664204, 0.01532006,\n",
       "       0.01546978, 0.01579339, 0.01537528, 0.0154077 , 0.01529752,\n",
       "       0.01832022, 0.01595206, 0.01732962, 0.01648411, 0.01851191,\n",
       "       0.02040002, 0.01650986, 0.02057905, 0.01862492, 0.02084663,\n",
       "       0.01714407, 0.01872227, 0.01814236, 0.0190292 , 0.01689574,\n",
       "       0.01896947, 0.02003352, 0.01722784, 0.01726484, 0.01616623,\n",
       "       0.01810108, 0.01699464, 0.0179424 , 0.01673357, 0.02029702,\n",
       "       0.02187584, 0.01808022, 0.02316559, 0.02020494, 0.030773  ,\n",
       "       0.01642661, 0.01797531, 0.01617133, 0.01806406, 0.01775138,\n",
       "       0.01592396], dtype=float32)"
      ]
     },
     "execution_count": 214,
     "metadata": {},
     "output_type": "execute_result"
    }
   ],
   "source": [
    "clf.feature_importances_"
   ]
  },
  {
   "cell_type": "code",
   "execution_count": null,
   "metadata": {},
   "outputs": [],
   "source": []
  },
  {
   "cell_type": "code",
   "execution_count": 215,
   "metadata": {
    "ExecuteTime": {
     "end_time": "2021-04-13T05:25:11.551641Z",
     "start_time": "2021-04-13T05:25:08.975970Z"
    }
   },
   "outputs": [
    {
     "data": {
      "image/png": "[encoded data removed]",
      "text/plain": [
       "<Figure size 720x432 with 1 Axes>"
      ]
     },
     "metadata": {
      "needs_background": "light"
     },
     "output_type": "display_data"
    }
   ],
   "source": [
    "feature_importance = pd.DataFrame({'feature':FEATURES, 'importance':clf.feature_importances_})\n",
    "\n",
    "plt.figure(figsize=(10,6))\n",
    "sns.barplot(x='importance', \n",
    "            y='feature', \n",
    "            data=feature_importance.sort_values(by=\"importance\", ascending=False).reset_index()[:20])\n",
    "\n",
    "plt.title('TOP 10 Feature Importances over 5 Folds Average')\n",
    "plt.tight_layout()"
   ]
  },
  {
   "cell_type": "code",
   "execution_count": 212,
   "metadata": {
    "ExecuteTime": {
     "end_time": "2021-04-13T05:24:01.576628Z",
     "start_time": "2021-04-13T05:24:01.522186Z"
    }
   },
   "outputs": [],
   "source": [
    "submit = pd.read_csv('./open/sample_submission.csv')\n",
    "\n",
    "submit.iloc[:, 1:] = (lgb_pred+xgb_pred)/2\n",
    "submit.to_csv('./0413_2_ensemble.csv', index=False)"
   ]
  },
  {
   "cell_type": "code",
   "execution_count": 111,
   "metadata": {
    "ExecuteTime": {
     "end_time": "2021-04-13T19:41:57.293455Z",
     "start_time": "2021-04-13T19:41:57.233592Z"
    }
   },
   "outputs": [],
   "source": [
    "submit = pd.read_csv('./open/sample_submission.csv')\n",
    "\n",
    "submit.iloc[:, 1:] = (xgb_final_oof_test)\n",
    "submit.to_csv('./0414_xgb_pred.csv', index=False)"
   ]
  },
  {
   "cell_type": "code",
   "execution_count": 112,
   "metadata": {
    "ExecuteTime": {
     "end_time": "2021-04-13T19:41:58.031938Z",
     "start_time": "2021-04-13T19:41:58.019027Z"
    }
   },
   "outputs": [
    {
     "data": {
      "text/html": [
       "<div>\n",
       "<style scoped>\n",
       "    .dataframe tbody tr th:only-of-type {\n",
       "        vertical-align: middle;\n",
       "    }\n",
       "\n",
       "    .dataframe tbody tr th {\n",
       "        vertical-align: top;\n",
       "    }\n",
       "\n",
       "    .dataframe thead th {\n",
       "        text-align: right;\n",
       "    }\n",
       "</style>\n",
       "<table border=\"1\" class=\"dataframe\">\n",
       "  <thead>\n",
       "    <tr style=\"text-align: right;\">\n",
       "      <th></th>\n",
       "      <th>index</th>\n",
       "      <th>0</th>\n",
       "      <th>1</th>\n",
       "      <th>2</th>\n",
       "    </tr>\n",
       "  </thead>\n",
       "  <tbody>\n",
       "    <tr>\n",
       "      <th>0</th>\n",
       "      <td>26457</td>\n",
       "      <td>0.053051</td>\n",
       "      <td>0.078562</td>\n",
       "      <td>0.868387</td>\n",
       "    </tr>\n",
       "    <tr>\n",
       "      <th>1</th>\n",
       "      <td>26458</td>\n",
       "      <td>0.220986</td>\n",
       "      <td>0.217915</td>\n",
       "      <td>0.561100</td>\n",
       "    </tr>\n",
       "    <tr>\n",
       "      <th>2</th>\n",
       "      <td>26459</td>\n",
       "      <td>0.040278</td>\n",
       "      <td>0.082406</td>\n",
       "      <td>0.877316</td>\n",
       "    </tr>\n",
       "    <tr>\n",
       "      <th>3</th>\n",
       "      <td>26460</td>\n",
       "      <td>0.134527</td>\n",
       "      <td>0.126587</td>\n",
       "      <td>0.738885</td>\n",
       "    </tr>\n",
       "    <tr>\n",
       "      <th>4</th>\n",
       "      <td>26461</td>\n",
       "      <td>0.067004</td>\n",
       "      <td>0.158697</td>\n",
       "      <td>0.774299</td>\n",
       "    </tr>\n",
       "    <tr>\n",
       "      <th>...</th>\n",
       "      <td>...</td>\n",
       "      <td>...</td>\n",
       "      <td>...</td>\n",
       "      <td>...</td>\n",
       "    </tr>\n",
       "    <tr>\n",
       "      <th>9995</th>\n",
       "      <td>36452</td>\n",
       "      <td>0.118967</td>\n",
       "      <td>0.239116</td>\n",
       "      <td>0.641917</td>\n",
       "    </tr>\n",
       "    <tr>\n",
       "      <th>9996</th>\n",
       "      <td>36453</td>\n",
       "      <td>0.204041</td>\n",
       "      <td>0.318282</td>\n",
       "      <td>0.477677</td>\n",
       "    </tr>\n",
       "    <tr>\n",
       "      <th>9997</th>\n",
       "      <td>36454</td>\n",
       "      <td>0.019155</td>\n",
       "      <td>0.057008</td>\n",
       "      <td>0.923837</td>\n",
       "    </tr>\n",
       "    <tr>\n",
       "      <th>9998</th>\n",
       "      <td>36455</td>\n",
       "      <td>0.108617</td>\n",
       "      <td>0.222395</td>\n",
       "      <td>0.668988</td>\n",
       "    </tr>\n",
       "    <tr>\n",
       "      <th>9999</th>\n",
       "      <td>36456</td>\n",
       "      <td>0.078560</td>\n",
       "      <td>0.218368</td>\n",
       "      <td>0.703071</td>\n",
       "    </tr>\n",
       "  </tbody>\n",
       "</table>\n",
       "<p>10000 rows × 4 columns</p>\n",
       "</div>"
      ],
      "text/plain": [
       "      index         0         1         2\n",
       "0     26457  0.053051  0.078562  0.868387\n",
       "1     26458  0.220986  0.217915  0.561100\n",
       "2     26459  0.040278  0.082406  0.877316\n",
       "3     26460  0.134527  0.126587  0.738885\n",
       "4     26461  0.067004  0.158697  0.774299\n",
       "...     ...       ...       ...       ...\n",
       "9995  36452  0.118967  0.239116  0.641917\n",
       "9996  36453  0.204041  0.318282  0.477677\n",
       "9997  36454  0.019155  0.057008  0.923837\n",
       "9998  36455  0.108617  0.222395  0.668988\n",
       "9999  36456  0.078560  0.218368  0.703071\n",
       "\n",
       "[10000 rows x 4 columns]"
      ]
     },
     "execution_count": 112,
     "metadata": {},
     "output_type": "execute_result"
    }
   ],
   "source": [
    "submit"
   ]
  },
  {
   "cell_type": "code",
   "execution_count": null,
   "metadata": {},
   "outputs": [],
   "source": []
  }
 ],
 "metadata": {
  "kernelspec": {
   "display_name": "ML_Server",
   "language": "python",
   "name": "ml_server"
  },
  "language_info": {
   "codemirror_mode": {
    "name": "ipython",
    "version": 3
   },
   "file_extension": ".py",
   "mimetype": "text/x-python",
   "name": "python",
   "nbconvert_exporter": "python",
   "pygments_lexer": "ipython3",
   "version": "3.7.9"
  },
  "latex_envs": {
   "LaTeX_envs_menu_present": true,
   "autoclose": false,
   "autocomplete": true,
   "bibliofile": "biblio.bib",
   "cite_by": "apalike",
   "current_citInitial": 1,
   "eqLabelWithNumbers": true,
   "eqNumInitial": 1,
   "hotkeys": {
    "equation": "Ctrl-E",
    "itemize": "Ctrl-I"
   },
   "labels_anchors": false,
   "latex_user_defs": false,
   "report_style_numbering": false,
   "user_envs_cfg": false
  },
  "toc": {
   "base_numbering": 1,
   "nav_menu": {},
   "number_sections": true,
   "sideBar": true,
   "skip_h1_title": false,
   "title_cell": "Table of Contents",
   "title_sidebar": "Contents",
   "toc_cell": false,
   "toc_position": {},
   "toc_section_display": true,
   "toc_window_display": false
  }
 },
 "nbformat": 4,
 "nbformat_minor": 4
}
