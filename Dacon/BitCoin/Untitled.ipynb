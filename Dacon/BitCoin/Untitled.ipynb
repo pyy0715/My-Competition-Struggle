{
 "cells": [
  {
   "cell_type": "code",
   "execution_count": 1,
   "metadata": {
    "ExecuteTime": {
     "end_time": "2021-03-19T18:51:31.909495Z",
     "start_time": "2021-03-19T18:51:30.850768Z"
    }
   },
   "outputs": [],
   "source": [
    "import os\n",
    "import pandas as pd\n",
    "import numpy as np \n",
    "\n",
    "import torch\n",
    "from torch import nn as nn\n",
    "from torch.nn import functional as F\n",
    "from torch.utils.data import Subset,Dataset, DataLoader, random_split\n",
    "\n",
    "import pytorch_lightning as pl \n",
    "from pytorch_lightning import seed_everything\n",
    "from pytorch_lightning.callbacks import ModelCheckpoint\n",
    "from pytorch_lightning.callbacks.early_stopping import EarlyStopping\n",
    "from pytorch_lightning.callbacks import Callback\n",
    "\n",
    "from pytorch_forecasting.metrics import SMAPE"
   ]
  },
  {
   "cell_type": "code",
   "execution_count": 2,
   "metadata": {
    "ExecuteTime": {
     "end_time": "2021-03-19T18:51:42.599693Z",
     "start_time": "2021-03-19T18:51:31.910607Z"
    }
   },
   "outputs": [],
   "source": [
    "train_x = pd.read_csv('./Datasets/train_x_df.csv')\n",
    "train_y = pd.read_csv('./Datasets/train_y_df.csv')\n",
    "\n",
    "test_x = pd.read_csv('./Datasets/test_x_df.csv')"
   ]
  },
  {
   "cell_type": "code",
   "execution_count": 34,
   "metadata": {
    "ExecuteTime": {
     "end_time": "2021-03-19T18:07:23.961176Z",
     "start_time": "2021-03-19T18:07:23.737813Z"
    }
   },
   "outputs": [
    {
     "name": "stdout",
     "output_type": "stream",
     "text": [
      "7362\n",
      "1380\n",
      "10\n"
     ]
    }
   ],
   "source": [
    "print(train_x['sample_id'].nunique())\n",
    "print(train_x['time'].nunique())\n",
    "print(train_x['coin_index'].nunique())"
   ]
  },
  {
   "cell_type": "code",
   "execution_count": null,
   "metadata": {},
   "outputs": [],
   "source": []
  },
  {
   "cell_type": "code",
   "execution_count": 6,
   "metadata": {
    "ExecuteTime": {
     "end_time": "2021-03-19T18:52:17.585655Z",
     "start_time": "2021-03-19T18:52:17.580412Z"
    }
   },
   "outputs": [],
   "source": [
    "class Encoder(pl.LightningModule):\n",
    "    def __init__(self, input_size, hidden_size, n_layers, dropout_p):\n",
    "        super(Encoder, self).__init__()     \n",
    "        self.rnn = nn.GRU(input_size = input_size, \n",
    "                          hidden_size = hidden_size, \n",
    "                          num_layers = n_layers, \n",
    "                          batch_first = True, \n",
    "                          dropout = dropout_p)\n",
    "        self.hidden_size = hidden_size\n",
    "        self.n_layers = n_layers\n",
    "        \n",
    "    def _init_state(self, batch_size=1):\n",
    "        weight = next(self.parameters()).data\n",
    "        return weight.new(self.n_layers, batch_size, self.hidden_size).zero_()\n",
    "\n",
    "    def forward(self, x):\n",
    "        h_0 = self._init_state(batch_size=x.size(0))\n",
    "        output, hidden = self.rnn(x, h_0)\n",
    "        return output, hidden"
   ]
  },
  {
   "cell_type": "code",
   "execution_count": 7,
   "metadata": {
    "ExecuteTime": {
     "end_time": "2021-03-19T18:52:17.775302Z",
     "start_time": "2021-03-19T18:52:17.771204Z"
    }
   },
   "outputs": [],
   "source": [
    "class Decoder(pl.LightningModule):\n",
    "    def __init__(self, hidden_size, target_size):\n",
    "        super(Decoder, self).__init__()\n",
    "        self.out = nn.Linear(hidden_size, target_size)\n",
    "\n",
    "    def forward(self, enc_output):\n",
    "        output = enc_output[:, -1, :]\n",
    "        pred = self.out(output)\n",
    "        pred = pred.squeeze()\n",
    "        return pred"
   ]
  },
  {
   "cell_type": "code",
   "execution_count": null,
   "metadata": {},
   "outputs": [],
   "source": []
  },
  {
   "cell_type": "code",
   "execution_count": 8,
   "metadata": {
    "ExecuteTime": {
     "end_time": "2021-03-19T18:52:18.378094Z",
     "start_time": "2021-03-19T18:52:18.367033Z"
    }
   },
   "outputs": [],
   "source": [
    "class Seq2seqLightningModule(pl.LightningModule):\n",
    "    def __init__(self, hparams):\n",
    "        super(Seq2seqLightningModule, self).__init__()\n",
    "        self.hparams = hparams\n",
    "        self.id_emb = nn.Embedding(self.hparams.n_id+1, self.hparams.embed_size)\n",
    "        self.time_emb = nn.Embedding(self.hparams.n_time+1, self.hparams.embed_size)\n",
    "        self.sec_emb = nn.Embedding(self.hparams.n_sec+1, self.hparams.embed_size)\n",
    "        self.coin_emb = nn.Embedding(self.hparams.n_coin+1, self.hparams.embed_size)\n",
    "        \n",
    "        self.encoder = Encoder(self.hparams.input_size, self.hparams.hidden_size, self.hparams.n_layers, self.hparams.dropout_p)\n",
    "        self.decoder = Decoder(self.hparams.hidden_size, self.hparams.target_size)\n",
    "\n",
    "        self.layer_norm = nn.LayerNorm(self.hparams.input_size)\n",
    "        \n",
    "    def forward(self, x_id, x_time, x_sec, x_coin, x_values):\n",
    "        embed_x = self.id_emb(x_id) + self.time_emb(x_time) + self.coin_emb(x_coin) + self.sec_emb(x_sec) # [batch_size, input_dim, embed_size]\n",
    "        embed_x = torch.mean(embed_x, axis=-1) # [batch_size, input_dim]\n",
    "        x = embed_x + x_values\n",
    "        \n",
    "        x = self.layer_norm(x)\n",
    "        \n",
    "        enc_output, _ = self.encoder(x.unsqueeze(1))\n",
    "        pred = self.decoder(enc_output)\n",
    "        return pred\n",
    "\n",
    "\n",
    "    def training_step(self, batch, batch_idx):\n",
    "        x_id, x_time, x_coin, x_sec = batch['id'], batch['time'], batch['coin'], batch['sec_10']\n",
    "        x_values = batch['open_val']\n",
    "        y = batch['labels']\n",
    "        y_hat = self(x_id, x_time, x_sec, x_coin, x_values)\n",
    "        loss = F.mse_loss(y_hat, y)\n",
    "        self.log('trn_loss', loss, on_step=True)\n",
    "        return loss\n",
    "\n",
    "    def validation_step(self, batch, batch_idx):\n",
    "        x_id, x_time, x_coin, x_sec = batch['id'], batch['time'], batch['coin'], batch['sec_10']\n",
    "        x_values = batch['open_val']\n",
    "        y = batch['labels']\n",
    "        y_hat = self(x_id, x_time, x_sec, x_coin, x_values)\n",
    "        loss = F.mse_loss(y_hat, y)\n",
    "        self.log('val_loss', loss, on_step=True)\n",
    "\n",
    "    def configure_optimizers(self):\n",
    "        optimizer = torch.optim.AdamW(self.parameters(), lr=1e-3)\n",
    "        return optimizer"
   ]
  },
  {
   "cell_type": "code",
   "execution_count": 28,
   "metadata": {
    "ExecuteTime": {
     "end_time": "2021-03-19T18:03:10.640553Z",
     "start_time": "2021-03-19T18:03:10.638184Z"
    }
   },
   "outputs": [],
   "source": [
    "n_id = 7362\n",
    "n_time = 1380+119\n",
    "n_coin = 10\n",
    "n_sec = 138+11"
   ]
  },
  {
   "cell_type": "code",
   "execution_count": 29,
   "metadata": {
    "ExecuteTime": {
     "end_time": "2021-03-19T18:03:10.903072Z",
     "start_time": "2021-03-19T18:03:10.900251Z"
    }
   },
   "outputs": [],
   "source": [
    "import easydict \n",
    "\n",
    "h_params = easydict.EasyDict({'n_id': n_id,\n",
    "                              'n_time': n_time,\n",
    "                              'n_sec': n_sec,\n",
    "                              'n_coin': n_coin,\n",
    "                              'input_size': 5,\n",
    "                              'embed_size': 32,\n",
    "                              'hidden_size': 64,\n",
    "                              'target_size': 1,\n",
    "                              'n_layers': 2,\n",
    "                              'dropout_p': 0.2\n",
    "                             })"
   ]
  },
  {
   "cell_type": "code",
   "execution_count": 30,
   "metadata": {
    "ExecuteTime": {
     "end_time": "2021-03-19T18:03:11.146483Z",
     "start_time": "2021-03-19T18:03:11.140134Z"
    }
   },
   "outputs": [],
   "source": [
    "model = Seq2seqLightningModule(h_params)"
   ]
  },
  {
   "cell_type": "code",
   "execution_count": null,
   "metadata": {},
   "outputs": [],
   "source": []
  },
  {
   "cell_type": "code",
   "execution_count": null,
   "metadata": {},
   "outputs": [],
   "source": []
  },
  {
   "cell_type": "code",
   "execution_count": null,
   "metadata": {},
   "outputs": [],
   "source": []
  },
  {
   "cell_type": "code",
   "execution_count": 42,
   "metadata": {
    "ExecuteTime": {
     "end_time": "2021-03-19T18:18:20.212839Z",
     "start_time": "2021-03-19T18:18:20.206252Z"
    }
   },
   "outputs": [],
   "source": [
    "class BitcoinDataset(Dataset):\n",
    "    def __init__(self, df, ws):\n",
    "        self.df = df\n",
    "        self.ws = ws\n",
    "        \n",
    "    def __len__(self):\n",
    "        return len(self.df)\n",
    "    \n",
    "    def __getitem__(self, index):\n",
    "        start_idx = index\n",
    "        end_idx = index+self.ws\n",
    "        \n",
    "        sample_id = self.df.iloc[start_idx:end_idx, 0].values\n",
    "        time = self.df.iloc[start_idx:end_idx, 1].values\n",
    "        coin = self.df.iloc[start_idx:end_idx, 2].values\n",
    "        open_val = self.df.iloc[start_idx:end_idx, 3].values\n",
    "        sec_10 = self.df.iloc[start_idx:end_idx, -1].values\n",
    "        \n",
    "        labels = self.df.iloc[end_idx, 3]\n",
    "        return {\n",
    "            'id': torch.tensor(sample_id, dtype=torch.long),\n",
    "            'time': torch.tensor(time, dtype=torch.long),\n",
    "            'sec_10': torch.tensor(sec_10, dtype=torch.long),\n",
    "            'coin': torch.tensor(coin, dtype=torch.long),\n",
    "            'open_val': torch.tensor(open_val, dtype=torch.float32),\n",
    "            'labels': torch.tensor(labels, dtype=torch.float32)\n",
    "        }"
   ]
  },
  {
   "cell_type": "code",
   "execution_count": 11,
   "metadata": {
    "ExecuteTime": {
     "end_time": "2021-03-19T07:04:52.776421Z",
     "start_time": "2021-03-19T07:04:52.769793Z"
    }
   },
   "outputs": [],
   "source": [
    "class BitcoinDataModule(pl.LightningDataModule):\n",
    "    def __init__(self, window_size, batch_size):\n",
    "        super().__init__()\n",
    "        self.ws = window_size\n",
    "        self.batch_size = batch_size\n",
    "        \n",
    "    def setup(self,stage=None):\n",
    "        train_x = pd.read_csv('./Datasets/train_x_df.csv')\n",
    "        train_y = pd.read_csv('./Datasets/train_y_df.csv')\n",
    "        train_y['time']+=1380\n",
    "    \n",
    "        train = pd.concat([train_x, train_y], axis=0)\n",
    "        train = train.sort_values(by=['sample_id', 'time'])\n",
    "        train['sec_10'] = train['time'].apply(lambda x: x//10)\n",
    "        \n",
    "        trn_subset_idx = train.loc[train['time']<=1439].index # 0~24hour\n",
    "        val_subset_idx = train.loc[(train['time']>1439) & (train['time']<1500-self.ws)].index #25hour\n",
    "        \n",
    "        dataset=BitcoinDataset(train, ws=self.ws)\n",
    "        \n",
    "        self.train_dataset = Subset(dataset, trn_subset_idx)\n",
    "        self.valid_dataset = Subset(dataset, val_subset_idx)\n",
    "        \n",
    "    def train_dataloader(self):\n",
    "        return DataLoader(self.train_dataset,\n",
    "                          batch_size=self.batch_size,\n",
    "                          num_workers=4)\n",
    "    \n",
    "    def val_dataloader(self):\n",
    "        return DataLoader(self.valid_dataset,\n",
    "                          batch_size=self.batch_size,\n",
    "                          num_workers=4)"
   ]
  },
  {
   "cell_type": "code",
   "execution_count": 12,
   "metadata": {
    "ExecuteTime": {
     "end_time": "2021-03-19T07:04:52.783377Z",
     "start_time": "2021-03-19T07:04:52.777259Z"
    }
   },
   "outputs": [],
   "source": [
    "bitcoin_dm = BitcoinDataModule(5, 2048)"
   ]
  },
  {
   "cell_type": "code",
   "execution_count": 13,
   "metadata": {
    "ExecuteTime": {
     "end_time": "2021-03-19T07:05:07.507716Z",
     "start_time": "2021-03-19T07:04:52.784773Z"
    }
   },
   "outputs": [],
   "source": [
    "bitcoin_dm.setup()"
   ]
  },
  {
   "cell_type": "code",
   "execution_count": 14,
   "metadata": {
    "ExecuteTime": {
     "end_time": "2021-03-19T07:05:07.517954Z",
     "start_time": "2021-03-19T07:05:07.509162Z"
    }
   },
   "outputs": [],
   "source": [
    "model_checkpoint = ModelCheckpoint(monitor = \"val_loss\",\n",
    "                                   verbose=True,\n",
    "                                   filename=\"{epoch}_{val_loss:.4f}\")\n",
    "\n",
    "early_stop_callback = EarlyStopping(monitor='val_loss', \n",
    "                                    patience=2, \n",
    "                                    verbose=True, \n",
    "                                    mode='min')"
   ]
  },
  {
   "cell_type": "code",
   "execution_count": 15,
   "metadata": {
    "ExecuteTime": {
     "end_time": "2021-03-19T07:05:07.570944Z",
     "start_time": "2021-03-19T07:05:07.519304Z"
    }
   },
   "outputs": [
    {
     "name": "stderr",
     "output_type": "stream",
     "text": [
      "Global seed set to 42\n"
     ]
    },
    {
     "data": {
      "text/plain": [
       "42"
      ]
     },
     "execution_count": 15,
     "metadata": {},
     "output_type": "execute_result"
    }
   ],
   "source": [
    "SEED = 42\n",
    "EPOCHS = 10\n",
    "device = \"cuda\" if torch.cuda.is_available() else \"cpu\"\n",
    "pl.seed_everything(SEED)"
   ]
  },
  {
   "cell_type": "code",
   "execution_count": 16,
   "metadata": {
    "ExecuteTime": {
     "end_time": "2021-03-19T07:05:07.576310Z",
     "start_time": "2021-03-19T07:05:07.572244Z"
    }
   },
   "outputs": [
    {
     "name": "stderr",
     "output_type": "stream",
     "text": [
      "GPU available: True, used: True\n",
      "TPU available: None, using: 0 TPU cores\n"
     ]
    }
   ],
   "source": [
    "trainer = pl.Trainer(gpus=1, \n",
    "                     max_epochs=EPOCHS,\n",
    "                     callbacks=[model_checkpoint, early_stop_callback]\n",
    "                    )"
   ]
  },
  {
   "cell_type": "code",
   "execution_count": 17,
   "metadata": {
    "ExecuteTime": {
     "end_time": "2021-03-19T10:04:59.773275Z",
     "start_time": "2021-03-19T07:05:07.577834Z"
    },
    "scrolled": false
   },
   "outputs": [
    {
     "name": "stderr",
     "output_type": "stream",
     "text": [
      "\n",
      "  | Name       | Type      | Params\n",
      "-----------------------------------------\n",
      "0 | id_emb     | Embedding | 235 K \n",
      "1 | time_emb   | Embedding | 48.0 K\n",
      "2 | sec_emb    | Embedding | 4.8 K \n",
      "3 | coin_emb   | Embedding | 352   \n",
      "4 | encoder    | Encoder   | 38.6 K\n",
      "5 | decoder    | Decoder   | 65    \n",
      "6 | layer_norm | LayerNorm | 10    \n",
      "-----------------------------------------\n",
      "327 K     Trainable params\n",
      "0         Non-trainable params\n",
      "327 K     Total params\n",
      "1.310     Total estimated model params size (MB)\n"
     ]
    },
    {
     "data": {
      "application/vnd.jupyter.widget-view+json": {
       "model_id": "",
       "version_major": 2,
       "version_minor": 0
      },
      "text/plain": [
       "Validation sanity check: 0it [00:00, ?it/s]"
      ]
     },
     "metadata": {},
     "output_type": "display_data"
    },
    {
     "data": {
      "application/vnd.jupyter.widget-view+json": {
       "model_id": "1f7b139c93074f1f8062d1b097aa4d29",
       "version_major": 2,
       "version_minor": 0
      },
      "text/plain": [
       "Training: 0it [00:00, ?it/s]"
      ]
     },
     "metadata": {},
     "output_type": "display_data"
    },
    {
     "data": {
      "application/vnd.jupyter.widget-view+json": {
       "model_id": "",
       "version_major": 2,
       "version_minor": 0
      },
      "text/plain": [
       "Validating: 0it [00:00, ?it/s]"
      ]
     },
     "metadata": {},
     "output_type": "display_data"
    },
    {
     "name": "stderr",
     "output_type": "stream",
     "text": [
      "Epoch 0, global step 5176: val_loss reached 0.00095 (best 0.00095), saving model to \"/home/yyeon/KeepGo/My-Competition-Struggle/Dacon/BitCoin/lightning_logs/version_20/checkpoints/epoch=0_val_loss=0.0010.ckpt\" as top 1\n"
     ]
    },
    {
     "data": {
      "application/vnd.jupyter.widget-view+json": {
       "model_id": "",
       "version_major": 2,
       "version_minor": 0
      },
      "text/plain": [
       "Validating: 0it [00:00, ?it/s]"
      ]
     },
     "metadata": {},
     "output_type": "display_data"
    },
    {
     "name": "stderr",
     "output_type": "stream",
     "text": [
      "Epoch 1, global step 10353: val_loss reached 0.00074 (best 0.00074), saving model to \"/home/yyeon/KeepGo/My-Competition-Struggle/Dacon/BitCoin/lightning_logs/version_20/checkpoints/epoch=1_val_loss=0.0007.ckpt\" as top 1\n"
     ]
    },
    {
     "data": {
      "application/vnd.jupyter.widget-view+json": {
       "model_id": "",
       "version_major": 2,
       "version_minor": 0
      },
      "text/plain": [
       "Validating: 0it [00:00, ?it/s]"
      ]
     },
     "metadata": {},
     "output_type": "display_data"
    },
    {
     "name": "stderr",
     "output_type": "stream",
     "text": [
      "Epoch 2, step 15530: val_loss was not in top 1\n"
     ]
    },
    {
     "data": {
      "application/vnd.jupyter.widget-view+json": {
       "model_id": "",
       "version_major": 2,
       "version_minor": 0
      },
      "text/plain": [
       "Validating: 0it [00:00, ?it/s]"
      ]
     },
     "metadata": {},
     "output_type": "display_data"
    },
    {
     "name": "stderr",
     "output_type": "stream",
     "text": [
      "Epoch 3, global step 20707: val_loss reached 0.00074 (best 0.00074), saving model to \"/home/yyeon/KeepGo/My-Competition-Struggle/Dacon/BitCoin/lightning_logs/version_20/checkpoints/epoch=3_val_loss=0.0007.ckpt\" as top 1\n"
     ]
    },
    {
     "data": {
      "application/vnd.jupyter.widget-view+json": {
       "model_id": "",
       "version_major": 2,
       "version_minor": 0
      },
      "text/plain": [
       "Validating: 0it [00:00, ?it/s]"
      ]
     },
     "metadata": {},
     "output_type": "display_data"
    },
    {
     "name": "stderr",
     "output_type": "stream",
     "text": [
      "Epoch 4, global step 25884: val_loss reached 0.00073 (best 0.00073), saving model to \"/home/yyeon/KeepGo/My-Competition-Struggle/Dacon/BitCoin/lightning_logs/version_20/checkpoints/epoch=4_val_loss=0.0007.ckpt\" as top 1\n"
     ]
    },
    {
     "data": {
      "application/vnd.jupyter.widget-view+json": {
       "model_id": "",
       "version_major": 2,
       "version_minor": 0
      },
      "text/plain": [
       "Validating: 0it [00:00, ?it/s]"
      ]
     },
     "metadata": {},
     "output_type": "display_data"
    },
    {
     "name": "stderr",
     "output_type": "stream",
     "text": [
      "Epoch 5, global step 31061: val_loss reached 0.00072 (best 0.00072), saving model to \"/home/yyeon/KeepGo/My-Competition-Struggle/Dacon/BitCoin/lightning_logs/version_20/checkpoints/epoch=5_val_loss=0.0007.ckpt\" as top 1\n"
     ]
    },
    {
     "data": {
      "application/vnd.jupyter.widget-view+json": {
       "model_id": "",
       "version_major": 2,
       "version_minor": 0
      },
      "text/plain": [
       "Validating: 0it [00:00, ?it/s]"
      ]
     },
     "metadata": {},
     "output_type": "display_data"
    },
    {
     "name": "stderr",
     "output_type": "stream",
     "text": [
      "Epoch 6, global step 36238: val_loss reached 0.00071 (best 0.00071), saving model to \"/home/yyeon/KeepGo/My-Competition-Struggle/Dacon/BitCoin/lightning_logs/version_20/checkpoints/epoch=6_val_loss=0.0007.ckpt\" as top 1\n"
     ]
    },
    {
     "data": {
      "application/vnd.jupyter.widget-view+json": {
       "model_id": "",
       "version_major": 2,
       "version_minor": 0
      },
      "text/plain": [
       "Validating: 0it [00:00, ?it/s]"
      ]
     },
     "metadata": {},
     "output_type": "display_data"
    },
    {
     "name": "stderr",
     "output_type": "stream",
     "text": [
      "Epoch 7, global step 41415: val_loss reached 0.00070 (best 0.00070), saving model to \"/home/yyeon/KeepGo/My-Competition-Struggle/Dacon/BitCoin/lightning_logs/version_20/checkpoints/epoch=7_val_loss=0.0007.ckpt\" as top 1\n"
     ]
    },
    {
     "data": {
      "application/vnd.jupyter.widget-view+json": {
       "model_id": "",
       "version_major": 2,
       "version_minor": 0
      },
      "text/plain": [
       "Validating: 0it [00:00, ?it/s]"
      ]
     },
     "metadata": {},
     "output_type": "display_data"
    },
    {
     "name": "stderr",
     "output_type": "stream",
     "text": [
      "Epoch 8, step 46592: val_loss was not in top 1\n"
     ]
    },
    {
     "data": {
      "application/vnd.jupyter.widget-view+json": {
       "model_id": "",
       "version_major": 2,
       "version_minor": 0
      },
      "text/plain": [
       "Validating: 0it [00:00, ?it/s]"
      ]
     },
     "metadata": {},
     "output_type": "display_data"
    },
    {
     "name": "stderr",
     "output_type": "stream",
     "text": [
      "Epoch 9, step 51769: val_loss was not in top 1\n"
     ]
    },
    {
     "data": {
      "text/plain": [
       "1"
      ]
     },
     "execution_count": 17,
     "metadata": {},
     "output_type": "execute_result"
    }
   ],
   "source": [
    "trainer.fit(model, bitcoin_dm)"
   ]
  },
  {
   "cell_type": "code",
   "execution_count": null,
   "metadata": {},
   "outputs": [],
   "source": []
  },
  {
   "cell_type": "code",
   "execution_count": 3,
   "metadata": {
    "ExecuteTime": {
     "end_time": "2021-03-19T18:52:11.170850Z",
     "start_time": "2021-03-19T18:52:11.168295Z"
    }
   },
   "outputs": [],
   "source": [
    "MODEL_PATH = './lightning_logs/version_20/checkpoints/epoch=7_val_loss=0.0007.ckpt'\n",
    "HPARAM_PATH = './lightning_logs/version_20/hparams.yaml'"
   ]
  },
  {
   "cell_type": "code",
   "execution_count": 46,
   "metadata": {
    "ExecuteTime": {
     "end_time": "2021-03-19T19:05:39.409242Z",
     "start_time": "2021-03-19T19:05:39.406228Z"
    }
   },
   "outputs": [],
   "source": [
    "device = torch.device('cuda:0' if torch.cuda.is_available() else 'cpu')"
   ]
  },
  {
   "cell_type": "code",
   "execution_count": 48,
   "metadata": {
    "ExecuteTime": {
     "end_time": "2021-03-19T19:05:44.402649Z",
     "start_time": "2021-03-19T19:05:44.370163Z"
    }
   },
   "outputs": [
    {
     "ename": "RuntimeError",
     "evalue": "CUDA error: device-side assert triggered",
     "output_type": "error",
     "traceback": [
      "\u001b[0;31m---------------------------------------------------------------------------\u001b[0m",
      "\u001b[0;31mRuntimeError\u001b[0m                              Traceback (most recent call last)",
      "\u001b[0;32m<ipython-input-48-14b99fb2e10b>\u001b[0m in \u001b[0;36m<module>\u001b[0;34m\u001b[0m\n\u001b[1;32m      1\u001b[0m model = Seq2seqLightningModule.load_from_checkpoint(checkpoint_path=MODEL_PATH,\n\u001b[1;32m      2\u001b[0m                                                     hparams_file = HPARAM_PATH)\n\u001b[0;32m----> 3\u001b[0;31m \u001b[0mmodel\u001b[0m \u001b[0;34m=\u001b[0m \u001b[0mmodel\u001b[0m\u001b[0;34m.\u001b[0m\u001b[0mto\u001b[0m\u001b[0;34m(\u001b[0m\u001b[0mdevice\u001b[0m\u001b[0;34m)\u001b[0m\u001b[0;34m\u001b[0m\u001b[0;34m\u001b[0m\u001b[0m\n\u001b[0m\u001b[1;32m      4\u001b[0m \u001b[0mmodel\u001b[0m\u001b[0;34m.\u001b[0m\u001b[0meval\u001b[0m\u001b[0;34m(\u001b[0m\u001b[0;34m)\u001b[0m\u001b[0;34m\u001b[0m\u001b[0;34m\u001b[0m\u001b[0m\n\u001b[1;32m      5\u001b[0m \u001b[0mmodel\u001b[0m\u001b[0;34m.\u001b[0m\u001b[0mfreeze\u001b[0m\u001b[0;34m(\u001b[0m\u001b[0;34m)\u001b[0m\u001b[0;34m\u001b[0m\u001b[0;34m\u001b[0m\u001b[0m\n",
      "\u001b[0;32m~/anaconda3/envs/DL_Server/lib/python3.8/site-packages/pytorch_lightning/core/decorators.py\u001b[0m in \u001b[0;36minner_fn\u001b[0;34m(self, *args, **kwargs)\u001b[0m\n\u001b[1;32m     87\u001b[0m     \u001b[0;32mdef\u001b[0m \u001b[0minner_fn\u001b[0m\u001b[0;34m(\u001b[0m\u001b[0mself\u001b[0m\u001b[0;34m,\u001b[0m \u001b[0;34m*\u001b[0m\u001b[0margs\u001b[0m\u001b[0;34m,\u001b[0m \u001b[0;34m**\u001b[0m\u001b[0mkwargs\u001b[0m\u001b[0;34m)\u001b[0m\u001b[0;34m:\u001b[0m\u001b[0;34m\u001b[0m\u001b[0;34m\u001b[0m\u001b[0m\n\u001b[1;32m     88\u001b[0m         \u001b[0mpre_layer_count\u001b[0m \u001b[0;34m=\u001b[0m \u001b[0mlen\u001b[0m\u001b[0;34m(\u001b[0m\u001b[0mlist\u001b[0m\u001b[0;34m(\u001b[0m\u001b[0mself\u001b[0m\u001b[0;34m.\u001b[0m\u001b[0mparameters\u001b[0m\u001b[0;34m(\u001b[0m\u001b[0;34m)\u001b[0m\u001b[0;34m)\u001b[0m\u001b[0;34m)\u001b[0m\u001b[0;34m\u001b[0m\u001b[0;34m\u001b[0m\u001b[0m\n\u001b[0;32m---> 89\u001b[0;31m         \u001b[0mmodule\u001b[0m \u001b[0;34m=\u001b[0m \u001b[0mfn\u001b[0m\u001b[0;34m(\u001b[0m\u001b[0mself\u001b[0m\u001b[0;34m,\u001b[0m \u001b[0;34m*\u001b[0m\u001b[0margs\u001b[0m\u001b[0;34m,\u001b[0m \u001b[0;34m**\u001b[0m\u001b[0mkwargs\u001b[0m\u001b[0;34m)\u001b[0m\u001b[0;34m\u001b[0m\u001b[0;34m\u001b[0m\u001b[0m\n\u001b[0m\u001b[1;32m     90\u001b[0m         \u001b[0mself\u001b[0m\u001b[0;34m.\u001b[0m\u001b[0mon_post_move_to_device\u001b[0m\u001b[0;34m(\u001b[0m\u001b[0;34m)\u001b[0m\u001b[0;34m\u001b[0m\u001b[0;34m\u001b[0m\u001b[0m\n\u001b[1;32m     91\u001b[0m         \u001b[0mpost_layer_count\u001b[0m \u001b[0;34m=\u001b[0m \u001b[0mlen\u001b[0m\u001b[0;34m(\u001b[0m\u001b[0mlist\u001b[0m\u001b[0;34m(\u001b[0m\u001b[0mself\u001b[0m\u001b[0;34m.\u001b[0m\u001b[0mparameters\u001b[0m\u001b[0;34m(\u001b[0m\u001b[0;34m)\u001b[0m\u001b[0;34m)\u001b[0m\u001b[0;34m)\u001b[0m\u001b[0;34m\u001b[0m\u001b[0;34m\u001b[0m\u001b[0m\n",
      "\u001b[0;32m~/anaconda3/envs/DL_Server/lib/python3.8/site-packages/pytorch_lightning/utilities/device_dtype_mixin.py\u001b[0m in \u001b[0;36mto\u001b[0;34m(self, *args, **kwargs)\u001b[0m\n\u001b[1;32m    118\u001b[0m         \u001b[0mout\u001b[0m \u001b[0;34m=\u001b[0m \u001b[0mtorch\u001b[0m\u001b[0;34m.\u001b[0m\u001b[0m_C\u001b[0m\u001b[0;34m.\u001b[0m\u001b[0m_nn\u001b[0m\u001b[0;34m.\u001b[0m\u001b[0m_parse_to\u001b[0m\u001b[0;34m(\u001b[0m\u001b[0;34m*\u001b[0m\u001b[0margs\u001b[0m\u001b[0;34m,\u001b[0m \u001b[0;34m**\u001b[0m\u001b[0mkwargs\u001b[0m\u001b[0;34m)\u001b[0m\u001b[0;34m\u001b[0m\u001b[0;34m\u001b[0m\u001b[0m\n\u001b[1;32m    119\u001b[0m         \u001b[0mself\u001b[0m\u001b[0;34m.\u001b[0m\u001b[0m__update_properties\u001b[0m\u001b[0;34m(\u001b[0m\u001b[0mdevice\u001b[0m\u001b[0;34m=\u001b[0m\u001b[0mout\u001b[0m\u001b[0;34m[\u001b[0m\u001b[0;36m0\u001b[0m\u001b[0;34m]\u001b[0m\u001b[0;34m,\u001b[0m \u001b[0mdtype\u001b[0m\u001b[0;34m=\u001b[0m\u001b[0mout\u001b[0m\u001b[0;34m[\u001b[0m\u001b[0;36m1\u001b[0m\u001b[0;34m]\u001b[0m\u001b[0;34m)\u001b[0m\u001b[0;34m\u001b[0m\u001b[0;34m\u001b[0m\u001b[0m\n\u001b[0;32m--> 120\u001b[0;31m         \u001b[0;32mreturn\u001b[0m \u001b[0msuper\u001b[0m\u001b[0;34m(\u001b[0m\u001b[0;34m)\u001b[0m\u001b[0;34m.\u001b[0m\u001b[0mto\u001b[0m\u001b[0;34m(\u001b[0m\u001b[0;34m*\u001b[0m\u001b[0margs\u001b[0m\u001b[0;34m,\u001b[0m \u001b[0;34m**\u001b[0m\u001b[0mkwargs\u001b[0m\u001b[0;34m)\u001b[0m\u001b[0;34m\u001b[0m\u001b[0;34m\u001b[0m\u001b[0m\n\u001b[0m\u001b[1;32m    121\u001b[0m \u001b[0;34m\u001b[0m\u001b[0m\n\u001b[1;32m    122\u001b[0m     \u001b[0;32mdef\u001b[0m \u001b[0mcuda\u001b[0m\u001b[0;34m(\u001b[0m\u001b[0mself\u001b[0m\u001b[0;34m,\u001b[0m \u001b[0mdevice\u001b[0m\u001b[0;34m:\u001b[0m \u001b[0mOptional\u001b[0m\u001b[0;34m[\u001b[0m\u001b[0mint\u001b[0m\u001b[0;34m]\u001b[0m \u001b[0;34m=\u001b[0m \u001b[0;32mNone\u001b[0m\u001b[0;34m)\u001b[0m \u001b[0;34m->\u001b[0m \u001b[0mModule\u001b[0m\u001b[0;34m:\u001b[0m\u001b[0;34m\u001b[0m\u001b[0;34m\u001b[0m\u001b[0m\n",
      "\u001b[0;32m~/anaconda3/envs/DL_Server/lib/python3.8/site-packages/torch/nn/modules/module.py\u001b[0m in \u001b[0;36mto\u001b[0;34m(self, *args, **kwargs)\u001b[0m\n\u001b[1;32m    610\u001b[0m             \u001b[0;32mreturn\u001b[0m \u001b[0mt\u001b[0m\u001b[0;34m.\u001b[0m\u001b[0mto\u001b[0m\u001b[0;34m(\u001b[0m\u001b[0mdevice\u001b[0m\u001b[0;34m,\u001b[0m \u001b[0mdtype\u001b[0m \u001b[0;32mif\u001b[0m \u001b[0mt\u001b[0m\u001b[0;34m.\u001b[0m\u001b[0mis_floating_point\u001b[0m\u001b[0;34m(\u001b[0m\u001b[0;34m)\u001b[0m \u001b[0;32melse\u001b[0m \u001b[0;32mNone\u001b[0m\u001b[0;34m,\u001b[0m \u001b[0mnon_blocking\u001b[0m\u001b[0;34m)\u001b[0m\u001b[0;34m\u001b[0m\u001b[0;34m\u001b[0m\u001b[0m\n\u001b[1;32m    611\u001b[0m \u001b[0;34m\u001b[0m\u001b[0m\n\u001b[0;32m--> 612\u001b[0;31m         \u001b[0;32mreturn\u001b[0m \u001b[0mself\u001b[0m\u001b[0;34m.\u001b[0m\u001b[0m_apply\u001b[0m\u001b[0;34m(\u001b[0m\u001b[0mconvert\u001b[0m\u001b[0;34m)\u001b[0m\u001b[0;34m\u001b[0m\u001b[0;34m\u001b[0m\u001b[0m\n\u001b[0m\u001b[1;32m    613\u001b[0m \u001b[0;34m\u001b[0m\u001b[0m\n\u001b[1;32m    614\u001b[0m     def register_backward_hook(\n",
      "\u001b[0;32m~/anaconda3/envs/DL_Server/lib/python3.8/site-packages/torch/nn/modules/module.py\u001b[0m in \u001b[0;36m_apply\u001b[0;34m(self, fn)\u001b[0m\n\u001b[1;32m    357\u001b[0m     \u001b[0;32mdef\u001b[0m \u001b[0m_apply\u001b[0m\u001b[0;34m(\u001b[0m\u001b[0mself\u001b[0m\u001b[0;34m,\u001b[0m \u001b[0mfn\u001b[0m\u001b[0;34m)\u001b[0m\u001b[0;34m:\u001b[0m\u001b[0;34m\u001b[0m\u001b[0;34m\u001b[0m\u001b[0m\n\u001b[1;32m    358\u001b[0m         \u001b[0;32mfor\u001b[0m \u001b[0mmodule\u001b[0m \u001b[0;32min\u001b[0m \u001b[0mself\u001b[0m\u001b[0;34m.\u001b[0m\u001b[0mchildren\u001b[0m\u001b[0;34m(\u001b[0m\u001b[0;34m)\u001b[0m\u001b[0;34m:\u001b[0m\u001b[0;34m\u001b[0m\u001b[0;34m\u001b[0m\u001b[0m\n\u001b[0;32m--> 359\u001b[0;31m             \u001b[0mmodule\u001b[0m\u001b[0;34m.\u001b[0m\u001b[0m_apply\u001b[0m\u001b[0;34m(\u001b[0m\u001b[0mfn\u001b[0m\u001b[0;34m)\u001b[0m\u001b[0;34m\u001b[0m\u001b[0;34m\u001b[0m\u001b[0m\n\u001b[0m\u001b[1;32m    360\u001b[0m \u001b[0;34m\u001b[0m\u001b[0m\n\u001b[1;32m    361\u001b[0m         \u001b[0;32mdef\u001b[0m \u001b[0mcompute_should_use_set_data\u001b[0m\u001b[0;34m(\u001b[0m\u001b[0mtensor\u001b[0m\u001b[0;34m,\u001b[0m \u001b[0mtensor_applied\u001b[0m\u001b[0;34m)\u001b[0m\u001b[0;34m:\u001b[0m\u001b[0;34m\u001b[0m\u001b[0;34m\u001b[0m\u001b[0m\n",
      "\u001b[0;32m~/anaconda3/envs/DL_Server/lib/python3.8/site-packages/torch/nn/modules/module.py\u001b[0m in \u001b[0;36m_apply\u001b[0;34m(self, fn)\u001b[0m\n\u001b[1;32m    379\u001b[0m                 \u001b[0;31m# `with torch.no_grad():`\u001b[0m\u001b[0;34m\u001b[0m\u001b[0;34m\u001b[0m\u001b[0;34m\u001b[0m\u001b[0m\n\u001b[1;32m    380\u001b[0m                 \u001b[0;32mwith\u001b[0m \u001b[0mtorch\u001b[0m\u001b[0;34m.\u001b[0m\u001b[0mno_grad\u001b[0m\u001b[0;34m(\u001b[0m\u001b[0;34m)\u001b[0m\u001b[0;34m:\u001b[0m\u001b[0;34m\u001b[0m\u001b[0;34m\u001b[0m\u001b[0m\n\u001b[0;32m--> 381\u001b[0;31m                     \u001b[0mparam_applied\u001b[0m \u001b[0;34m=\u001b[0m \u001b[0mfn\u001b[0m\u001b[0;34m(\u001b[0m\u001b[0mparam\u001b[0m\u001b[0;34m)\u001b[0m\u001b[0;34m\u001b[0m\u001b[0;34m\u001b[0m\u001b[0m\n\u001b[0m\u001b[1;32m    382\u001b[0m                 \u001b[0mshould_use_set_data\u001b[0m \u001b[0;34m=\u001b[0m \u001b[0mcompute_should_use_set_data\u001b[0m\u001b[0;34m(\u001b[0m\u001b[0mparam\u001b[0m\u001b[0;34m,\u001b[0m \u001b[0mparam_applied\u001b[0m\u001b[0;34m)\u001b[0m\u001b[0;34m\u001b[0m\u001b[0;34m\u001b[0m\u001b[0m\n\u001b[1;32m    383\u001b[0m                 \u001b[0;32mif\u001b[0m \u001b[0mshould_use_set_data\u001b[0m\u001b[0;34m:\u001b[0m\u001b[0;34m\u001b[0m\u001b[0;34m\u001b[0m\u001b[0m\n",
      "\u001b[0;32m~/anaconda3/envs/DL_Server/lib/python3.8/site-packages/torch/nn/modules/module.py\u001b[0m in \u001b[0;36mconvert\u001b[0;34m(t)\u001b[0m\n\u001b[1;32m    608\u001b[0m             \u001b[0;32mif\u001b[0m \u001b[0mconvert_to_format\u001b[0m \u001b[0;32mis\u001b[0m \u001b[0;32mnot\u001b[0m \u001b[0;32mNone\u001b[0m \u001b[0;32mand\u001b[0m \u001b[0mt\u001b[0m\u001b[0;34m.\u001b[0m\u001b[0mdim\u001b[0m\u001b[0;34m(\u001b[0m\u001b[0;34m)\u001b[0m \u001b[0;34m==\u001b[0m \u001b[0;36m4\u001b[0m\u001b[0;34m:\u001b[0m\u001b[0;34m\u001b[0m\u001b[0;34m\u001b[0m\u001b[0m\n\u001b[1;32m    609\u001b[0m                 \u001b[0;32mreturn\u001b[0m \u001b[0mt\u001b[0m\u001b[0;34m.\u001b[0m\u001b[0mto\u001b[0m\u001b[0;34m(\u001b[0m\u001b[0mdevice\u001b[0m\u001b[0;34m,\u001b[0m \u001b[0mdtype\u001b[0m \u001b[0;32mif\u001b[0m \u001b[0mt\u001b[0m\u001b[0;34m.\u001b[0m\u001b[0mis_floating_point\u001b[0m\u001b[0;34m(\u001b[0m\u001b[0;34m)\u001b[0m \u001b[0;32melse\u001b[0m \u001b[0;32mNone\u001b[0m\u001b[0;34m,\u001b[0m \u001b[0mnon_blocking\u001b[0m\u001b[0;34m,\u001b[0m \u001b[0mmemory_format\u001b[0m\u001b[0;34m=\u001b[0m\u001b[0mconvert_to_format\u001b[0m\u001b[0;34m)\u001b[0m\u001b[0;34m\u001b[0m\u001b[0;34m\u001b[0m\u001b[0m\n\u001b[0;32m--> 610\u001b[0;31m             \u001b[0;32mreturn\u001b[0m \u001b[0mt\u001b[0m\u001b[0;34m.\u001b[0m\u001b[0mto\u001b[0m\u001b[0;34m(\u001b[0m\u001b[0mdevice\u001b[0m\u001b[0;34m,\u001b[0m \u001b[0mdtype\u001b[0m \u001b[0;32mif\u001b[0m \u001b[0mt\u001b[0m\u001b[0;34m.\u001b[0m\u001b[0mis_floating_point\u001b[0m\u001b[0;34m(\u001b[0m\u001b[0;34m)\u001b[0m \u001b[0;32melse\u001b[0m \u001b[0;32mNone\u001b[0m\u001b[0;34m,\u001b[0m \u001b[0mnon_blocking\u001b[0m\u001b[0;34m)\u001b[0m\u001b[0;34m\u001b[0m\u001b[0;34m\u001b[0m\u001b[0m\n\u001b[0m\u001b[1;32m    611\u001b[0m \u001b[0;34m\u001b[0m\u001b[0m\n\u001b[1;32m    612\u001b[0m         \u001b[0;32mreturn\u001b[0m \u001b[0mself\u001b[0m\u001b[0;34m.\u001b[0m\u001b[0m_apply\u001b[0m\u001b[0;34m(\u001b[0m\u001b[0mconvert\u001b[0m\u001b[0;34m)\u001b[0m\u001b[0;34m\u001b[0m\u001b[0;34m\u001b[0m\u001b[0m\n",
      "\u001b[0;31mRuntimeError\u001b[0m: CUDA error: device-side assert triggered"
     ]
    }
   ],
   "source": [
    "model = Seq2seqLightningModule.load_from_checkpoint(checkpoint_path=MODEL_PATH,\n",
    "                                                    hparams_file = HPARAM_PATH)\n",
    "model = model.to(device)\n",
    "model.eval()\n",
    "model.freeze()"
   ]
  },
  {
   "cell_type": "code",
   "execution_count": 42,
   "metadata": {
    "ExecuteTime": {
     "end_time": "2021-03-19T19:04:56.285329Z",
     "start_time": "2021-03-19T19:04:56.282955Z"
    }
   },
   "outputs": [],
   "source": [
    "model.hparams['on_gpu']=True"
   ]
  },
  {
   "cell_type": "code",
   "execution_count": null,
   "metadata": {},
   "outputs": [],
   "source": []
  },
  {
   "cell_type": "code",
   "execution_count": 10,
   "metadata": {
    "ExecuteTime": {
     "end_time": "2021-03-19T18:52:28.785622Z",
     "start_time": "2021-03-19T18:52:28.570448Z"
    }
   },
   "outputs": [],
   "source": [
    "test_x['sec_10'] = test_x['time'].apply(lambda x: x//10)\n",
    "test_x = test_x.groupby('sample_id').tail(5)"
   ]
  },
  {
   "cell_type": "code",
   "execution_count": 11,
   "metadata": {
    "ExecuteTime": {
     "end_time": "2021-03-19T18:52:29.505113Z",
     "start_time": "2021-03-19T18:52:29.502205Z"
    }
   },
   "outputs": [],
   "source": [
    "test_x = test_x.reset_index(drop=True)"
   ]
  },
  {
   "cell_type": "code",
   "execution_count": 12,
   "metadata": {
    "ExecuteTime": {
     "end_time": "2021-03-19T18:52:31.179985Z",
     "start_time": "2021-03-19T18:52:31.173085Z"
    }
   },
   "outputs": [],
   "source": [
    "class BitcoinTestDataset(Dataset):\n",
    "    def __init__(self, df, ws):\n",
    "        self.df = df\n",
    "        self.ws = ws\n",
    "        \n",
    "    def __len__(self):\n",
    "        return len(self.df)\n",
    "    \n",
    "    def __getitem__(self, index):\n",
    "        start_idx = index\n",
    "        end_idx = index+self.ws\n",
    "        \n",
    "        sample_id = self.df.iloc[start_idx:end_idx, 0].values\n",
    "        time = self.df.iloc[start_idx:end_idx, 1].values\n",
    "        coin = self.df.iloc[start_idx:end_idx, 2].values\n",
    "        open_val = self.df.iloc[start_idx:end_idx, 3].values\n",
    "        sec_10 = self.df.iloc[start_idx:end_idx, -1].values\n",
    "        return {\n",
    "            'id': torch.tensor(sample_id, dtype=torch.long),\n",
    "            'time': torch.tensor(time, dtype=torch.long),\n",
    "            'sec_10': torch.tensor(sec_10, dtype=torch.long),\n",
    "            'coin': torch.tensor(coin, dtype=torch.long),\n",
    "            'open_val': torch.tensor(open_val, dtype=torch.float32),\n",
    "        }"
   ]
  },
  {
   "cell_type": "code",
   "execution_count": 17,
   "metadata": {
    "ExecuteTime": {
     "end_time": "2021-03-19T18:53:08.727980Z",
     "start_time": "2021-03-19T18:53:08.724912Z"
    }
   },
   "outputs": [],
   "source": [
    "test_ds = BitcoinTestDataset(test_x, 5)\n",
    "test_subset_idx = [i for i in test_x.index if i%5==0]\n",
    "        \n",
    "test_dataset = Subset(test_ds, test_subset_idx)"
   ]
  },
  {
   "cell_type": "code",
   "execution_count": 18,
   "metadata": {
    "ExecuteTime": {
     "end_time": "2021-03-19T18:53:08.987384Z",
     "start_time": "2021-03-19T18:53:08.984972Z"
    }
   },
   "outputs": [],
   "source": [
    "test_dataloader= DataLoader(test_dataset,\n",
    "                            batch_size=32,\n",
    "                            num_workers=4)"
   ]
  },
  {
   "cell_type": "code",
   "execution_count": 43,
   "metadata": {
    "ExecuteTime": {
     "end_time": "2021-03-19T19:05:01.710758Z",
     "start_time": "2021-03-19T19:05:01.568819Z"
    }
   },
   "outputs": [
    {
     "name": "stdout",
     "output_type": "stream",
     "text": [
      "cuda\n"
     ]
    },
    {
     "ename": "RuntimeError",
     "evalue": "CUDA error: device-side assert triggered",
     "output_type": "error",
     "traceback": [
      "\u001b[0;31m---------------------------------------------------------------------------\u001b[0m",
      "\u001b[0;31mRuntimeError\u001b[0m                              Traceback (most recent call last)",
      "\u001b[0;32m<ipython-input-43-164922817707>\u001b[0m in \u001b[0;36m<module>\u001b[0;34m\u001b[0m\n\u001b[1;32m      2\u001b[0m \u001b[0mprint\u001b[0m\u001b[0;34m(\u001b[0m\u001b[0mdevice\u001b[0m\u001b[0;34m)\u001b[0m\u001b[0;34m\u001b[0m\u001b[0;34m\u001b[0m\u001b[0m\n\u001b[1;32m      3\u001b[0m \u001b[0;32mfor\u001b[0m \u001b[0mstep\u001b[0m\u001b[0;34m,\u001b[0m \u001b[0mbatch\u001b[0m \u001b[0;32min\u001b[0m \u001b[0menumerate\u001b[0m\u001b[0;34m(\u001b[0m\u001b[0mtest_dataloader\u001b[0m\u001b[0;34m)\u001b[0m\u001b[0;34m:\u001b[0m\u001b[0;34m\u001b[0m\u001b[0;34m\u001b[0m\u001b[0m\n\u001b[0;32m----> 4\u001b[0;31m     \u001b[0mx_id\u001b[0m\u001b[0;34m,\u001b[0m \u001b[0mx_time\u001b[0m\u001b[0;34m,\u001b[0m \u001b[0mx_coin\u001b[0m\u001b[0;34m,\u001b[0m \u001b[0mx_sec\u001b[0m\u001b[0;34m,\u001b[0m \u001b[0mx_values\u001b[0m \u001b[0;34m=\u001b[0m  \u001b[0mbatch\u001b[0m\u001b[0;34m[\u001b[0m\u001b[0;34m'id'\u001b[0m\u001b[0;34m]\u001b[0m\u001b[0;34m.\u001b[0m\u001b[0mto\u001b[0m\u001b[0;34m(\u001b[0m\u001b[0mdevice\u001b[0m\u001b[0;34m)\u001b[0m\u001b[0;34m,\u001b[0m \u001b[0mbatch\u001b[0m\u001b[0;34m[\u001b[0m\u001b[0;34m'time'\u001b[0m\u001b[0;34m]\u001b[0m\u001b[0;34m.\u001b[0m\u001b[0mto\u001b[0m\u001b[0;34m(\u001b[0m\u001b[0mdevice\u001b[0m\u001b[0;34m)\u001b[0m\u001b[0;34m,\u001b[0m \u001b[0mbatch\u001b[0m\u001b[0;34m[\u001b[0m\u001b[0;34m'coin'\u001b[0m\u001b[0;34m]\u001b[0m\u001b[0;34m.\u001b[0m\u001b[0mto\u001b[0m\u001b[0;34m(\u001b[0m\u001b[0mdevice\u001b[0m\u001b[0;34m)\u001b[0m\u001b[0;34m,\u001b[0m \u001b[0mbatch\u001b[0m\u001b[0;34m[\u001b[0m\u001b[0;34m'sec_10'\u001b[0m\u001b[0;34m]\u001b[0m\u001b[0;34m.\u001b[0m\u001b[0mto\u001b[0m\u001b[0;34m(\u001b[0m\u001b[0mdevice\u001b[0m\u001b[0;34m)\u001b[0m\u001b[0;34m\u001b[0m\u001b[0;34m\u001b[0m\u001b[0m\n\u001b[0m\u001b[1;32m      5\u001b[0m     \u001b[0mx_values\u001b[0m \u001b[0;34m=\u001b[0m \u001b[0mbatch\u001b[0m\u001b[0;34m[\u001b[0m\u001b[0;34m'open_val'\u001b[0m\u001b[0;34m]\u001b[0m\u001b[0;34m.\u001b[0m\u001b[0mto\u001b[0m\u001b[0;34m(\u001b[0m\u001b[0mdevice\u001b[0m\u001b[0;34m)\u001b[0m\u001b[0;34m\u001b[0m\u001b[0;34m\u001b[0m\u001b[0m\n\u001b[1;32m      6\u001b[0m     \u001b[0my_hat\u001b[0m \u001b[0;34m=\u001b[0m \u001b[0mmodel\u001b[0m\u001b[0;34m(\u001b[0m\u001b[0mx_id\u001b[0m\u001b[0;34m,\u001b[0m \u001b[0mx_time\u001b[0m\u001b[0;34m,\u001b[0m \u001b[0mx_coin\u001b[0m\u001b[0;34m,\u001b[0m \u001b[0mx_sec\u001b[0m\u001b[0;34m,\u001b[0m \u001b[0mx_values\u001b[0m\u001b[0;34m)\u001b[0m\u001b[0;34m\u001b[0m\u001b[0;34m\u001b[0m\u001b[0m\n",
      "\u001b[0;31mRuntimeError\u001b[0m: CUDA error: device-side assert triggered"
     ]
    }
   ],
   "source": [
    "result = []\n",
    "print(device)\n",
    "for step, batch in enumerate(test_dataloader):\n",
    "    x_id, x_time, x_coin, x_sec, x_values =  batch['id'].to(device), batch['time'].to(device), batch['coin'].to(device), batch['sec_10'].to(device)\n",
    "    x_values = batch['open_val'].to(device)\n",
    "    y_hat = model(x_id, x_time, x_coin, x_sec, x_values)\n",
    "    result.extend(y_hat.cpu().detach().numpy().tolist())"
   ]
  },
  {
   "cell_type": "code",
   "execution_count": 38,
   "metadata": {
    "ExecuteTime": {
     "end_time": "2021-03-19T19:03:24.398311Z",
     "start_time": "2021-03-19T19:03:23.268465Z"
    }
   },
   "outputs": [
    {
     "data": {
      "text/plain": [
       "6833"
      ]
     },
     "execution_count": 38,
     "metadata": {},
     "output_type": "execute_result"
    }
   ],
   "source": [
    "len(set(train_x['sample_id'].values) -  set(test_x['sample_id'].values))"
   ]
  },
  {
   "cell_type": "code",
   "execution_count": 39,
   "metadata": {
    "ExecuteTime": {
     "end_time": "2021-03-19T19:03:37.921841Z",
     "start_time": "2021-03-19T19:03:37.832401Z"
    }
   },
   "outputs": [
    {
     "data": {
      "text/plain": [
       "7362"
      ]
     },
     "execution_count": 39,
     "metadata": {},
     "output_type": "execute_result"
    }
   ],
   "source": [
    "train_x['sample_id'].nunique()"
   ]
  },
  {
   "cell_type": "code",
   "execution_count": 40,
   "metadata": {
    "ExecuteTime": {
     "end_time": "2021-03-19T19:03:53.985815Z",
     "start_time": "2021-03-19T19:03:53.981331Z"
    }
   },
   "outputs": [
    {
     "data": {
      "text/plain": [
       "529"
      ]
     },
     "execution_count": 40,
     "metadata": {},
     "output_type": "execute_result"
    }
   ],
   "source": [
    "test_x['sample_id'].nunique()"
   ]
  },
  {
   "cell_type": "code",
   "execution_count": null,
   "metadata": {},
   "outputs": [],
   "source": []
  },
  {
   "cell_type": "code",
   "execution_count": 35,
   "metadata": {
    "ExecuteTime": {
     "end_time": "2021-03-19T18:58:00.784946Z",
     "start_time": "2021-03-19T18:58:00.771726Z"
    }
   },
   "outputs": [
    {
     "data": {
      "text/html": [
       "<div>\n",
       "<style scoped>\n",
       "    .dataframe tbody tr th:only-of-type {\n",
       "        vertical-align: middle;\n",
       "    }\n",
       "\n",
       "    .dataframe tbody tr th {\n",
       "        vertical-align: top;\n",
       "    }\n",
       "\n",
       "    .dataframe thead th {\n",
       "        text-align: right;\n",
       "    }\n",
       "</style>\n",
       "<table border=\"1\" class=\"dataframe\">\n",
       "  <thead>\n",
       "    <tr style=\"text-align: right;\">\n",
       "      <th></th>\n",
       "      <th>sample_id</th>\n",
       "      <th>time</th>\n",
       "      <th>coin_index</th>\n",
       "      <th>open</th>\n",
       "      <th>high</th>\n",
       "      <th>low</th>\n",
       "      <th>close</th>\n",
       "      <th>volume</th>\n",
       "      <th>quote_av</th>\n",
       "      <th>trades</th>\n",
       "      <th>tb_base_av</th>\n",
       "      <th>tb_quote_av</th>\n",
       "      <th>sec_10</th>\n",
       "    </tr>\n",
       "  </thead>\n",
       "  <tbody>\n",
       "    <tr>\n",
       "      <th>0</th>\n",
       "      <td>0</td>\n",
       "      <td>1375</td>\n",
       "      <td>7</td>\n",
       "      <td>0.997398</td>\n",
       "      <td>0.999115</td>\n",
       "      <td>0.997371</td>\n",
       "      <td>0.998256</td>\n",
       "      <td>411115.00000</td>\n",
       "      <td>152972.437500</td>\n",
       "      <td>324.623047</td>\n",
       "      <td>221016.265625</td>\n",
       "      <td>82244.789062</td>\n",
       "      <td>137</td>\n",
       "    </tr>\n",
       "    <tr>\n",
       "      <th>1</th>\n",
       "      <td>0</td>\n",
       "      <td>1376</td>\n",
       "      <td>7</td>\n",
       "      <td>0.998256</td>\n",
       "      <td>0.999624</td>\n",
       "      <td>0.998256</td>\n",
       "      <td>0.998873</td>\n",
       "      <td>656922.50000</td>\n",
       "      <td>244636.890625</td>\n",
       "      <td>448.033478</td>\n",
       "      <td>395109.750000</td>\n",
       "      <td>147137.734375</td>\n",
       "      <td>137</td>\n",
       "    </tr>\n",
       "    <tr>\n",
       "      <th>2</th>\n",
       "      <td>0</td>\n",
       "      <td>1377</td>\n",
       "      <td>7</td>\n",
       "      <td>0.999168</td>\n",
       "      <td>0.999839</td>\n",
       "      <td>0.999168</td>\n",
       "      <td>0.999785</td>\n",
       "      <td>328069.96875</td>\n",
       "      <td>122220.281250</td>\n",
       "      <td>222.675323</td>\n",
       "      <td>215481.843750</td>\n",
       "      <td>80277.742188</td>\n",
       "      <td>137</td>\n",
       "    </tr>\n",
       "    <tr>\n",
       "      <th>3</th>\n",
       "      <td>0</td>\n",
       "      <td>1378</td>\n",
       "      <td>7</td>\n",
       "      <td>0.999624</td>\n",
       "      <td>1.000510</td>\n",
       "      <td>0.999598</td>\n",
       "      <td>1.000000</td>\n",
       "      <td>301314.87500</td>\n",
       "      <td>112317.312500</td>\n",
       "      <td>321.940216</td>\n",
       "      <td>130979.765625</td>\n",
       "      <td>48832.816406</td>\n",
       "      <td>137</td>\n",
       "    </tr>\n",
       "    <tr>\n",
       "      <th>4</th>\n",
       "      <td>0</td>\n",
       "      <td>1379</td>\n",
       "      <td>7</td>\n",
       "      <td>1.000000</td>\n",
       "      <td>1.000322</td>\n",
       "      <td>0.998900</td>\n",
       "      <td>1.000322</td>\n",
       "      <td>403639.25000</td>\n",
       "      <td>150405.312500</td>\n",
       "      <td>313.891724</td>\n",
       "      <td>215691.625000</td>\n",
       "      <td>80365.726562</td>\n",
       "      <td>137</td>\n",
       "    </tr>\n",
       "  </tbody>\n",
       "</table>\n",
       "</div>"
      ],
      "text/plain": [
       "   sample_id  time  coin_index      open      high       low     close  \\\n",
       "0          0  1375           7  0.997398  0.999115  0.997371  0.998256   \n",
       "1          0  1376           7  0.998256  0.999624  0.998256  0.998873   \n",
       "2          0  1377           7  0.999168  0.999839  0.999168  0.999785   \n",
       "3          0  1378           7  0.999624  1.000510  0.999598  1.000000   \n",
       "4          0  1379           7  1.000000  1.000322  0.998900  1.000322   \n",
       "\n",
       "         volume       quote_av      trades     tb_base_av    tb_quote_av  \\\n",
       "0  411115.00000  152972.437500  324.623047  221016.265625   82244.789062   \n",
       "1  656922.50000  244636.890625  448.033478  395109.750000  147137.734375   \n",
       "2  328069.96875  122220.281250  222.675323  215481.843750   80277.742188   \n",
       "3  301314.87500  112317.312500  321.940216  130979.765625   48832.816406   \n",
       "4  403639.25000  150405.312500  313.891724  215691.625000   80365.726562   \n",
       "\n",
       "   sec_10  \n",
       "0     137  \n",
       "1     137  \n",
       "2     137  \n",
       "3     137  \n",
       "4     137  "
      ]
     },
     "execution_count": 35,
     "metadata": {},
     "output_type": "execute_result"
    }
   ],
   "source": [
    "test_x.head()"
   ]
  },
  {
   "cell_type": "code",
   "execution_count": 36,
   "metadata": {
    "ExecuteTime": {
     "end_time": "2021-03-19T18:58:08.111549Z",
     "start_time": "2021-03-19T18:58:07.029487Z"
    }
   },
   "outputs": [
    {
     "data": {
      "text/plain": [
       "0"
      ]
     },
     "execution_count": 36,
     "metadata": {},
     "output_type": "execute_result"
    }
   ],
   "source": [
    "len(set(train_x['coin_index'].values) -  set(test_x['coin_index'].values))"
   ]
  },
  {
   "cell_type": "code",
   "execution_count": null,
   "metadata": {},
   "outputs": [],
   "source": []
  }
 ],
 "metadata": {
  "kernelspec": {
   "display_name": "DL_Server",
   "language": "python",
   "name": "dl_server"
  },
  "language_info": {
   "codemirror_mode": {
    "name": "ipython",
    "version": 3
   },
   "file_extension": ".py",
   "mimetype": "text/x-python",
   "name": "python",
   "nbconvert_exporter": "python",
   "pygments_lexer": "ipython3",
   "version": "3.8.8"
  },
  "toc": {
   "base_numbering": 1,
   "nav_menu": {},
   "number_sections": true,
   "sideBar": true,
   "skip_h1_title": false,
   "title_cell": "Table of Contents",
   "title_sidebar": "Contents",
   "toc_cell": false,
   "toc_position": {},
   "toc_section_display": true,
   "toc_window_display": false
  }
 },
 "nbformat": 4,
 "nbformat_minor": 4
}
