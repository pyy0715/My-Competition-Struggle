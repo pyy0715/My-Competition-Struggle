{
 "cells": [
  {
   "cell_type": "code",
   "execution_count": 1,
   "metadata": {
    "ExecuteTime": {
     "end_time": "2021-02-03T05:31:49.782445Z",
     "start_time": "2021-02-03T05:31:48.892173Z"
    }
   },
   "outputs": [],
   "source": [
    "import os \n",
    "import re\n",
    "import random\n",
    "import numpy as np \n",
    "import pandas as pd\n",
    "from tqdm import tqdm,tqdm_notebook\n",
    "from datetime import datetime\n",
    "\n",
    "import matplotlib.pyplot as plt\n",
    "import seaborn as sns\n",
    "plt.style.use('fivethirtyeight')\n",
    "%matplotlib inline\n",
    "\n",
    "import multiprocessing\n",
    "from multiprocessing import Pool\n",
    "\n",
    "from sklearn.model_selection import StratifiedKFold\n",
    "from sklearn.metrics import roc_auc_score, accuracy_score\n",
    "from sklearn.metrics.pairwise import cosine_similarity\n",
    "\n",
    "import lightgbm as lgb\n",
    "\n",
    "import warnings \n",
    "warnings.filterwarnings(action='ignore')"
   ]
  },
  {
   "cell_type": "code",
   "execution_count": 2,
   "metadata": {
    "ExecuteTime": {
     "end_time": "2021-02-03T05:31:49.787232Z",
     "start_time": "2021-02-03T05:31:49.784136Z"
    }
   },
   "outputs": [],
   "source": [
    "def set_seeds(seed=42):\n",
    "    os.environ['PYTHONHASHSEED'] = str(seed)\n",
    "    random.seed(seed)\n",
    "    np.random.seed(seed)"
   ]
  },
  {
   "cell_type": "code",
   "execution_count": 3,
   "metadata": {
    "ExecuteTime": {
     "end_time": "2021-02-03T05:31:49.792411Z",
     "start_time": "2021-02-03T05:31:49.789334Z"
    }
   },
   "outputs": [],
   "source": [
    "set_seeds(715)"
   ]
  },
  {
   "cell_type": "code",
   "execution_count": 4,
   "metadata": {
    "ExecuteTime": {
     "end_time": "2021-02-03T05:31:49.800451Z",
     "start_time": "2021-02-03T05:31:49.794044Z"
    }
   },
   "outputs": [],
   "source": [
    "min_day = datetime.strptime('2020-10-31', '%Y-%m-%d').date()\n",
    "\n",
    "def make_datetime(df):\n",
    "    df['time'] = df['time'].apply(lambda x: datetime.strptime(str(x), '%Y%m%d%H%M%S')) \n",
    "    df['date'] = df['time'].apply(lambda x: x.date())\n",
    "    df['days'] = df['date'].apply(lambda x: (x-min_day).days)\n",
    "    df['week'] = df['time'].apply(lambda x: x.week)\n",
    "    df['hour'] = df['time'].apply(lambda x: x.hour)\n",
    "    return df "
   ]
  },
  {
   "cell_type": "code",
   "execution_count": 5,
   "metadata": {
    "ExecuteTime": {
     "end_time": "2021-02-03T05:31:50.129107Z",
     "start_time": "2021-02-03T05:31:50.124480Z"
    }
   },
   "outputs": [],
   "source": [
    "def parallelize_dataframe(df, func, n_cores=4):\n",
    "    df_split = np.array_split(df, n_cores)\n",
    "    pool = Pool(n_cores)\n",
    "    df = pd.concat(pool.map(func, df_split))\n",
    "    pool.close()\n",
    "    pool.join()\n",
    "    return df"
   ]
  },
  {
   "cell_type": "code",
   "execution_count": 6,
   "metadata": {
    "ExecuteTime": {
     "end_time": "2021-02-03T05:31:50.619361Z",
     "start_time": "2021-02-03T05:31:50.617724Z"
    }
   },
   "outputs": [],
   "source": [
    "# train_err = pd.read_csv('dataset/train_err_data.csv')\n",
    "# train_err = parallelize_dataframe(train_err, make_datetime, n_cores=8)\n",
    "# train_err.to_pickle(\"./dataset/train_err.pkl\")"
   ]
  },
  {
   "cell_type": "code",
   "execution_count": 7,
   "metadata": {
    "ExecuteTime": {
     "end_time": "2021-02-03T05:31:51.182397Z",
     "start_time": "2021-02-03T05:31:51.180190Z"
    }
   },
   "outputs": [],
   "source": [
    "# test_err = pd.read_csv('dataset/test_err_data.csv')\n",
    "# test_err = parallelize_dataframe(test_err, make_datetime, n_cores=8)\n",
    "# test_err.to_pickle(\"./dataset/test_err.pkl\")"
   ]
  },
  {
   "cell_type": "code",
   "execution_count": 11,
   "metadata": {
    "ExecuteTime": {
     "end_time": "2021-02-03T05:32:28.406633Z",
     "start_time": "2021-02-03T05:32:17.048800Z"
    }
   },
   "outputs": [],
   "source": [
    "train_err = pd.read_pickle(\"./dataset/train_err.pkl\")\n",
    "test_err = pd.read_pickle(\"./dataset/test_err.pkl\")\n",
    "\n",
    "train_problem = pd.read_csv('dataset/train_problem_data.csv')"
   ]
  },
  {
   "cell_type": "markdown",
   "metadata": {},
   "source": [
    "## Train_Err"
   ]
  },
  {
   "cell_type": "markdown",
   "metadata": {},
   "source": [
    "### Poly Features "
   ]
  },
  {
   "cell_type": "code",
   "execution_count": 9,
   "metadata": {
    "ExecuteTime": {
     "end_time": "2021-02-03T05:32:02.659476Z",
     "start_time": "2021-02-03T05:32:02.655132Z"
    }
   },
   "outputs": [],
   "source": [
    "def make_polycol(df):\n",
    "    df['errtype'] = df['errtype'].astype('str') \n",
    "    df['errcase'] = df.iloc[:]['errtype'] + '_' + df.iloc[:]['errcode']\n",
    "    df['model_errtype'] = df.iloc[:]['model_nm'] + '_' + df.iloc[:]['errtype']\n",
    "    df['model_errcode'] = df.iloc[:]['model_nm'] + '_' + df.iloc[:]['errcode']\n",
    "    df['model_fwver'] = df.iloc[:]['model_nm'] + '_' + df.iloc[:]['fwver']\n",
    "    df['fwver_errcode'] = df.iloc[:]['fwver'] + '_' + df.iloc[:]['errcode']\n",
    "    return df"
   ]
  },
  {
   "cell_type": "code",
   "execution_count": 10,
   "metadata": {
    "ExecuteTime": {
     "end_time": "2021-02-03T05:32:13.393609Z",
     "start_time": "2021-02-03T05:32:03.625259Z"
    }
   },
   "outputs": [
    {
     "ename": "KeyboardInterrupt",
     "evalue": "",
     "output_type": "error",
     "traceback": [
      "\u001b[0;31m---------------------------------------------------------------------------\u001b[0m",
      "\u001b[0;31mKeyboardInterrupt\u001b[0m                         Traceback (most recent call last)",
      "\u001b[0;32m<ipython-input-10-7fa3840187a9>\u001b[0m in \u001b[0;36m<module>\u001b[0;34m()\u001b[0m\n\u001b[0;32m----> 1\u001b[0;31m \u001b[0mtrain_err\u001b[0m \u001b[0;34m=\u001b[0m \u001b[0mmake_polycol\u001b[0m\u001b[0;34m(\u001b[0m\u001b[0mtrain_err\u001b[0m\u001b[0;34m)\u001b[0m\u001b[0;34m\u001b[0m\u001b[0;34m\u001b[0m\u001b[0m\n\u001b[0m\u001b[1;32m      2\u001b[0m \u001b[0mtest_err\u001b[0m \u001b[0;34m=\u001b[0m \u001b[0mmake_polycol\u001b[0m\u001b[0;34m(\u001b[0m\u001b[0mtest_err\u001b[0m\u001b[0;34m)\u001b[0m\u001b[0;34m\u001b[0m\u001b[0;34m\u001b[0m\u001b[0m\n",
      "\u001b[0;32m<ipython-input-9-b44a7924b523>\u001b[0m in \u001b[0;36mmake_polycol\u001b[0;34m(df)\u001b[0m\n\u001b[1;32m      3\u001b[0m     \u001b[0mdf\u001b[0m\u001b[0;34m[\u001b[0m\u001b[0;34m'errcase'\u001b[0m\u001b[0;34m]\u001b[0m \u001b[0;34m=\u001b[0m \u001b[0mdf\u001b[0m\u001b[0;34m.\u001b[0m\u001b[0miloc\u001b[0m\u001b[0;34m[\u001b[0m\u001b[0;34m:\u001b[0m\u001b[0;34m]\u001b[0m\u001b[0;34m[\u001b[0m\u001b[0;34m'errtype'\u001b[0m\u001b[0;34m]\u001b[0m \u001b[0;34m+\u001b[0m \u001b[0;34m'_'\u001b[0m \u001b[0;34m+\u001b[0m \u001b[0mdf\u001b[0m\u001b[0;34m.\u001b[0m\u001b[0miloc\u001b[0m\u001b[0;34m[\u001b[0m\u001b[0;34m:\u001b[0m\u001b[0;34m]\u001b[0m\u001b[0;34m[\u001b[0m\u001b[0;34m'errcode'\u001b[0m\u001b[0;34m]\u001b[0m\u001b[0;34m\u001b[0m\u001b[0;34m\u001b[0m\u001b[0m\n\u001b[1;32m      4\u001b[0m     \u001b[0mdf\u001b[0m\u001b[0;34m[\u001b[0m\u001b[0;34m'model_errtype'\u001b[0m\u001b[0;34m]\u001b[0m \u001b[0;34m=\u001b[0m \u001b[0mdf\u001b[0m\u001b[0;34m.\u001b[0m\u001b[0miloc\u001b[0m\u001b[0;34m[\u001b[0m\u001b[0;34m:\u001b[0m\u001b[0;34m]\u001b[0m\u001b[0;34m[\u001b[0m\u001b[0;34m'model_nm'\u001b[0m\u001b[0;34m]\u001b[0m \u001b[0;34m+\u001b[0m \u001b[0;34m'_'\u001b[0m \u001b[0;34m+\u001b[0m \u001b[0mdf\u001b[0m\u001b[0;34m.\u001b[0m\u001b[0miloc\u001b[0m\u001b[0;34m[\u001b[0m\u001b[0;34m:\u001b[0m\u001b[0;34m]\u001b[0m\u001b[0;34m[\u001b[0m\u001b[0;34m'errtype'\u001b[0m\u001b[0;34m]\u001b[0m\u001b[0;34m\u001b[0m\u001b[0;34m\u001b[0m\u001b[0m\n\u001b[0;32m----> 5\u001b[0;31m     \u001b[0mdf\u001b[0m\u001b[0;34m[\u001b[0m\u001b[0;34m'model_errcode'\u001b[0m\u001b[0;34m]\u001b[0m \u001b[0;34m=\u001b[0m \u001b[0mdf\u001b[0m\u001b[0;34m.\u001b[0m\u001b[0miloc\u001b[0m\u001b[0;34m[\u001b[0m\u001b[0;34m:\u001b[0m\u001b[0;34m]\u001b[0m\u001b[0;34m[\u001b[0m\u001b[0;34m'model_nm'\u001b[0m\u001b[0;34m]\u001b[0m \u001b[0;34m+\u001b[0m \u001b[0;34m'_'\u001b[0m \u001b[0;34m+\u001b[0m \u001b[0mdf\u001b[0m\u001b[0;34m.\u001b[0m\u001b[0miloc\u001b[0m\u001b[0;34m[\u001b[0m\u001b[0;34m:\u001b[0m\u001b[0;34m]\u001b[0m\u001b[0;34m[\u001b[0m\u001b[0;34m'errcode'\u001b[0m\u001b[0;34m]\u001b[0m\u001b[0;34m\u001b[0m\u001b[0;34m\u001b[0m\u001b[0m\n\u001b[0m\u001b[1;32m      6\u001b[0m     \u001b[0mdf\u001b[0m\u001b[0;34m[\u001b[0m\u001b[0;34m'model_fwver'\u001b[0m\u001b[0;34m]\u001b[0m \u001b[0;34m=\u001b[0m \u001b[0mdf\u001b[0m\u001b[0;34m.\u001b[0m\u001b[0miloc\u001b[0m\u001b[0;34m[\u001b[0m\u001b[0;34m:\u001b[0m\u001b[0;34m]\u001b[0m\u001b[0;34m[\u001b[0m\u001b[0;34m'model_nm'\u001b[0m\u001b[0;34m]\u001b[0m \u001b[0;34m+\u001b[0m \u001b[0;34m'_'\u001b[0m \u001b[0;34m+\u001b[0m \u001b[0mdf\u001b[0m\u001b[0;34m.\u001b[0m\u001b[0miloc\u001b[0m\u001b[0;34m[\u001b[0m\u001b[0;34m:\u001b[0m\u001b[0;34m]\u001b[0m\u001b[0;34m[\u001b[0m\u001b[0;34m'fwver'\u001b[0m\u001b[0;34m]\u001b[0m\u001b[0;34m\u001b[0m\u001b[0;34m\u001b[0m\u001b[0m\n\u001b[1;32m      7\u001b[0m     \u001b[0mdf\u001b[0m\u001b[0;34m[\u001b[0m\u001b[0;34m'fwver_errcode'\u001b[0m\u001b[0;34m]\u001b[0m \u001b[0;34m=\u001b[0m \u001b[0mdf\u001b[0m\u001b[0;34m.\u001b[0m\u001b[0miloc\u001b[0m\u001b[0;34m[\u001b[0m\u001b[0;34m:\u001b[0m\u001b[0;34m]\u001b[0m\u001b[0;34m[\u001b[0m\u001b[0;34m'fwver'\u001b[0m\u001b[0;34m]\u001b[0m \u001b[0;34m+\u001b[0m \u001b[0;34m'_'\u001b[0m \u001b[0;34m+\u001b[0m \u001b[0mdf\u001b[0m\u001b[0;34m.\u001b[0m\u001b[0miloc\u001b[0m\u001b[0;34m[\u001b[0m\u001b[0;34m:\u001b[0m\u001b[0;34m]\u001b[0m\u001b[0;34m[\u001b[0m\u001b[0;34m'errcode'\u001b[0m\u001b[0;34m]\u001b[0m\u001b[0;34m\u001b[0m\u001b[0;34m\u001b[0m\u001b[0m\n",
      "\u001b[0;31mKeyboardInterrupt\u001b[0m: "
     ]
    }
   ],
   "source": [
    "train_err = make_polycol(train_err)\n",
    "test_err = make_polycol(test_err)"
   ]
  },
  {
   "cell_type": "code",
   "execution_count": 11,
   "metadata": {
    "ExecuteTime": {
     "end_time": "2021-02-02T19:21:43.157488Z",
     "start_time": "2021-02-02T19:21:35.782084Z"
    }
   },
   "outputs": [],
   "source": [
    "errcode_dict = {code:idx for idx, code in enumerate(list(train_err['errcode'].value_counts()[:30].index))}\n",
    "errcase_dict = {code:idx for idx, code in enumerate(list(train_err['errcase'].value_counts()[:50].index))}\n",
    "# model_fwver_dict = {code:idx for idx, code in enumerate(list(train_err['model_fwver'].value_counts()[:20].index))}\n",
    "model_errtype_dict = {code:idx for idx, code in enumerate(list(train_err['model_errtype'].value_counts()[:20].index))}\n",
    "model_errcode_dict = {code:idx for idx, code in enumerate(list(train_err['model_errcode'].value_counts()[:20].index))}\n",
    "fwver_errcode_dict = {code:idx for idx, code in enumerate(list(train_err['fwver_errcode'].value_counts()[:50].index))}"
   ]
  },
  {
   "cell_type": "code",
   "execution_count": 12,
   "metadata": {
    "ExecuteTime": {
     "end_time": "2021-02-02T19:22:17.637076Z",
     "start_time": "2021-02-02T19:22:17.627621Z"
    }
   },
   "outputs": [],
   "source": [
    "def case_study(dict_case, x):\n",
    "    try:\n",
    "        return dict_case[x]\n",
    "    except:\n",
    "        return len(dict_case)\n",
    "\n",
    "def make2group(df):\n",
    "    df['errcode2'] = df['errcode'].apply(lambda x: case_study(errcode_dict, x))\n",
    "    df['errcase'] = df['errcase'].apply(lambda x: case_study(errcase_dict, x))\n",
    "#     df['model_fwver'] = df['model_fwver'].apply(lambda x: case_study(model_fwver_dict, x))\n",
    "    df['model_errtype'] = df['model_errtype'].apply(lambda x: case_study(model_errtype_dict, x))\n",
    "    df['model_errcode'] = df['model_errcode'].apply(lambda x: case_study(model_errcode_dict, x))\n",
    "    df['fwver_errcode'] = df['fwver_errcode'].apply(lambda x: case_study(fwver_errcode_dict, x))\n",
    "    return df"
   ]
  },
  {
   "cell_type": "code",
   "execution_count": 13,
   "metadata": {
    "ExecuteTime": {
     "end_time": "2021-02-02T19:23:22.436549Z",
     "start_time": "2021-02-02T19:22:27.542676Z"
    }
   },
   "outputs": [],
   "source": [
    "train_err = make2group(train_err)\n",
    "train_err.to_pickle(\"./dataset/train_err.pkl\")"
   ]
  },
  {
   "cell_type": "code",
   "execution_count": 15,
   "metadata": {
    "ExecuteTime": {
     "end_time": "2021-02-02T19:24:55.025395Z",
     "start_time": "2021-02-02T19:23:57.642646Z"
    }
   },
   "outputs": [],
   "source": [
    "test_err = make2group(test_err)\n",
    "test_err.to_pickle(\"./dataset/test_err.pkl\")"
   ]
  },
  {
   "cell_type": "markdown",
   "metadata": {},
   "source": [
    "### Time Info"
   ]
  },
  {
   "cell_type": "code",
   "execution_count": 12,
   "metadata": {
    "ExecuteTime": {
     "end_time": "2021-02-03T05:32:31.686488Z",
     "start_time": "2021-02-03T05:32:31.670096Z"
    }
   },
   "outputs": [],
   "source": [
    "def time_info(df):\n",
    "    user_logcnt = df.groupby('user_id')['time'].nunique().reset_index(name='log_cnt')\n",
    "    user_daycnt = df.groupby('user_id')['date'].nunique().reset_index(name='day_cnt')\n",
    "    \n",
    "    #daily\n",
    "    user_daily_log = df.pivot_table(index='user_id',\n",
    "                                    columns='days',\n",
    "                                    values='time',\n",
    "                                    aggfunc='count',\n",
    "                                    fill_value=0).reset_index().add_prefix('day').add_suffix('_logcnt')\n",
    "    user_daily_log.columns.name=None\n",
    "    user_daily_log = user_daily_log.rename(columns={\"dayuser_id_logcnt\": \"user_id\"})\n",
    "    \n",
    "#     #weekly\n",
    "#     user_weekly_log = df.pivot_table(index='user_id',\n",
    "#                                      columns='week',\n",
    "#                                      values='time',\n",
    "#                                      aggfunc='count',\n",
    "#                                      fill_value=0).reset_index().add_prefix('week').add_suffix('_logcnt')\n",
    "#     user_weekly_log.columns.name=None\n",
    "#     user_weekly_log = user_weekly_log.rename(columns={\"weekuser_id_logcnt\": \"user_id\"})\n",
    "    \n",
    "    # Hourly\n",
    "    user_hourly_log = df.pivot_table(index='user_id',\n",
    "                                     columns='hour',\n",
    "                                     values='time',\n",
    "                                     aggfunc='count',\n",
    "                                     fill_value=0).reset_index().add_prefix('hour').add_suffix('_logcnt')\n",
    "    user_hourly_log.columns.name=None\n",
    "    user_hourly_log = user_hourly_log.rename(columns={\"houruser_id_logcnt\": \"user_id\"})\n",
    "    \n",
    "    # Merge\n",
    "    process_df = pd.merge(user_logcnt, user_daycnt, how='left', on='user_id')\n",
    "    process_df = pd.merge(process_df, user_daily_log, how='left', on='user_id')\n",
    "    process_df = pd.merge(process_df, user_hourly_log, how='left', on='user_id')\n",
    "    return process_df"
   ]
  },
  {
   "cell_type": "code",
   "execution_count": 13,
   "metadata": {
    "ExecuteTime": {
     "end_time": "2021-02-03T05:33:04.570531Z",
     "start_time": "2021-02-03T05:32:32.200981Z"
    }
   },
   "outputs": [],
   "source": [
    "train_time_info = time_info(train_err)\n",
    "test_time_info = time_info(test_err)"
   ]
  },
  {
   "cell_type": "markdown",
   "metadata": {},
   "source": [
    "### Err Info"
   ]
  },
  {
   "cell_type": "code",
   "execution_count": 14,
   "metadata": {
    "ExecuteTime": {
     "end_time": "2021-02-03T05:33:04.583747Z",
     "start_time": "2021-02-03T05:33:04.571619Z"
    }
   },
   "outputs": [],
   "source": [
    "def err_info(df):\n",
    "    # errtype\n",
    "    errtype_cnt = df.pivot_table(index='user_id', \n",
    "                                  columns='errtype', \n",
    "                                  values='time', \n",
    "                                  aggfunc='count', \n",
    "                                  fill_value=0).reset_index().add_prefix('errtype_')\n",
    "    errtype_cnt.columns.name=None\n",
    "    errtype_cnt = errtype_cnt.rename(columns={\"errtype_user_id\": \"user_id\"})\n",
    "    errtype_unique = df.groupby('user_id')['errtype'].nunique().reset_index(name='errtype_unum')\n",
    "    \n",
    "    # Errcode\n",
    "    errcode_cnt = df.pivot_table(index='user_id', \n",
    "                                 columns='errcode2', \n",
    "                                 values='time', \n",
    "                                 aggfunc='count', \n",
    "                                 fill_value=0).reset_index().add_prefix('errcode_')\n",
    "\n",
    "    errcode_cnt.columns.name=None\n",
    "    errcode_cnt = errcode_cnt.rename(columns={\"errcode_user_id\": \"user_id\"})\n",
    "    errcode_unique = df.groupby('user_id')['errcode'].nunique().reset_index(name='errcode_unum')\n",
    "    \n",
    "    \n",
    "    # Errcase\n",
    "    errcase_cnt = df.pivot_table(index='user_id', \n",
    "                                 columns='errcase', \n",
    "                                 values='time', \n",
    "                                 aggfunc='count', \n",
    "                                 fill_value=0).reset_index().add_prefix('errcase_')\n",
    "\n",
    "    errcase_cnt.columns.name=None\n",
    "    errcase_cnt = errcase_cnt.rename(columns={\"errcase_user_id\": \"user_id\"})\n",
    "    errcase_unique = df.groupby('user_id')['errcase'].nunique().reset_index(name='errcase_unum')\n",
    "    \n",
    "    \n",
    "    # Merge\n",
    "    process_df = pd.merge(errtype_cnt, errtype_unique, how='left', on='user_id')\n",
    "    process_df = pd.merge(process_df, errcode_cnt, how='left', on='user_id')\n",
    "    process_df = pd.merge(process_df, errcode_unique, how='left', on='user_id')\n",
    "    process_df = pd.merge(process_df, errcase_cnt, how='left', on='user_id')\n",
    "    process_df = pd.merge(process_df, errcase_unique, how='left', on='user_id')\n",
    "    return process_df"
   ]
  },
  {
   "cell_type": "code",
   "execution_count": 15,
   "metadata": {
    "ExecuteTime": {
     "end_time": "2021-02-03T05:33:26.625920Z",
     "start_time": "2021-02-03T05:33:04.584845Z"
    }
   },
   "outputs": [],
   "source": [
    "train_err_info = err_info(train_err)\n",
    "test_err_info = err_info(test_err)"
   ]
  },
  {
   "cell_type": "markdown",
   "metadata": {},
   "source": [
    "### Side Info"
   ]
  },
  {
   "cell_type": "code",
   "execution_count": 16,
   "metadata": {
    "ExecuteTime": {
     "end_time": "2021-02-03T05:33:26.648786Z",
     "start_time": "2021-02-03T05:33:26.627094Z"
    }
   },
   "outputs": [],
   "source": [
    "def side_info(df):\n",
    "    # Model\n",
    "    model_nm_cnt = df.pivot_table(index='user_id', \n",
    "                                  columns='model_nm', \n",
    "                                  values='time', \n",
    "                                  aggfunc='count', \n",
    "                                  fill_value=0).reset_index().add_prefix('model_nm_')\n",
    "    model_nm_cnt.columns.name=None\n",
    "    model_nm_cnt = model_nm_cnt.rename(columns={\"model_nm_user_id\": \"user_id\"})\n",
    "    model_nm_unique = df.groupby('user_id')['model_nm'].nunique().reset_index(name='model_nm_unum')\n",
    "    \n",
    "    # Fwver\n",
    "    fwver_unique = df.groupby('user_id')['fwver'].nunique().reset_index(name='fwver_unum')\n",
    "\n",
    "    \n",
    "    # Model + Errtype\n",
    "    merrtype_cnt = df.pivot_table(index='user_id', \n",
    "                                  columns='model_errtype', \n",
    "                                  values='time', \n",
    "                                  aggfunc='count', \n",
    "                                  fill_value=0).reset_index().add_prefix('merrtype_')\n",
    "    merrtype_cnt.columns.name=None\n",
    "    merrtype_cnt = merrtype_cnt.rename(columns={\"merrtype_user_id\": \"user_id\"})\n",
    "    merrtype_cnt_unique = df.groupby('user_id')['model_errtype'].nunique().reset_index(name='merrtype_unum')\n",
    "    \n",
    "    # Model + Errcode\n",
    "    merrcode_cnt = df.pivot_table(index='user_id', \n",
    "                                  columns='model_errcode', \n",
    "                                  values='time', \n",
    "                                  aggfunc='count', \n",
    "                                  fill_value=0).reset_index().add_prefix('merrcode_')\n",
    "    merrcode_cnt.columns.name=None\n",
    "    merrcode_cnt = merrcode_cnt.rename(columns={\"merrcode_user_id\": \"user_id\"})\n",
    "    merrcode_cnt_unique = df.groupby('user_id')['model_errcode'].nunique().reset_index(name='merrcode_unum')\n",
    "    \n",
    "    \n",
    "    # Fwver + Errcode\n",
    "    ferrcode_cnt = df.pivot_table(index='user_id', \n",
    "                                  columns='fwver_errcode', \n",
    "                                  values='time', \n",
    "                                  aggfunc='count', \n",
    "                                  fill_value=0).reset_index().add_prefix('ferrcode_')\n",
    "    ferrcode_cnt.columns.name=None\n",
    "    ferrcode_cnt = ferrcode_cnt.rename(columns={\"ferrcode_user_id\": \"user_id\"})\n",
    "    ferrcode_cnt_unique = df.groupby('user_id')['fwver_errcode'].nunique().reset_index(name='ferrcode_unum')\n",
    "    \n",
    "    \n",
    "    # Merge\n",
    "    process_df = pd.merge(model_nm_cnt, model_nm_unique, how='left', on='user_id')\n",
    "    process_df = pd.merge(process_df, fwver_unique, how='left', on='user_id')\n",
    "    \n",
    "#     process_df = pd.merge(process_df, merrtype_cnt, how='left', on='user_id')\n",
    "    process_df = pd.merge(process_df, merrtype_cnt_unique, how='left', on='user_id')\n",
    "    \n",
    "#     process_df = pd.merge(process_df, merrcode_cnt, how='left', on='user_id')\n",
    "    process_df = pd.merge(process_df, merrcode_cnt_unique, how='left', on='user_id')\n",
    "    \n",
    "#     process_df = pd.merge(process_df, ferrcode_cnt, how='left', on='user_id')\n",
    "    process_df = pd.merge(process_df, ferrcode_cnt_unique, how='left', on='user_id')\n",
    "    return process_df"
   ]
  },
  {
   "cell_type": "code",
   "execution_count": 17,
   "metadata": {
    "ExecuteTime": {
     "end_time": "2021-02-03T05:33:52.606838Z",
     "start_time": "2021-02-03T05:33:26.650090Z"
    }
   },
   "outputs": [],
   "source": [
    "train_side_info = side_info(train_err)\n",
    "test_side_info = side_info(test_err)"
   ]
  },
  {
   "cell_type": "markdown",
   "metadata": {},
   "source": [
    "### Time"
   ]
  },
  {
   "cell_type": "code",
   "execution_count": 18,
   "metadata": {
    "ExecuteTime": {
     "end_time": "2021-02-03T05:33:52.613203Z",
     "start_time": "2021-02-03T05:33:52.608057Z"
    }
   },
   "outputs": [],
   "source": [
    "def make_difftime(df):\n",
    "    df['shift_time'] = df.groupby('user_id')['time'].shift(1)\n",
    "    \n",
    "    df['diff_days'] = (df.iloc[:]['time'] - df.iloc[:]['shift_time'])\n",
    "    df['diff_mins'] = (df.iloc[:]['time'] - df.iloc[:]['shift_time'])\n",
    "    \n",
    "    df['diff_days'] = df['diff_days'].dt.days\n",
    "    df['diff_mins'] = df['diff_mins'].dt.seconds\n",
    "    return df "
   ]
  },
  {
   "cell_type": "code",
   "execution_count": 19,
   "metadata": {
    "ExecuteTime": {
     "end_time": "2021-02-03T05:33:55.223469Z",
     "start_time": "2021-02-03T05:33:52.614713Z"
    }
   },
   "outputs": [],
   "source": [
    "diff_train = make_difftime(train_err)\n",
    "diff_test = make_difftime(test_err)"
   ]
  },
  {
   "cell_type": "code",
   "execution_count": 20,
   "metadata": {
    "ExecuteTime": {
     "end_time": "2021-02-03T05:33:55.870196Z",
     "start_time": "2021-02-03T05:33:55.224803Z"
    }
   },
   "outputs": [],
   "source": [
    "ATI_train = diff_train.groupby('user_id')['diff_days','diff_mins'].agg(['mean', 'std']).reset_index()\n",
    "ATI_train.columns = ['user_id'] + ['{}_{}'.format(i, j) for i, j in ATI_train.columns[1:]]"
   ]
  },
  {
   "cell_type": "code",
   "execution_count": 21,
   "metadata": {
    "ExecuteTime": {
     "end_time": "2021-02-03T05:33:56.409538Z",
     "start_time": "2021-02-03T05:33:55.871165Z"
    }
   },
   "outputs": [],
   "source": [
    "ATI_test = diff_train.groupby('user_id')['diff_days','diff_mins'].agg(['mean', 'std']).reset_index()\n",
    "ATI_test.columns = ['user_id'] + ['{}_{}'.format(i, j) for i, j in ATI_test.columns[1:]]"
   ]
  },
  {
   "cell_type": "markdown",
   "metadata": {},
   "source": [
    "## Train Problem"
   ]
  },
  {
   "cell_type": "code",
   "execution_count": 22,
   "metadata": {
    "ExecuteTime": {
     "end_time": "2021-02-03T05:33:56.418181Z",
     "start_time": "2021-02-03T05:33:56.410657Z"
    }
   },
   "outputs": [
    {
     "data": {
      "text/plain": [
       "(15000,)"
      ]
     },
     "execution_count": 22,
     "metadata": {},
     "output_type": "execute_result"
    }
   ],
   "source": [
    "train_y = np.zeros(15000)\n",
    "# error와 동일한 방법으로 person_idx - 10000 위치에 \n",
    "# person_idx의 problem이 한 번이라도 발생했다면 1\n",
    "# 없다면 0\n",
    "train_y[train_problem['user_id'].unique()-10000] = 1 \n",
    "train_y = train_y.astype(np.int64)\n",
    "train_y.shape"
   ]
  },
  {
   "cell_type": "markdown",
   "metadata": {},
   "source": [
    "## Modeling"
   ]
  },
  {
   "cell_type": "code",
   "execution_count": 68,
   "metadata": {
    "ExecuteTime": {
     "end_time": "2021-02-03T06:28:44.242313Z",
     "start_time": "2021-02-03T06:28:44.107193Z"
    }
   },
   "outputs": [],
   "source": [
    "train_quality_total = pd.read_csv('./dataset/train_quality_toal.csv')\n",
    "test_quality_total = pd.read_csv('./dataset/test_quality_toal.csv')"
   ]
  },
  {
   "cell_type": "code",
   "execution_count": 69,
   "metadata": {
    "ExecuteTime": {
     "end_time": "2021-02-03T06:28:44.733021Z",
     "start_time": "2021-02-03T06:28:44.681581Z"
    }
   },
   "outputs": [],
   "source": [
    "train_x = pd.merge(train_time_info, train_err_info, how='left', on='user_id')\n",
    "train_x = pd.merge(train_x, train_side_info, how='left', on='user_id')\n",
    "train_x = pd.merge(train_x, ATI_train, how='left', on='user_id')\n",
    "train_x = pd.merge(train_x, train_quality_total, how='left', on='user_id')"
   ]
  },
  {
   "cell_type": "code",
   "execution_count": 70,
   "metadata": {
    "ExecuteTime": {
     "end_time": "2021-02-03T06:28:45.623124Z",
     "start_time": "2021-02-03T06:28:45.568373Z"
    }
   },
   "outputs": [],
   "source": [
    "test_x = pd.merge(test_time_info, test_err_info, how='left', on='user_id')\n",
    "test_x = pd.merge(test_x, test_side_info, how='left', on='user_id')\n",
    "test_x = pd.merge(test_x, ATI_test, how='left', on='user_id')\n",
    "test_x = pd.merge(test_x, test_quality_total, how='left', on='user_id')"
   ]
  },
  {
   "cell_type": "code",
   "execution_count": 71,
   "metadata": {
    "ExecuteTime": {
     "end_time": "2021-02-03T06:28:46.042043Z",
     "start_time": "2021-02-03T06:28:46.038629Z"
    }
   },
   "outputs": [],
   "source": [
    "prediction = pd.DataFrame(test_x['user_id'])"
   ]
  },
  {
   "cell_type": "code",
   "execution_count": 72,
   "metadata": {
    "ExecuteTime": {
     "end_time": "2021-02-03T06:28:47.500678Z",
     "start_time": "2021-02-03T06:28:47.487214Z"
    }
   },
   "outputs": [],
   "source": [
    "# test_x = test_x.fillna(0)\n",
    "train_x = train_x.iloc[:,1:]\n",
    "test_x = test_x.iloc[:,1:]\n",
    "\n"
   ]
  },
  {
   "cell_type": "code",
   "execution_count": 73,
   "metadata": {
    "ExecuteTime": {
     "end_time": "2021-02-03T06:28:48.446332Z",
     "start_time": "2021-02-03T06:28:48.443632Z"
    }
   },
   "outputs": [],
   "source": [
    "inner_col = set(train_x.columns).intersection(set(test_x.columns))"
   ]
  },
  {
   "cell_type": "code",
   "execution_count": 74,
   "metadata": {
    "ExecuteTime": {
     "end_time": "2021-02-03T06:28:49.832678Z",
     "start_time": "2021-02-03T06:28:49.800764Z"
    }
   },
   "outputs": [],
   "source": [
    "train_x = train_x[inner_col]\n",
    "test_x = test_x[inner_col]"
   ]
  },
  {
   "cell_type": "code",
   "execution_count": 75,
   "metadata": {
    "ExecuteTime": {
     "end_time": "2021-02-03T06:28:53.287455Z",
     "start_time": "2021-02-03T06:28:53.284397Z"
    }
   },
   "outputs": [
    {
     "name": "stdout",
     "output_type": "stream",
     "text": [
      "(15000, 323)\n",
      "(14998, 323)\n"
     ]
    }
   ],
   "source": [
    "print(train_x.shape)\n",
    "print(test_x.shape)"
   ]
  },
  {
   "cell_type": "code",
   "execution_count": 92,
   "metadata": {
    "ExecuteTime": {
     "end_time": "2021-02-03T06:42:38.092696Z",
     "start_time": "2021-02-03T06:42:37.545836Z"
    }
   },
   "outputs": [
    {
     "data": {
      "image/png": "[encoded data removed]",
      "text/plain": [
       "<Figure size 864x720 with 1 Axes>"
      ]
     },
     "metadata": {
      "needs_background": "light"
     },
     "output_type": "display_data"
    }
   ],
   "source": [
    "final_importance = feature_importance_df.groupby(\"feature\").mean().sort_values(by=\"importance\", ascending=False).reset_index()[:50]\n",
    "\n",
    "plt.figure(figsize=(12,10))\n",
    "sns.barplot(x=\"importance\",y=\"feature\",data=final_importance)\n",
    "plt.title('TOP 50 Feature Importances over 5 Folds Average')\n",
    "plt.tight_layout()"
   ]
  },
  {
   "cell_type": "code",
   "execution_count": 83,
   "metadata": {
    "ExecuteTime": {
     "end_time": "2021-02-03T06:34:13.022014Z",
     "start_time": "2021-02-03T06:34:12.995532Z"
    }
   },
   "outputs": [],
   "source": [
    "train_x = train_x.fillna(0)\n",
    "test_x = test_x.fillna(0)"
   ]
  },
  {
   "cell_type": "code",
   "execution_count": 89,
   "metadata": {
    "ExecuteTime": {
     "end_time": "2021-02-03T06:39:20.487205Z",
     "start_time": "2021-02-03T06:39:20.482302Z"
    }
   },
   "outputs": [],
   "source": [
    "## Bayes Optimization을 통하여 수행한 Parameters\n",
    "\n",
    "param = {\n",
    "    'boosting_type': 'gbdt',\n",
    "    'objective': 'binary',\n",
    "    'num_leaves': 31,\n",
    "    'max_depth': 8,\n",
    "    'learning_rate': 0.01,\n",
    "    'bagging_fraction': 0.7, \n",
    "    'feature_fraction': 0.7,\n",
    "    'metric': 'auc',\n",
    "    'verbose':-1\n",
    "    }"
   ]
  },
  {
   "cell_type": "code",
   "execution_count": 90,
   "metadata": {
    "ExecuteTime": {
     "end_time": "2021-02-03T06:40:53.868995Z",
     "start_time": "2021-02-03T06:39:21.495658Z"
    },
    "scrolled": false
   },
   "outputs": [
    {
     "data": {
      "application/vnd.jupyter.widget-view+json": {
       "model_id": "c4c5939ff95e4ad6a959b3c10b9afdf6",
       "version_major": 2,
       "version_minor": 0
      },
      "text/plain": [
       "HBox(children=(FloatProgress(value=0.0, max=4.0), HTML(value='')))"
      ]
     },
     "metadata": {},
     "output_type": "display_data"
    },
    {
     "name": "stdout",
     "output_type": "stream",
     "text": [
      "Fold Start!\n",
      "Training until validation scores don't improve for 100 rounds\n",
      "[200]\ttraining's auc: 0.873709\tvalid_1's auc: 0.812102\n",
      "[400]\ttraining's auc: 0.904193\tvalid_1's auc: 0.816936\n",
      "[600]\ttraining's auc: 0.928197\tvalid_1's auc: 0.818072\n",
      "Early stopping, best iteration is:\n",
      "[604]\ttraining's auc: 0.928695\tvalid_1's auc: 0.818207\n",
      "Fold Start!\n",
      "Training until validation scores don't improve for 100 rounds\n",
      "[200]\ttraining's auc: 0.872105\tvalid_1's auc: 0.828474\n",
      "[400]\ttraining's auc: 0.9035\tvalid_1's auc: 0.831067\n",
      "Early stopping, best iteration is:\n",
      "[495]\ttraining's auc: 0.915046\tvalid_1's auc: 0.831588\n",
      "Fold Start!\n",
      "Training until validation scores don't improve for 100 rounds\n",
      "[200]\ttraining's auc: 0.872989\tvalid_1's auc: 0.825298\n",
      "[400]\ttraining's auc: 0.903318\tvalid_1's auc: 0.833329\n",
      "[600]\ttraining's auc: 0.927557\tvalid_1's auc: 0.835296\n",
      "Early stopping, best iteration is:\n",
      "[590]\ttraining's auc: 0.926311\tvalid_1's auc: 0.835363\n",
      "Fold Start!\n",
      "Training until validation scores don't improve for 100 rounds\n",
      "[200]\ttraining's auc: 0.870919\tvalid_1's auc: 0.825375\n",
      "[400]\ttraining's auc: 0.902863\tvalid_1's auc: 0.830739\n",
      "[600]\ttraining's auc: 0.927711\tvalid_1's auc: 0.831384\n",
      "Early stopping, best iteration is:\n",
      "[550]\ttraining's auc: 0.922505\tvalid_1's auc: 0.831697\n",
      "Fold Start!\n",
      "Training until validation scores don't improve for 100 rounds\n",
      "[200]\ttraining's auc: 0.874126\tvalid_1's auc: 0.812454\n",
      "[400]\ttraining's auc: 0.90259\tvalid_1's auc: 0.819249\n",
      "[600]\ttraining's auc: 0.926795\tvalid_1's auc: 0.820782\n",
      "Early stopping, best iteration is:\n",
      "[524]\ttraining's auc: 0.917931\tvalid_1's auc: 0.8211\n",
      "Seed: 517, CV score: 0.82732 \n",
      "================================================================================\n",
      "Fold Start!\n",
      "Training until validation scores don't improve for 100 rounds\n",
      "[200]\ttraining's auc: 0.872386\tvalid_1's auc: 0.830282\n",
      "[400]\ttraining's auc: 0.903305\tvalid_1's auc: 0.833744\n",
      "Early stopping, best iteration is:\n",
      "[414]\ttraining's auc: 0.904741\tvalid_1's auc: 0.833951\n",
      "Fold Start!\n",
      "Training until validation scores don't improve for 100 rounds\n",
      "[200]\ttraining's auc: 0.870956\tvalid_1's auc: 0.824757\n",
      "[400]\ttraining's auc: 0.901663\tvalid_1's auc: 0.828727\n",
      "[600]\ttraining's auc: 0.925353\tvalid_1's auc: 0.830063\n",
      "[800]\ttraining's auc: 0.945263\tvalid_1's auc: 0.830503\n",
      "Early stopping, best iteration is:\n",
      "[760]\ttraining's auc: 0.941577\tvalid_1's auc: 0.830809\n",
      "Fold Start!\n",
      "Training until validation scores don't improve for 100 rounds\n",
      "[200]\ttraining's auc: 0.869865\tvalid_1's auc: 0.82452\n",
      "[400]\ttraining's auc: 0.902596\tvalid_1's auc: 0.832331\n",
      "[600]\ttraining's auc: 0.925357\tvalid_1's auc: 0.833835\n",
      "[800]\ttraining's auc: 0.944043\tvalid_1's auc: 0.83457\n",
      "Early stopping, best iteration is:\n",
      "[803]\ttraining's auc: 0.944254\tvalid_1's auc: 0.834659\n",
      "Fold Start!\n",
      "Training until validation scores don't improve for 100 rounds\n",
      "[200]\ttraining's auc: 0.875092\tvalid_1's auc: 0.806186\n",
      "[400]\ttraining's auc: 0.90549\tvalid_1's auc: 0.810643\n",
      "[600]\ttraining's auc: 0.929029\tvalid_1's auc: 0.811982\n",
      "[800]\ttraining's auc: 0.946792\tvalid_1's auc: 0.812006\n",
      "Early stopping, best iteration is:\n",
      "[734]\ttraining's auc: 0.941391\tvalid_1's auc: 0.812485\n",
      "Fold Start!\n",
      "Training until validation scores don't improve for 100 rounds\n",
      "[200]\ttraining's auc: 0.871502\tvalid_1's auc: 0.827923\n",
      "[400]\ttraining's auc: 0.903052\tvalid_1's auc: 0.83324\n",
      "Early stopping, best iteration is:\n",
      "[490]\ttraining's auc: 0.915503\tvalid_1's auc: 0.834136\n",
      "Seed: 41, CV score: 0.82878 \n",
      "================================================================================\n",
      "Fold Start!\n",
      "Training until validation scores don't improve for 100 rounds\n",
      "[200]\ttraining's auc: 0.873238\tvalid_1's auc: 0.82141\n",
      "[400]\ttraining's auc: 0.901932\tvalid_1's auc: 0.825534\n",
      "[600]\ttraining's auc: 0.924665\tvalid_1's auc: 0.828605\n",
      "[800]\ttraining's auc: 0.94307\tvalid_1's auc: 0.830321\n",
      "[1000]\ttraining's auc: 0.957728\tvalid_1's auc: 0.83159\n",
      "[1200]\ttraining's auc: 0.969215\tvalid_1's auc: 0.832089\n",
      "Early stopping, best iteration is:\n",
      "[1254]\ttraining's auc: 0.971641\tvalid_1's auc: 0.832353\n",
      "Fold Start!\n",
      "Training until validation scores don't improve for 100 rounds\n",
      "[200]\ttraining's auc: 0.875701\tvalid_1's auc: 0.813858\n",
      "[400]\ttraining's auc: 0.906883\tvalid_1's auc: 0.820291\n",
      "[600]\ttraining's auc: 0.929616\tvalid_1's auc: 0.8218\n",
      "[800]\ttraining's auc: 0.947537\tvalid_1's auc: 0.822717\n",
      "Early stopping, best iteration is:\n",
      "[738]\ttraining's auc: 0.942644\tvalid_1's auc: 0.82288\n",
      "Fold Start!\n",
      "Training until validation scores don't improve for 100 rounds\n",
      "[200]\ttraining's auc: 0.872141\tvalid_1's auc: 0.831651\n",
      "[400]\ttraining's auc: 0.903213\tvalid_1's auc: 0.834207\n",
      "Early stopping, best iteration is:\n",
      "[455]\ttraining's auc: 0.90985\tvalid_1's auc: 0.83434\n",
      "Fold Start!\n",
      "Training until validation scores don't improve for 100 rounds\n",
      "[200]\ttraining's auc: 0.870846\tvalid_1's auc: 0.814163\n",
      "[400]\ttraining's auc: 0.901583\tvalid_1's auc: 0.822581\n",
      "[600]\ttraining's auc: 0.924629\tvalid_1's auc: 0.824609\n",
      "[800]\ttraining's auc: 0.943395\tvalid_1's auc: 0.826044\n",
      "[1000]\ttraining's auc: 0.958253\tvalid_1's auc: 0.827055\n",
      "Early stopping, best iteration is:\n",
      "[1012]\ttraining's auc: 0.95902\tvalid_1's auc: 0.827188\n",
      "Fold Start!\n",
      "Training until validation scores don't improve for 100 rounds\n",
      "[200]\ttraining's auc: 0.871433\tvalid_1's auc: 0.830674\n",
      "[400]\ttraining's auc: 0.902169\tvalid_1's auc: 0.83318\n",
      "[600]\ttraining's auc: 0.926944\tvalid_1's auc: 0.834221\n",
      "Early stopping, best iteration is:\n",
      "[599]\ttraining's auc: 0.926811\tvalid_1's auc: 0.834225\n",
      "Seed: 337, CV score: 0.82964 \n",
      "================================================================================\n",
      "Fold Start!\n",
      "Training until validation scores don't improve for 100 rounds\n",
      "[200]\ttraining's auc: 0.871588\tvalid_1's auc: 0.820908\n",
      "[400]\ttraining's auc: 0.902437\tvalid_1's auc: 0.825465\n",
      "[600]\ttraining's auc: 0.927756\tvalid_1's auc: 0.82665\n",
      "Early stopping, best iteration is:\n",
      "[550]\ttraining's auc: 0.922445\tvalid_1's auc: 0.826815\n",
      "Fold Start!\n",
      "Training until validation scores don't improve for 100 rounds\n",
      "[200]\ttraining's auc: 0.875145\tvalid_1's auc: 0.814507\n",
      "[400]\ttraining's auc: 0.905451\tvalid_1's auc: 0.819727\n",
      "[600]\ttraining's auc: 0.928423\tvalid_1's auc: 0.821772\n",
      "[800]\ttraining's auc: 0.947576\tvalid_1's auc: 0.823019\n",
      "[1000]\ttraining's auc: 0.962099\tvalid_1's auc: 0.82341\n",
      "Early stopping, best iteration is:\n",
      "[1075]\ttraining's auc: 0.966458\tvalid_1's auc: 0.823662\n",
      "Fold Start!\n",
      "Training until validation scores don't improve for 100 rounds\n",
      "[200]\ttraining's auc: 0.871729\tvalid_1's auc: 0.825319\n",
      "[400]\ttraining's auc: 0.903866\tvalid_1's auc: 0.830933\n",
      "[600]\ttraining's auc: 0.928021\tvalid_1's auc: 0.832251\n",
      "[800]\ttraining's auc: 0.945796\tvalid_1's auc: 0.832738\n",
      "Early stopping, best iteration is:\n",
      "[765]\ttraining's auc: 0.943275\tvalid_1's auc: 0.83283\n",
      "Fold Start!\n",
      "Training until validation scores don't improve for 100 rounds\n",
      "[200]\ttraining's auc: 0.872564\tvalid_1's auc: 0.821447\n",
      "[400]\ttraining's auc: 0.903648\tvalid_1's auc: 0.826443\n",
      "Early stopping, best iteration is:\n",
      "[457]\ttraining's auc: 0.910235\tvalid_1's auc: 0.826921\n",
      "Fold Start!\n",
      "Training until validation scores don't improve for 100 rounds\n",
      "[200]\ttraining's auc: 0.872559\tvalid_1's auc: 0.825026\n",
      "Early stopping, best iteration is:\n",
      "[150]\ttraining's auc: 0.864778\tvalid_1's auc: 0.825198\n",
      "Seed: 712, CV score: 0.82482 \n",
      "================================================================================\n",
      "\n",
      "================================================================================\n",
      "\n",
      "Cross Validation Is Complete\n",
      "Final CV score: 0.83069 \n"
     ]
    }
   ],
   "source": [
    "# 717 \n",
    "from catboost import Pool, CatBoostClassifier\n",
    "\n",
    "n_seeds = 4\n",
    "final_oof_lgb = np.zeros((len(train_x)))\n",
    "final_pred = np.zeros((len(test_x)))\n",
    "feature_importance_df = pd.DataFrame()\n",
    "\n",
    "for _ in tqdm_notebook(range(n_seeds)):\n",
    "    seed = np.random.randint(1000)\n",
    "    oof_lgb = np.zeros((len(train_x)))\n",
    "    pred_lgb = np.zeros((len(train_x)))\n",
    "    fold_importance_df = pd.DataFrame()\n",
    "    \n",
    "    skf = StratifiedKFold(n_splits=5, shuffle=True, random_state=seed)\n",
    "    \n",
    "    for fold_, (trn_idx, val_idx) in enumerate(skf.split(train_x, train_y)):\n",
    "        print('Fold Start!'.format(fold_+1))\n",
    "        trn_data = lgb.Dataset(train_x.iloc[trn_idx], label=train_y[trn_idx])\n",
    "        val_data = lgb.Dataset(train_x.iloc[val_idx], label=train_y[val_idx])\n",
    "\n",
    "        num_round = 3000\n",
    "        param['seed']= seed\n",
    "        clf = lgb.train(param, trn_data, num_round, valid_sets = [trn_data, val_data], \n",
    "                        verbose_eval=200, early_stopping_rounds = 100)\n",
    "\n",
    "        fold_importance_df[\"feature\"] = train_x.columns\n",
    "        fold_importance_df[\"importance\"] = clf.feature_importance()\n",
    "        oof_lgb[val_idx] = clf.predict(train_x.iloc[val_idx], num_iteration=clf.best_iteration)    \n",
    "        pred_lgb = clf.predict(test_x, num_iteration=clf.best_iteration)    \n",
    "    \n",
    "    print(\"Seed: {}, CV score: {:<8.5f}\".format(seed, roc_auc_score(train_y, oof_lgb)))\n",
    "    print('='*80)\n",
    "    final_oof_lgb += oof_lgb\n",
    "    final_pred += pred_lgb\n",
    "    feature_importance_df = pd.concat([feature_importance_df, fold_importance_df], axis=0)\n",
    "\n",
    "print('='*80)\n",
    "final_oof_lgb /= n_seeds\n",
    "final_pred /= n_seeds\n",
    "print('\\nCross Validation Is Complete')     \n",
    "print(\"Final CV score: {:<8.5f}\".format(roc_auc_score(train_y, final_oof_lgb)))"
   ]
  },
  {
   "cell_type": "code",
   "execution_count": 58,
   "metadata": {
    "ExecuteTime": {
     "end_time": "2021-02-03T06:08:09.063045Z",
     "start_time": "2021-02-03T06:08:09.059721Z"
    }
   },
   "outputs": [],
   "source": [
    "prediction['problem'] = final_pred"
   ]
  },
  {
   "cell_type": "code",
   "execution_count": 59,
   "metadata": {
    "ExecuteTime": {
     "end_time": "2021-02-03T06:08:09.493020Z",
     "start_time": "2021-02-03T06:08:09.482703Z"
    }
   },
   "outputs": [],
   "source": [
    "submission = pd.read_csv('dataset/sample_submission.csv')\n",
    "submission = submission.drop('problem', axis=1)"
   ]
  },
  {
   "cell_type": "code",
   "execution_count": 60,
   "metadata": {
    "ExecuteTime": {
     "end_time": "2021-02-03T06:08:11.044660Z",
     "start_time": "2021-02-03T06:08:11.038617Z"
    }
   },
   "outputs": [],
   "source": [
    "submission = pd.merge(submission, prediction, how='left', on='user_id')"
   ]
  },
  {
   "cell_type": "code",
   "execution_count": 61,
   "metadata": {
    "ExecuteTime": {
     "end_time": "2021-02-03T06:08:11.675950Z",
     "start_time": "2021-02-03T06:08:11.623723Z"
    }
   },
   "outputs": [],
   "source": [
    "from datetime import date\n",
    "\n",
    "today = date.today().strftime(\"%m-%d\")\n",
    "version=3\n",
    "\n",
    "submission.to_csv(f'{today}_lgb_baseline_{version}.csv', index=False)"
   ]
  },
  {
   "cell_type": "code",
   "execution_count": 62,
   "metadata": {
    "ExecuteTime": {
     "end_time": "2021-02-03T06:08:11.981691Z",
     "start_time": "2021-02-03T06:08:11.977902Z"
    },
    "scrolled": true
   },
   "outputs": [
    {
     "data": {
      "text/plain": [
       "(14999, 2)"
      ]
     },
     "execution_count": 62,
     "metadata": {},
     "output_type": "execute_result"
    }
   ],
   "source": [
    "submission.shape"
   ]
  },
  {
   "cell_type": "code",
   "execution_count": 63,
   "metadata": {
    "ExecuteTime": {
     "end_time": "2021-02-03T06:08:13.563875Z",
     "start_time": "2021-02-03T06:08:13.557157Z"
    }
   },
   "outputs": [
    {
     "data": {
      "text/html": [
       "<div>\n",
       "<style scoped>\n",
       "    .dataframe tbody tr th:only-of-type {\n",
       "        vertical-align: middle;\n",
       "    }\n",
       "\n",
       "    .dataframe tbody tr th {\n",
       "        vertical-align: top;\n",
       "    }\n",
       "\n",
       "    .dataframe thead th {\n",
       "        text-align: right;\n",
       "    }\n",
       "</style>\n",
       "<table border=\"1\" class=\"dataframe\">\n",
       "  <thead>\n",
       "    <tr style=\"text-align: right;\">\n",
       "      <th></th>\n",
       "      <th>user_id</th>\n",
       "      <th>problem</th>\n",
       "    </tr>\n",
       "  </thead>\n",
       "  <tbody>\n",
       "    <tr>\n",
       "      <th>0</th>\n",
       "      <td>30000</td>\n",
       "      <td>0.938572</td>\n",
       "    </tr>\n",
       "    <tr>\n",
       "      <th>1</th>\n",
       "      <td>30001</td>\n",
       "      <td>0.369302</td>\n",
       "    </tr>\n",
       "    <tr>\n",
       "      <th>2</th>\n",
       "      <td>30002</td>\n",
       "      <td>0.347466</td>\n",
       "    </tr>\n",
       "    <tr>\n",
       "      <th>3</th>\n",
       "      <td>30003</td>\n",
       "      <td>0.722235</td>\n",
       "    </tr>\n",
       "    <tr>\n",
       "      <th>4</th>\n",
       "      <td>30004</td>\n",
       "      <td>0.920013</td>\n",
       "    </tr>\n",
       "  </tbody>\n",
       "</table>\n",
       "</div>"
      ],
      "text/plain": [
       "   user_id   problem\n",
       "0    30000  0.938572\n",
       "1    30001  0.369302\n",
       "2    30002  0.347466\n",
       "3    30003  0.722235\n",
       "4    30004  0.920013"
      ]
     },
     "execution_count": 63,
     "metadata": {},
     "output_type": "execute_result"
    }
   ],
   "source": [
    "submission.head()"
   ]
  },
  {
   "cell_type": "code",
   "execution_count": null,
   "metadata": {},
   "outputs": [],
   "source": []
  }
 ],
 "metadata": {
  "kernelspec": {
   "display_name": "ML_Server",
   "language": "python",
   "name": "ml_server"
  },
  "language_info": {
   "codemirror_mode": {
    "name": "ipython",
    "version": 3
   },
   "file_extension": ".py",
   "mimetype": "text/x-python",
   "name": "python",
   "nbconvert_exporter": "python",
   "pygments_lexer": "ipython3",
   "version": "3.7.9"
  },
  "toc": {
   "base_numbering": 1,
   "nav_menu": {},
   "number_sections": true,
   "sideBar": true,
   "skip_h1_title": false,
   "title_cell": "Table of Contents",
   "title_sidebar": "Contents",
   "toc_cell": false,
   "toc_position": {
    "height": "calc(100% - 180px)",
    "left": "10px",
    "top": "150px",
    "width": "426.632px"
   },
   "toc_section_display": true,
   "toc_window_display": true
  }
 },
 "nbformat": 4,
 "nbformat_minor": 4
}
