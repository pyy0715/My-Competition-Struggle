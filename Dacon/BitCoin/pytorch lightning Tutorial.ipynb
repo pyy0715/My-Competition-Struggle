{
 "cells": [
  {
   "cell_type": "code",
   "execution_count": 1,
   "metadata": {
    "ExecuteTime": {
     "end_time": "2021-03-24T08:30:39.595711Z",
     "start_time": "2021-03-24T08:30:38.498042Z"
    }
   },
   "outputs": [],
   "source": [
    "import os\n",
    "import pandas as pd\n",
    "import numpy as np \n",
    "\n",
    "import torch\n",
    "import torch.nn as nn\n",
    "from torch.nn import functional as F\n",
    "from torch.utils.data import Subset, Dataset, DataLoader, random_split\n",
    "\n",
    "import pytorch_lightning as pl \n",
    "from pytorch_lightning import seed_everything\n",
    "from pytorch_lightning.callbacks import ModelCheckpoint\n",
    "from pytorch_lightning.callbacks.early_stopping import EarlyStopping\n",
    "from pytorch_lightning.callbacks import Callback\n",
    "\n",
    "from pytorch_forecasting.metrics import MAPE"
   ]
  },
  {
   "cell_type": "code",
   "execution_count": null,
   "metadata": {
    "ExecuteTime": {
     "end_time": "2021-03-23T16:39:03.575950Z",
     "start_time": "2021-03-23T16:39:03.572378Z"
    }
   },
   "outputs": [],
   "source": [
    "class Encoder(pl.LightningModule):\n",
    "    def __init__(self, input_size, hidden_size, n_layers, dropout_p):\n",
    "        super(Encoder, self).__init__()     \n",
    "        self.rnn = nn.GRU(input_size = input_size, \n",
    "                          hidden_size = hidden_size, \n",
    "                          num_layers = n_layers, \n",
    "                          batch_first = True, \n",
    "                          dropout = dropout_p)\n",
    "        self.hidden_size = hidden_size\n",
    "        self.n_layers = n_layers\n",
    "        \n",
    "    def _init_state(self, batch_size=1):\n",
    "        weight = next(self.parameters()).data\n",
    "        return weight.new(self.n_layers, batch_size, self.hidden_size).zero_()\n",
    "\n",
    "    def forward(self, x):\n",
    "        h_0 = self._init_state(batch_size=x.size(0))\n",
    "        output, hidden = self.rnn(x, h_0)\n",
    "        return output, hidden"
   ]
  },
  {
   "cell_type": "code",
   "execution_count": null,
   "metadata": {
    "ExecuteTime": {
     "end_time": "2021-03-23T16:39:03.593206Z",
     "start_time": "2021-03-23T16:39:03.577415Z"
    }
   },
   "outputs": [],
   "source": [
    "class Decoder(pl.LightningModule):\n",
    "    def __init__(self, hidden_size, target_size):\n",
    "        super(Decoder, self).__init__()\n",
    "        self.out = nn.Linear(hidden_size, target_size)\n",
    "\n",
    "    def forward(self, enc_output):\n",
    "        output = enc_output[:, -1, :]\n",
    "        pred = self.out(output)\n",
    "        pred = pred.squeeze()\n",
    "        return pred"
   ]
  },
  {
   "cell_type": "code",
   "execution_count": null,
   "metadata": {
    "ExecuteTime": {
     "end_time": "2021-03-23T16:39:03.602815Z",
     "start_time": "2021-03-23T16:39:03.594491Z"
    }
   },
   "outputs": [],
   "source": [
    "class Seq2seqLightningModule(pl.LightningModule):\n",
    "    def __init__(self, hparams):\n",
    "        super(Seq2seqLightningModule, self).__init__()\n",
    "        self.hparams = hparams\n",
    "        self.id_emb = nn.Embedding(self.hparams.n_id+1, self.hparams.embed_size)\n",
    "        self.coin_emb = nn.Embedding(self.hparams.n_coin+1, self.hparams.embed_size)\n",
    "        self.time_emb = nn.Embedding(self.hparams.n_time+1, self.hparams.embed_size)\n",
    "        self.sec_emb = nn.Embedding(self.hparams.n_sec+1, self.hparams.embed_size)\n",
    "        \n",
    "        self.encoder = Encoder(self.hparams.embed_size, self.hparams.hidden_size, self.hparams.n_layers, self.hparams.dropout_p)\n",
    "        self.decoder = Decoder(self.hparams.hidden_size, self.hparams.target_size)\n",
    "        \n",
    "        self.layer_norm = nn.LayerNorm(self.hparams.input_size)\n",
    "        self.metric = MAPE()\n",
    "        \n",
    "    def forward(self, x_id, x_time, x_coin, x_open, x_sec):\n",
    "        embed_x = self.id_emb(x_id) + self.time_emb(x_time) + self.coin_emb(x_coin) + self.sec_emb(x_sec) # [batch_size, input_dim, embed_size]\n",
    "#         embed_x = torch.mean(embed_x, axis=-1) # [batch_size, input_dim]\n",
    "\n",
    "        x_open = x_open.unsqueeze(1).repeat(1, 32, 1) # [batch_size, embed_dim, input_dim]\n",
    "        \n",
    "        x = torch.bmm(x_open, embed_x) # [batch_size, embed_dim, embed_dim]\n",
    "        \n",
    "#         x = F.relu(self.layer_norm(x))\n",
    "        \n",
    "        enc_output, _ = self.encoder(x)\n",
    "        pred = self.decoder(enc_output)\n",
    "        return pred\n",
    "\n",
    "\n",
    "    def training_step(self, batch, batch_idx):\n",
    "        x_id, x_time, x_coin, x_sec = batch['id'],  batch['time'], batch['coin'], batch['sec_type']\n",
    "        x_open = batch['open_val']\n",
    "        y = batch['labels']\n",
    "        y_hat = self(x_id, x_time, x_coin, x_open, x_sec)\n",
    "        loss = torch.mean(self.metric.loss(y_hat, y))\n",
    "        self.log('trn_loss', loss, on_step=True)\n",
    "        return loss\n",
    "\n",
    "    def validation_step(self, batch, batch_idx):\n",
    "        x_id, x_time, x_coin, x_sec = batch['id'],  batch['time'], batch['coin'], batch['sec_type']\n",
    "        x_open = batch['open_val']\n",
    "        y = batch['labels']\n",
    "        y_hat = self(x_id, x_time, x_coin, x_open, x_sec)\n",
    "        loss = torch.mean(self.metric.loss(y_hat, y))\n",
    "        self.log('val_loss', loss, on_step=True)\n",
    "\n",
    "    def configure_optimizers(self):\n",
    "        optimizer = torch.optim.Adam(self.parameters(), lr=5e-3)\n",
    "        return optimizer"
   ]
  },
  {
   "cell_type": "code",
   "execution_count": null,
   "metadata": {
    "ExecuteTime": {
     "end_time": "2021-03-23T16:39:03.609667Z",
     "start_time": "2021-03-23T16:39:03.603626Z"
    }
   },
   "outputs": [],
   "source": [
    "n_id = 7362\n",
    "n_coin = 10\n",
    "n_sec = 149\n",
    "n_time = 1499"
   ]
  },
  {
   "cell_type": "code",
   "execution_count": null,
   "metadata": {
    "ExecuteTime": {
     "end_time": "2021-03-23T16:39:03.618420Z",
     "start_time": "2021-03-23T16:39:03.611467Z"
    }
   },
   "outputs": [],
   "source": [
    "import easydict \n",
    "\n",
    "h_params = easydict.EasyDict({'n_id': n_id,\n",
    "                              'n_sec': n_sec,\n",
    "                              'n_time': n_time,\n",
    "                              'n_coin': n_coin,\n",
    "                              'input_size': 5,\n",
    "                              'embed_size': 32,\n",
    "                              'hidden_size': 64,\n",
    "                              'target_size': 1,\n",
    "                              'n_layers': 2,\n",
    "                              'dropout_p': 0.2\n",
    "                             })"
   ]
  },
  {
   "cell_type": "code",
   "execution_count": null,
   "metadata": {
    "ExecuteTime": {
     "end_time": "2021-03-23T16:39:03.628958Z",
     "start_time": "2021-03-23T16:39:03.619852Z"
    }
   },
   "outputs": [],
   "source": [
    "model = Seq2seqLightningModule(h_params)"
   ]
  },
  {
   "cell_type": "code",
   "execution_count": null,
   "metadata": {
    "ExecuteTime": {
     "end_time": "2021-03-23T16:39:03.636200Z",
     "start_time": "2021-03-23T16:39:03.630617Z"
    }
   },
   "outputs": [],
   "source": [
    "class BitcoinDataset(Dataset):\n",
    "    def __init__(self, df, ws):\n",
    "        self.df = df\n",
    "        self.ws = ws\n",
    "        \n",
    "    def __len__(self):\n",
    "        return len(self.df)\n",
    "    \n",
    "    def __getitem__(self, index):\n",
    "        start_idx = index\n",
    "        end_idx = index+self.ws\n",
    "        \n",
    "        sample_id = self.df.iloc[start_idx:end_idx, 0].values\n",
    "        time = self.df.iloc[start_idx:end_idx, 1].values\n",
    "        coin = self.df.iloc[start_idx:end_idx, 2].values\n",
    "        open_val = self.df.iloc[start_idx:end_idx, 3].values\n",
    "        sec_type = self.df.iloc[start_idx:end_idx, -2].values     \n",
    "        labels = self.df.iloc[start_idx, -1]\n",
    "        return {\n",
    "            'id': torch.tensor(sample_id, dtype=torch.long),\n",
    "            'time': torch.tensor(time, dtype=torch.long),\n",
    "            'coin': torch.tensor(coin, dtype=torch.long),\n",
    "            'open_val': torch.tensor(open_val, dtype=torch.float32),\n",
    "            'sec_type': torch.tensor(sec_type, dtype=torch.long),\n",
    "            'labels': torch.tensor(labels, dtype=torch.float32)\n",
    "        }"
   ]
  },
  {
   "cell_type": "code",
   "execution_count": null,
   "metadata": {
    "ExecuteTime": {
     "end_time": "2021-03-23T16:39:03.645042Z",
     "start_time": "2021-03-23T16:39:03.637917Z"
    }
   },
   "outputs": [],
   "source": [
    "class BitcoinDataModule(pl.LightningDataModule):\n",
    "    def __init__(self, window_size, batch_size):\n",
    "        super().__init__()\n",
    "        self.ws = window_size\n",
    "        self.batch_size = batch_size\n",
    "        \n",
    "    def setup(self,stage=None):\n",
    "        train_x = pd.read_csv('./Datasets/train_x_df.csv')\n",
    "        train_y = pd.read_csv('./Datasets/train_y_df.csv')\n",
    "        test = pd.read_csv('./Datasets/test_x_df.csv')\n",
    "        \n",
    "        # Feature Engineering\n",
    "        train_y['time']+=1380\n",
    "        train = pd.concat([train_x, train_y], axis=0)\n",
    "        train = train.sort_values(by=['sample_id', 'time']).reset_index(drop=True)\n",
    "        \n",
    "        train['sec_type'] = train['time'].apply(lambda x: x//10)\n",
    "        train['labels'] = train.groupby(['sample_id'])['open'].shift(-self.ws)\n",
    "        \n",
    "        test['sec_type'] = test['time'].apply(lambda x: x//10)\n",
    "        test['labels'] = test.groupby(['sample_id'])['open'].shift(-self.ws)\n",
    "        \n",
    "        trn_subset_idx = train.loc[train['time']<1500-(self.ws)].index\n",
    "        val_subset_idx = test.loc[test['time']<1380-(self.ws)].index\n",
    "        \n",
    "        trn_dataset=BitcoinDataset(train, ws=self.ws)\n",
    "        val_dataset=BitcoinDataset(test, ws=self.ws)\n",
    "        \n",
    "        self.train_dataset = Subset(trn_dataset, trn_subset_idx)\n",
    "        self.valid_dataset = Subset(val_dataset, val_subset_idx)\n",
    "        \n",
    "    def train_dataloader(self):\n",
    "        return DataLoader(self.train_dataset,\n",
    "                          batch_size=self.batch_size,\n",
    "                          num_workers=4)\n",
    "    \n",
    "    def val_dataloader(self):\n",
    "        return DataLoader(self.valid_dataset,\n",
    "                          batch_size=self.batch_size,\n",
    "                          num_workers=4)"
   ]
  },
  {
   "cell_type": "code",
   "execution_count": null,
   "metadata": {
    "ExecuteTime": {
     "end_time": "2021-03-23T16:39:03.651792Z",
     "start_time": "2021-03-23T16:39:03.646078Z"
    }
   },
   "outputs": [],
   "source": [
    "bitcoin_dm = BitcoinDataModule(5, 1024)"
   ]
  },
  {
   "cell_type": "code",
   "execution_count": null,
   "metadata": {
    "ExecuteTime": {
     "end_time": "2021-03-23T16:39:20.910264Z",
     "start_time": "2021-03-23T16:39:03.652739Z"
    }
   },
   "outputs": [],
   "source": [
    "bitcoin_dm.setup()"
   ]
  },
  {
   "cell_type": "code",
   "execution_count": null,
   "metadata": {
    "ExecuteTime": {
     "end_time": "2021-03-23T16:39:20.914976Z",
     "start_time": "2021-03-23T16:39:20.911583Z"
    }
   },
   "outputs": [],
   "source": [
    "model_checkpoint = ModelCheckpoint(monitor = \"val_loss\",\n",
    "                                   verbose=True,\n",
    "                                   filename=\"{epoch}_{val_loss:.4f}\")\n",
    "\n",
    "early_stop_callback = EarlyStopping(monitor='val_loss', \n",
    "                                    patience=2, \n",
    "                                    verbose=True, \n",
    "                                    mode='min')"
   ]
  },
  {
   "cell_type": "code",
   "execution_count": null,
   "metadata": {
    "ExecuteTime": {
     "end_time": "2021-03-23T16:39:20.975031Z",
     "start_time": "2021-03-23T16:39:20.916594Z"
    }
   },
   "outputs": [],
   "source": [
    "SEED = 42\n",
    "EPOCHS = 2\n",
    "device = \"cuda\" if torch.cuda.is_available() else \"cpu\"\n",
    "pl.seed_everything(SEED)"
   ]
  },
  {
   "cell_type": "code",
   "execution_count": null,
   "metadata": {
    "ExecuteTime": {
     "end_time": "2021-03-23T16:39:20.980370Z",
     "start_time": "2021-03-23T16:39:20.976194Z"
    }
   },
   "outputs": [],
   "source": [
    "trainer = pl.Trainer(gpus=1, \n",
    "                     max_epochs=EPOCHS,\n",
    "                     callbacks=[model_checkpoint, early_stop_callback]\n",
    "                    )"
   ]
  },
  {
   "cell_type": "code",
   "execution_count": null,
   "metadata": {
    "ExecuteTime": {
     "end_time": "2021-03-23T16:59:04.824343Z",
     "start_time": "2021-03-23T16:39:20.981479Z"
    },
    "scrolled": false
   },
   "outputs": [],
   "source": [
    "trainer.fit(model, bitcoin_dm)"
   ]
  },
  {
   "cell_type": "code",
   "execution_count": null,
   "metadata": {},
   "outputs": [],
   "source": []
  },
  {
   "cell_type": "code",
   "execution_count": null,
   "metadata": {
    "ExecuteTime": {
     "end_time": "2021-03-23T16:59:15.500166Z",
     "start_time": "2021-03-23T16:59:15.497613Z"
    }
   },
   "outputs": [],
   "source": [
    "MODEL_PATH = './lightning_logs/version_9/checkpoints/epoch=0_val_loss=0.0298.ckpt'\n",
    "HPARAM_PATH = './lightning_logs/version_7/hparams.yaml'"
   ]
  },
  {
   "cell_type": "code",
   "execution_count": null,
   "metadata": {
    "ExecuteTime": {
     "end_time": "2021-03-23T16:59:15.987000Z",
     "start_time": "2021-03-23T16:59:15.984492Z"
    }
   },
   "outputs": [],
   "source": [
    "device = torch.device('cuda' if torch.cuda.is_available() else 'cpu')"
   ]
  },
  {
   "cell_type": "code",
   "execution_count": null,
   "metadata": {
    "ExecuteTime": {
     "end_time": "2021-03-23T16:59:16.342137Z",
     "start_time": "2021-03-23T16:59:16.340065Z"
    }
   },
   "outputs": [],
   "source": [
    "device='cpu'"
   ]
  },
  {
   "cell_type": "code",
   "execution_count": null,
   "metadata": {
    "ExecuteTime": {
     "end_time": "2021-03-23T16:59:16.917553Z",
     "start_time": "2021-03-23T16:59:16.901813Z"
    }
   },
   "outputs": [],
   "source": [
    "model = Seq2seqLightningModule.load_from_checkpoint(checkpoint_path=MODEL_PATH,\n",
    "                                                    hparams_file = HPARAM_PATH)\n",
    "model = model.to(device)\n",
    "model.eval()\n",
    "model.freeze()"
   ]
  },
  {
   "cell_type": "code",
   "execution_count": null,
   "metadata": {
    "ExecuteTime": {
     "end_time": "2021-03-23T16:59:19.013831Z",
     "start_time": "2021-03-23T16:59:18.159445Z"
    }
   },
   "outputs": [],
   "source": [
    "test_x = pd.read_csv('./Datasets/test_x_df.csv')\n",
    "test_x['sec_type'] = test_x['time'].apply(lambda x: x//10)\n",
    "test_x = test_x.groupby('sample_id').tail(5)\n",
    "test_x = test_x.reset_index(drop=True)"
   ]
  },
  {
   "cell_type": "code",
   "execution_count": null,
   "metadata": {
    "ExecuteTime": {
     "end_time": "2021-03-23T16:59:19.018661Z",
     "start_time": "2021-03-23T16:59:19.014799Z"
    }
   },
   "outputs": [],
   "source": [
    "class BitcoinTestDataset(Dataset):\n",
    "    def __init__(self, df, ws):\n",
    "        self.df = df\n",
    "        self.ws = ws\n",
    "        \n",
    "    def __len__(self):\n",
    "        return len(self.df)\n",
    "    \n",
    "    def __getitem__(self, index):\n",
    "        start_idx = index\n",
    "        end_idx = index+self.ws\n",
    "        \n",
    "        sample_id = self.df.iloc[start_idx:end_idx, 0].values\n",
    "        time = self.df.iloc[start_idx:end_idx, 1].values\n",
    "        coin = self.df.iloc[start_idx:end_idx, 2].values\n",
    "        open_val = self.df.iloc[start_idx:end_idx, 3].values\n",
    "        sec_type = self.df.iloc[start_idx:end_idx, -1].values\n",
    "        return {\n",
    "            'id': torch.tensor(sample_id, dtype=torch.long),\n",
    "            'time': torch.tensor(time, dtype=torch.long),\n",
    "            'coin': torch.tensor(coin, dtype=torch.long),\n",
    "            'sec_type': torch.tensor(sec_type, dtype=torch.long),\n",
    "            'open_val': torch.tensor(open_val, dtype=torch.float32),\n",
    "        }"
   ]
  },
  {
   "cell_type": "code",
   "execution_count": null,
   "metadata": {
    "ExecuteTime": {
     "end_time": "2021-03-23T16:59:19.241888Z",
     "start_time": "2021-03-23T16:59:19.238550Z"
    }
   },
   "outputs": [],
   "source": [
    "test_ds = BitcoinTestDataset(test_x, 5)\n",
    "test_subset_idx = [i for i in test_x.index if i%5==0]\n",
    "        \n",
    "test_dataset = Subset(test_ds, test_subset_idx)"
   ]
  },
  {
   "cell_type": "code",
   "execution_count": null,
   "metadata": {
    "ExecuteTime": {
     "end_time": "2021-03-23T16:59:21.364891Z",
     "start_time": "2021-03-23T16:59:21.358940Z"
    },
    "scrolled": true
   },
   "outputs": [],
   "source": [
    "test_dataset[0]"
   ]
  },
  {
   "cell_type": "code",
   "execution_count": null,
   "metadata": {
    "ExecuteTime": {
     "end_time": "2021-03-23T16:59:24.199002Z",
     "start_time": "2021-03-23T16:59:24.196092Z"
    }
   },
   "outputs": [],
   "source": [
    "test_dataloader= DataLoader(test_dataset,\n",
    "                            batch_size=1,\n",
    "                            num_workers=1)"
   ]
  },
  {
   "cell_type": "code",
   "execution_count": null,
   "metadata": {},
   "outputs": [],
   "source": []
  },
  {
   "cell_type": "code",
   "execution_count": null,
   "metadata": {
    "ExecuteTime": {
     "end_time": "2021-03-23T17:04:02.587102Z",
     "start_time": "2021-03-23T17:04:02.583913Z"
    }
   },
   "outputs": [],
   "source": [
    "torch.rand(0)"
   ]
  },
  {
   "cell_type": "code",
   "execution_count": null,
   "metadata": {},
   "outputs": [],
   "source": []
  },
  {
   "cell_type": "code",
   "execution_count": null,
   "metadata": {
    "ExecuteTime": {
     "end_time": "2021-03-23T17:12:08.881275Z",
     "start_time": "2021-03-23T17:10:02.217268Z"
    }
   },
   "outputs": [],
   "source": [
    "from tqdm.auto import tqdm\n",
    "from collections import defaultdict \n",
    "\n",
    "# a = np.triu(np.ones([5,5]), k=1)[:-1][::-1]\n",
    "# b = np.ones([1,5])\n",
    "# mask = torch.tensor(np.concatenate((a,b)), dtype=torch.long).to(device)\n",
    "# mask = mask.repeat(24,1)\n",
    "\n",
    "result = defaultdict(list)\n",
    "\n",
    "t = torch.tensor([i for i in range(1376, 1500)])\n",
    "s = []\n",
    "for i in range(137, 150):\n",
    "    s.extend([i]*10)\n",
    "s = torch.tensor(s[5:])  \n",
    "\n",
    "idx = 0\n",
    "for step, batch in enumerate(tqdm(test_dataloader)):\n",
    "    x_id =  batch['id'].to(device)\n",
    "    x_time =  batch['time'].to(device)\n",
    "    x_coin = batch['coin'].to(device)\n",
    "    x_sec = batch['sec_type'].to(device)\n",
    "    x_open = batch['open_val'].to(device)\n",
    "    y_hat = model(x_id, x_time, x_coin, x_open, x_sec)\n",
    "    result[idx].append((y_hat.cpu().detach().numpy().tolist()))\n",
    "\n",
    "    x_open = torch.cat((x_open[0][1:].contiguous(), y_hat.unsqueeze(0)), dim=0).unsqueeze(0).to(device)\n",
    "    for i in range(119):\n",
    "        x_time = t[i:i+5].unsqueeze(0)\n",
    "        x_sec = s[i:i+5].unsqueeze(0)\n",
    "        pred = model(x_id, x_time, x_coin, x_open, x_sec)\n",
    "        result[idx].append(pred.cpu().detach().numpy().tolist())\n",
    "        pred += torch.rand(1).item()\n",
    "        x_open = torch.cat((x_open[0][1:].contiguous(), pred.unsqueeze(0)), dim=0).unsqueeze(0).to(device)\n",
    "    idx+=1"
   ]
  },
  {
   "cell_type": "code",
   "execution_count": null,
   "metadata": {
    "ExecuteTime": {
     "end_time": "2021-03-23T17:12:09.545071Z",
     "start_time": "2021-03-23T17:12:09.514183Z"
    }
   },
   "outputs": [],
   "source": [
    "result_df = pd.DataFrame(result).transpose()"
   ]
  },
  {
   "cell_type": "code",
   "execution_count": null,
   "metadata": {
    "ExecuteTime": {
     "end_time": "2021-03-23T17:12:09.797439Z",
     "start_time": "2021-03-23T17:12:09.775768Z"
    }
   },
   "outputs": [],
   "source": [
    "result_df"
   ]
  },
  {
   "cell_type": "code",
   "execution_count": null,
   "metadata": {
    "ExecuteTime": {
     "end_time": "2021-03-23T17:12:10.158881Z",
     "start_time": "2021-03-23T17:12:10.153840Z"
    }
   },
   "outputs": [],
   "source": [
    "def array_to_submission(pred_array):\n",
    "    # 입력 x_arrry와 출력 pred_arry를 통해서 \n",
    "    # buy_quantitiy와 sell_time을 결정\n",
    "    submission = pd.DataFrame(np.zeros([pred_array.shape[0],2], np.int64),\n",
    "                              columns = ['buy_quantity', 'sell_time'])\n",
    "    submission = submission.reset_index()\n",
    "    submission.loc[:, 'buy_quantity'] = 0.1\n",
    "    \n",
    "    buy_price = []\n",
    "    for idx, sell_time in enumerate(np.argmax(pred_array, axis = 1)):\n",
    "        buy_price.append(pred_array[idx, sell_time])\n",
    "    buy_price = np.array(buy_price)\n",
    "    # 115% 이상 상승한하고 예측한 sample에 대해서만 100% 매수\n",
    "    submission.loc[:, 'buy_quantity'] = (buy_price > 1.15) * 1\n",
    "    # 모델이 예측값 중 최대 값에 해당하는 시간에 매도\n",
    "    submission['sell_time'] = np.argmax(pred_array, axis = 1)\n",
    "    submission.columns = ['sample_id','buy_quantity', 'sell_time']\n",
    "    return submission"
   ]
  },
  {
   "cell_type": "code",
   "execution_count": null,
   "metadata": {
    "ExecuteTime": {
     "end_time": "2021-03-23T17:12:11.138029Z",
     "start_time": "2021-03-23T17:12:11.132966Z"
    }
   },
   "outputs": [],
   "source": [
    "sub = array_to_submission(result_df.values)"
   ]
  },
  {
   "cell_type": "code",
   "execution_count": null,
   "metadata": {
    "ExecuteTime": {
     "end_time": "2021-03-23T17:12:58.626700Z",
     "start_time": "2021-03-23T17:12:58.623765Z"
    }
   },
   "outputs": [],
   "source": [
    "sub['buy_quantity']=0.5"
   ]
  },
  {
   "cell_type": "code",
   "execution_count": null,
   "metadata": {
    "ExecuteTime": {
     "end_time": "2021-03-23T17:13:02.566686Z",
     "start_time": "2021-03-23T17:13:02.562134Z"
    }
   },
   "outputs": [],
   "source": [
    "sub.to_csv('./test.csv', index=False)"
   ]
  },
  {
   "cell_type": "code",
   "execution_count": null,
   "metadata": {
    "ExecuteTime": {
     "end_time": "2021-03-23T04:23:41.391789Z",
     "start_time": "2021-03-23T04:23:41.380953Z"
    }
   },
   "outputs": [],
   "source": [
    "submission = pd.read_csv('./Datasets/sample_submission.csv')"
   ]
  },
  {
   "cell_type": "code",
   "execution_count": null,
   "metadata": {
    "ExecuteTime": {
     "end_time": "2021-03-23T04:30:15.282221Z",
     "start_time": "2021-03-23T04:30:15.278738Z"
    }
   },
   "outputs": [],
   "source": [
    "submission.loc[:, 'buy_quantity'] = 0.1"
   ]
  },
  {
   "cell_type": "code",
   "execution_count": null,
   "metadata": {
    "ExecuteTime": {
     "end_time": "2021-03-23T17:08:05.932440Z",
     "start_time": "2021-03-23T17:08:05.922781Z"
    }
   },
   "outputs": [],
   "source": [
    "sub.info()"
   ]
  },
  {
   "cell_type": "code",
   "execution_count": null,
   "metadata": {},
   "outputs": [],
   "source": []
  }
 ],
 "metadata": {
  "kernelspec": {
   "display_name": "DL_Server",
   "language": "python",
   "name": "dl_server"
  },
  "language_info": {
   "codemirror_mode": {
    "name": "ipython",
    "version": 3
   },
   "file_extension": ".py",
   "mimetype": "text/x-python",
   "name": "python",
   "nbconvert_exporter": "python",
   "pygments_lexer": "ipython3",
   "version": "3.8.8"
  },
  "toc": {
   "base_numbering": 1,
   "nav_menu": {},
   "number_sections": true,
   "sideBar": true,
   "skip_h1_title": false,
   "title_cell": "Table of Contents",
   "title_sidebar": "Contents",
   "toc_cell": false,
   "toc_position": {},
   "toc_section_display": true,
   "toc_window_display": false
  }
 },
 "nbformat": 4,
 "nbformat_minor": 4
}
