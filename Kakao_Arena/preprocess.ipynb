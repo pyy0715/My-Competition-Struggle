{
 "cells": [
  {
   "cell_type": "markdown",
   "metadata": {},
   "source": [
    "# 필요 변수 설정"
   ]
  },
  {
   "cell_type": "code",
   "execution_count": 2,
   "metadata": {
    "ExecuteTime": {
     "end_time": "2021-03-12T15:38:00.937764Z",
     "start_time": "2021-03-12T15:38:00.619759Z"
    }
   },
   "outputs": [],
   "source": [
    "import os\n",
    "import json\n",
    "import h5py\n",
    "import numpy as np\n",
    "import pandas as pd\n",
    "from tqdm.notebook import tqdm\n",
    "\n",
    "RAW_DATA_DIR = \"../input/raw_data\" # 카카오에서 다운로드 받은 데이터의 디렉터리\n",
    "PROCESSED_DATA_DIR = '../input/processed' # 전처리된 데이터가 저장될 디렉터리\n",
    "VOCAB_DIR = os.path.join(PROCESSED_DATA_DIR, 'vocab') # 전처리에 사용될 사전 파일이 저장될 디렉터리\n",
    "\n",
    "# 학습에 사용될 파일 리스트\n",
    "train_file_list = [\n",
    "    \"train.chunk.01\",\n",
    "    \"train.chunk.02\",\n",
    "    \"train.chunk.03\",\n",
    "    \"train.chunk.04\",\n",
    "    \"train.chunk.05\",\n",
    "    \"train.chunk.06\",\n",
    "    \"train.chunk.07\",\n",
    "    \"train.chunk.08\",\n",
    "    \"train.chunk.09\"\n",
    "]\n",
    "\n",
    "# 개발에 사용될 파일 리스트. 공개 리더보드 점수를 내는데 사용된다.\n",
    "dev_file_list = [\n",
    "    \"dev.chunk.01\"    \n",
    "]\n",
    "\n",
    "# 테스트에 사용될 파일 리스트. 파이널 리더보드 점수를 내는데 사용된다.\n",
    "test_file_list = [\n",
    "    \"test.chunk.01\",\n",
    "    \"test.chunk.02\", \n",
    "]\n",
    "\n",
    "# 파일명과 실제 파일이 위치한 디렉토리를 결합한다.\n",
    "train_path_list = [os.path.join(RAW_DATA_DIR, fn) for fn in train_file_list]\n",
    "dev_path_list = [os.path.join(RAW_DATA_DIR, fn) for fn in dev_file_list]\n",
    "test_path_list = [os.path.join(RAW_DATA_DIR, fn) for fn in test_file_list]\n",
    "\n",
    "# PROCESSED_DATA_DIR과 VOCAB_DIR를 생성한다.\n",
    "os.makedirs(PROCESSED_DATA_DIR, exist_ok=True)\n",
    "os.makedirs(VOCAB_DIR, exist_ok=True)"
   ]
  },
  {
   "cell_type": "markdown",
   "metadata": {},
   "source": [
    "# 대회 데이터를 pandas.DataFrame으로 만들기"
   ]
  },
  {
   "cell_type": "code",
   "execution_count": 3,
   "metadata": {
    "ExecuteTime": {
     "end_time": "2021-03-12T15:38:00.944720Z",
     "start_time": "2021-03-12T15:38:00.939755Z"
    }
   },
   "outputs": [
    {
     "name": "stdout",
     "output_type": "stream",
     "text": [
      "../input/raw_data/train.chunk.01\n",
      "../input/raw_data/train.chunk.02\n",
      "../input/raw_data/train.chunk.03\n",
      "../input/raw_data/train.chunk.04\n",
      "../input/raw_data/train.chunk.05\n",
      "../input/raw_data/train.chunk.06\n",
      "../input/raw_data/train.chunk.07\n",
      "../input/raw_data/train.chunk.08\n",
      "../input/raw_data/train.chunk.09\n"
     ]
    }
   ],
   "source": [
    "for path in train_path_list:\n",
    "    print(path)"
   ]
  },
  {
   "cell_type": "code",
   "execution_count": 4,
   "metadata": {
    "ExecuteTime": {
     "end_time": "2021-03-12T15:38:00.952854Z",
     "start_time": "2021-03-12T15:38:00.947167Z"
    }
   },
   "outputs": [],
   "source": [
    "# path_list의 파일에서 col 변수에 해당하는 컬럼 값들을 가져온다.\n",
    "def get_column_data(path_list, div, col):\n",
    "    col_data = []\n",
    "    for path in path_list:\n",
    "        h = h5py.File(path, 'r')\n",
    "        col_data.append(h[div][col][:])\n",
    "        h.close()\n",
    "    return np.concatenate(col_data)\n",
    "\n",
    "# path_list의 파일에서 학습에 필요한 컬럼들을 DataFrame 포맷으로 반환한다.\n",
    "def get_dataframe(path_list, div):\n",
    "    pids = get_column_data(path_list, div, col='pid')\n",
    "    products = get_column_data(path_list, div, col='product')\n",
    "    brands = get_column_data(path_list, div, col='brand')\n",
    "    makers = get_column_data(path_list, div, col='maker')\n",
    "    # 16GB를 가진 PC에서 실행 가능하도록 메모리를 많이 사용하는 칼럼은 주석처리\n",
    "    #models = get_column_data(path_list, div, col='model') \n",
    "    prices = get_column_data(path_list, div, col='price')\n",
    "    updttms = get_column_data(path_list, div, col='updttm')\n",
    "    bcates = get_column_data(path_list, div, col='bcateid')\n",
    "    mcates = get_column_data(path_list, div, col='mcateid')\n",
    "    scates = get_column_data(path_list, div, col='scateid')\n",
    "    dcates = get_column_data(path_list, div, col='dcateid')\n",
    "    \n",
    "    df = pd.DataFrame({'pid': pids, 'product':products, 'brand':brands, 'maker':makers, \n",
    "                                      #'model':models, \n",
    "                                      'price':prices, 'updttm':updttms, \n",
    "                                      'bcateid':bcates, 'mcateid':mcates, 'scateid':scates, 'dcateid':dcates} )\n",
    "    \n",
    "    # 바이트 열로 인코딩 상품제목과 상품ID를 유니코드 변환한다.\n",
    "    df['pid'] = df['pid'].map(lambda x: x.decode('utf-8'))\n",
    "    df['product'] = df['product'].map(lambda x: x.decode('utf-8'))\n",
    "    df['brand'] = df['brand'].map(lambda x: x.decode('utf-8'))\n",
    "    df['maker'] = df['maker'].map(lambda x: x.decode('utf-8'))\n",
    "    #df['model'] = df['model'].map(lambda x: x.decode('utf-8')) # 메모리 사용량을 줄이기 위해 주석처리\n",
    "    df['updttm'] = df['updttm'].map(lambda x: x.decode('utf-8'))     \n",
    "    \n",
    "    return df"
   ]
  },
  {
   "cell_type": "code",
   "execution_count": 5,
   "metadata": {
    "ExecuteTime": {
     "end_time": "2021-03-12T15:38:30.179993Z",
     "start_time": "2021-03-12T15:38:00.954298Z"
    },
    "scrolled": true
   },
   "outputs": [],
   "source": [
    "train_df = get_dataframe(train_path_list, 'train')\n",
    "dev_df = get_dataframe(dev_path_list, 'dev')\n",
    "test_df = get_dataframe(test_path_list, 'test')"
   ]
  },
  {
   "cell_type": "code",
   "execution_count": 6,
   "metadata": {
    "ExecuteTime": {
     "end_time": "2021-03-12T15:38:30.326300Z",
     "start_time": "2021-03-12T15:38:30.181231Z"
    }
   },
   "outputs": [
    {
     "data": {
      "text/html": [
       "<div>\n",
       "<style scoped>\n",
       "    .dataframe tbody tr th:only-of-type {\n",
       "        vertical-align: middle;\n",
       "    }\n",
       "\n",
       "    .dataframe tbody tr th {\n",
       "        vertical-align: top;\n",
       "    }\n",
       "\n",
       "    .dataframe thead th {\n",
       "        text-align: right;\n",
       "    }\n",
       "</style>\n",
       "<table border=\"1\" class=\"dataframe\">\n",
       "  <thead>\n",
       "    <tr style=\"text-align: right;\">\n",
       "      <th></th>\n",
       "      <th>product</th>\n",
       "    </tr>\n",
       "  </thead>\n",
       "  <tbody>\n",
       "    <tr>\n",
       "      <th>0</th>\n",
       "      <td>직소퍼즐 - 1000조각 바다거북의 여행 (PL1275)</td>\n",
       "    </tr>\n",
       "    <tr>\n",
       "      <th>1</th>\n",
       "      <td>[모리케이스]아이폰6S/6S+ tree farm101 - 다이어리케이스[바보사랑][무료배송]</td>\n",
       "    </tr>\n",
       "    <tr>\n",
       "      <th>2</th>\n",
       "      <td>크리비아 기모 3부 속바지 GLG4314P</td>\n",
       "    </tr>\n",
       "  </tbody>\n",
       "</table>\n",
       "</div>"
      ],
      "text/plain": [
       "                                               product\n",
       "0                      직소퍼즐 - 1000조각 바다거북의 여행 (PL1275)\n",
       "1  [모리케이스]아이폰6S/6S+ tree farm101 - 다이어리케이스[바보사랑][무료배송]\n",
       "2                              크리비아 기모 3부 속바지 GLG4314P"
      ]
     },
     "execution_count": 6,
     "metadata": {},
     "output_type": "execute_result"
    }
   ],
   "source": [
    "pd.set_option('display.max_columns', 100)\n",
    "pd.set_option('display.max_colwidth', 500)\n",
    "train_df[['product']].head(3)"
   ]
  },
  {
   "cell_type": "code",
   "execution_count": 7,
   "metadata": {
    "ExecuteTime": {
     "end_time": "2021-03-12T15:38:30.338607Z",
     "start_time": "2021-03-12T15:38:30.328325Z"
    }
   },
   "outputs": [
    {
     "data": {
      "text/html": [
       "<div>\n",
       "<style scoped>\n",
       "    .dataframe tbody tr th:only-of-type {\n",
       "        vertical-align: middle;\n",
       "    }\n",
       "\n",
       "    .dataframe tbody tr th {\n",
       "        vertical-align: top;\n",
       "    }\n",
       "\n",
       "    .dataframe thead th {\n",
       "        text-align: right;\n",
       "    }\n",
       "</style>\n",
       "<table border=\"1\" class=\"dataframe\">\n",
       "  <thead>\n",
       "    <tr style=\"text-align: right;\">\n",
       "      <th></th>\n",
       "      <th>pid</th>\n",
       "      <th>product</th>\n",
       "      <th>brand</th>\n",
       "      <th>maker</th>\n",
       "      <th>price</th>\n",
       "      <th>updttm</th>\n",
       "      <th>bcateid</th>\n",
       "      <th>mcateid</th>\n",
       "      <th>scateid</th>\n",
       "      <th>dcateid</th>\n",
       "    </tr>\n",
       "  </thead>\n",
       "  <tbody>\n",
       "    <tr>\n",
       "      <th>0</th>\n",
       "      <td>O4486751463</td>\n",
       "      <td>직소퍼즐 - 1000조각 바다거북의 여행 (PL1275)</td>\n",
       "      <td>퍼즐라이프</td>\n",
       "      <td>상품상세설명 참조</td>\n",
       "      <td>16520</td>\n",
       "      <td>20180227091029</td>\n",
       "      <td>1</td>\n",
       "      <td>1</td>\n",
       "      <td>2</td>\n",
       "      <td>-1</td>\n",
       "    </tr>\n",
       "    <tr>\n",
       "      <th>1</th>\n",
       "      <td>P3307178849</td>\n",
       "      <td>[모리케이스]아이폰6S/6S+ tree farm101 - 다이어리케이스[바보사랑][무료배송]</td>\n",
       "      <td>바보사랑</td>\n",
       "      <td>MORY|해당없음</td>\n",
       "      <td>20370</td>\n",
       "      <td>20180429085019</td>\n",
       "      <td>3</td>\n",
       "      <td>3</td>\n",
       "      <td>4</td>\n",
       "      <td>-1</td>\n",
       "    </tr>\n",
       "    <tr>\n",
       "      <th>2</th>\n",
       "      <td>R4424255515</td>\n",
       "      <td>크리비아 기모 3부 속바지 GLG4314P</td>\n",
       "      <td>크리비아</td>\n",
       "      <td></td>\n",
       "      <td>-1</td>\n",
       "      <td>20180426102314</td>\n",
       "      <td>5</td>\n",
       "      <td>5</td>\n",
       "      <td>6</td>\n",
       "      <td>-1</td>\n",
       "    </tr>\n",
       "    <tr>\n",
       "      <th>3</th>\n",
       "      <td>F3334315393</td>\n",
       "      <td>[하프클럽/잭앤질]남성 솔리드 절개라인 포인트 포켓 팬츠 31133PT002_NA</td>\n",
       "      <td>잭앤질</td>\n",
       "      <td>㈜크리스패션</td>\n",
       "      <td>16280</td>\n",
       "      <td>20180422084512</td>\n",
       "      <td>7</td>\n",
       "      <td>7</td>\n",
       "      <td>8</td>\n",
       "      <td>-1</td>\n",
       "    </tr>\n",
       "    <tr>\n",
       "      <th>4</th>\n",
       "      <td>N731678492</td>\n",
       "      <td>코드프리혈당시험지50매/코드프리시험지/최장유효기간</td>\n",
       "      <td></td>\n",
       "      <td>기타</td>\n",
       "      <td>-1</td>\n",
       "      <td>20180424071623</td>\n",
       "      <td>10</td>\n",
       "      <td>9</td>\n",
       "      <td>11</td>\n",
       "      <td>-1</td>\n",
       "    </tr>\n",
       "  </tbody>\n",
       "</table>\n",
       "</div>"
      ],
      "text/plain": [
       "           pid                                              product  brand  \\\n",
       "0  O4486751463                      직소퍼즐 - 1000조각 바다거북의 여행 (PL1275)  퍼즐라이프   \n",
       "1  P3307178849  [모리케이스]아이폰6S/6S+ tree farm101 - 다이어리케이스[바보사랑][무료배송]   바보사랑   \n",
       "2  R4424255515                              크리비아 기모 3부 속바지 GLG4314P   크리비아   \n",
       "3  F3334315393        [하프클럽/잭앤질]남성 솔리드 절개라인 포인트 포켓 팬츠 31133PT002_NA    잭앤질   \n",
       "4   N731678492                          코드프리혈당시험지50매/코드프리시험지/최장유효기간          \n",
       "\n",
       "       maker  price          updttm  bcateid  mcateid  scateid  dcateid  \n",
       "0  상품상세설명 참조  16520  20180227091029        1        1        2       -1  \n",
       "1  MORY|해당없음  20370  20180429085019        3        3        4       -1  \n",
       "2                -1  20180426102314        5        5        6       -1  \n",
       "3     ㈜크리스패션  16280  20180422084512        7        7        8       -1  \n",
       "4         기타     -1  20180424071623       10        9       11       -1  "
      ]
     },
     "execution_count": 7,
     "metadata": {},
     "output_type": "execute_result"
    }
   ],
   "source": [
    "train_df.head()"
   ]
  },
  {
   "cell_type": "markdown",
   "metadata": {},
   "source": [
    "# 학습에 불필요한 컬럼 제거"
   ]
  },
  {
   "cell_type": "code",
   "execution_count": 8,
   "metadata": {
    "ExecuteTime": {
     "end_time": "2021-03-12T15:38:30.343039Z",
     "start_time": "2021-03-12T15:38:30.339581Z"
    }
   },
   "outputs": [],
   "source": [
    "# Peter Norvig Quote: “More data beats clever algorithms, but better data beats more data.”"
   ]
  },
  {
   "cell_type": "code",
   "execution_count": 9,
   "metadata": {
    "ExecuteTime": {
     "end_time": "2021-03-12T15:38:31.202710Z",
     "start_time": "2021-03-12T15:38:30.344520Z"
    }
   },
   "outputs": [],
   "source": [
    "import json\n",
    "# 카테고리 이름과 ID의 매핑 정보를 불러온다.\n",
    "cate_json = json.load(open(os.path.join(RAW_DATA_DIR, 'cate1.json')))\n",
    "\n",
    "# (이름, ID) 순서를 (ID, 이름)으로 바꾼 후 dictionary로 만든다.\n",
    "bid2nm = dict([(cid, name) for name, cid in cate_json['b'].items()]) # 대분류\n",
    "mid2nm = dict([(cid, name) for name, cid in cate_json['m'].items()]) # 중분류\n",
    "sid2nm = dict([(cid, name) for name, cid in cate_json['s'].items()]) # 소분류\n",
    "did2nm = dict([(cid, name) for name, cid in cate_json['d'].items()]) # 세분류\n",
    "\n",
    "# dictionary를 활용해 카테고리 ID에 해당하는 카테고리 이름 컬럼을 추가한다.\n",
    "train_df['bcatenm'] = train_df['bcateid'].map(bid2nm)\n",
    "train_df['mcatenm'] = train_df['mcateid'].map(mid2nm)\n",
    "train_df['scatenm'] = train_df['scateid'].map(sid2nm)\n",
    "train_df['dcatenm'] = train_df['dcateid'].map(did2nm)"
   ]
  },
  {
   "cell_type": "code",
   "execution_count": 10,
   "metadata": {
    "ExecuteTime": {
     "end_time": "2021-03-12T15:38:32.993013Z",
     "start_time": "2021-03-12T15:38:31.203719Z"
    },
    "scrolled": true
   },
   "outputs": [
    {
     "data": {
      "text/html": [
       "<div>\n",
       "<style scoped>\n",
       "    .dataframe tbody tr th:only-of-type {\n",
       "        vertical-align: middle;\n",
       "    }\n",
       "\n",
       "    .dataframe tbody tr th {\n",
       "        vertical-align: top;\n",
       "    }\n",
       "\n",
       "    .dataframe thead th {\n",
       "        text-align: right;\n",
       "    }\n",
       "</style>\n",
       "<table border=\"1\" class=\"dataframe\">\n",
       "  <thead>\n",
       "    <tr style=\"text-align: right;\">\n",
       "      <th></th>\n",
       "      <th>pid</th>\n",
       "      <th>product</th>\n",
       "      <th>brand</th>\n",
       "      <th>maker</th>\n",
       "      <th>price</th>\n",
       "      <th>bcatenm</th>\n",
       "      <th>mcatenm</th>\n",
       "      <th>scatenm</th>\n",
       "      <th>dcatenm</th>\n",
       "    </tr>\n",
       "  </thead>\n",
       "  <tbody>\n",
       "    <tr>\n",
       "      <th>0</th>\n",
       "      <td>O4486751463</td>\n",
       "      <td>직소퍼즐 - 1000조각 바다거북의 여행 (PL1275)</td>\n",
       "      <td>퍼즐라이프</td>\n",
       "      <td>상품상세설명 참조</td>\n",
       "      <td>16520</td>\n",
       "      <td>악기/취미/만들기</td>\n",
       "      <td>보드게임/퍼즐</td>\n",
       "      <td>직소/퍼즐</td>\n",
       "      <td></td>\n",
       "    </tr>\n",
       "    <tr>\n",
       "      <th>1</th>\n",
       "      <td>P3307178849</td>\n",
       "      <td>[모리케이스]아이폰6S/6S+ tree farm101 - 다이어리케이스[바보사랑][무료배송]</td>\n",
       "      <td>바보사랑</td>\n",
       "      <td>MORY|해당없음</td>\n",
       "      <td>20370</td>\n",
       "      <td>휴대폰/액세서리</td>\n",
       "      <td>휴대폰액세서리</td>\n",
       "      <td>아이폰액세서리</td>\n",
       "      <td></td>\n",
       "    </tr>\n",
       "    <tr>\n",
       "      <th>2</th>\n",
       "      <td>R4424255515</td>\n",
       "      <td>크리비아 기모 3부 속바지 GLG4314P</td>\n",
       "      <td>크리비아</td>\n",
       "      <td></td>\n",
       "      <td>-1</td>\n",
       "      <td>언더웨어</td>\n",
       "      <td>보정언더웨어</td>\n",
       "      <td>속바지/속치마</td>\n",
       "      <td></td>\n",
       "    </tr>\n",
       "    <tr>\n",
       "      <th>3</th>\n",
       "      <td>F3334315393</td>\n",
       "      <td>[하프클럽/잭앤질]남성 솔리드 절개라인 포인트 포켓 팬츠 31133PT002_NA</td>\n",
       "      <td>잭앤질</td>\n",
       "      <td>㈜크리스패션</td>\n",
       "      <td>16280</td>\n",
       "      <td>남성의류</td>\n",
       "      <td>바지</td>\n",
       "      <td>일자면바지</td>\n",
       "      <td></td>\n",
       "    </tr>\n",
       "    <tr>\n",
       "      <th>4</th>\n",
       "      <td>N731678492</td>\n",
       "      <td>코드프리혈당시험지50매/코드프리시험지/최장유효기간</td>\n",
       "      <td></td>\n",
       "      <td>기타</td>\n",
       "      <td>-1</td>\n",
       "      <td>건강관리/실버용품</td>\n",
       "      <td>건강측정용품</td>\n",
       "      <td>혈당지</td>\n",
       "      <td></td>\n",
       "    </tr>\n",
       "  </tbody>\n",
       "</table>\n",
       "</div>"
      ],
      "text/plain": [
       "           pid                                              product  brand  \\\n",
       "0  O4486751463                      직소퍼즐 - 1000조각 바다거북의 여행 (PL1275)  퍼즐라이프   \n",
       "1  P3307178849  [모리케이스]아이폰6S/6S+ tree farm101 - 다이어리케이스[바보사랑][무료배송]   바보사랑   \n",
       "2  R4424255515                              크리비아 기모 3부 속바지 GLG4314P   크리비아   \n",
       "3  F3334315393        [하프클럽/잭앤질]남성 솔리드 절개라인 포인트 포켓 팬츠 31133PT002_NA    잭앤질   \n",
       "4   N731678492                          코드프리혈당시험지50매/코드프리시험지/최장유효기간          \n",
       "\n",
       "       maker  price    bcatenm  mcatenm  scatenm dcatenm  \n",
       "0  상품상세설명 참조  16520  악기/취미/만들기  보드게임/퍼즐    직소/퍼즐          \n",
       "1  MORY|해당없음  20370   휴대폰/액세서리  휴대폰액세서리  아이폰액세서리          \n",
       "2                -1       언더웨어   보정언더웨어  속바지/속치마          \n",
       "3     ㈜크리스패션  16280       남성의류       바지    일자면바지          \n",
       "4         기타     -1  건강관리/실버용품   건강측정용품      혈당지          "
      ]
     },
     "execution_count": 10,
     "metadata": {},
     "output_type": "execute_result"
    }
   ],
   "source": [
    "#train_df[['pid', 'product', 'brand', 'maker', 'model', 'price', 'bcatenm', 'mcatenm', 'scatenm', 'dcatenm']].head(5)\n",
    "train_df[['pid', 'product', 'brand', 'maker','price', 'bcatenm', 'mcatenm', 'scatenm', 'dcatenm']].head(5)"
   ]
  },
  {
   "cell_type": "code",
   "execution_count": 11,
   "metadata": {
    "ExecuteTime": {
     "end_time": "2021-03-12T15:38:32.996257Z",
     "start_time": "2021-03-12T15:38:32.993933Z"
    }
   },
   "outputs": [
    {
     "data": {
      "text/plain": [
       "(8134818, 14)"
      ]
     },
     "execution_count": 11,
     "metadata": {},
     "output_type": "execute_result"
    }
   ],
   "source": [
    "train_df.shape"
   ]
  },
  {
   "cell_type": "code",
   "execution_count": 12,
   "metadata": {
    "ExecuteTime": {
     "end_time": "2021-03-12T15:38:33.002101Z",
     "start_time": "2021-03-12T15:38:32.996999Z"
    }
   },
   "outputs": [
    {
     "data": {
      "text/plain": [
       "Index(['pid', 'product', 'brand', 'maker', 'price', 'updttm', 'bcateid',\n",
       "       'mcateid', 'scateid', 'dcateid', 'bcatenm', 'mcatenm', 'scatenm',\n",
       "       'dcatenm'],\n",
       "      dtype='object')"
      ]
     },
     "execution_count": 12,
     "metadata": {},
     "output_type": "execute_result"
    }
   ],
   "source": [
    "train_df.columns"
   ]
  },
  {
   "cell_type": "markdown",
   "metadata": {},
   "source": [
    "## 데이터 분석"
   ]
  },
  {
   "cell_type": "markdown",
   "metadata": {},
   "source": [
    "### brand 컬럼 분석"
   ]
  },
  {
   "cell_type": "code",
   "execution_count": 13,
   "metadata": {
    "ExecuteTime": {
     "end_time": "2021-03-12T15:38:33.007080Z",
     "start_time": "2021-03-12T15:38:33.003612Z"
    }
   },
   "outputs": [],
   "source": [
    "def get_vc_df(df, col):    \n",
    "    vc_df = df[col].value_counts().reset_index()\n",
    "    vc_df.columns = [col, 'count']\n",
    "    vc_df['percentage'] = (vc_df['count'] / vc_df['count'].sum())*100    \n",
    "    return vc_df"
   ]
  },
  {
   "cell_type": "code",
   "execution_count": 14,
   "metadata": {
    "ExecuteTime": {
     "end_time": "2021-03-12T15:38:33.867188Z",
     "start_time": "2021-03-12T15:38:33.008432Z"
    }
   },
   "outputs": [
    {
     "data": {
      "text/html": [
       "<div>\n",
       "<style scoped>\n",
       "    .dataframe tbody tr th:only-of-type {\n",
       "        vertical-align: middle;\n",
       "    }\n",
       "\n",
       "    .dataframe tbody tr th {\n",
       "        vertical-align: top;\n",
       "    }\n",
       "\n",
       "    .dataframe thead th {\n",
       "        text-align: right;\n",
       "    }\n",
       "</style>\n",
       "<table border=\"1\" class=\"dataframe\">\n",
       "  <thead>\n",
       "    <tr style=\"text-align: right;\">\n",
       "      <th></th>\n",
       "      <th>brand</th>\n",
       "      <th>count</th>\n",
       "      <th>percentage</th>\n",
       "    </tr>\n",
       "  </thead>\n",
       "  <tbody>\n",
       "    <tr>\n",
       "      <th>0</th>\n",
       "      <td></td>\n",
       "      <td>3929393</td>\n",
       "      <td>48.303392</td>\n",
       "    </tr>\n",
       "    <tr>\n",
       "      <th>1</th>\n",
       "      <td>상품상세설명 참조</td>\n",
       "      <td>153210</td>\n",
       "      <td>1.883386</td>\n",
       "    </tr>\n",
       "    <tr>\n",
       "      <th>2</th>\n",
       "      <td>바보사랑</td>\n",
       "      <td>66741</td>\n",
       "      <td>0.820436</td>\n",
       "    </tr>\n",
       "    <tr>\n",
       "      <th>3</th>\n",
       "      <td>기타</td>\n",
       "      <td>64158</td>\n",
       "      <td>0.788684</td>\n",
       "    </tr>\n",
       "    <tr>\n",
       "      <th>4</th>\n",
       "      <td>상세설명참조</td>\n",
       "      <td>35908</td>\n",
       "      <td>0.441411</td>\n",
       "    </tr>\n",
       "    <tr>\n",
       "      <th>5</th>\n",
       "      <td>없음</td>\n",
       "      <td>33590</td>\n",
       "      <td>0.412916</td>\n",
       "    </tr>\n",
       "    <tr>\n",
       "      <th>6</th>\n",
       "      <td>아디다스</td>\n",
       "      <td>32358</td>\n",
       "      <td>0.397772</td>\n",
       "    </tr>\n",
       "    <tr>\n",
       "      <th>7</th>\n",
       "      <td>나이키</td>\n",
       "      <td>30952</td>\n",
       "      <td>0.380488</td>\n",
       "    </tr>\n",
       "    <tr>\n",
       "      <th>8</th>\n",
       "      <td>아트박스</td>\n",
       "      <td>28535</td>\n",
       "      <td>0.350776</td>\n",
       "    </tr>\n",
       "    <tr>\n",
       "      <th>9</th>\n",
       "      <td>알수없음</td>\n",
       "      <td>26792</td>\n",
       "      <td>0.329350</td>\n",
       "    </tr>\n",
       "  </tbody>\n",
       "</table>\n",
       "</div>"
      ],
      "text/plain": [
       "       brand    count  percentage\n",
       "0             3929393   48.303392\n",
       "1  상품상세설명 참조   153210    1.883386\n",
       "2       바보사랑    66741    0.820436\n",
       "3         기타    64158    0.788684\n",
       "4     상세설명참조    35908    0.441411\n",
       "5         없음    33590    0.412916\n",
       "6       아디다스    32358    0.397772\n",
       "7        나이키    30952    0.380488\n",
       "8       아트박스    28535    0.350776\n",
       "9       알수없음    26792    0.329350"
      ]
     },
     "execution_count": 14,
     "metadata": {},
     "output_type": "execute_result"
    }
   ],
   "source": [
    "vc_df = get_vc_df(train_df, 'brand')\n",
    "vc_df.head(10)"
   ]
  },
  {
   "cell_type": "markdown",
   "metadata": {},
   "source": [
    "### maker 컬럼 분석"
   ]
  },
  {
   "cell_type": "code",
   "execution_count": 15,
   "metadata": {
    "ExecuteTime": {
     "end_time": "2021-03-12T15:38:34.829573Z",
     "start_time": "2021-03-12T15:38:33.867943Z"
    }
   },
   "outputs": [
    {
     "data": {
      "text/html": [
       "<div>\n",
       "<style scoped>\n",
       "    .dataframe tbody tr th:only-of-type {\n",
       "        vertical-align: middle;\n",
       "    }\n",
       "\n",
       "    .dataframe tbody tr th {\n",
       "        vertical-align: top;\n",
       "    }\n",
       "\n",
       "    .dataframe thead th {\n",
       "        text-align: right;\n",
       "    }\n",
       "</style>\n",
       "<table border=\"1\" class=\"dataframe\">\n",
       "  <thead>\n",
       "    <tr style=\"text-align: right;\">\n",
       "      <th></th>\n",
       "      <th>maker</th>\n",
       "      <th>count</th>\n",
       "      <th>percentage</th>\n",
       "    </tr>\n",
       "  </thead>\n",
       "  <tbody>\n",
       "    <tr>\n",
       "      <th>0</th>\n",
       "      <td></td>\n",
       "      <td>2197270</td>\n",
       "      <td>27.010684</td>\n",
       "    </tr>\n",
       "    <tr>\n",
       "      <th>1</th>\n",
       "      <td>기타</td>\n",
       "      <td>2009598</td>\n",
       "      <td>24.703663</td>\n",
       "    </tr>\n",
       "    <tr>\n",
       "      <th>2</th>\n",
       "      <td>상품상세설명 참조</td>\n",
       "      <td>442344</td>\n",
       "      <td>5.437663</td>\n",
       "    </tr>\n",
       "    <tr>\n",
       "      <th>3</th>\n",
       "      <td>상세페이지 참조</td>\n",
       "      <td>63792</td>\n",
       "      <td>0.784185</td>\n",
       "    </tr>\n",
       "    <tr>\n",
       "      <th>4</th>\n",
       "      <td>상세설명참조</td>\n",
       "      <td>38108</td>\n",
       "      <td>0.468455</td>\n",
       "    </tr>\n",
       "    <tr>\n",
       "      <th>5</th>\n",
       "      <td>상품상세설명참조</td>\n",
       "      <td>36398</td>\n",
       "      <td>0.447435</td>\n",
       "    </tr>\n",
       "    <tr>\n",
       "      <th>6</th>\n",
       "      <td>아디다스</td>\n",
       "      <td>25488</td>\n",
       "      <td>0.313320</td>\n",
       "    </tr>\n",
       "    <tr>\n",
       "      <th>7</th>\n",
       "      <td>상세설명참조 / 상세설명참조</td>\n",
       "      <td>21770</td>\n",
       "      <td>0.267615</td>\n",
       "    </tr>\n",
       "    <tr>\n",
       "      <th>8</th>\n",
       "      <td>[불명]</td>\n",
       "      <td>20785</td>\n",
       "      <td>0.255507</td>\n",
       "    </tr>\n",
       "    <tr>\n",
       "      <th>9</th>\n",
       "      <td>상품상세정보 참조</td>\n",
       "      <td>19865</td>\n",
       "      <td>0.244197</td>\n",
       "    </tr>\n",
       "  </tbody>\n",
       "</table>\n",
       "</div>"
      ],
      "text/plain": [
       "             maker    count  percentage\n",
       "0                   2197270   27.010684\n",
       "1               기타  2009598   24.703663\n",
       "2        상품상세설명 참조   442344    5.437663\n",
       "3         상세페이지 참조    63792    0.784185\n",
       "4           상세설명참조    38108    0.468455\n",
       "5         상품상세설명참조    36398    0.447435\n",
       "6             아디다스    25488    0.313320\n",
       "7  상세설명참조 / 상세설명참조    21770    0.267615\n",
       "8             [불명]    20785    0.255507\n",
       "9        상품상세정보 참조    19865    0.244197"
      ]
     },
     "execution_count": 15,
     "metadata": {},
     "output_type": "execute_result"
    }
   ],
   "source": [
    "vc_df = get_vc_df(train_df, 'maker')\n",
    "vc_df.head(10)"
   ]
  },
  {
   "cell_type": "markdown",
   "metadata": {},
   "source": [
    "### model 컬럼 분석"
   ]
  },
  {
   "cell_type": "code",
   "execution_count": 16,
   "metadata": {
    "ExecuteTime": {
     "end_time": "2021-03-12T15:38:34.831767Z",
     "start_time": "2021-03-12T15:38:34.830495Z"
    }
   },
   "outputs": [],
   "source": [
    "# 메모리 사용량을 줄이기 위해 주석처리\n",
    "#vc_df = get_vc_df(train_df, 'model')\n",
    "#vc_df.head(10)"
   ]
  },
  {
   "cell_type": "markdown",
   "metadata": {},
   "source": [
    "### price"
   ]
  },
  {
   "cell_type": "code",
   "execution_count": 17,
   "metadata": {
    "ExecuteTime": {
     "end_time": "2021-03-12T15:38:34.958254Z",
     "start_time": "2021-03-12T15:38:34.832418Z"
    }
   },
   "outputs": [
    {
     "data": {
      "text/html": [
       "<div>\n",
       "<style scoped>\n",
       "    .dataframe tbody tr th:only-of-type {\n",
       "        vertical-align: middle;\n",
       "    }\n",
       "\n",
       "    .dataframe tbody tr th {\n",
       "        vertical-align: top;\n",
       "    }\n",
       "\n",
       "    .dataframe thead th {\n",
       "        text-align: right;\n",
       "    }\n",
       "</style>\n",
       "<table border=\"1\" class=\"dataframe\">\n",
       "  <thead>\n",
       "    <tr style=\"text-align: right;\">\n",
       "      <th></th>\n",
       "      <th>price</th>\n",
       "      <th>count</th>\n",
       "      <th>percentage</th>\n",
       "    </tr>\n",
       "  </thead>\n",
       "  <tbody>\n",
       "    <tr>\n",
       "      <th>0</th>\n",
       "      <td>-1</td>\n",
       "      <td>5270881</td>\n",
       "      <td>64.794086</td>\n",
       "    </tr>\n",
       "    <tr>\n",
       "      <th>1</th>\n",
       "      <td>85500</td>\n",
       "      <td>8861</td>\n",
       "      <td>0.108927</td>\n",
       "    </tr>\n",
       "    <tr>\n",
       "      <th>2</th>\n",
       "      <td>10800</td>\n",
       "      <td>6546</td>\n",
       "      <td>0.080469</td>\n",
       "    </tr>\n",
       "    <tr>\n",
       "      <th>3</th>\n",
       "      <td>9000</td>\n",
       "      <td>6493</td>\n",
       "      <td>0.079817</td>\n",
       "    </tr>\n",
       "    <tr>\n",
       "      <th>4</th>\n",
       "      <td>13500</td>\n",
       "      <td>5878</td>\n",
       "      <td>0.072257</td>\n",
       "    </tr>\n",
       "    <tr>\n",
       "      <th>5</th>\n",
       "      <td>9900</td>\n",
       "      <td>5842</td>\n",
       "      <td>0.071815</td>\n",
       "    </tr>\n",
       "    <tr>\n",
       "      <th>6</th>\n",
       "      <td>94000</td>\n",
       "      <td>5039</td>\n",
       "      <td>0.061944</td>\n",
       "    </tr>\n",
       "    <tr>\n",
       "      <th>7</th>\n",
       "      <td>18000</td>\n",
       "      <td>4788</td>\n",
       "      <td>0.058858</td>\n",
       "    </tr>\n",
       "    <tr>\n",
       "      <th>8</th>\n",
       "      <td>7200</td>\n",
       "      <td>4688</td>\n",
       "      <td>0.057629</td>\n",
       "    </tr>\n",
       "    <tr>\n",
       "      <th>9</th>\n",
       "      <td>89300</td>\n",
       "      <td>4262</td>\n",
       "      <td>0.052392</td>\n",
       "    </tr>\n",
       "  </tbody>\n",
       "</table>\n",
       "</div>"
      ],
      "text/plain": [
       "   price    count  percentage\n",
       "0     -1  5270881   64.794086\n",
       "1  85500     8861    0.108927\n",
       "2  10800     6546    0.080469\n",
       "3   9000     6493    0.079817\n",
       "4  13500     5878    0.072257\n",
       "5   9900     5842    0.071815\n",
       "6  94000     5039    0.061944\n",
       "7  18000     4788    0.058858\n",
       "8   7200     4688    0.057629\n",
       "9  89300     4262    0.052392"
      ]
     },
     "execution_count": 17,
     "metadata": {},
     "output_type": "execute_result"
    }
   ],
   "source": [
    "vc_df = get_vc_df(train_df, 'price')\n",
    "vc_df.head(10)"
   ]
  },
  {
   "cell_type": "markdown",
   "metadata": {},
   "source": [
    "# 최종 결정된 DataFrame"
   ]
  },
  {
   "cell_type": "code",
   "execution_count": 18,
   "metadata": {
    "ExecuteTime": {
     "end_time": "2021-03-12T15:38:34.968144Z",
     "start_time": "2021-03-12T15:38:34.959433Z"
    }
   },
   "outputs": [
    {
     "data": {
      "text/html": [
       "<div>\n",
       "<style scoped>\n",
       "    .dataframe tbody tr th:only-of-type {\n",
       "        vertical-align: middle;\n",
       "    }\n",
       "\n",
       "    .dataframe tbody tr th {\n",
       "        vertical-align: top;\n",
       "    }\n",
       "\n",
       "    .dataframe thead th {\n",
       "        text-align: right;\n",
       "    }\n",
       "</style>\n",
       "<table border=\"1\" class=\"dataframe\">\n",
       "  <thead>\n",
       "    <tr style=\"text-align: right;\">\n",
       "      <th></th>\n",
       "      <th>pid</th>\n",
       "      <th>product</th>\n",
       "      <th>brand</th>\n",
       "      <th>maker</th>\n",
       "      <th>price</th>\n",
       "      <th>updttm</th>\n",
       "      <th>bcateid</th>\n",
       "      <th>mcateid</th>\n",
       "      <th>scateid</th>\n",
       "      <th>dcateid</th>\n",
       "      <th>bcatenm</th>\n",
       "      <th>mcatenm</th>\n",
       "      <th>scatenm</th>\n",
       "      <th>dcatenm</th>\n",
       "    </tr>\n",
       "  </thead>\n",
       "  <tbody>\n",
       "    <tr>\n",
       "      <th>0</th>\n",
       "      <td>O4486751463</td>\n",
       "      <td>직소퍼즐 - 1000조각 바다거북의 여행 (PL1275)</td>\n",
       "      <td>퍼즐라이프</td>\n",
       "      <td>상품상세설명 참조</td>\n",
       "      <td>16520</td>\n",
       "      <td>20180227091029</td>\n",
       "      <td>1</td>\n",
       "      <td>1</td>\n",
       "      <td>2</td>\n",
       "      <td>-1</td>\n",
       "      <td>악기/취미/만들기</td>\n",
       "      <td>보드게임/퍼즐</td>\n",
       "      <td>직소/퍼즐</td>\n",
       "      <td></td>\n",
       "    </tr>\n",
       "    <tr>\n",
       "      <th>1</th>\n",
       "      <td>P3307178849</td>\n",
       "      <td>[모리케이스]아이폰6S/6S+ tree farm101 - 다이어리케이스[바보사랑][무료배송]</td>\n",
       "      <td>바보사랑</td>\n",
       "      <td>MORY|해당없음</td>\n",
       "      <td>20370</td>\n",
       "      <td>20180429085019</td>\n",
       "      <td>3</td>\n",
       "      <td>3</td>\n",
       "      <td>4</td>\n",
       "      <td>-1</td>\n",
       "      <td>휴대폰/액세서리</td>\n",
       "      <td>휴대폰액세서리</td>\n",
       "      <td>아이폰액세서리</td>\n",
       "      <td></td>\n",
       "    </tr>\n",
       "    <tr>\n",
       "      <th>2</th>\n",
       "      <td>R4424255515</td>\n",
       "      <td>크리비아 기모 3부 속바지 GLG4314P</td>\n",
       "      <td>크리비아</td>\n",
       "      <td></td>\n",
       "      <td>-1</td>\n",
       "      <td>20180426102314</td>\n",
       "      <td>5</td>\n",
       "      <td>5</td>\n",
       "      <td>6</td>\n",
       "      <td>-1</td>\n",
       "      <td>언더웨어</td>\n",
       "      <td>보정언더웨어</td>\n",
       "      <td>속바지/속치마</td>\n",
       "      <td></td>\n",
       "    </tr>\n",
       "    <tr>\n",
       "      <th>3</th>\n",
       "      <td>F3334315393</td>\n",
       "      <td>[하프클럽/잭앤질]남성 솔리드 절개라인 포인트 포켓 팬츠 31133PT002_NA</td>\n",
       "      <td>잭앤질</td>\n",
       "      <td>㈜크리스패션</td>\n",
       "      <td>16280</td>\n",
       "      <td>20180422084512</td>\n",
       "      <td>7</td>\n",
       "      <td>7</td>\n",
       "      <td>8</td>\n",
       "      <td>-1</td>\n",
       "      <td>남성의류</td>\n",
       "      <td>바지</td>\n",
       "      <td>일자면바지</td>\n",
       "      <td></td>\n",
       "    </tr>\n",
       "    <tr>\n",
       "      <th>4</th>\n",
       "      <td>N731678492</td>\n",
       "      <td>코드프리혈당시험지50매/코드프리시험지/최장유효기간</td>\n",
       "      <td></td>\n",
       "      <td>기타</td>\n",
       "      <td>-1</td>\n",
       "      <td>20180424071623</td>\n",
       "      <td>10</td>\n",
       "      <td>9</td>\n",
       "      <td>11</td>\n",
       "      <td>-1</td>\n",
       "      <td>건강관리/실버용품</td>\n",
       "      <td>건강측정용품</td>\n",
       "      <td>혈당지</td>\n",
       "      <td></td>\n",
       "    </tr>\n",
       "  </tbody>\n",
       "</table>\n",
       "</div>"
      ],
      "text/plain": [
       "           pid                                              product  brand  \\\n",
       "0  O4486751463                      직소퍼즐 - 1000조각 바다거북의 여행 (PL1275)  퍼즐라이프   \n",
       "1  P3307178849  [모리케이스]아이폰6S/6S+ tree farm101 - 다이어리케이스[바보사랑][무료배송]   바보사랑   \n",
       "2  R4424255515                              크리비아 기모 3부 속바지 GLG4314P   크리비아   \n",
       "3  F3334315393        [하프클럽/잭앤질]남성 솔리드 절개라인 포인트 포켓 팬츠 31133PT002_NA    잭앤질   \n",
       "4   N731678492                          코드프리혈당시험지50매/코드프리시험지/최장유효기간          \n",
       "\n",
       "       maker  price          updttm  bcateid  mcateid  scateid  dcateid  \\\n",
       "0  상품상세설명 참조  16520  20180227091029        1        1        2       -1   \n",
       "1  MORY|해당없음  20370  20180429085019        3        3        4       -1   \n",
       "2                -1  20180426102314        5        5        6       -1   \n",
       "3     ㈜크리스패션  16280  20180422084512        7        7        8       -1   \n",
       "4         기타     -1  20180424071623       10        9       11       -1   \n",
       "\n",
       "     bcatenm  mcatenm  scatenm dcatenm  \n",
       "0  악기/취미/만들기  보드게임/퍼즐    직소/퍼즐          \n",
       "1   휴대폰/액세서리  휴대폰액세서리  아이폰액세서리          \n",
       "2       언더웨어   보정언더웨어  속바지/속치마          \n",
       "3       남성의류       바지    일자면바지          \n",
       "4  건강관리/실버용품   건강측정용품      혈당지          "
      ]
     },
     "execution_count": 18,
     "metadata": {},
     "output_type": "execute_result"
    }
   ],
   "source": [
    "train_df.head()"
   ]
  },
  {
   "cell_type": "code",
   "execution_count": 19,
   "metadata": {
    "ExecuteTime": {
     "end_time": "2021-03-12T15:38:35.338653Z",
     "start_time": "2021-03-12T15:38:34.969055Z"
    }
   },
   "outputs": [],
   "source": [
    "# 불필요한 컬럼을 제거한 DataFrame 생성\n",
    "train_df = train_df[['pid', 'product', 'bcateid', 'mcateid', 'scateid', 'dcateid']]\n",
    "dev_df = dev_df[['pid', 'product', 'bcateid', 'mcateid', 'scateid', 'dcateid']]\n",
    "test_df = test_df[['pid', 'product', 'bcateid', 'mcateid', 'scateid', 'dcateid']]"
   ]
  },
  {
   "cell_type": "code",
   "execution_count": 20,
   "metadata": {
    "ExecuteTime": {
     "end_time": "2021-03-12T15:38:35.347751Z",
     "start_time": "2021-03-12T15:38:35.339766Z"
    },
    "scrolled": false
   },
   "outputs": [
    {
     "data": {
      "text/html": [
       "<div>\n",
       "<style scoped>\n",
       "    .dataframe tbody tr th:only-of-type {\n",
       "        vertical-align: middle;\n",
       "    }\n",
       "\n",
       "    .dataframe tbody tr th {\n",
       "        vertical-align: top;\n",
       "    }\n",
       "\n",
       "    .dataframe thead th {\n",
       "        text-align: right;\n",
       "    }\n",
       "</style>\n",
       "<table border=\"1\" class=\"dataframe\">\n",
       "  <thead>\n",
       "    <tr style=\"text-align: right;\">\n",
       "      <th></th>\n",
       "      <th>pid</th>\n",
       "      <th>product</th>\n",
       "      <th>bcateid</th>\n",
       "      <th>mcateid</th>\n",
       "      <th>scateid</th>\n",
       "      <th>dcateid</th>\n",
       "    </tr>\n",
       "  </thead>\n",
       "  <tbody>\n",
       "    <tr>\n",
       "      <th>0</th>\n",
       "      <td>O4486751463</td>\n",
       "      <td>직소퍼즐 - 1000조각 바다거북의 여행 (PL1275)</td>\n",
       "      <td>1</td>\n",
       "      <td>1</td>\n",
       "      <td>2</td>\n",
       "      <td>-1</td>\n",
       "    </tr>\n",
       "    <tr>\n",
       "      <th>1</th>\n",
       "      <td>P3307178849</td>\n",
       "      <td>[모리케이스]아이폰6S/6S+ tree farm101 - 다이어리케이스[바보사랑][무료배송]</td>\n",
       "      <td>3</td>\n",
       "      <td>3</td>\n",
       "      <td>4</td>\n",
       "      <td>-1</td>\n",
       "    </tr>\n",
       "    <tr>\n",
       "      <th>2</th>\n",
       "      <td>R4424255515</td>\n",
       "      <td>크리비아 기모 3부 속바지 GLG4314P</td>\n",
       "      <td>5</td>\n",
       "      <td>5</td>\n",
       "      <td>6</td>\n",
       "      <td>-1</td>\n",
       "    </tr>\n",
       "    <tr>\n",
       "      <th>3</th>\n",
       "      <td>F3334315393</td>\n",
       "      <td>[하프클럽/잭앤질]남성 솔리드 절개라인 포인트 포켓 팬츠 31133PT002_NA</td>\n",
       "      <td>7</td>\n",
       "      <td>7</td>\n",
       "      <td>8</td>\n",
       "      <td>-1</td>\n",
       "    </tr>\n",
       "    <tr>\n",
       "      <th>4</th>\n",
       "      <td>N731678492</td>\n",
       "      <td>코드프리혈당시험지50매/코드프리시험지/최장유효기간</td>\n",
       "      <td>10</td>\n",
       "      <td>9</td>\n",
       "      <td>11</td>\n",
       "      <td>-1</td>\n",
       "    </tr>\n",
       "  </tbody>\n",
       "</table>\n",
       "</div>"
      ],
      "text/plain": [
       "           pid                                              product  bcateid  \\\n",
       "0  O4486751463                      직소퍼즐 - 1000조각 바다거북의 여행 (PL1275)        1   \n",
       "1  P3307178849  [모리케이스]아이폰6S/6S+ tree farm101 - 다이어리케이스[바보사랑][무료배송]        3   \n",
       "2  R4424255515                              크리비아 기모 3부 속바지 GLG4314P        5   \n",
       "3  F3334315393        [하프클럽/잭앤질]남성 솔리드 절개라인 포인트 포켓 팬츠 31133PT002_NA        7   \n",
       "4   N731678492                          코드프리혈당시험지50매/코드프리시험지/최장유효기간       10   \n",
       "\n",
       "   mcateid  scateid  dcateid  \n",
       "0        1        2       -1  \n",
       "1        3        4       -1  \n",
       "2        5        6       -1  \n",
       "3        7        8       -1  \n",
       "4        9       11       -1  "
      ]
     },
     "execution_count": 20,
     "metadata": {},
     "output_type": "execute_result"
    }
   ],
   "source": [
    "train_df.head()"
   ]
  },
  {
   "cell_type": "markdown",
   "metadata": {},
   "source": [
    "# product 칼럼 전처리 하기"
   ]
  },
  {
   "cell_type": "markdown",
   "metadata": {},
   "source": [
    "### 센텐스피스 모델 학습"
   ]
  },
  {
   "cell_type": "code",
   "execution_count": 21,
   "metadata": {
    "ExecuteTime": {
     "end_time": "2021-03-12T15:38:52.900841Z",
     "start_time": "2021-03-12T15:38:35.348878Z"
    }
   },
   "outputs": [
    {
     "name": "stdout",
     "output_type": "stream",
     "text": [
      "CPU times: user 17.2 s, sys: 366 ms, total: 17.5 s\n",
      "Wall time: 17.5 s\n"
     ]
    },
    {
     "data": {
      "text/html": [
       "<div>\n",
       "<style scoped>\n",
       "    .dataframe tbody tr th:only-of-type {\n",
       "        vertical-align: middle;\n",
       "    }\n",
       "\n",
       "    .dataframe tbody tr th {\n",
       "        vertical-align: top;\n",
       "    }\n",
       "\n",
       "    .dataframe thead th {\n",
       "        text-align: right;\n",
       "    }\n",
       "</style>\n",
       "<table border=\"1\" class=\"dataframe\">\n",
       "  <thead>\n",
       "    <tr style=\"text-align: right;\">\n",
       "      <th></th>\n",
       "      <th>pid</th>\n",
       "      <th>product</th>\n",
       "      <th>bcateid</th>\n",
       "      <th>mcateid</th>\n",
       "      <th>scateid</th>\n",
       "      <th>dcateid</th>\n",
       "    </tr>\n",
       "  </thead>\n",
       "  <tbody>\n",
       "    <tr>\n",
       "      <th>0</th>\n",
       "      <td>O4486751463</td>\n",
       "      <td>직소퍼즐 1000조각 바다거북의 여행 pl1275</td>\n",
       "      <td>1</td>\n",
       "      <td>1</td>\n",
       "      <td>2</td>\n",
       "      <td>-1</td>\n",
       "    </tr>\n",
       "    <tr>\n",
       "      <th>1</th>\n",
       "      <td>P3307178849</td>\n",
       "      <td>모리케이스 아이폰6s 6s tree farm101 다이어리케이스 바보사랑 무료배송</td>\n",
       "      <td>3</td>\n",
       "      <td>3</td>\n",
       "      <td>4</td>\n",
       "      <td>-1</td>\n",
       "    </tr>\n",
       "    <tr>\n",
       "      <th>2</th>\n",
       "      <td>R4424255515</td>\n",
       "      <td>크리비아 기모 3부 속바지 glg4314p</td>\n",
       "      <td>5</td>\n",
       "      <td>5</td>\n",
       "      <td>6</td>\n",
       "      <td>-1</td>\n",
       "    </tr>\n",
       "    <tr>\n",
       "      <th>3</th>\n",
       "      <td>F3334315393</td>\n",
       "      <td>하프클럽 잭앤질 남성 솔리드 절개라인 포인트 포켓 팬츠 31133pt002 na</td>\n",
       "      <td>7</td>\n",
       "      <td>7</td>\n",
       "      <td>8</td>\n",
       "      <td>-1</td>\n",
       "    </tr>\n",
       "    <tr>\n",
       "      <th>4</th>\n",
       "      <td>N731678492</td>\n",
       "      <td>코드프리혈당시험지50매 코드프리시험지 최장유효기간</td>\n",
       "      <td>10</td>\n",
       "      <td>9</td>\n",
       "      <td>11</td>\n",
       "      <td>-1</td>\n",
       "    </tr>\n",
       "  </tbody>\n",
       "</table>\n",
       "</div>"
      ],
      "text/plain": [
       "           pid                                        product  bcateid  \\\n",
       "0  O4486751463                    직소퍼즐 1000조각 바다거북의 여행 pl1275        1   \n",
       "1  P3307178849  모리케이스 아이폰6s 6s tree farm101 다이어리케이스 바보사랑 무료배송        3   \n",
       "2  R4424255515                        크리비아 기모 3부 속바지 glg4314p        5   \n",
       "3  F3334315393   하프클럽 잭앤질 남성 솔리드 절개라인 포인트 포켓 팬츠 31133pt002 na        7   \n",
       "4   N731678492                    코드프리혈당시험지50매 코드프리시험지 최장유효기간       10   \n",
       "\n",
       "   mcateid  scateid  dcateid  \n",
       "0        1        2       -1  \n",
       "1        3        4       -1  \n",
       "2        5        6       -1  \n",
       "3        7        8       -1  \n",
       "4        9       11       -1  "
      ]
     },
     "execution_count": 21,
     "metadata": {},
     "output_type": "execute_result"
    }
   ],
   "source": [
    "%%time\n",
    "import re\n",
    "\n",
    "# 특수기호를 나열한 패턴 문자열을 컴파일하여 패턴 객체를 얻는다.\n",
    "p = re.compile('[\\!@#$%\\^&\\*\\(\\)\\-\\=\\[\\]\\{\\}\\.,/\\?~\\+\\'\"|_:;><`┃]')\n",
    "\n",
    "# 위의 패턴 문자열의 매칭되는 문자는 아래 코드를 통해서 빈공백으로 치환할 것이다.\n",
    "\n",
    "# 문장의 특수기호 제거 함수\n",
    "def remove_special_characters(sentence, lower=True):\n",
    "    sentence = p.sub(' ', sentence) # 패턴 객체로 sentence 내의 특수기호를 공백문자로 치환한다.\n",
    "    sentence = ' '.join(sentence.split()) # sentence 내의 두개 이상 연속된 빈공백들을 하나의 빈공백으로 만든다.\n",
    "    if lower:\n",
    "        sentence = sentence.lower()\n",
    "    return sentence\n",
    "\n",
    "# product 칼럼에 특수기호를 제거하는 함수를 적용한 결과를 반환한다.\n",
    "train_df['product'] = train_df['product'].map(remove_special_characters)\n",
    "\n",
    "train_df.head() # 특수기호가 제거된 train_df의 상단 5행만 출력"
   ]
  },
  {
   "cell_type": "code",
   "execution_count": 22,
   "metadata": {
    "ExecuteTime": {
     "end_time": "2021-03-12T15:41:44.552032Z",
     "start_time": "2021-03-12T15:38:52.903129Z"
    }
   },
   "outputs": [
    {
     "name": "stdout",
     "output_type": "stream",
     "text": [
      "../input/processed/vocab/spm.vocab\n",
      "../input/processed/vocab/spm.model\n",
      "CPU times: user 2min 53s, sys: 1.26 s, total: 2min 54s\n",
      "Wall time: 2min 51s\n"
     ]
    }
   ],
   "source": [
    "%%time\n",
    "import sentencepiece as spm # sentencepiece 모듈을 가져온다.\n",
    "\n",
    "# product 칼럼의 상품명을 product.txt 파일명으로 저장한다.\n",
    "with open(os.path.join(VOCAB_DIR, 'product.txt'), 'w', encoding='utf-8') as f:\n",
    "    f.write(train_df['product'].str.cat(sep='\\n'))\n",
    "\n",
    "# sentencepiece 모델을 학습시키는 함수이다.\n",
    "def train_spm(txt_path, spm_path,\n",
    "              vocab_size=32000, input_sentence_size=1000000):  \n",
    "    # input_sentence_size: 개수 만큼만 학습데이터로 사용된다.\n",
    "    # vocab_size: 사전 크기\n",
    "    spm.SentencePieceTrainer.Train(\n",
    "        f' --input={txt_path} --model_type=bpe'\n",
    "        f' --model_prefix={spm_path} --vocab_size={vocab_size}'\n",
    "        f' --input_sentence_size={input_sentence_size}'\n",
    "        f' --shuffle_input_sentence=true'\n",
    "    )\n",
    "\n",
    "# product.txt 파일로 sentencepiece 모델을 학습 시킨다. \n",
    "# 학습이 완료되면 spm.model, spm.vocab 파일이 생성된다.\n",
    "train_spm(txt_path=os.path.join(VOCAB_DIR, 'product.txt'), \n",
    "          spm_path=os.path.join(VOCAB_DIR, 'spm')) # spm 접두어\n",
    "\n",
    "# 센텐스피스 모델 학습이 완료되면 product.txt는 삭제\n",
    "os.remove(os.path.join(VOCAB_DIR, 'product.txt'))\n",
    "\n",
    "# 필요한 파일이 제대로 생성됐는지 확인\n",
    "for dirname, _, filenames in os.walk(VOCAB_DIR):\n",
    "    for filename in filenames:\n",
    "        print(os.path.join(dirname, filename))"
   ]
  },
  {
   "cell_type": "markdown",
   "metadata": {},
   "source": [
    "### train_df 전처리"
   ]
  },
  {
   "cell_type": "code",
   "execution_count": 23,
   "metadata": {
    "ExecuteTime": {
     "end_time": "2021-03-12T15:44:30.695794Z",
     "start_time": "2021-03-12T15:42:00.488191Z"
    }
   },
   "outputs": [
    {
     "data": {
      "text/html": [
       "<div>\n",
       "<style scoped>\n",
       "    .dataframe tbody tr th:only-of-type {\n",
       "        vertical-align: middle;\n",
       "    }\n",
       "\n",
       "    .dataframe tbody tr th {\n",
       "        vertical-align: top;\n",
       "    }\n",
       "\n",
       "    .dataframe thead th {\n",
       "        text-align: right;\n",
       "    }\n",
       "</style>\n",
       "<table border=\"1\" class=\"dataframe\">\n",
       "  <thead>\n",
       "    <tr style=\"text-align: right;\">\n",
       "      <th></th>\n",
       "      <th>product</th>\n",
       "      <th>tokens</th>\n",
       "    </tr>\n",
       "  </thead>\n",
       "  <tbody>\n",
       "    <tr>\n",
       "      <th>0</th>\n",
       "      <td>직소퍼즐 1000조각 바다거북의 여행 pl1275</td>\n",
       "      <td>▁직소퍼즐 ▁1000 조각 ▁바다 거북 의 ▁여행 ▁pl 12 75</td>\n",
       "    </tr>\n",
       "    <tr>\n",
       "      <th>1</th>\n",
       "      <td>모리케이스 아이폰6s 6s tree farm101 다이어리케이스 바보사랑 무료배송</td>\n",
       "      <td>▁모리케이스 ▁아이폰 6 s ▁6 s ▁tree ▁farm 101 ▁다이어리케이스 ▁바보사랑 ▁무료배송</td>\n",
       "    </tr>\n",
       "    <tr>\n",
       "      <th>2</th>\n",
       "      <td>크리비아 기모 3부 속바지 glg4314p</td>\n",
       "      <td>▁크리비아 ▁기모 ▁3 부 ▁속바지 ▁gl g 43 14 p</td>\n",
       "    </tr>\n",
       "    <tr>\n",
       "      <th>3</th>\n",
       "      <td>하프클럽 잭앤질 남성 솔리드 절개라인 포인트 포켓 팬츠 31133pt002 na</td>\n",
       "      <td>▁하프클럽 ▁잭앤질 ▁남성 ▁솔리드 ▁절개라인 ▁포인트 ▁포켓 ▁팬츠 ▁311 33 pt 002 ▁na</td>\n",
       "    </tr>\n",
       "    <tr>\n",
       "      <th>4</th>\n",
       "      <td>코드프리혈당시험지50매 코드프리시험지 최장유효기간</td>\n",
       "      <td>▁코드 프리 혈 당 시험 지 50 매 ▁코드 프리 시험 지 ▁최 장 유 효 기간</td>\n",
       "    </tr>\n",
       "  </tbody>\n",
       "</table>\n",
       "</div>"
      ],
      "text/plain": [
       "                                         product  \\\n",
       "0                    직소퍼즐 1000조각 바다거북의 여행 pl1275   \n",
       "1  모리케이스 아이폰6s 6s tree farm101 다이어리케이스 바보사랑 무료배송   \n",
       "2                        크리비아 기모 3부 속바지 glg4314p   \n",
       "3   하프클럽 잭앤질 남성 솔리드 절개라인 포인트 포켓 팬츠 31133pt002 na   \n",
       "4                    코드프리혈당시험지50매 코드프리시험지 최장유효기간   \n",
       "\n",
       "                                                      tokens  \n",
       "0                      ▁직소퍼즐 ▁1000 조각 ▁바다 거북 의 ▁여행 ▁pl 12 75  \n",
       "1  ▁모리케이스 ▁아이폰 6 s ▁6 s ▁tree ▁farm 101 ▁다이어리케이스 ▁바보사랑 ▁무료배송  \n",
       "2                          ▁크리비아 ▁기모 ▁3 부 ▁속바지 ▁gl g 43 14 p  \n",
       "3  ▁하프클럽 ▁잭앤질 ▁남성 ▁솔리드 ▁절개라인 ▁포인트 ▁포켓 ▁팬츠 ▁311 33 pt 002 ▁na  \n",
       "4               ▁코드 프리 혈 당 시험 지 50 매 ▁코드 프리 시험 지 ▁최 장 유 효 기간  "
      ]
     },
     "execution_count": 23,
     "metadata": {},
     "output_type": "execute_result"
    }
   ],
   "source": [
    "# 센텐스피스 모델을 로드한다.\n",
    "sp = spm.SentencePieceProcessor()\n",
    "sp.Load(os.path.join(VOCAB_DIR, 'spm.model'))\n",
    "\n",
    "# product 칼럼의 상품명을 분절한 결과를 tokenized_product 칼럼에 저장한다.\n",
    "train_df['tokens'] = train_df['product'].map(lambda x: \" \".join(sp.EncodeAsPieces(x)) )\n",
    "\n",
    "train_df[['product', 'tokens']].head()"
   ]
  },
  {
   "cell_type": "markdown",
   "metadata": {},
   "source": [
    "###  dev_df, test_df 전처리"
   ]
  },
  {
   "cell_type": "code",
   "execution_count": 24,
   "metadata": {
    "ExecuteTime": {
     "end_time": "2021-03-12T15:46:41.912297Z",
     "start_time": "2021-03-12T15:46:02.853149Z"
    }
   },
   "outputs": [],
   "source": [
    "# 특수기호를 공백문자로 치환\n",
    "dev_df['product'] = dev_df['product'].map(remove_special_characters) \n",
    "# product 칼럼을 분절한 뒤 token_id로 치환\n",
    "dev_df['tokens'] = dev_df['product'].map(lambda x: \" \".join([str(token_id) for token_id in sp.EncodeAsPieces(x)]))\n",
    "\n",
    "# 특수기호를 공백문자로 치환\n",
    "test_df['product'] = test_df['product'].map(remove_special_characters) \n",
    "# product 칼럼을 분절한 뒤 token_id로 치환\n",
    "test_df['tokens'] = test_df['product'].map(lambda x: \" \".join([str(token_id) for token_id in sp.EncodeAsPieces(x)]))"
   ]
  },
  {
   "cell_type": "markdown",
   "metadata": {},
   "source": [
    "# 전처리된 대회 데이터를 파일로 저장한다."
   ]
  },
  {
   "cell_type": "markdown",
   "metadata": {},
   "source": [
    "### 전처리가 완료된 train_df, dev_df, test_df를 파일로 저장한다."
   ]
  },
  {
   "cell_type": "code",
   "execution_count": 25,
   "metadata": {
    "ExecuteTime": {
     "end_time": "2021-03-12T15:47:09.568756Z",
     "start_time": "2021-03-12T15:46:41.913892Z"
    }
   },
   "outputs": [],
   "source": [
    "# product, tokenized_product 칼럼을 제외한 칼럼만을 남긴다.\n",
    "columns = ['pid', 'tokens',  'bcateid', 'mcateid', 'scateid', 'dcateid']\n",
    "train_df = train_df[columns] \n",
    "dev_df = dev_df[columns] \n",
    "test_df = test_df[columns] \n",
    "\n",
    "# csv 포맷으로 저장한다.\n",
    "train_df.to_csv(os.path.join(PROCESSED_DATA_DIR, 'train.csv'), index=False) \n",
    "dev_df.to_csv(os.path.join(PROCESSED_DATA_DIR, 'dev.csv'), index=False) \n",
    "test_df.to_csv(os.path.join(PROCESSED_DATA_DIR, 'test.csv'), index=False) "
   ]
  },
  {
   "cell_type": "markdown",
   "metadata": {},
   "source": [
    "### 용량이 큰 img_feat 컬럼은 별도의 hdf5 포맷의 파일로 저장"
   ]
  },
  {
   "cell_type": "code",
   "execution_count": 26,
   "metadata": {
    "ExecuteTime": {
     "end_time": "2021-03-12T15:50:58.678442Z",
     "start_time": "2021-03-12T15:48:00.493973Z"
    },
    "scrolled": true
   },
   "outputs": [
    {
     "data": {
      "application/vnd.jupyter.widget-view+json": {
       "model_id": "72c35659de8b4acdb57eb397a94a3627",
       "version_major": 2,
       "version_minor": 0
      },
      "text/plain": [
       "train,img_feat:   0%|          | 0/9 [00:00<?, ?it/s]"
      ]
     },
     "metadata": {},
     "output_type": "display_data"
    },
    {
     "data": {
      "application/vnd.jupyter.widget-view+json": {
       "model_id": "42ebab54497c4d87bcf6f4ae00751b7d",
       "version_major": 2,
       "version_minor": 0
      },
      "text/plain": [
       "dev,img_feat:   0%|          | 0/1 [00:00<?, ?it/s]"
      ]
     },
     "metadata": {},
     "output_type": "display_data"
    },
    {
     "data": {
      "application/vnd.jupyter.widget-view+json": {
       "model_id": "624da66a85244554999a983f0a580118",
       "version_major": 2,
       "version_minor": 0
      },
      "text/plain": [
       "test,img_feat:   0%|          | 0/2 [00:00<?, ?it/s]"
      ]
     },
     "metadata": {},
     "output_type": "display_data"
    },
    {
     "name": "stdout",
     "output_type": "stream",
     "text": [
      "../input/processed/test.csv\n",
      "../input/processed/train.csv\n",
      "../input/processed/train_img_feat.h5\n",
      "../input/processed/test_img_feat.h5\n",
      "../input/processed/dev.csv\n",
      "../input/processed/dev_img_feat.h5\n",
      "../input/processed/vocab/spm.vocab\n",
      "../input/processed/vocab/spm.model\n"
     ]
    }
   ],
   "source": [
    "# image_feature는 데이터의 크기가 크므로 처리함수를 별도로 분리하였다.\n",
    "def save_column_data(input_path_list, div, col, n_img_rows, output_path):\n",
    "    # img_feat를 저장할 h5 파일을 생성\n",
    "    h_out = h5py.File(output_path, 'w')    \n",
    "    # 대회데이터의 상품개수 x 2048(img_feat 크기)로 dataset을 할당한다.\n",
    "    h_out.create_dataset(col, (n_img_rows, 2048), dtype=np.float32)\n",
    "    \n",
    "    offset_out = 0\n",
    "    \n",
    "    # h5포맷의 대회데이터에서 img_feat 칼럼만 읽어서 h5포맷으로 다시 저장한다.\n",
    "    for in_path in tqdm(input_path_list, desc=f'{div},{col}'):\n",
    "        h_in = h5py.File(in_path, 'r')\n",
    "        sz = h_in[div][col].shape[0]\n",
    "        h_out[col][offset_out:offset_out+sz] = h_in[div][col][:]\n",
    "        offset_out += sz\n",
    "        h_in.close()\n",
    "    h_out.close()\n",
    "\n",
    "\n",
    "save_column_data(train_path_list, div='train', col='img_feat', n_img_rows=len(train_df), \n",
    "                 output_path=os.path.join(PROCESSED_DATA_DIR, 'train_img_feat.h5'))\n",
    "save_column_data(dev_path_list, div='dev', col='img_feat', n_img_rows=len(dev_df), \n",
    "                 output_path=os.path.join(PROCESSED_DATA_DIR, 'dev_img_feat.h5'))\n",
    "save_column_data(test_path_list, div='test', col='img_feat', n_img_rows=len(test_df), \n",
    "                 output_path=os.path.join(PROCESSED_DATA_DIR, 'test_img_feat.h5'))\n",
    "\n",
    "# 파일이 제대로 생성됐는지 확인\n",
    "for dirname, _, filenames in os.walk(PROCESSED_DATA_DIR):\n",
    "    for filename in filenames:\n",
    "        print(os.path.join(dirname, filename))"
   ]
  },
  {
   "cell_type": "code",
   "execution_count": 27,
   "metadata": {
    "ExecuteTime": {
     "end_time": "2021-03-12T15:52:07.207046Z",
     "start_time": "2021-03-12T15:52:07.203781Z"
    }
   },
   "outputs": [
    {
     "data": {
      "text/plain": [
       "'../input/processed'"
      ]
     },
     "execution_count": 27,
     "metadata": {},
     "output_type": "execute_result"
    }
   ],
   "source": [
    "PROCESSED_DATA_DIR"
   ]
  },
  {
   "cell_type": "code",
   "execution_count": 28,
   "metadata": {
    "ExecuteTime": {
     "end_time": "2021-03-12T15:53:09.810662Z",
     "start_time": "2021-03-12T15:53:09.807386Z"
    }
   },
   "outputs": [],
   "source": [
    "h = h5py.File('../input/raw_data/train.chunk.01', 'r')"
   ]
  },
  {
   "cell_type": "code",
   "execution_count": 36,
   "metadata": {
    "ExecuteTime": {
     "end_time": "2021-03-12T15:55:38.269663Z",
     "start_time": "2021-03-12T15:55:29.094563Z"
    }
   },
   "outputs": [
    {
     "data": {
      "text/plain": [
       "(1000000, 2048)"
      ]
     },
     "execution_count": 36,
     "metadata": {},
     "output_type": "execute_result"
    }
   ],
   "source": [
    "h['train']['img_feat'][:].shape"
   ]
  }
 ],
 "metadata": {
  "kernelspec": {
   "display_name": "DL_Server",
   "language": "python",
   "name": "dl_server"
  },
  "language_info": {
   "codemirror_mode": {
    "name": "ipython",
    "version": 3
   },
   "file_extension": ".py",
   "mimetype": "text/x-python",
   "name": "python",
   "nbconvert_exporter": "python",
   "pygments_lexer": "ipython3",
   "version": "3.8.8"
  },
  "toc": {
   "base_numbering": 1,
   "nav_menu": {},
   "number_sections": true,
   "sideBar": true,
   "skip_h1_title": false,
   "title_cell": "Table of Contents",
   "title_sidebar": "Contents",
   "toc_cell": false,
   "toc_position": {},
   "toc_section_display": true,
   "toc_window_display": false
  }
 },
 "nbformat": 4,
 "nbformat_minor": 4
}
