{
 "cells": [
  {
   "cell_type": "markdown",
   "metadata": {},
   "source": [
    "# Load Libarary"
   ]
  },
  {
   "cell_type": "code",
   "execution_count": 5,
   "metadata": {},
   "outputs": [],
   "source": [
    "suppressMessages(library(data.table))\n",
    "suppressMessages(library(tidyverse))  \n",
    "suppressMessages(library(lightgbm)) "
   ]
  },
  {
   "cell_type": "markdown",
   "metadata": {},
   "source": [
    "# Read Data"
   ]
  },
  {
   "cell_type": "code",
   "execution_count": 6,
   "metadata": {},
   "outputs": [],
   "source": [
    "test1_preprocess = fread(\"../preprocess/test1_preprocess.csv\", na.strings=c(\"NA\",\"NaN\", \"\"),encoding=\"UTF-8\")\n",
    "test2_preprocess  = fread(\"../preprocess/test2_preprocess.csv\", na.strings=c(\"NA\",\"NaN\", \"\"),encoding=\"UTF-8\")"
   ]
  },
  {
   "cell_type": "markdown",
   "metadata": {},
   "source": [
    "# Data for Modeling"
   ]
  },
  {
   "cell_type": "code",
   "execution_count": 7,
   "metadata": {},
   "outputs": [],
   "source": [
    "# acc_id 제외\n",
    "test1<- model.matrix(~.-1, data = test1_preprocess[,-1]) \n",
    "test2<- model.matrix(~.-1, data = test2_preprocess[,-1]) "
   ]
  },
  {
   "cell_type": "markdown",
   "metadata": {},
   "source": [
    "# Load the Model"
   ]
  },
  {
   "cell_type": "code",
   "execution_count": null,
   "metadata": {},
   "outputs": [],
   "source": [
    "lgb.fit <-  lgb.load(\"../model/final_1.model\")\n",
    "lgb.fit2 <- lgb.load(\"../model/final_2.model\")"
   ]
  },
  {
   "cell_type": "markdown",
   "metadata": {},
   "source": [
    "# Prediction"
   ]
  },
  {
   "cell_type": "code",
   "execution_count": null,
   "metadata": {},
   "outputs": [],
   "source": [
    "# test1\n",
    "lgb.pred <- predict(lgb.fit, test1)\n",
    "lgb.pred2 <- predict(lgb.fit2, test1)\n",
    "\n",
    "\n",
    "# test2\n",
    "lgb.pred3 <- predict(lgb.fit, test2)\n",
    "lgb.pred4 <- predict(lgb.fit2, test2)"
   ]
  },
  {
   "cell_type": "markdown",
   "metadata": {},
   "source": [
    "# Make the Test Data"
   ]
  },
  {
   "cell_type": "code",
   "execution_count": null,
   "metadata": {},
   "outputs": [],
   "source": [
    "# test1_predict\n",
    "pred = test1_preprocess  %>% select(c(\"acc_id\"))\n",
    "\n",
    "minmax <- function(x) {\n",
    "    return  ( (x - min(x)) / ((max(x)- min(x))) )\n",
    "    }\n",
    "\n",
    "\n",
    "pred = pred  %>% mutate(survival_time = round(minmax(lgb.pred)*63,0)+1,\n",
    "                        amount_spent = minmax(lgb.pred2/survival_time)*74)"
   ]
  },
  {
   "cell_type": "code",
   "execution_count": null,
   "metadata": {},
   "outputs": [],
   "source": [
    "# test2_predict\n",
    "pred2 = test2_preprocess  %>% select(c(\"acc_id\"))\n",
    "\n",
    "minmax <- function(x) {\n",
    "    return  ( (x - min(x)) / ((max(x)- min(x))) )\n",
    "    }\n",
    "\n",
    "\n",
    "pred2 = pred2  %>% mutate(survival_time = round(minmax(lgb.pred3)*63,0)+1,\n",
    "                        amount_spent = minmax(lgb.pred4/survival_time)*74)"
   ]
  },
  {
   "cell_type": "code",
   "execution_count": null,
   "metadata": {},
   "outputs": [],
   "source": [
    "write.csv(pred, file=\"../predict/test1_predict.csv\", row.names = F, fileEncoding=\"UTF-8\")\n",
    "write.csv(pred2, file=\"../predict/test2_predict.csv\", row.names = F, fileEncoding=\"UTF-8\")"
   ]
  }
 ],
 "metadata": {
  "kernelspec": {
   "display_name": "R",
   "language": "R",
   "name": "ir"
  },
  "language_info": {
   "codemirror_mode": "r",
   "file_extension": ".r",
   "mimetype": "text/x-r-source",
   "name": "R",
   "pygments_lexer": "r",
   "version": "3.6.1"
  },
  "toc": {
   "base_numbering": 1,
   "nav_menu": {},
   "number_sections": true,
   "sideBar": true,
   "skip_h1_title": false,
   "title_cell": "Table of Contents",
   "title_sidebar": "Contents",
   "toc_cell": false,
   "toc_position": {},
   "toc_section_display": true,
   "toc_window_display": false
  }
 },
 "nbformat": 4,
 "nbformat_minor": 1
}
