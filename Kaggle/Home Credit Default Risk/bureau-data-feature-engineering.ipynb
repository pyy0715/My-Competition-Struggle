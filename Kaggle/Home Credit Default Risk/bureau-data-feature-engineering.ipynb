{
 "cells": [
  {
   "cell_type": "markdown",
   "metadata": {},
   "source": [
    "Hello!\n",
    "\n",
    "For many R users, This kernel has been converted from Python to R.\n",
    "\n",
    "I referenced this kernel. https://www.kaggle.com/shanth84/home-credit-bureau-data-feature-engineering\n",
    "\n",
    "I am still not enough, but I will try hard."
   ]
  },
  {
   "cell_type": "markdown",
   "metadata": {},
   "source": [
    "# HOW TO INTERPRET BUREAU DATA\n",
    "This table talks about the Loan data of each unique customer with all financial institutions other than Home Credit For each unique SK_ID_CURR we have multiple SK_ID_BUREAU Id's, each being a unique loan transaction from other financial institutions availed by the same customer and reported to the bureau."
   ]
  },
  {
   "cell_type": "code",
   "execution_count": 1,
   "metadata": {
    "_execution_state": "idle",
    "_uuid": "051d70d956493feee0c6d64651c6a088724dca2a"
   },
   "outputs": [
    {
     "name": "stderr",
     "output_type": "stream",
     "text": [
      "── \u001b[1mAttaching packages\u001b[22m ─────────────────────────────────────── tidyverse 1.2.1 ──\n",
      "\u001b[32m✔\u001b[39m \u001b[34mggplot2\u001b[39m 3.1.1.\u001b[31m9000\u001b[39m     \u001b[32m✔\u001b[39m \u001b[34mpurrr  \u001b[39m 0.3.2     \n",
      "\u001b[32m✔\u001b[39m \u001b[34mtibble \u001b[39m 2.1.1          \u001b[32m✔\u001b[39m \u001b[34mdplyr  \u001b[39m 0.8.1     \n",
      "\u001b[32m✔\u001b[39m \u001b[34mtidyr  \u001b[39m 0.8.3          \u001b[32m✔\u001b[39m \u001b[34mstringr\u001b[39m 1.4.0     \n",
      "\u001b[32m✔\u001b[39m \u001b[34mreadr  \u001b[39m 1.3.1          \u001b[32m✔\u001b[39m \u001b[34mforcats\u001b[39m 0.4.0     \n",
      "── \u001b[1mConflicts\u001b[22m ────────────────────────────────────────── tidyverse_conflicts() ──\n",
      "\u001b[31m✖\u001b[39m \u001b[34mdplyr\u001b[39m::\u001b[32mbetween()\u001b[39m   masks \u001b[34mdata.table\u001b[39m::between()\n",
      "\u001b[31m✖\u001b[39m \u001b[34mdplyr\u001b[39m::\u001b[32mfilter()\u001b[39m    masks \u001b[34mstats\u001b[39m::filter()\n",
      "\u001b[31m✖\u001b[39m \u001b[34mdplyr\u001b[39m::\u001b[32mfirst()\u001b[39m     masks \u001b[34mdata.table\u001b[39m::first()\n",
      "\u001b[31m✖\u001b[39m \u001b[34mdplyr\u001b[39m::\u001b[32mlag()\u001b[39m       masks \u001b[34mstats\u001b[39m::lag()\n",
      "\u001b[31m✖\u001b[39m \u001b[34mdplyr\u001b[39m::\u001b[32mlast()\u001b[39m      masks \u001b[34mdata.table\u001b[39m::last()\n",
      "\u001b[31m✖\u001b[39m \u001b[34mpurrr\u001b[39m::\u001b[32mtranspose()\u001b[39m masks \u001b[34mdata.table\u001b[39m::transpose()\n",
      "Loading required package: lattice\n",
      "\n",
      "Attaching package: ‘caret’\n",
      "\n",
      "The following object is masked from ‘package:purrr’:\n",
      "\n",
      "    lift\n",
      "\n",
      "The following object is masked from ‘package:httr’:\n",
      "\n",
      "    progress\n",
      "\n",
      "\n",
      "Attaching package: ‘xgboost’\n",
      "\n",
      "The following object is masked from ‘package:dplyr’:\n",
      "\n",
      "    slice\n",
      "\n",
      "Loading required package: R6\n",
      "\n",
      "Attaching package: ‘lightgbm’\n",
      "\n",
      "The following objects are masked from ‘package:xgboost’:\n",
      "\n",
      "    getinfo, setinfo, slice\n",
      "\n",
      "The following object is masked from ‘package:dplyr’:\n",
      "\n",
      "    slice\n",
      "\n",
      "\n",
      "Attaching package: ‘gridExtra’\n",
      "\n",
      "The following object is masked from ‘package:dplyr’:\n",
      "\n",
      "    combine\n",
      "\n",
      "\n",
      "Attaching package: ‘scales’\n",
      "\n",
      "The following object is masked from ‘package:purrr’:\n",
      "\n",
      "    discard\n",
      "\n",
      "The following object is masked from ‘package:readr’:\n",
      "\n",
      "    col_factor\n",
      "\n",
      "\n",
      "Attaching package: ‘reshape2’\n",
      "\n",
      "The following object is masked from ‘package:tidyr’:\n",
      "\n",
      "    smiths\n",
      "\n",
      "The following objects are masked from ‘package:data.table’:\n",
      "\n",
      "    dcast, melt\n",
      "\n",
      "\n",
      "Attaching package: ‘magrittr’\n",
      "\n",
      "The following object is masked from ‘package:purrr’:\n",
      "\n",
      "    set_names\n",
      "\n",
      "The following object is masked from ‘package:tidyr’:\n",
      "\n",
      "    extract\n",
      "\n"
     ]
    }
   ],
   "source": [
    "library(data.table) # Fast CSV read\n",
    "library(tidyverse)    #Visualisation\n",
    "library(caret) #Cross vaildation\n",
    "library(xgboost) #Xgboost\n",
    "library(lightgbm) #Lightgbm\n",
    "library(DataExplorer)\n",
    "library(knitr)\n",
    "library(gridExtra)\n",
    "library(scales)\n",
    "library(reshape2)\n",
    "library(magrittr)\n",
    "library(repr)"
   ]
  },
  {
   "cell_type": "code",
   "execution_count": 2,
   "metadata": {},
   "outputs": [],
   "source": [
    "bbalance <- fread(\"../input/bureau_balance.csv\", na.strings=c(\"NA\",\"NaN\",\"?\", \"\",\"XNA\"))\n",
    "bureau <- fread(\"../input/bureau.csv\", na.strings=c(\"NA\",\"NaN\",\"?\", \"\",\"XNA\"))\n",
    "# credit <- fread(\"../input/credit_card_balance.csv\", na.strings=c(\"NA\",\"NaN\",\"?\", \"\",\"XNA\"))\n",
    "# install <- fread(\"../input/installments_payments.csv\", na.strings=c(\"NA\",\"NaN\",\"?\", \"\",\"XNA\")) \n",
    "# pos <- fread(\"../input/POS_CASH_balance.csv\", na.strings=c(\"NA\",\"NaN\",\"?\", \"\",\"XNA\"))\n",
    "# previous <- fread(\"../input/previous_application.csv\", na.strings=c(\"NA\",\"NaN\",\"?\", \"\",\"XNA\"))\n",
    "train <- fread(\"../input/application_train.csv\", na.strings=c(\"NA\",\"NaN\",\"?\", \"\",\"XNA\")) \n",
    "test <- fread(\"../input/application_test.csv\", na.strings=c(\"NA\",\"NaN\",\"?\", \"\",\"XNA\"))"
   ]
  },
  {
   "cell_type": "code",
   "execution_count": 3,
   "metadata": {},
   "outputs": [],
   "source": [
    "bureau = bureau  %>%\n",
    "        mutate_if(is.integer, list(~as.numeric(.)))  %>%\n",
    "        mutate_if(is.character, list(~as.factor(.)))\n",
    "\n",
    "bbalance = bbalance  %>%\n",
    "        mutate_if(is.integer, list(~as.numeric(.)))  %>% \n",
    "        mutate_if(is.character, list(~as.factor(.)))"
   ]
  },
  {
   "cell_type": "code",
   "execution_count": 4,
   "metadata": {},
   "outputs": [
    {
     "name": "stdout",
     "output_type": "stream",
     "text": [
      "application_train : ( 27299925 , 3 )\n",
      "application_test : ( 1716428 , 17 )"
     ]
    }
   ],
   "source": [
    "cat(\"application_train : (\" , nrow(bbalance) , \",\" , ncol(bbalance) , \")\\n\")\n",
    "cat(\"application_test : (\" , nrow(bureau) , \",\" , ncol(bureau) , \")\")"
   ]
  },
  {
   "cell_type": "markdown",
   "metadata": {},
   "source": [
    "# EXAMPLE OF BUREAU TRANSACTIONS\n",
    "* In the example below customer with SK_ID_CURR = 100001 had 7 credit transactions before the current application"
   ]
  },
  {
   "cell_type": "code",
   "execution_count": 5,
   "metadata": {},
   "outputs": [
    {
     "data": {
      "text/html": [
       "<table>\n",
       "<caption>A data.frame: 7 × 17</caption>\n",
       "<thead>\n",
       "\t<tr><th scope=col>SK_ID_CURR</th><th scope=col>SK_ID_BUREAU</th><th scope=col>CREDIT_ACTIVE</th><th scope=col>CREDIT_CURRENCY</th><th scope=col>DAYS_CREDIT</th><th scope=col>CREDIT_DAY_OVERDUE</th><th scope=col>DAYS_CREDIT_ENDDATE</th><th scope=col>DAYS_ENDDATE_FACT</th><th scope=col>AMT_CREDIT_MAX_OVERDUE</th><th scope=col>CNT_CREDIT_PROLONG</th><th scope=col>AMT_CREDIT_SUM</th><th scope=col>AMT_CREDIT_SUM_DEBT</th><th scope=col>AMT_CREDIT_SUM_LIMIT</th><th scope=col>AMT_CREDIT_SUM_OVERDUE</th><th scope=col>CREDIT_TYPE</th><th scope=col>DAYS_CREDIT_UPDATE</th><th scope=col>AMT_ANNUITY</th></tr>\n",
       "\t<tr><th scope=col>&lt;dbl&gt;</th><th scope=col>&lt;dbl&gt;</th><th scope=col>&lt;fct&gt;</th><th scope=col>&lt;fct&gt;</th><th scope=col>&lt;dbl&gt;</th><th scope=col>&lt;dbl&gt;</th><th scope=col>&lt;dbl&gt;</th><th scope=col>&lt;dbl&gt;</th><th scope=col>&lt;dbl&gt;</th><th scope=col>&lt;dbl&gt;</th><th scope=col>&lt;dbl&gt;</th><th scope=col>&lt;dbl&gt;</th><th scope=col>&lt;dbl&gt;</th><th scope=col>&lt;dbl&gt;</th><th scope=col>&lt;fct&gt;</th><th scope=col>&lt;dbl&gt;</th><th scope=col>&lt;dbl&gt;</th></tr>\n",
       "</thead>\n",
       "<tbody>\n",
       "\t<tr><td>100001</td><td>5896630</td><td>Closed</td><td>currency 1</td><td> -857</td><td>0</td><td> -492</td><td> -553</td><td>NA</td><td>0</td><td>112500</td><td>     0.0</td><td> 0</td><td>0</td><td>Consumer credit</td><td>-155</td><td>    0.0</td></tr>\n",
       "\t<tr><td>100001</td><td>5896631</td><td>Closed</td><td>currency 1</td><td> -909</td><td>0</td><td> -179</td><td> -877</td><td>NA</td><td>0</td><td>279720</td><td>     0.0</td><td> 0</td><td>0</td><td>Consumer credit</td><td>-155</td><td>    0.0</td></tr>\n",
       "\t<tr><td>100001</td><td>5896632</td><td>Closed</td><td>currency 1</td><td> -879</td><td>0</td><td> -514</td><td> -544</td><td>NA</td><td>0</td><td> 91620</td><td>     0.0</td><td> 0</td><td>0</td><td>Consumer credit</td><td>-155</td><td>    0.0</td></tr>\n",
       "\t<tr><td>100001</td><td>5896633</td><td>Closed</td><td>currency 1</td><td>-1572</td><td>0</td><td>-1329</td><td>-1328</td><td>NA</td><td>0</td><td> 85500</td><td>     0.0</td><td> 0</td><td>0</td><td>Consumer credit</td><td>-155</td><td>    0.0</td></tr>\n",
       "\t<tr><td>100001</td><td>5896634</td><td>Active</td><td>currency 1</td><td> -559</td><td>0</td><td>  902</td><td>   NA</td><td>NA</td><td>0</td><td>337680</td><td>113166.0</td><td> 0</td><td>0</td><td>Consumer credit</td><td>  -6</td><td> 4630.5</td></tr>\n",
       "\t<tr><td>100001</td><td>5896635</td><td>Active</td><td>currency 1</td><td>  -49</td><td>0</td><td> 1778</td><td>   NA</td><td>NA</td><td>0</td><td>378000</td><td>373239.0</td><td> 0</td><td>0</td><td>Consumer credit</td><td> -16</td><td>10822.5</td></tr>\n",
       "\t<tr><td>100001</td><td>5896636</td><td>Active</td><td>currency 1</td><td> -320</td><td>0</td><td>  411</td><td>   NA</td><td>NA</td><td>0</td><td>168345</td><td>110281.5</td><td>NA</td><td>0</td><td>Consumer credit</td><td> -10</td><td> 9364.5</td></tr>\n",
       "</tbody>\n",
       "</table>\n"
      ],
      "text/latex": [
       "A data.frame: 7 × 17\n",
       "\\begin{tabular}{r|lllllllllllllllll}\n",
       " SK\\_ID\\_CURR & SK\\_ID\\_BUREAU & CREDIT\\_ACTIVE & CREDIT\\_CURRENCY & DAYS\\_CREDIT & CREDIT\\_DAY\\_OVERDUE & DAYS\\_CREDIT\\_ENDDATE & DAYS\\_ENDDATE\\_FACT & AMT\\_CREDIT\\_MAX\\_OVERDUE & CNT\\_CREDIT\\_PROLONG & AMT\\_CREDIT\\_SUM & AMT\\_CREDIT\\_SUM\\_DEBT & AMT\\_CREDIT\\_SUM\\_LIMIT & AMT\\_CREDIT\\_SUM\\_OVERDUE & CREDIT\\_TYPE & DAYS\\_CREDIT\\_UPDATE & AMT\\_ANNUITY\\\\\n",
       " <dbl> & <dbl> & <fct> & <fct> & <dbl> & <dbl> & <dbl> & <dbl> & <dbl> & <dbl> & <dbl> & <dbl> & <dbl> & <dbl> & <fct> & <dbl> & <dbl>\\\\\n",
       "\\hline\n",
       "\t 100001 & 5896630 & Closed & currency 1 &  -857 & 0 &  -492 &  -553 & NA & 0 & 112500 &      0.0 &  0 & 0 & Consumer credit & -155 &     0.0\\\\\n",
       "\t 100001 & 5896631 & Closed & currency 1 &  -909 & 0 &  -179 &  -877 & NA & 0 & 279720 &      0.0 &  0 & 0 & Consumer credit & -155 &     0.0\\\\\n",
       "\t 100001 & 5896632 & Closed & currency 1 &  -879 & 0 &  -514 &  -544 & NA & 0 &  91620 &      0.0 &  0 & 0 & Consumer credit & -155 &     0.0\\\\\n",
       "\t 100001 & 5896633 & Closed & currency 1 & -1572 & 0 & -1329 & -1328 & NA & 0 &  85500 &      0.0 &  0 & 0 & Consumer credit & -155 &     0.0\\\\\n",
       "\t 100001 & 5896634 & Active & currency 1 &  -559 & 0 &   902 &    NA & NA & 0 & 337680 & 113166.0 &  0 & 0 & Consumer credit &   -6 &  4630.5\\\\\n",
       "\t 100001 & 5896635 & Active & currency 1 &   -49 & 0 &  1778 &    NA & NA & 0 & 378000 & 373239.0 &  0 & 0 & Consumer credit &  -16 & 10822.5\\\\\n",
       "\t 100001 & 5896636 & Active & currency 1 &  -320 & 0 &   411 &    NA & NA & 0 & 168345 & 110281.5 & NA & 0 & Consumer credit &  -10 &  9364.5\\\\\n",
       "\\end{tabular}\n"
      ],
      "text/markdown": [
       "\n",
       "A data.frame: 7 × 17\n",
       "\n",
       "| SK_ID_CURR &lt;dbl&gt; | SK_ID_BUREAU &lt;dbl&gt; | CREDIT_ACTIVE &lt;fct&gt; | CREDIT_CURRENCY &lt;fct&gt; | DAYS_CREDIT &lt;dbl&gt; | CREDIT_DAY_OVERDUE &lt;dbl&gt; | DAYS_CREDIT_ENDDATE &lt;dbl&gt; | DAYS_ENDDATE_FACT &lt;dbl&gt; | AMT_CREDIT_MAX_OVERDUE &lt;dbl&gt; | CNT_CREDIT_PROLONG &lt;dbl&gt; | AMT_CREDIT_SUM &lt;dbl&gt; | AMT_CREDIT_SUM_DEBT &lt;dbl&gt; | AMT_CREDIT_SUM_LIMIT &lt;dbl&gt; | AMT_CREDIT_SUM_OVERDUE &lt;dbl&gt; | CREDIT_TYPE &lt;fct&gt; | DAYS_CREDIT_UPDATE &lt;dbl&gt; | AMT_ANNUITY &lt;dbl&gt; |\n",
       "|---|---|---|---|---|---|---|---|---|---|---|---|---|---|---|---|---|\n",
       "| 100001 | 5896630 | Closed | currency 1 |  -857 | 0 |  -492 |  -553 | NA | 0 | 112500 |      0.0 |  0 | 0 | Consumer credit | -155 |     0.0 |\n",
       "| 100001 | 5896631 | Closed | currency 1 |  -909 | 0 |  -179 |  -877 | NA | 0 | 279720 |      0.0 |  0 | 0 | Consumer credit | -155 |     0.0 |\n",
       "| 100001 | 5896632 | Closed | currency 1 |  -879 | 0 |  -514 |  -544 | NA | 0 |  91620 |      0.0 |  0 | 0 | Consumer credit | -155 |     0.0 |\n",
       "| 100001 | 5896633 | Closed | currency 1 | -1572 | 0 | -1329 | -1328 | NA | 0 |  85500 |      0.0 |  0 | 0 | Consumer credit | -155 |     0.0 |\n",
       "| 100001 | 5896634 | Active | currency 1 |  -559 | 0 |   902 |    NA | NA | 0 | 337680 | 113166.0 |  0 | 0 | Consumer credit |   -6 |  4630.5 |\n",
       "| 100001 | 5896635 | Active | currency 1 |   -49 | 0 |  1778 |    NA | NA | 0 | 378000 | 373239.0 |  0 | 0 | Consumer credit |  -16 | 10822.5 |\n",
       "| 100001 | 5896636 | Active | currency 1 |  -320 | 0 |   411 |    NA | NA | 0 | 168345 | 110281.5 | NA | 0 | Consumer credit |  -10 |  9364.5 |\n",
       "\n"
      ],
      "text/plain": [
       "  SK_ID_CURR SK_ID_BUREAU CREDIT_ACTIVE CREDIT_CURRENCY DAYS_CREDIT\n",
       "1 100001     5896630      Closed        currency 1       -857      \n",
       "2 100001     5896631      Closed        currency 1       -909      \n",
       "3 100001     5896632      Closed        currency 1       -879      \n",
       "4 100001     5896633      Closed        currency 1      -1572      \n",
       "5 100001     5896634      Active        currency 1       -559      \n",
       "6 100001     5896635      Active        currency 1        -49      \n",
       "7 100001     5896636      Active        currency 1       -320      \n",
       "  CREDIT_DAY_OVERDUE DAYS_CREDIT_ENDDATE DAYS_ENDDATE_FACT\n",
       "1 0                   -492                -553            \n",
       "2 0                   -179                -877            \n",
       "3 0                   -514                -544            \n",
       "4 0                  -1329               -1328            \n",
       "5 0                    902                  NA            \n",
       "6 0                   1778                  NA            \n",
       "7 0                    411                  NA            \n",
       "  AMT_CREDIT_MAX_OVERDUE CNT_CREDIT_PROLONG AMT_CREDIT_SUM AMT_CREDIT_SUM_DEBT\n",
       "1 NA                     0                  112500              0.0           \n",
       "2 NA                     0                  279720              0.0           \n",
       "3 NA                     0                   91620              0.0           \n",
       "4 NA                     0                   85500              0.0           \n",
       "5 NA                     0                  337680         113166.0           \n",
       "6 NA                     0                  378000         373239.0           \n",
       "7 NA                     0                  168345         110281.5           \n",
       "  AMT_CREDIT_SUM_LIMIT AMT_CREDIT_SUM_OVERDUE CREDIT_TYPE    \n",
       "1  0                   0                      Consumer credit\n",
       "2  0                   0                      Consumer credit\n",
       "3  0                   0                      Consumer credit\n",
       "4  0                   0                      Consumer credit\n",
       "5  0                   0                      Consumer credit\n",
       "6  0                   0                      Consumer credit\n",
       "7 NA                   0                      Consumer credit\n",
       "  DAYS_CREDIT_UPDATE AMT_ANNUITY\n",
       "1 -155                   0.0    \n",
       "2 -155                   0.0    \n",
       "3 -155                   0.0    \n",
       "4 -155                   0.0    \n",
       "5   -6                4630.5    \n",
       "6  -16               10822.5    \n",
       "7  -10                9364.5    "
      ]
     },
     "metadata": {},
     "output_type": "display_data"
    }
   ],
   "source": [
    "bureau  %>% filter(SK_ID_CURR==100001)"
   ]
  },
  {
   "cell_type": "markdown",
   "metadata": {},
   "source": [
    "# UNDERSTANDING OF VARIABLES"
   ]
  },
  {
   "cell_type": "markdown",
   "metadata": {},
   "source": [
    "CREDIT_ACTIVE - Current status of a Loan - Closed/ Active (2 values)\n",
    "\n",
    "CREDIT_CURRENCY - Currency in which the transaction was executed - Currency1, Currency2, Currency3, Currency4 ( 4 values)\n",
    "\n",
    "CREDIT_DAY_OVERDUE - Number of overdue days\n",
    "\n",
    "CREDIT_TYPE - Consumer Credit, Credit card, Mortgage, Car loan, Microloan, Loan for working capital replemishment, Loan for Business development, Real estate loan, Unkown type of laon, Another type of loan. Cash loan, Loan for the purchase of equipment, Mobile operator loan, Interbank credit, Loan for purchase of shares ( 15 values )\n",
    "\n",
    "DAYS_CREDIT - Number of days ELAPSED since customer applied for CB credit with respect to current application Interpretation - Are these loans evenly spaced time intervals? Are they concentrated within a same time frame?\n",
    "\n",
    "DAYS_CREDIT_ENDDATE - Number of days the customer CREDIT is valid at the time of application CREDIT_DAY_OVERDUE - Number of days the customer CREDIT is past the end date at the time of application\n",
    "\n",
    "AMT_CREDIT_SUM - Total available credit for a customer AMT_CREDIT_SUM_DEBT - Total amount yet to be repayed AMT_CREDIT_SUM_LIMIT - Current Credit that has been utilized AMT_CREDIT_SUM_OVERDUE - Current credit payment that is overdue CNT_CREDIT_PROLONG - How many times was the Credit date prolonged"
   ]
  },
  {
   "cell_type": "markdown",
   "metadata": {},
   "source": [
    "# NOTE:\n",
    "For a given loan transaction 'AMT_CREDIT_SUM' = 'AMT_CREDIT_SUM_DEBT' +'AMT_CREDIT_SUM_LIMIT'\n",
    "\n",
    "* AMT_ANNUITY - Annuity of the Credit Bureau data \n",
    "* DAYS_CREDIT_UPDATE - Number of days before current application when last CREDIT UPDATE was received \n",
    "* DAYS_ENDDATE_FACT - Days since CB credit ended at the time of application \n",
    "* AMT_CREDIT_MAX_OVERDUE - Maximum Credit amount overdue at the time of application"
   ]
  },
  {
   "cell_type": "markdown",
   "metadata": {},
   "source": [
    "# FEATURE ENGINEERING WITH BUREAU CREDIT"
   ]
  },
  {
   "cell_type": "markdown",
   "metadata": {},
   "source": [
    "# FEATURE 1 - NUMBER OF PAST LOANS PER CUSTOMER"
   ]
  },
  {
   "cell_type": "code",
   "execution_count": 6,
   "metadata": {},
   "outputs": [],
   "source": [
    "B=bureau[1:10000,]\n",
    "\n",
    "grp=B[,c('SK_ID_CURR', 'DAYS_CREDIT')]  %>% \n",
    "    group_by(SK_ID_CURR)  %>% \n",
    "    summarise_all(n_distinct) %>%\n",
    "    rename(BUREAU_LOAN_COUNT=DAYS_CREDIT)"
   ]
  },
  {
   "cell_type": "code",
   "execution_count": 7,
   "metadata": {},
   "outputs": [
    {
     "data": {
      "text/html": [
       "<table>\n",
       "<caption>A tibble: 6 × 2</caption>\n",
       "<thead>\n",
       "\t<tr><th scope=col>SK_ID_CURR</th><th scope=col>BUREAU_LOAN_COUNT</th></tr>\n",
       "\t<tr><th scope=col>&lt;dbl&gt;</th><th scope=col>&lt;int&gt;</th></tr>\n",
       "</thead>\n",
       "<tbody>\n",
       "\t<tr><td>100053</td><td> 7</td></tr>\n",
       "\t<tr><td>100568</td><td> 7</td></tr>\n",
       "\t<tr><td>100653</td><td> 7</td></tr>\n",
       "\t<tr><td>100802</td><td> 1</td></tr>\n",
       "\t<tr><td>100819</td><td>18</td></tr>\n",
       "\t<tr><td>100915</td><td> 1</td></tr>\n",
       "</tbody>\n",
       "</table>\n"
      ],
      "text/latex": [
       "A tibble: 6 × 2\n",
       "\\begin{tabular}{r|ll}\n",
       " SK\\_ID\\_CURR & BUREAU\\_LOAN\\_COUNT\\\\\n",
       " <dbl> & <int>\\\\\n",
       "\\hline\n",
       "\t 100053 &  7\\\\\n",
       "\t 100568 &  7\\\\\n",
       "\t 100653 &  7\\\\\n",
       "\t 100802 &  1\\\\\n",
       "\t 100819 & 18\\\\\n",
       "\t 100915 &  1\\\\\n",
       "\\end{tabular}\n"
      ],
      "text/markdown": [
       "\n",
       "A tibble: 6 × 2\n",
       "\n",
       "| SK_ID_CURR &lt;dbl&gt; | BUREAU_LOAN_COUNT &lt;int&gt; |\n",
       "|---|---|\n",
       "| 100053 |  7 |\n",
       "| 100568 |  7 |\n",
       "| 100653 |  7 |\n",
       "| 100802 |  1 |\n",
       "| 100819 | 18 |\n",
       "| 100915 |  1 |\n",
       "\n"
      ],
      "text/plain": [
       "  SK_ID_CURR BUREAU_LOAN_COUNT\n",
       "1 100053      7               \n",
       "2 100568      7               \n",
       "3 100653      7               \n",
       "4 100802      1               \n",
       "5 100819     18               \n",
       "6 100915      1               "
      ]
     },
     "metadata": {},
     "output_type": "display_data"
    }
   ],
   "source": [
    "head(grp)"
   ]
  },
  {
   "cell_type": "code",
   "execution_count": 8,
   "metadata": {},
   "outputs": [
    {
     "data": {
      "text/html": [
       "<ol class=list-inline>\n",
       "\t<li>10000</li>\n",
       "\t<li>18</li>\n",
       "</ol>\n"
      ],
      "text/latex": [
       "\\begin{enumerate*}\n",
       "\\item 10000\n",
       "\\item 18\n",
       "\\end{enumerate*}\n"
      ],
      "text/markdown": [
       "1. 10000\n",
       "2. 18\n",
       "\n",
       "\n"
      ],
      "text/plain": [
       "[1] 10000    18"
      ]
     },
     "metadata": {},
     "output_type": "display_data"
    }
   ],
   "source": [
    "B=left_join(B,grp,by=c(\"SK_ID_CURR\"))\n",
    "dim(B)"
   ]
  },
  {
   "cell_type": "markdown",
   "metadata": {},
   "source": [
    "# FEATURE 2 - NUMBER OF TYPES OF PAST LOANS PER CUSTOMER"
   ]
  },
  {
   "cell_type": "code",
   "execution_count": 9,
   "metadata": {},
   "outputs": [],
   "source": [
    "B=bureau[1:10000,]\n",
    "\n",
    "grp=B[,c('SK_ID_CURR', 'CREDIT_TYPE')]  %>% \n",
    "    group_by(SK_ID_CURR)  %>% \n",
    "    summarise_all(n_distinct) %>%\n",
    "    rename(BUREAU_LOAN_TYPES=CREDIT_TYPE)"
   ]
  },
  {
   "cell_type": "code",
   "execution_count": 10,
   "metadata": {},
   "outputs": [
    {
     "data": {
      "text/html": [
       "<table>\n",
       "<caption>A tibble: 6 × 2</caption>\n",
       "<thead>\n",
       "\t<tr><th scope=col>SK_ID_CURR</th><th scope=col>BUREAU_LOAN_TYPES</th></tr>\n",
       "\t<tr><th scope=col>&lt;dbl&gt;</th><th scope=col>&lt;int&gt;</th></tr>\n",
       "</thead>\n",
       "<tbody>\n",
       "\t<tr><td>100053</td><td>2</td></tr>\n",
       "\t<tr><td>100568</td><td>2</td></tr>\n",
       "\t<tr><td>100653</td><td>2</td></tr>\n",
       "\t<tr><td>100802</td><td>1</td></tr>\n",
       "\t<tr><td>100819</td><td>2</td></tr>\n",
       "\t<tr><td>100915</td><td>1</td></tr>\n",
       "</tbody>\n",
       "</table>\n"
      ],
      "text/latex": [
       "A tibble: 6 × 2\n",
       "\\begin{tabular}{r|ll}\n",
       " SK\\_ID\\_CURR & BUREAU\\_LOAN\\_TYPES\\\\\n",
       " <dbl> & <int>\\\\\n",
       "\\hline\n",
       "\t 100053 & 2\\\\\n",
       "\t 100568 & 2\\\\\n",
       "\t 100653 & 2\\\\\n",
       "\t 100802 & 1\\\\\n",
       "\t 100819 & 2\\\\\n",
       "\t 100915 & 1\\\\\n",
       "\\end{tabular}\n"
      ],
      "text/markdown": [
       "\n",
       "A tibble: 6 × 2\n",
       "\n",
       "| SK_ID_CURR &lt;dbl&gt; | BUREAU_LOAN_TYPES &lt;int&gt; |\n",
       "|---|---|\n",
       "| 100053 | 2 |\n",
       "| 100568 | 2 |\n",
       "| 100653 | 2 |\n",
       "| 100802 | 1 |\n",
       "| 100819 | 2 |\n",
       "| 100915 | 1 |\n",
       "\n"
      ],
      "text/plain": [
       "  SK_ID_CURR BUREAU_LOAN_TYPES\n",
       "1 100053     2                \n",
       "2 100568     2                \n",
       "3 100653     2                \n",
       "4 100802     1                \n",
       "5 100819     2                \n",
       "6 100915     1                "
      ]
     },
     "metadata": {},
     "output_type": "display_data"
    }
   ],
   "source": [
    "head(grp)"
   ]
  },
  {
   "cell_type": "code",
   "execution_count": 11,
   "metadata": {},
   "outputs": [
    {
     "data": {
      "text/html": [
       "<ol class=list-inline>\n",
       "\t<li>10000</li>\n",
       "\t<li>18</li>\n",
       "</ol>\n"
      ],
      "text/latex": [
       "\\begin{enumerate*}\n",
       "\\item 10000\n",
       "\\item 18\n",
       "\\end{enumerate*}\n"
      ],
      "text/markdown": [
       "1. 10000\n",
       "2. 18\n",
       "\n",
       "\n"
      ],
      "text/plain": [
       "[1] 10000    18"
      ]
     },
     "metadata": {},
     "output_type": "display_data"
    }
   ],
   "source": [
    "B=left_join(B,grp,by=c(\"SK_ID_CURR\"))\n",
    "dim(B)"
   ]
  },
  {
   "cell_type": "markdown",
   "metadata": {},
   "source": [
    "# FEATURE 3 - AVERAGE NUMBER OF PAST LOANS PER TYPE PER CUSTOMER"
   ]
  },
  {
   "cell_type": "markdown",
   "metadata": {},
   "source": [
    "## Is the Customer diversified in taking multiple types of Loan or Focused on a single type of loan"
   ]
  },
  {
   "cell_type": "code",
   "execution_count": 12,
   "metadata": {},
   "outputs": [
    {
     "data": {
      "text/html": [
       "<ol class=list-inline>\n",
       "\t<li>10000</li>\n",
       "\t<li>18</li>\n",
       "</ol>\n"
      ],
      "text/latex": [
       "\\begin{enumerate*}\n",
       "\\item 10000\n",
       "\\item 18\n",
       "\\end{enumerate*}\n"
      ],
      "text/markdown": [
       "1. 10000\n",
       "2. 18\n",
       "\n",
       "\n"
      ],
      "text/plain": [
       "[1] 10000    18"
      ]
     },
     "metadata": {},
     "output_type": "display_data"
    },
    {
     "data": {
      "text/html": [
       "<table>\n",
       "<caption>A matrix: 2 × 6 of type dbl</caption>\n",
       "<thead>\n",
       "\t<tr><th></th><th scope=col>used</th><th scope=col>(Mb)</th><th scope=col>gc trigger</th><th scope=col>(Mb)</th><th scope=col>max used</th><th scope=col>(Mb)</th></tr>\n",
       "</thead>\n",
       "<tbody>\n",
       "\t<tr><th scope=row>Ncells</th><td>  2241689</td><td> 119.8</td><td>  3856742</td><td> 206.0</td><td>  3856742</td><td> 206.0</td></tr>\n",
       "\t<tr><th scope=row>Vcells</th><td>165122812</td><td>1259.8</td><td>289364718</td><td>2207.7</td><td>280342913</td><td>2138.9</td></tr>\n",
       "</tbody>\n",
       "</table>\n"
      ],
      "text/latex": [
       "A matrix: 2 × 6 of type dbl\n",
       "\\begin{tabular}{r|llllll}\n",
       "  & used & (Mb) & gc trigger & (Mb) & max used & (Mb)\\\\\n",
       "\\hline\n",
       "\tNcells &   2241689 &  119.8 &   3856742 &  206.0 &   3856742 &  206.0\\\\\n",
       "\tVcells & 165122812 & 1259.8 & 289364718 & 2207.7 & 280342913 & 2138.9\\\\\n",
       "\\end{tabular}\n"
      ],
      "text/markdown": [
       "\n",
       "A matrix: 2 × 6 of type dbl\n",
       "\n",
       "| <!--/--> | used | (Mb) | gc trigger | (Mb) | max used | (Mb) |\n",
       "|---|---|---|---|---|---|---|\n",
       "| Ncells |   2241689 |  119.8 |   3856742 |  206.0 |   3856742 |  206.0 |\n",
       "| Vcells | 165122812 | 1259.8 | 289364718 | 2207.7 | 280342913 | 2138.9 |\n",
       "\n"
      ],
      "text/plain": [
       "       used      (Mb)   gc trigger (Mb)   max used  (Mb)  \n",
       "Ncells   2241689  119.8   3856742   206.0   3856742  206.0\n",
       "Vcells 165122812 1259.8 289364718  2207.7 280342913 2138.9"
      ]
     },
     "metadata": {},
     "output_type": "display_data"
    }
   ],
   "source": [
    "B=bureau[1:10000,]\n",
    "\n",
    "# Number of Loans per Customer\n",
    "grp=B[,c('SK_ID_CURR', 'DAYS_CREDIT')]  %>% \n",
    "    group_by(SK_ID_CURR)  %>% \n",
    "    summarise_all(n_distinct) %>%\n",
    "    rename(BUREAU_LOAN_COUNT=DAYS_CREDIT)\n",
    "\n",
    "B=left_join(B,grp,by=c(\"SK_ID_CURR\"))\n",
    "\n",
    "\n",
    "# Number of types of Credit loans for each Customer \n",
    "grp=B[,c('SK_ID_CURR', 'CREDIT_TYPE')]  %>% \n",
    "    group_by(SK_ID_CURR)  %>% \n",
    "    summarise_all(n_distinct) %>%\n",
    "    rename(BUREAU_LOAN_TYPES=CREDIT_TYPE)\n",
    "\n",
    "B=left_join(B,grp,by=c(\"SK_ID_CURR\"))\n",
    "\n",
    "# Average Number of Loans per Loan Type\n",
    "B=B  %>% \n",
    "    mutate(AVERAGE_LOAN_TYPE = BUREAU_LOAN_COUNT / BUREAU_LOAN_TYPES) %>% \n",
    "    select(-c(BUREAU_LOAN_COUNT,BUREAU_LOAN_TYPES))\n",
    "\n",
    "dim(B)\n",
    "gc()"
   ]
  },
  {
   "cell_type": "markdown",
   "metadata": {},
   "source": [
    "# FEATURE 4 - % OF ACTIVE LOANS FROM BUREAU DATA"
   ]
  },
  {
   "cell_type": "code",
   "execution_count": 13,
   "metadata": {},
   "outputs": [],
   "source": [
    "B = bureau[1:10000,]\n",
    "# Create a new dummy column for whether CREDIT is ACTIVE OR CLOED \n",
    "B[,'CREDIT_ACTIVE_BINARY'] = ifelse(B$'CREDIT_ACTIVE'=='Closed',0,1)"
   ]
  },
  {
   "cell_type": "code",
   "execution_count": 14,
   "metadata": {},
   "outputs": [],
   "source": [
    "# Calculate mean number of loans that are ACTIVE per CUSTOMER \n",
    "grp=B[,c('SK_ID_CURR', 'CREDIT_ACTIVE_BINARY')] %>% \n",
    "    group_by(SK_ID_CURR)  %>% \n",
    "    summarise_all(mean) %>%\n",
    "    rename(ACTIVE_LOANS_PERCENTAGE = CREDIT_ACTIVE_BINARY)"
   ]
  },
  {
   "cell_type": "code",
   "execution_count": 15,
   "metadata": {},
   "outputs": [
    {
     "data": {
      "text/html": [
       "<ol class=list-inline>\n",
       "\t<li>10000</li>\n",
       "\t<li>18</li>\n",
       "</ol>\n"
      ],
      "text/latex": [
       "\\begin{enumerate*}\n",
       "\\item 10000\n",
       "\\item 18\n",
       "\\end{enumerate*}\n"
      ],
      "text/markdown": [
       "1. 10000\n",
       "2. 18\n",
       "\n",
       "\n"
      ],
      "text/plain": [
       "[1] 10000    18"
      ]
     },
     "metadata": {},
     "output_type": "display_data"
    },
    {
     "data": {
      "text/html": [
       "<table>\n",
       "<caption>A matrix: 2 × 6 of type dbl</caption>\n",
       "<thead>\n",
       "\t<tr><th></th><th scope=col>used</th><th scope=col>(Mb)</th><th scope=col>gc trigger</th><th scope=col>(Mb)</th><th scope=col>max used</th><th scope=col>(Mb)</th></tr>\n",
       "</thead>\n",
       "<tbody>\n",
       "\t<tr><th scope=row>Ncells</th><td>  2242611</td><td> 119.8</td><td>  3856742</td><td> 206.0</td><td>  3856742</td><td> 206.0</td></tr>\n",
       "\t<tr><th scope=row>Vcells</th><td>165122707</td><td>1259.8</td><td>289364718</td><td>2207.7</td><td>280342913</td><td>2138.9</td></tr>\n",
       "</tbody>\n",
       "</table>\n"
      ],
      "text/latex": [
       "A matrix: 2 × 6 of type dbl\n",
       "\\begin{tabular}{r|llllll}\n",
       "  & used & (Mb) & gc trigger & (Mb) & max used & (Mb)\\\\\n",
       "\\hline\n",
       "\tNcells &   2242611 &  119.8 &   3856742 &  206.0 &   3856742 &  206.0\\\\\n",
       "\tVcells & 165122707 & 1259.8 & 289364718 & 2207.7 & 280342913 & 2138.9\\\\\n",
       "\\end{tabular}\n"
      ],
      "text/markdown": [
       "\n",
       "A matrix: 2 × 6 of type dbl\n",
       "\n",
       "| <!--/--> | used | (Mb) | gc trigger | (Mb) | max used | (Mb) |\n",
       "|---|---|---|---|---|---|---|\n",
       "| Ncells |   2242611 |  119.8 |   3856742 |  206.0 |   3856742 |  206.0 |\n",
       "| Vcells | 165122707 | 1259.8 | 289364718 | 2207.7 | 280342913 | 2138.9 |\n",
       "\n"
      ],
      "text/plain": [
       "       used      (Mb)   gc trigger (Mb)   max used  (Mb)  \n",
       "Ncells   2242611  119.8   3856742   206.0   3856742  206.0\n",
       "Vcells 165122707 1259.8 289364718  2207.7 280342913 2138.9"
      ]
     },
     "metadata": {},
     "output_type": "display_data"
    }
   ],
   "source": [
    "B=left_join(B,grp,by=c(\"SK_ID_CURR\"))  %>% select(-CREDIT_ACTIVE_BINARY)\n",
    "dim(B)\n",
    "gc()"
   ]
  },
  {
   "cell_type": "code",
   "execution_count": 16,
   "metadata": {},
   "outputs": [
    {
     "data": {
      "text/html": [
       "<table>\n",
       "<caption>A data.frame: 7 × 18</caption>\n",
       "<thead>\n",
       "\t<tr><th scope=col>SK_ID_CURR</th><th scope=col>SK_ID_BUREAU</th><th scope=col>CREDIT_ACTIVE</th><th scope=col>CREDIT_CURRENCY</th><th scope=col>DAYS_CREDIT</th><th scope=col>CREDIT_DAY_OVERDUE</th><th scope=col>DAYS_CREDIT_ENDDATE</th><th scope=col>DAYS_ENDDATE_FACT</th><th scope=col>AMT_CREDIT_MAX_OVERDUE</th><th scope=col>CNT_CREDIT_PROLONG</th><th scope=col>AMT_CREDIT_SUM</th><th scope=col>AMT_CREDIT_SUM_DEBT</th><th scope=col>AMT_CREDIT_SUM_LIMIT</th><th scope=col>AMT_CREDIT_SUM_OVERDUE</th><th scope=col>CREDIT_TYPE</th><th scope=col>DAYS_CREDIT_UPDATE</th><th scope=col>AMT_ANNUITY</th><th scope=col>ACTIVE_LOANS_PERCENTAGE</th></tr>\n",
       "\t<tr><th scope=col>&lt;dbl&gt;</th><th scope=col>&lt;dbl&gt;</th><th scope=col>&lt;fct&gt;</th><th scope=col>&lt;fct&gt;</th><th scope=col>&lt;dbl&gt;</th><th scope=col>&lt;dbl&gt;</th><th scope=col>&lt;dbl&gt;</th><th scope=col>&lt;dbl&gt;</th><th scope=col>&lt;dbl&gt;</th><th scope=col>&lt;dbl&gt;</th><th scope=col>&lt;dbl&gt;</th><th scope=col>&lt;dbl&gt;</th><th scope=col>&lt;dbl&gt;</th><th scope=col>&lt;dbl&gt;</th><th scope=col>&lt;fct&gt;</th><th scope=col>&lt;dbl&gt;</th><th scope=col>&lt;dbl&gt;</th><th scope=col>&lt;dbl&gt;</th></tr>\n",
       "</thead>\n",
       "<tbody>\n",
       "\t<tr><td>100653</td><td>5726282</td><td>Active</td><td>currency 1</td><td> -256</td><td>0</td><td>  109</td><td>   NA</td><td>NA</td><td>0</td><td> 97244.91</td><td> 39081.42</td><td>NA</td><td>0</td><td>Consumer credit</td><td>  -37</td><td> 0</td><td>0.5714286</td></tr>\n",
       "\t<tr><td>100653</td><td>5726283</td><td>Closed</td><td>currency 1</td><td>-2474</td><td>0</td><td>-2260</td><td>-2289</td><td>NA</td><td>0</td><td> 30262.14</td><td>     0.00</td><td>NA</td><td>0</td><td>Consumer credit</td><td> -856</td><td>NA</td><td>0.5714286</td></tr>\n",
       "\t<tr><td>100653</td><td>5726284</td><td>Closed</td><td>currency 1</td><td>-2258</td><td>0</td><td>-1924</td><td>-1924</td><td>NA</td><td>0</td><td> 47156.85</td><td>     0.00</td><td>NA</td><td>0</td><td>Consumer credit</td><td> -856</td><td> 0</td><td>0.5714286</td></tr>\n",
       "\t<tr><td>100653</td><td>5726285</td><td>Closed</td><td>currency 1</td><td>-1677</td><td>0</td><td> -946</td><td> -946</td><td>NA</td><td>0</td><td> 71068.50</td><td>     0.00</td><td> 0</td><td>0</td><td>Consumer credit</td><td> -895</td><td> 0</td><td>0.5714286</td></tr>\n",
       "\t<tr><td>100653</td><td>5726286</td><td>Active</td><td>currency 1</td><td> -182</td><td>0</td><td> -152</td><td>   NA</td><td>NA</td><td>0</td><td>225000.00</td><td>215923.50</td><td> 0</td><td>0</td><td>Credit card    </td><td>  -82</td><td> 0</td><td>0.5714286</td></tr>\n",
       "\t<tr><td>100653</td><td>5726287</td><td>Active</td><td>currency 1</td><td>-1564</td><td>0</td><td>   NA</td><td>   NA</td><td>NA</td><td>0</td><td> 87750.00</td><td>     0.00</td><td>NA</td><td>0</td><td>Credit card    </td><td>-1006</td><td> 0</td><td>0.5714286</td></tr>\n",
       "\t<tr><td>100653</td><td>5726288</td><td>Active</td><td>currency 1</td><td> -252</td><td>0</td><td> 3401</td><td>   NA</td><td>NA</td><td>0</td><td>315000.00</td><td>201766.50</td><td>NA</td><td>0</td><td>Credit card    </td><td>  -22</td><td>NA</td><td>0.5714286</td></tr>\n",
       "</tbody>\n",
       "</table>\n"
      ],
      "text/latex": [
       "A data.frame: 7 × 18\n",
       "\\begin{tabular}{r|llllllllllllllllll}\n",
       " SK\\_ID\\_CURR & SK\\_ID\\_BUREAU & CREDIT\\_ACTIVE & CREDIT\\_CURRENCY & DAYS\\_CREDIT & CREDIT\\_DAY\\_OVERDUE & DAYS\\_CREDIT\\_ENDDATE & DAYS\\_ENDDATE\\_FACT & AMT\\_CREDIT\\_MAX\\_OVERDUE & CNT\\_CREDIT\\_PROLONG & AMT\\_CREDIT\\_SUM & AMT\\_CREDIT\\_SUM\\_DEBT & AMT\\_CREDIT\\_SUM\\_LIMIT & AMT\\_CREDIT\\_SUM\\_OVERDUE & CREDIT\\_TYPE & DAYS\\_CREDIT\\_UPDATE & AMT\\_ANNUITY & ACTIVE\\_LOANS\\_PERCENTAGE\\\\\n",
       " <dbl> & <dbl> & <fct> & <fct> & <dbl> & <dbl> & <dbl> & <dbl> & <dbl> & <dbl> & <dbl> & <dbl> & <dbl> & <dbl> & <fct> & <dbl> & <dbl> & <dbl>\\\\\n",
       "\\hline\n",
       "\t 100653 & 5726282 & Active & currency 1 &  -256 & 0 &   109 &    NA & NA & 0 &  97244.91 &  39081.42 & NA & 0 & Consumer credit &   -37 &  0 & 0.5714286\\\\\n",
       "\t 100653 & 5726283 & Closed & currency 1 & -2474 & 0 & -2260 & -2289 & NA & 0 &  30262.14 &      0.00 & NA & 0 & Consumer credit &  -856 & NA & 0.5714286\\\\\n",
       "\t 100653 & 5726284 & Closed & currency 1 & -2258 & 0 & -1924 & -1924 & NA & 0 &  47156.85 &      0.00 & NA & 0 & Consumer credit &  -856 &  0 & 0.5714286\\\\\n",
       "\t 100653 & 5726285 & Closed & currency 1 & -1677 & 0 &  -946 &  -946 & NA & 0 &  71068.50 &      0.00 &  0 & 0 & Consumer credit &  -895 &  0 & 0.5714286\\\\\n",
       "\t 100653 & 5726286 & Active & currency 1 &  -182 & 0 &  -152 &    NA & NA & 0 & 225000.00 & 215923.50 &  0 & 0 & Credit card     &   -82 &  0 & 0.5714286\\\\\n",
       "\t 100653 & 5726287 & Active & currency 1 & -1564 & 0 &    NA &    NA & NA & 0 &  87750.00 &      0.00 & NA & 0 & Credit card     & -1006 &  0 & 0.5714286\\\\\n",
       "\t 100653 & 5726288 & Active & currency 1 &  -252 & 0 &  3401 &    NA & NA & 0 & 315000.00 & 201766.50 & NA & 0 & Credit card     &   -22 & NA & 0.5714286\\\\\n",
       "\\end{tabular}\n"
      ],
      "text/markdown": [
       "\n",
       "A data.frame: 7 × 18\n",
       "\n",
       "| SK_ID_CURR &lt;dbl&gt; | SK_ID_BUREAU &lt;dbl&gt; | CREDIT_ACTIVE &lt;fct&gt; | CREDIT_CURRENCY &lt;fct&gt; | DAYS_CREDIT &lt;dbl&gt; | CREDIT_DAY_OVERDUE &lt;dbl&gt; | DAYS_CREDIT_ENDDATE &lt;dbl&gt; | DAYS_ENDDATE_FACT &lt;dbl&gt; | AMT_CREDIT_MAX_OVERDUE &lt;dbl&gt; | CNT_CREDIT_PROLONG &lt;dbl&gt; | AMT_CREDIT_SUM &lt;dbl&gt; | AMT_CREDIT_SUM_DEBT &lt;dbl&gt; | AMT_CREDIT_SUM_LIMIT &lt;dbl&gt; | AMT_CREDIT_SUM_OVERDUE &lt;dbl&gt; | CREDIT_TYPE &lt;fct&gt; | DAYS_CREDIT_UPDATE &lt;dbl&gt; | AMT_ANNUITY &lt;dbl&gt; | ACTIVE_LOANS_PERCENTAGE &lt;dbl&gt; |\n",
       "|---|---|---|---|---|---|---|---|---|---|---|---|---|---|---|---|---|---|\n",
       "| 100653 | 5726282 | Active | currency 1 |  -256 | 0 |   109 |    NA | NA | 0 |  97244.91 |  39081.42 | NA | 0 | Consumer credit |   -37 |  0 | 0.5714286 |\n",
       "| 100653 | 5726283 | Closed | currency 1 | -2474 | 0 | -2260 | -2289 | NA | 0 |  30262.14 |      0.00 | NA | 0 | Consumer credit |  -856 | NA | 0.5714286 |\n",
       "| 100653 | 5726284 | Closed | currency 1 | -2258 | 0 | -1924 | -1924 | NA | 0 |  47156.85 |      0.00 | NA | 0 | Consumer credit |  -856 |  0 | 0.5714286 |\n",
       "| 100653 | 5726285 | Closed | currency 1 | -1677 | 0 |  -946 |  -946 | NA | 0 |  71068.50 |      0.00 |  0 | 0 | Consumer credit |  -895 |  0 | 0.5714286 |\n",
       "| 100653 | 5726286 | Active | currency 1 |  -182 | 0 |  -152 |    NA | NA | 0 | 225000.00 | 215923.50 |  0 | 0 | Credit card     |   -82 |  0 | 0.5714286 |\n",
       "| 100653 | 5726287 | Active | currency 1 | -1564 | 0 |    NA |    NA | NA | 0 |  87750.00 |      0.00 | NA | 0 | Credit card     | -1006 |  0 | 0.5714286 |\n",
       "| 100653 | 5726288 | Active | currency 1 |  -252 | 0 |  3401 |    NA | NA | 0 | 315000.00 | 201766.50 | NA | 0 | Credit card     |   -22 | NA | 0.5714286 |\n",
       "\n"
      ],
      "text/plain": [
       "  SK_ID_CURR SK_ID_BUREAU CREDIT_ACTIVE CREDIT_CURRENCY DAYS_CREDIT\n",
       "1 100653     5726282      Active        currency 1       -256      \n",
       "2 100653     5726283      Closed        currency 1      -2474      \n",
       "3 100653     5726284      Closed        currency 1      -2258      \n",
       "4 100653     5726285      Closed        currency 1      -1677      \n",
       "5 100653     5726286      Active        currency 1       -182      \n",
       "6 100653     5726287      Active        currency 1      -1564      \n",
       "7 100653     5726288      Active        currency 1       -252      \n",
       "  CREDIT_DAY_OVERDUE DAYS_CREDIT_ENDDATE DAYS_ENDDATE_FACT\n",
       "1 0                    109                  NA            \n",
       "2 0                  -2260               -2289            \n",
       "3 0                  -1924               -1924            \n",
       "4 0                   -946                -946            \n",
       "5 0                   -152                  NA            \n",
       "6 0                     NA                  NA            \n",
       "7 0                   3401                  NA            \n",
       "  AMT_CREDIT_MAX_OVERDUE CNT_CREDIT_PROLONG AMT_CREDIT_SUM AMT_CREDIT_SUM_DEBT\n",
       "1 NA                     0                   97244.91       39081.42          \n",
       "2 NA                     0                   30262.14           0.00          \n",
       "3 NA                     0                   47156.85           0.00          \n",
       "4 NA                     0                   71068.50           0.00          \n",
       "5 NA                     0                  225000.00      215923.50          \n",
       "6 NA                     0                   87750.00           0.00          \n",
       "7 NA                     0                  315000.00      201766.50          \n",
       "  AMT_CREDIT_SUM_LIMIT AMT_CREDIT_SUM_OVERDUE CREDIT_TYPE    \n",
       "1 NA                   0                      Consumer credit\n",
       "2 NA                   0                      Consumer credit\n",
       "3 NA                   0                      Consumer credit\n",
       "4  0                   0                      Consumer credit\n",
       "5  0                   0                      Credit card    \n",
       "6 NA                   0                      Credit card    \n",
       "7 NA                   0                      Credit card    \n",
       "  DAYS_CREDIT_UPDATE AMT_ANNUITY ACTIVE_LOANS_PERCENTAGE\n",
       "1   -37               0          0.5714286              \n",
       "2  -856              NA          0.5714286              \n",
       "3  -856               0          0.5714286              \n",
       "4  -895               0          0.5714286              \n",
       "5   -82               0          0.5714286              \n",
       "6 -1006               0          0.5714286              \n",
       "7   -22              NA          0.5714286              "
      ]
     },
     "metadata": {},
     "output_type": "display_data"
    }
   ],
   "source": [
    "B  %>% filter(SK_ID_CURR==100653)"
   ]
  },
  {
   "cell_type": "markdown",
   "metadata": {},
   "source": [
    "# FEATURE 5\n",
    "\n",
    "* AVERAGE NUMBER OF DAYS BETWEEN SUCCESSIVE PAST APPLICATIONS FOR EACH CUSTOMER¶\n",
    "\n",
    "* How often did the customer take credit in the past? Was it spaced out at regular time intervals - a signal of good financial planning OR were the loans concentrated around a smaller time frame - indicating potential financial trouble?"
   ]
  },
  {
   "cell_type": "code",
   "execution_count": 17,
   "metadata": {},
   "outputs": [],
   "source": [
    "B = bureau[1:10000,]\n",
    "\n",
    "# Groupby each Customer and Sort values of DAYS_CREDIT in ascending order\n",
    "grp=B[,c('SK_ID_CURR', 'SK_ID_BUREAU', 'DAYS_CREDIT')] %>% \n",
    "    group_by(SK_ID_CURR)  %>% \n",
    "    arrange(desc(DAYS_CREDIT))"
   ]
  },
  {
   "cell_type": "code",
   "execution_count": 18,
   "metadata": {},
   "outputs": [],
   "source": [
    "# Calculate Difference between the number of Days \n",
    "grp[,'DAYS_CREDIT1'] = grp[,'DAYS_CREDIT']*-1\n",
    " \n",
    "grp=grp %>%\n",
    "    group_by(SK_ID_CURR) %>%\n",
    "    mutate(DAYS_DIFF = DAYS_CREDIT1 - lag(DAYS_CREDIT1)) %>% \n",
    "    ungroup()"
   ]
  },
  {
   "cell_type": "code",
   "execution_count": 19,
   "metadata": {},
   "outputs": [],
   "source": [
    "grp$DAYS_DIFF=ifelse(is.na(grp$DAYS_DIFF),0,grp$DAYS_DIFF)"
   ]
  },
  {
   "cell_type": "code",
   "execution_count": 20,
   "metadata": {},
   "outputs": [],
   "source": [
    "grp = grp %>% \n",
    "        select(-c(SK_ID_CURR,DAYS_CREDIT1,DAYS_CREDIT))"
   ]
  },
  {
   "cell_type": "code",
   "execution_count": 21,
   "metadata": {},
   "outputs": [
    {
     "data": {
      "text/html": [
       "<table>\n",
       "<caption>A tibble: 6 × 2</caption>\n",
       "<thead>\n",
       "\t<tr><th scope=col>SK_ID_BUREAU</th><th scope=col>DAYS_DIFF</th></tr>\n",
       "\t<tr><th scope=col>&lt;dbl&gt;</th><th scope=col>&lt;dbl&gt;</th></tr>\n",
       "</thead>\n",
       "<tbody>\n",
       "\t<tr><td>5717955</td><td>0</td></tr>\n",
       "\t<tr><td>5715435</td><td>0</td></tr>\n",
       "\t<tr><td>5715444</td><td>3</td></tr>\n",
       "\t<tr><td>5721198</td><td>0</td></tr>\n",
       "\t<tr><td>5722488</td><td>0</td></tr>\n",
       "\t<tr><td>5721317</td><td>0</td></tr>\n",
       "</tbody>\n",
       "</table>\n"
      ],
      "text/latex": [
       "A tibble: 6 × 2\n",
       "\\begin{tabular}{r|ll}\n",
       " SK\\_ID\\_BUREAU & DAYS\\_DIFF\\\\\n",
       " <dbl> & <dbl>\\\\\n",
       "\\hline\n",
       "\t 5717955 & 0\\\\\n",
       "\t 5715435 & 0\\\\\n",
       "\t 5715444 & 3\\\\\n",
       "\t 5721198 & 0\\\\\n",
       "\t 5722488 & 0\\\\\n",
       "\t 5721317 & 0\\\\\n",
       "\\end{tabular}\n"
      ],
      "text/markdown": [
       "\n",
       "A tibble: 6 × 2\n",
       "\n",
       "| SK_ID_BUREAU &lt;dbl&gt; | DAYS_DIFF &lt;dbl&gt; |\n",
       "|---|---|\n",
       "| 5717955 | 0 |\n",
       "| 5715435 | 0 |\n",
       "| 5715444 | 3 |\n",
       "| 5721198 | 0 |\n",
       "| 5722488 | 0 |\n",
       "| 5721317 | 0 |\n",
       "\n"
      ],
      "text/plain": [
       "  SK_ID_BUREAU DAYS_DIFF\n",
       "1 5717955      0        \n",
       "2 5715435      0        \n",
       "3 5715444      3        \n",
       "4 5721198      0        \n",
       "5 5722488      0        \n",
       "6 5721317      0        "
      ]
     },
     "metadata": {},
     "output_type": "display_data"
    }
   ],
   "source": [
    "head(grp)"
   ]
  },
  {
   "cell_type": "code",
   "execution_count": 22,
   "metadata": {},
   "outputs": [
    {
     "data": {
      "text/html": [
       "<ol class=list-inline>\n",
       "\t<li>10000</li>\n",
       "\t<li>18</li>\n",
       "</ol>\n"
      ],
      "text/latex": [
       "\\begin{enumerate*}\n",
       "\\item 10000\n",
       "\\item 18\n",
       "\\end{enumerate*}\n"
      ],
      "text/markdown": [
       "1. 10000\n",
       "2. 18\n",
       "\n",
       "\n"
      ],
      "text/plain": [
       "[1] 10000    18"
      ]
     },
     "metadata": {},
     "output_type": "display_data"
    },
    {
     "data": {
      "text/html": [
       "<table>\n",
       "<caption>A matrix: 2 × 6 of type dbl</caption>\n",
       "<thead>\n",
       "\t<tr><th></th><th scope=col>used</th><th scope=col>(Mb)</th><th scope=col>gc trigger</th><th scope=col>(Mb)</th><th scope=col>max used</th><th scope=col>(Mb)</th></tr>\n",
       "</thead>\n",
       "<tbody>\n",
       "\t<tr><th scope=row>Ncells</th><td>  2244586</td><td> 119.9</td><td>  3856742</td><td> 206.0</td><td>  3856742</td><td> 206.0</td></tr>\n",
       "\t<tr><th scope=row>Vcells</th><td>165143151</td><td>1260.0</td><td>289364718</td><td>2207.7</td><td>280342913</td><td>2138.9</td></tr>\n",
       "</tbody>\n",
       "</table>\n"
      ],
      "text/latex": [
       "A matrix: 2 × 6 of type dbl\n",
       "\\begin{tabular}{r|llllll}\n",
       "  & used & (Mb) & gc trigger & (Mb) & max used & (Mb)\\\\\n",
       "\\hline\n",
       "\tNcells &   2244586 &  119.9 &   3856742 &  206.0 &   3856742 &  206.0\\\\\n",
       "\tVcells & 165143151 & 1260.0 & 289364718 & 2207.7 & 280342913 & 2138.9\\\\\n",
       "\\end{tabular}\n"
      ],
      "text/markdown": [
       "\n",
       "A matrix: 2 × 6 of type dbl\n",
       "\n",
       "| <!--/--> | used | (Mb) | gc trigger | (Mb) | max used | (Mb) |\n",
       "|---|---|---|---|---|---|---|\n",
       "| Ncells |   2244586 |  119.9 |   3856742 |  206.0 |   3856742 |  206.0 |\n",
       "| Vcells | 165143151 | 1260.0 | 289364718 | 2207.7 | 280342913 | 2138.9 |\n",
       "\n"
      ],
      "text/plain": [
       "       used      (Mb)   gc trigger (Mb)   max used  (Mb)  \n",
       "Ncells   2244586  119.9   3856742   206.0   3856742  206.0\n",
       "Vcells 165143151 1260.0 289364718  2207.7 280342913 2138.9"
      ]
     },
     "metadata": {},
     "output_type": "display_data"
    }
   ],
   "source": [
    "B=left_join(B,grp,by=c(\"SK_ID_BUREAU\"))\n",
    "dim(B)\n",
    "gc()"
   ]
  },
  {
   "cell_type": "markdown",
   "metadata": {},
   "source": [
    "# FEATURE 6"
   ]
  },
  {
   "cell_type": "markdown",
   "metadata": {},
   "source": [
    "* % of LOANS PER CUSTOMER WHERE END DATE FOR CREDIT IS PAST\n",
    "\n",
    "* INTERPRETING CREDIT_DAYS_ENDDATE\n",
    "\n",
    "* NEGATIVE VALUE - Credit date was in the past at time of application( Potential Red Flag !!! )\n",
    "\n",
    "* POSITIVE VALUE - Credit date is in the future at time of application ( Potential Good Sign !!!!)\n",
    "\n",
    "* NOTE : This is not the same as % of Active loans since Active loans\n",
    "\n",
    "* can have Negative and Positive values for DAYS_CREDIT_ENDDATE"
   ]
  },
  {
   "cell_type": "code",
   "execution_count": 23,
   "metadata": {},
   "outputs": [],
   "source": [
    "B = bureau[1:10000,]\n",
    "B[,'CREDIT_ENDDATE_BINARY'] = B[,'DAYS_CREDIT_ENDDATE']"
   ]
  },
  {
   "cell_type": "code",
   "execution_count": 24,
   "metadata": {},
   "outputs": [],
   "source": [
    "B$'CREDIT_ENDDATE_BINARY'=ifelse(B$'CREDIT_ENDDATE_BINARY'<0,0,1)"
   ]
  },
  {
   "cell_type": "code",
   "execution_count": 25,
   "metadata": {},
   "outputs": [],
   "source": [
    "grp=B %>%\n",
    "    group_by(SK_ID_CURR) %>%\n",
    "    summarise(CREDIT_ENDDATE_PERCENTAGE = mean(CREDIT_ENDDATE_BINARY,na.rm=T)) %>% \n",
    "    ungroup()"
   ]
  },
  {
   "cell_type": "code",
   "execution_count": 26,
   "metadata": {},
   "outputs": [
    {
     "data": {
      "text/html": [
       "<table>\n",
       "<caption>A tibble: 10 × 2</caption>\n",
       "<thead>\n",
       "\t<tr><th scope=col>SK_ID_CURR</th><th scope=col>CREDIT_ENDDATE_PERCENTAGE</th></tr>\n",
       "\t<tr><th scope=col>&lt;dbl&gt;</th><th scope=col>&lt;dbl&gt;</th></tr>\n",
       "</thead>\n",
       "<tbody>\n",
       "\t<tr><td>100053</td><td>0.0000000</td></tr>\n",
       "\t<tr><td>100568</td><td>0.3333333</td></tr>\n",
       "\t<tr><td>100653</td><td>0.3333333</td></tr>\n",
       "\t<tr><td>100802</td><td>1.0000000</td></tr>\n",
       "\t<tr><td>100819</td><td>0.2777778</td></tr>\n",
       "\t<tr><td>100915</td><td>1.0000000</td></tr>\n",
       "\t<tr><td>101060</td><td>0.5000000</td></tr>\n",
       "\t<tr><td>101133</td><td>0.0000000</td></tr>\n",
       "\t<tr><td>101562</td><td>0.6000000</td></tr>\n",
       "\t<tr><td>101616</td><td>0.6666667</td></tr>\n",
       "</tbody>\n",
       "</table>\n"
      ],
      "text/latex": [
       "A tibble: 10 × 2\n",
       "\\begin{tabular}{r|ll}\n",
       " SK\\_ID\\_CURR & CREDIT\\_ENDDATE\\_PERCENTAGE\\\\\n",
       " <dbl> & <dbl>\\\\\n",
       "\\hline\n",
       "\t 100053 & 0.0000000\\\\\n",
       "\t 100568 & 0.3333333\\\\\n",
       "\t 100653 & 0.3333333\\\\\n",
       "\t 100802 & 1.0000000\\\\\n",
       "\t 100819 & 0.2777778\\\\\n",
       "\t 100915 & 1.0000000\\\\\n",
       "\t 101060 & 0.5000000\\\\\n",
       "\t 101133 & 0.0000000\\\\\n",
       "\t 101562 & 0.6000000\\\\\n",
       "\t 101616 & 0.6666667\\\\\n",
       "\\end{tabular}\n"
      ],
      "text/markdown": [
       "\n",
       "A tibble: 10 × 2\n",
       "\n",
       "| SK_ID_CURR &lt;dbl&gt; | CREDIT_ENDDATE_PERCENTAGE &lt;dbl&gt; |\n",
       "|---|---|\n",
       "| 100053 | 0.0000000 |\n",
       "| 100568 | 0.3333333 |\n",
       "| 100653 | 0.3333333 |\n",
       "| 100802 | 1.0000000 |\n",
       "| 100819 | 0.2777778 |\n",
       "| 100915 | 1.0000000 |\n",
       "| 101060 | 0.5000000 |\n",
       "| 101133 | 0.0000000 |\n",
       "| 101562 | 0.6000000 |\n",
       "| 101616 | 0.6666667 |\n",
       "\n"
      ],
      "text/plain": [
       "   SK_ID_CURR CREDIT_ENDDATE_PERCENTAGE\n",
       "1  100053     0.0000000                \n",
       "2  100568     0.3333333                \n",
       "3  100653     0.3333333                \n",
       "4  100802     1.0000000                \n",
       "5  100819     0.2777778                \n",
       "6  100915     1.0000000                \n",
       "7  101060     0.5000000                \n",
       "8  101133     0.0000000                \n",
       "9  101562     0.6000000                \n",
       "10 101616     0.6666667                "
      ]
     },
     "metadata": {},
     "output_type": "display_data"
    }
   ],
   "source": [
    "head(grp,10)"
   ]
  },
  {
   "cell_type": "code",
   "execution_count": 27,
   "metadata": {},
   "outputs": [
    {
     "data": {
      "text/html": [
       "<ol class=list-inline>\n",
       "\t<li>10000</li>\n",
       "\t<li>18</li>\n",
       "</ol>\n"
      ],
      "text/latex": [
       "\\begin{enumerate*}\n",
       "\\item 10000\n",
       "\\item 18\n",
       "\\end{enumerate*}\n"
      ],
      "text/markdown": [
       "1. 10000\n",
       "2. 18\n",
       "\n",
       "\n"
      ],
      "text/plain": [
       "[1] 10000    18"
      ]
     },
     "metadata": {},
     "output_type": "display_data"
    },
    {
     "data": {
      "text/html": [
       "<table>\n",
       "<caption>A matrix: 2 × 6 of type dbl</caption>\n",
       "<thead>\n",
       "\t<tr><th></th><th scope=col>used</th><th scope=col>(Mb)</th><th scope=col>gc trigger</th><th scope=col>(Mb)</th><th scope=col>max used</th><th scope=col>(Mb)</th></tr>\n",
       "</thead>\n",
       "<tbody>\n",
       "\t<tr><th scope=row>Ncells</th><td>  2244863</td><td> 119.9</td><td>  3856742</td><td> 206.0</td><td>  3856742</td><td> 206.0</td></tr>\n",
       "\t<tr><th scope=row>Vcells</th><td>165127934</td><td>1259.9</td><td>289364718</td><td>2207.7</td><td>280342913</td><td>2138.9</td></tr>\n",
       "</tbody>\n",
       "</table>\n"
      ],
      "text/latex": [
       "A matrix: 2 × 6 of type dbl\n",
       "\\begin{tabular}{r|llllll}\n",
       "  & used & (Mb) & gc trigger & (Mb) & max used & (Mb)\\\\\n",
       "\\hline\n",
       "\tNcells &   2244863 &  119.9 &   3856742 &  206.0 &   3856742 &  206.0\\\\\n",
       "\tVcells & 165127934 & 1259.9 & 289364718 & 2207.7 & 280342913 & 2138.9\\\\\n",
       "\\end{tabular}\n"
      ],
      "text/markdown": [
       "\n",
       "A matrix: 2 × 6 of type dbl\n",
       "\n",
       "| <!--/--> | used | (Mb) | gc trigger | (Mb) | max used | (Mb) |\n",
       "|---|---|---|---|---|---|---|\n",
       "| Ncells |   2244863 |  119.9 |   3856742 |  206.0 |   3856742 |  206.0 |\n",
       "| Vcells | 165127934 | 1259.9 | 289364718 | 2207.7 | 280342913 | 2138.9 |\n",
       "\n"
      ],
      "text/plain": [
       "       used      (Mb)   gc trigger (Mb)   max used  (Mb)  \n",
       "Ncells   2244863  119.9   3856742   206.0   3856742  206.0\n",
       "Vcells 165127934 1259.9 289364718  2207.7 280342913 2138.9"
      ]
     },
     "metadata": {},
     "output_type": "display_data"
    }
   ],
   "source": [
    "B=left_join(B,grp,by=c(\"SK_ID_CURR\"))  %>% select(-CREDIT_ENDDATE_BINARY)\n",
    "dim(B)\n",
    "gc()"
   ]
  },
  {
   "cell_type": "markdown",
   "metadata": {},
   "source": [
    "# FEATURE 7"
   ]
  },
  {
   "cell_type": "markdown",
   "metadata": {},
   "source": [
    "* AVERAGE NUMBER OF DAYS IN WHICH CREDIT EXPIRES IN FUTURE -INDICATION OF CUSTOMER DELINQUENCY IN FUTURE??"
   ]
  },
  {
   "cell_type": "code",
   "execution_count": 28,
   "metadata": {},
   "outputs": [],
   "source": [
    "# Repeating Feature 6 to Calculate all transactions with ENDATE as POSITIVE VALUES \n",
    "B = bureau[1:10000,]\n",
    "B[,'CREDIT_ENDDATE_BINARY'] = B[,'DAYS_CREDIT_ENDDATE']\n",
    "\n",
    "B$'CREDIT_ENDDATE_BINARY'=ifelse(B$'CREDIT_ENDDATE_BINARY'<0,0,1)"
   ]
  },
  {
   "cell_type": "code",
   "execution_count": 29,
   "metadata": {},
   "outputs": [
    {
     "data": {
      "text/html": [
       "<ol class=list-inline>\n",
       "\t<li>3551</li>\n",
       "\t<li>18</li>\n",
       "</ol>\n"
      ],
      "text/latex": [
       "\\begin{enumerate*}\n",
       "\\item 3551\n",
       "\\item 18\n",
       "\\end{enumerate*}\n"
      ],
      "text/markdown": [
       "1. 3551\n",
       "2. 18\n",
       "\n",
       "\n"
      ],
      "text/plain": [
       "[1] 3551   18"
      ]
     },
     "metadata": {},
     "output_type": "display_data"
    }
   ],
   "source": [
    "# We take only positive values of  ENDDATE since we are looking at Bureau Credit VALID IN FUTURE \n",
    "# as of the date of the customer's loan application with Home Credit \n",
    "\n",
    "B1 = B  %>% filter(CREDIT_ENDDATE_BINARY== 1)\n",
    "dim(B1)"
   ]
  },
  {
   "cell_type": "code",
   "execution_count": 30,
   "metadata": {},
   "outputs": [],
   "source": [
    "#Calculate Difference in successive future end dates of CREDIT \n",
    "\n",
    "# Create Dummy Column for CREDIT_ENDDATE \n",
    "B1[,'DAYS_CREDIT_ENDDATE1'] = B1[,'DAYS_CREDIT_ENDDATE']\n",
    "\n",
    "# Groupby Each Customer ID \n",
    "# Sort the values of CREDIT_ENDDATE for each customer ID \n",
    "grp = B1[,c('SK_ID_CURR', 'SK_ID_BUREAU', 'DAYS_CREDIT_ENDDATE1')] %>% \n",
    "        group_by(SK_ID_CURR)   %>% \n",
    "        arrange(desc(DAYS_CREDIT_ENDDATE1))"
   ]
  },
  {
   "cell_type": "code",
   "execution_count": 31,
   "metadata": {},
   "outputs": [],
   "source": [
    "# Calculate the Difference in ENDDATES and fill missing values with zero \n",
    "grp=grp %>%\n",
    "    group_by(SK_ID_CURR) %>%\n",
    "    mutate(DAYS_ENDDATE_DIFF = lag(DAYS_CREDIT_ENDDATE1) - DAYS_CREDIT_ENDDATE1) %>% \n",
    "    ungroup()"
   ]
  },
  {
   "cell_type": "code",
   "execution_count": 32,
   "metadata": {},
   "outputs": [],
   "source": [
    "grp$DAYS_ENDDATE_DIFF = grp$DAYS_ENDDATE_DIFF  %>% replace_na(0)"
   ]
  },
  {
   "cell_type": "code",
   "execution_count": 33,
   "metadata": {},
   "outputs": [],
   "source": [
    "grp = grp  %>% \n",
    "        select(-c(DAYS_CREDIT_ENDDATE1,SK_ID_CURR))"
   ]
  },
  {
   "cell_type": "code",
   "execution_count": 34,
   "metadata": {},
   "outputs": [
    {
     "data": {
      "text/html": [
       "<ol class=list-inline>\n",
       "\t<li>10000</li>\n",
       "\t<li>19</li>\n",
       "</ol>\n"
      ],
      "text/latex": [
       "\\begin{enumerate*}\n",
       "\\item 10000\n",
       "\\item 19\n",
       "\\end{enumerate*}\n"
      ],
      "text/markdown": [
       "1. 10000\n",
       "2. 19\n",
       "\n",
       "\n"
      ],
      "text/plain": [
       "[1] 10000    19"
      ]
     },
     "metadata": {},
     "output_type": "display_data"
    }
   ],
   "source": [
    "# Merge new feature 'DAYS_ENDDATE_DIFF' with original Data frame for BUREAU DATA\n",
    "B=left_join(B,grp,by=c(\"SK_ID_BUREAU\"))\n",
    "dim(B)"
   ]
  },
  {
   "cell_type": "code",
   "execution_count": 35,
   "metadata": {},
   "outputs": [],
   "source": [
    "grp = B[,c('SK_ID_CURR', 'DAYS_ENDDATE_DIFF')] %>% \n",
    "        group_by(SK_ID_CURR) %>% \n",
    "        summarise_all(mean,na.rm=T) %>% \n",
    "        rename(AVG_ENDDATE_FUTURE = DAYS_ENDDATE_DIFF)"
   ]
  },
  {
   "cell_type": "code",
   "execution_count": 36,
   "metadata": {},
   "outputs": [
    {
     "data": {
      "text/html": [
       "<table>\n",
       "<caption>A tibble: 6 × 2</caption>\n",
       "<thead>\n",
       "\t<tr><th scope=col>SK_ID_CURR</th><th scope=col>AVG_ENDDATE_FUTURE</th></tr>\n",
       "\t<tr><th scope=col>&lt;dbl&gt;</th><th scope=col>&lt;dbl&gt;</th></tr>\n",
       "</thead>\n",
       "<tbody>\n",
       "\t<tr><td>100053</td><td>   NaN</td></tr>\n",
       "\t<tr><td>100568</td><td> 138.5</td></tr>\n",
       "\t<tr><td>100653</td><td>1646.0</td></tr>\n",
       "\t<tr><td>100802</td><td>   0.0</td></tr>\n",
       "\t<tr><td>100819</td><td> 241.0</td></tr>\n",
       "\t<tr><td>100915</td><td>   0.0</td></tr>\n",
       "</tbody>\n",
       "</table>\n"
      ],
      "text/latex": [
       "A tibble: 6 × 2\n",
       "\\begin{tabular}{r|ll}\n",
       " SK\\_ID\\_CURR & AVG\\_ENDDATE\\_FUTURE\\\\\n",
       " <dbl> & <dbl>\\\\\n",
       "\\hline\n",
       "\t 100053 &    NaN\\\\\n",
       "\t 100568 &  138.5\\\\\n",
       "\t 100653 & 1646.0\\\\\n",
       "\t 100802 &    0.0\\\\\n",
       "\t 100819 &  241.0\\\\\n",
       "\t 100915 &    0.0\\\\\n",
       "\\end{tabular}\n"
      ],
      "text/markdown": [
       "\n",
       "A tibble: 6 × 2\n",
       "\n",
       "| SK_ID_CURR &lt;dbl&gt; | AVG_ENDDATE_FUTURE &lt;dbl&gt; |\n",
       "|---|---|\n",
       "| 100053 |    NaN |\n",
       "| 100568 |  138.5 |\n",
       "| 100653 | 1646.0 |\n",
       "| 100802 |    0.0 |\n",
       "| 100819 |  241.0 |\n",
       "| 100915 |    0.0 |\n",
       "\n"
      ],
      "text/plain": [
       "  SK_ID_CURR AVG_ENDDATE_FUTURE\n",
       "1 100053        NaN            \n",
       "2 100568      138.5            \n",
       "3 100653     1646.0            \n",
       "4 100802        0.0            \n",
       "5 100819      241.0            \n",
       "6 100915        0.0            "
      ]
     },
     "metadata": {},
     "output_type": "display_data"
    }
   ],
   "source": [
    "head(grp)"
   ]
  },
  {
   "cell_type": "code",
   "execution_count": 37,
   "metadata": {},
   "outputs": [
    {
     "data": {
      "text/html": [
       "<ol class=list-inline>\n",
       "\t<li>10000</li>\n",
       "\t<li>18</li>\n",
       "</ol>\n"
      ],
      "text/latex": [
       "\\begin{enumerate*}\n",
       "\\item 10000\n",
       "\\item 18\n",
       "\\end{enumerate*}\n"
      ],
      "text/markdown": [
       "1. 10000\n",
       "2. 18\n",
       "\n",
       "\n"
      ],
      "text/plain": [
       "[1] 10000    18"
      ]
     },
     "metadata": {},
     "output_type": "display_data"
    },
    {
     "data": {
      "text/html": [
       "<table>\n",
       "<caption>A matrix: 2 × 6 of type dbl</caption>\n",
       "<thead>\n",
       "\t<tr><th></th><th scope=col>used</th><th scope=col>(Mb)</th><th scope=col>gc trigger</th><th scope=col>(Mb)</th><th scope=col>max used</th><th scope=col>(Mb)</th></tr>\n",
       "</thead>\n",
       "<tbody>\n",
       "\t<tr><th scope=row>Ncells</th><td>  2245489</td><td> 120.0</td><td>  3856742</td><td> 206.0</td><td>  3856742</td><td> 206.0</td></tr>\n",
       "\t<tr><th scope=row>Vcells</th><td>165187845</td><td>1260.3</td><td>289364718</td><td>2207.7</td><td>280342913</td><td>2138.9</td></tr>\n",
       "</tbody>\n",
       "</table>\n"
      ],
      "text/latex": [
       "A matrix: 2 × 6 of type dbl\n",
       "\\begin{tabular}{r|llllll}\n",
       "  & used & (Mb) & gc trigger & (Mb) & max used & (Mb)\\\\\n",
       "\\hline\n",
       "\tNcells &   2245489 &  120.0 &   3856742 &  206.0 &   3856742 &  206.0\\\\\n",
       "\tVcells & 165187845 & 1260.3 & 289364718 & 2207.7 & 280342913 & 2138.9\\\\\n",
       "\\end{tabular}\n"
      ],
      "text/markdown": [
       "\n",
       "A matrix: 2 × 6 of type dbl\n",
       "\n",
       "| <!--/--> | used | (Mb) | gc trigger | (Mb) | max used | (Mb) |\n",
       "|---|---|---|---|---|---|---|\n",
       "| Ncells |   2245489 |  120.0 |   3856742 |  206.0 |   3856742 |  206.0 |\n",
       "| Vcells | 165187845 | 1260.3 | 289364718 | 2207.7 | 280342913 | 2138.9 |\n",
       "\n"
      ],
      "text/plain": [
       "       used      (Mb)   gc trigger (Mb)   max used  (Mb)  \n",
       "Ncells   2245489  120.0   3856742   206.0   3856742  206.0\n",
       "Vcells 165187845 1260.3 289364718  2207.7 280342913 2138.9"
      ]
     },
     "metadata": {},
     "output_type": "display_data"
    }
   ],
   "source": [
    "B=left_join(B,grp,by=c(\"SK_ID_CURR\"))  %>% select(-c(CREDIT_ENDDATE_BINARY,DAYS_CREDIT_ENDDATE))\n",
    "dim(B)\n",
    "gc()"
   ]
  },
  {
   "cell_type": "code",
   "execution_count": 38,
   "metadata": {},
   "outputs": [
    {
     "data": {
      "text/html": [
       "<table>\n",
       "<caption>A data.frame: 7 × 18</caption>\n",
       "<thead>\n",
       "\t<tr><th scope=col>SK_ID_CURR</th><th scope=col>SK_ID_BUREAU</th><th scope=col>CREDIT_ACTIVE</th><th scope=col>CREDIT_CURRENCY</th><th scope=col>DAYS_CREDIT</th><th scope=col>CREDIT_DAY_OVERDUE</th><th scope=col>DAYS_ENDDATE_FACT</th><th scope=col>AMT_CREDIT_MAX_OVERDUE</th><th scope=col>CNT_CREDIT_PROLONG</th><th scope=col>AMT_CREDIT_SUM</th><th scope=col>AMT_CREDIT_SUM_DEBT</th><th scope=col>AMT_CREDIT_SUM_LIMIT</th><th scope=col>AMT_CREDIT_SUM_OVERDUE</th><th scope=col>CREDIT_TYPE</th><th scope=col>DAYS_CREDIT_UPDATE</th><th scope=col>AMT_ANNUITY</th><th scope=col>DAYS_ENDDATE_DIFF</th><th scope=col>AVG_ENDDATE_FUTURE</th></tr>\n",
       "\t<tr><th scope=col>&lt;dbl&gt;</th><th scope=col>&lt;dbl&gt;</th><th scope=col>&lt;fct&gt;</th><th scope=col>&lt;fct&gt;</th><th scope=col>&lt;dbl&gt;</th><th scope=col>&lt;dbl&gt;</th><th scope=col>&lt;dbl&gt;</th><th scope=col>&lt;dbl&gt;</th><th scope=col>&lt;dbl&gt;</th><th scope=col>&lt;dbl&gt;</th><th scope=col>&lt;dbl&gt;</th><th scope=col>&lt;dbl&gt;</th><th scope=col>&lt;dbl&gt;</th><th scope=col>&lt;fct&gt;</th><th scope=col>&lt;dbl&gt;</th><th scope=col>&lt;dbl&gt;</th><th scope=col>&lt;dbl&gt;</th><th scope=col>&lt;dbl&gt;</th></tr>\n",
       "</thead>\n",
       "<tbody>\n",
       "\t<tr><td>100653</td><td>5726282</td><td>Active</td><td>currency 1</td><td> -256</td><td>0</td><td>   NA</td><td>NA</td><td>0</td><td> 97244.91</td><td> 39081.42</td><td>NA</td><td>0</td><td>Consumer credit</td><td>  -37</td><td> 0</td><td>3292</td><td>1646</td></tr>\n",
       "\t<tr><td>100653</td><td>5726283</td><td>Closed</td><td>currency 1</td><td>-2474</td><td>0</td><td>-2289</td><td>NA</td><td>0</td><td> 30262.14</td><td>     0.00</td><td>NA</td><td>0</td><td>Consumer credit</td><td> -856</td><td>NA</td><td>  NA</td><td>1646</td></tr>\n",
       "\t<tr><td>100653</td><td>5726284</td><td>Closed</td><td>currency 1</td><td>-2258</td><td>0</td><td>-1924</td><td>NA</td><td>0</td><td> 47156.85</td><td>     0.00</td><td>NA</td><td>0</td><td>Consumer credit</td><td> -856</td><td> 0</td><td>  NA</td><td>1646</td></tr>\n",
       "\t<tr><td>100653</td><td>5726285</td><td>Closed</td><td>currency 1</td><td>-1677</td><td>0</td><td> -946</td><td>NA</td><td>0</td><td> 71068.50</td><td>     0.00</td><td> 0</td><td>0</td><td>Consumer credit</td><td> -895</td><td> 0</td><td>  NA</td><td>1646</td></tr>\n",
       "\t<tr><td>100653</td><td>5726286</td><td>Active</td><td>currency 1</td><td> -182</td><td>0</td><td>   NA</td><td>NA</td><td>0</td><td>225000.00</td><td>215923.50</td><td> 0</td><td>0</td><td>Credit card    </td><td>  -82</td><td> 0</td><td>  NA</td><td>1646</td></tr>\n",
       "\t<tr><td>100653</td><td>5726287</td><td>Active</td><td>currency 1</td><td>-1564</td><td>0</td><td>   NA</td><td>NA</td><td>0</td><td> 87750.00</td><td>     0.00</td><td>NA</td><td>0</td><td>Credit card    </td><td>-1006</td><td> 0</td><td>  NA</td><td>1646</td></tr>\n",
       "\t<tr><td>100653</td><td>5726288</td><td>Active</td><td>currency 1</td><td> -252</td><td>0</td><td>   NA</td><td>NA</td><td>0</td><td>315000.00</td><td>201766.50</td><td>NA</td><td>0</td><td>Credit card    </td><td>  -22</td><td>NA</td><td>   0</td><td>1646</td></tr>\n",
       "</tbody>\n",
       "</table>\n"
      ],
      "text/latex": [
       "A data.frame: 7 × 18\n",
       "\\begin{tabular}{r|llllllllllllllllll}\n",
       " SK\\_ID\\_CURR & SK\\_ID\\_BUREAU & CREDIT\\_ACTIVE & CREDIT\\_CURRENCY & DAYS\\_CREDIT & CREDIT\\_DAY\\_OVERDUE & DAYS\\_ENDDATE\\_FACT & AMT\\_CREDIT\\_MAX\\_OVERDUE & CNT\\_CREDIT\\_PROLONG & AMT\\_CREDIT\\_SUM & AMT\\_CREDIT\\_SUM\\_DEBT & AMT\\_CREDIT\\_SUM\\_LIMIT & AMT\\_CREDIT\\_SUM\\_OVERDUE & CREDIT\\_TYPE & DAYS\\_CREDIT\\_UPDATE & AMT\\_ANNUITY & DAYS\\_ENDDATE\\_DIFF & AVG\\_ENDDATE\\_FUTURE\\\\\n",
       " <dbl> & <dbl> & <fct> & <fct> & <dbl> & <dbl> & <dbl> & <dbl> & <dbl> & <dbl> & <dbl> & <dbl> & <dbl> & <fct> & <dbl> & <dbl> & <dbl> & <dbl>\\\\\n",
       "\\hline\n",
       "\t 100653 & 5726282 & Active & currency 1 &  -256 & 0 &    NA & NA & 0 &  97244.91 &  39081.42 & NA & 0 & Consumer credit &   -37 &  0 & 3292 & 1646\\\\\n",
       "\t 100653 & 5726283 & Closed & currency 1 & -2474 & 0 & -2289 & NA & 0 &  30262.14 &      0.00 & NA & 0 & Consumer credit &  -856 & NA &   NA & 1646\\\\\n",
       "\t 100653 & 5726284 & Closed & currency 1 & -2258 & 0 & -1924 & NA & 0 &  47156.85 &      0.00 & NA & 0 & Consumer credit &  -856 &  0 &   NA & 1646\\\\\n",
       "\t 100653 & 5726285 & Closed & currency 1 & -1677 & 0 &  -946 & NA & 0 &  71068.50 &      0.00 &  0 & 0 & Consumer credit &  -895 &  0 &   NA & 1646\\\\\n",
       "\t 100653 & 5726286 & Active & currency 1 &  -182 & 0 &    NA & NA & 0 & 225000.00 & 215923.50 &  0 & 0 & Credit card     &   -82 &  0 &   NA & 1646\\\\\n",
       "\t 100653 & 5726287 & Active & currency 1 & -1564 & 0 &    NA & NA & 0 &  87750.00 &      0.00 & NA & 0 & Credit card     & -1006 &  0 &   NA & 1646\\\\\n",
       "\t 100653 & 5726288 & Active & currency 1 &  -252 & 0 &    NA & NA & 0 & 315000.00 & 201766.50 & NA & 0 & Credit card     &   -22 & NA &    0 & 1646\\\\\n",
       "\\end{tabular}\n"
      ],
      "text/markdown": [
       "\n",
       "A data.frame: 7 × 18\n",
       "\n",
       "| SK_ID_CURR &lt;dbl&gt; | SK_ID_BUREAU &lt;dbl&gt; | CREDIT_ACTIVE &lt;fct&gt; | CREDIT_CURRENCY &lt;fct&gt; | DAYS_CREDIT &lt;dbl&gt; | CREDIT_DAY_OVERDUE &lt;dbl&gt; | DAYS_ENDDATE_FACT &lt;dbl&gt; | AMT_CREDIT_MAX_OVERDUE &lt;dbl&gt; | CNT_CREDIT_PROLONG &lt;dbl&gt; | AMT_CREDIT_SUM &lt;dbl&gt; | AMT_CREDIT_SUM_DEBT &lt;dbl&gt; | AMT_CREDIT_SUM_LIMIT &lt;dbl&gt; | AMT_CREDIT_SUM_OVERDUE &lt;dbl&gt; | CREDIT_TYPE &lt;fct&gt; | DAYS_CREDIT_UPDATE &lt;dbl&gt; | AMT_ANNUITY &lt;dbl&gt; | DAYS_ENDDATE_DIFF &lt;dbl&gt; | AVG_ENDDATE_FUTURE &lt;dbl&gt; |\n",
       "|---|---|---|---|---|---|---|---|---|---|---|---|---|---|---|---|---|---|\n",
       "| 100653 | 5726282 | Active | currency 1 |  -256 | 0 |    NA | NA | 0 |  97244.91 |  39081.42 | NA | 0 | Consumer credit |   -37 |  0 | 3292 | 1646 |\n",
       "| 100653 | 5726283 | Closed | currency 1 | -2474 | 0 | -2289 | NA | 0 |  30262.14 |      0.00 | NA | 0 | Consumer credit |  -856 | NA |   NA | 1646 |\n",
       "| 100653 | 5726284 | Closed | currency 1 | -2258 | 0 | -1924 | NA | 0 |  47156.85 |      0.00 | NA | 0 | Consumer credit |  -856 |  0 |   NA | 1646 |\n",
       "| 100653 | 5726285 | Closed | currency 1 | -1677 | 0 |  -946 | NA | 0 |  71068.50 |      0.00 |  0 | 0 | Consumer credit |  -895 |  0 |   NA | 1646 |\n",
       "| 100653 | 5726286 | Active | currency 1 |  -182 | 0 |    NA | NA | 0 | 225000.00 | 215923.50 |  0 | 0 | Credit card     |   -82 |  0 |   NA | 1646 |\n",
       "| 100653 | 5726287 | Active | currency 1 | -1564 | 0 |    NA | NA | 0 |  87750.00 |      0.00 | NA | 0 | Credit card     | -1006 |  0 |   NA | 1646 |\n",
       "| 100653 | 5726288 | Active | currency 1 |  -252 | 0 |    NA | NA | 0 | 315000.00 | 201766.50 | NA | 0 | Credit card     |   -22 | NA |    0 | 1646 |\n",
       "\n"
      ],
      "text/plain": [
       "  SK_ID_CURR SK_ID_BUREAU CREDIT_ACTIVE CREDIT_CURRENCY DAYS_CREDIT\n",
       "1 100653     5726282      Active        currency 1       -256      \n",
       "2 100653     5726283      Closed        currency 1      -2474      \n",
       "3 100653     5726284      Closed        currency 1      -2258      \n",
       "4 100653     5726285      Closed        currency 1      -1677      \n",
       "5 100653     5726286      Active        currency 1       -182      \n",
       "6 100653     5726287      Active        currency 1      -1564      \n",
       "7 100653     5726288      Active        currency 1       -252      \n",
       "  CREDIT_DAY_OVERDUE DAYS_ENDDATE_FACT AMT_CREDIT_MAX_OVERDUE\n",
       "1 0                     NA             NA                    \n",
       "2 0                  -2289             NA                    \n",
       "3 0                  -1924             NA                    \n",
       "4 0                   -946             NA                    \n",
       "5 0                     NA             NA                    \n",
       "6 0                     NA             NA                    \n",
       "7 0                     NA             NA                    \n",
       "  CNT_CREDIT_PROLONG AMT_CREDIT_SUM AMT_CREDIT_SUM_DEBT AMT_CREDIT_SUM_LIMIT\n",
       "1 0                   97244.91       39081.42           NA                  \n",
       "2 0                   30262.14           0.00           NA                  \n",
       "3 0                   47156.85           0.00           NA                  \n",
       "4 0                   71068.50           0.00            0                  \n",
       "5 0                  225000.00      215923.50            0                  \n",
       "6 0                   87750.00           0.00           NA                  \n",
       "7 0                  315000.00      201766.50           NA                  \n",
       "  AMT_CREDIT_SUM_OVERDUE CREDIT_TYPE     DAYS_CREDIT_UPDATE AMT_ANNUITY\n",
       "1 0                      Consumer credit   -37               0         \n",
       "2 0                      Consumer credit  -856              NA         \n",
       "3 0                      Consumer credit  -856               0         \n",
       "4 0                      Consumer credit  -895               0         \n",
       "5 0                      Credit card       -82               0         \n",
       "6 0                      Credit card     -1006               0         \n",
       "7 0                      Credit card       -22              NA         \n",
       "  DAYS_ENDDATE_DIFF AVG_ENDDATE_FUTURE\n",
       "1 3292              1646              \n",
       "2   NA              1646              \n",
       "3   NA              1646              \n",
       "4   NA              1646              \n",
       "5   NA              1646              \n",
       "6   NA              1646              \n",
       "7    0              1646              "
      ]
     },
     "metadata": {},
     "output_type": "display_data"
    }
   ],
   "source": [
    "B  %>% filter(SK_ID_CURR==100653)"
   ]
  },
  {
   "cell_type": "markdown",
   "metadata": {},
   "source": [
    "# FEATURE 8"
   ]
  },
  {
   "cell_type": "markdown",
   "metadata": {},
   "source": [
    "* The Ratio of Total Debt to Total Credit for each Customer\n",
    "\n",
    "* A High value may be a red flag indicative of potential default"
   ]
  },
  {
   "cell_type": "code",
   "execution_count": 39,
   "metadata": {},
   "outputs": [],
   "source": [
    "# AMT_CREDIT_SUM = AMT_CREDIT_SUM_DEBT + AMT_CREDIT_SUM_LIMIT"
   ]
  },
  {
   "cell_type": "code",
   "execution_count": 40,
   "metadata": {},
   "outputs": [],
   "source": [
    "B = bureau[1:10000,]\n",
    "B[,'AMT_CREDIT_SUM_DEBT'] = B[,'AMT_CREDIT_SUM_DEBT']  %>% replace_na(0)\n",
    "\n",
    "B[,'AMT_CREDIT_SUM']=B[,'AMT_CREDIT_SUM']  %>% replace_na(0)"
   ]
  },
  {
   "cell_type": "code",
   "execution_count": 41,
   "metadata": {},
   "outputs": [],
   "source": [
    "grp1=B[,c('SK_ID_CURR', 'AMT_CREDIT_SUM_DEBT')]  %>% \n",
    "        group_by(SK_ID_CURR) %>% \n",
    "        summarise_all(sum,na.rm=T) %>%\n",
    "        rename(TOTAL_CUSTOMER_DEBT = AMT_CREDIT_SUM_DEBT)\n",
    "\n",
    "\n",
    "grp2=B[,c('SK_ID_CURR', 'AMT_CREDIT_SUM')]  %>% \n",
    "        group_by(SK_ID_CURR) %>% \n",
    "        summarise_all(sum,na.rm=T) %>%\n",
    "        rename(TOTAL_CUSTOMER_CREDIT =AMT_CREDIT_SUM)"
   ]
  },
  {
   "cell_type": "code",
   "execution_count": 42,
   "metadata": {},
   "outputs": [
    {
     "data": {
      "text/html": [
       "<table>\n",
       "<caption>A tibble: 6 × 2</caption>\n",
       "<thead>\n",
       "\t<tr><th scope=col>SK_ID_CURR</th><th scope=col>TOTAL_CUSTOMER_DEBT</th></tr>\n",
       "\t<tr><th scope=col>&lt;dbl&gt;</th><th scope=col>&lt;dbl&gt;</th></tr>\n",
       "</thead>\n",
       "<tbody>\n",
       "\t<tr><td>100053</td><td>      0.0</td></tr>\n",
       "\t<tr><td>100568</td><td> 422599.5</td></tr>\n",
       "\t<tr><td>100653</td><td> 456771.4</td></tr>\n",
       "\t<tr><td>100802</td><td> 157630.5</td></tr>\n",
       "\t<tr><td>100819</td><td>1403749.9</td></tr>\n",
       "\t<tr><td>100915</td><td>      4.5</td></tr>\n",
       "</tbody>\n",
       "</table>\n"
      ],
      "text/latex": [
       "A tibble: 6 × 2\n",
       "\\begin{tabular}{r|ll}\n",
       " SK\\_ID\\_CURR & TOTAL\\_CUSTOMER\\_DEBT\\\\\n",
       " <dbl> & <dbl>\\\\\n",
       "\\hline\n",
       "\t 100053 &       0.0\\\\\n",
       "\t 100568 &  422599.5\\\\\n",
       "\t 100653 &  456771.4\\\\\n",
       "\t 100802 &  157630.5\\\\\n",
       "\t 100819 & 1403749.9\\\\\n",
       "\t 100915 &       4.5\\\\\n",
       "\\end{tabular}\n"
      ],
      "text/markdown": [
       "\n",
       "A tibble: 6 × 2\n",
       "\n",
       "| SK_ID_CURR &lt;dbl&gt; | TOTAL_CUSTOMER_DEBT &lt;dbl&gt; |\n",
       "|---|---|\n",
       "| 100053 |       0.0 |\n",
       "| 100568 |  422599.5 |\n",
       "| 100653 |  456771.4 |\n",
       "| 100802 |  157630.5 |\n",
       "| 100819 | 1403749.9 |\n",
       "| 100915 |       4.5 |\n",
       "\n"
      ],
      "text/plain": [
       "  SK_ID_CURR TOTAL_CUSTOMER_DEBT\n",
       "1 100053           0.0          \n",
       "2 100568      422599.5          \n",
       "3 100653      456771.4          \n",
       "4 100802      157630.5          \n",
       "5 100819     1403749.9          \n",
       "6 100915           4.5          "
      ]
     },
     "metadata": {},
     "output_type": "display_data"
    }
   ],
   "source": [
    "head(grp1)"
   ]
  },
  {
   "cell_type": "code",
   "execution_count": 43,
   "metadata": {},
   "outputs": [
    {
     "data": {
      "text/html": [
       "<table>\n",
       "<caption>A matrix: 2 × 6 of type dbl</caption>\n",
       "<thead>\n",
       "\t<tr><th></th><th scope=col>used</th><th scope=col>(Mb)</th><th scope=col>gc trigger</th><th scope=col>(Mb)</th><th scope=col>max used</th><th scope=col>(Mb)</th></tr>\n",
       "</thead>\n",
       "<tbody>\n",
       "\t<tr><th scope=row>Ncells</th><td>  2245468</td><td> 120.0</td><td>  3856742</td><td> 206.0</td><td>  3856742</td><td> 206.0</td></tr>\n",
       "\t<tr><th scope=row>Vcells</th><td>165197832</td><td>1260.4</td><td>289364718</td><td>2207.7</td><td>280342913</td><td>2138.9</td></tr>\n",
       "</tbody>\n",
       "</table>\n"
      ],
      "text/latex": [
       "A matrix: 2 × 6 of type dbl\n",
       "\\begin{tabular}{r|llllll}\n",
       "  & used & (Mb) & gc trigger & (Mb) & max used & (Mb)\\\\\n",
       "\\hline\n",
       "\tNcells &   2245468 &  120.0 &   3856742 &  206.0 &   3856742 &  206.0\\\\\n",
       "\tVcells & 165197832 & 1260.4 & 289364718 & 2207.7 & 280342913 & 2138.9\\\\\n",
       "\\end{tabular}\n"
      ],
      "text/markdown": [
       "\n",
       "A matrix: 2 × 6 of type dbl\n",
       "\n",
       "| <!--/--> | used | (Mb) | gc trigger | (Mb) | max used | (Mb) |\n",
       "|---|---|---|---|---|---|---|\n",
       "| Ncells |   2245468 |  120.0 |   3856742 |  206.0 |   3856742 |  206.0 |\n",
       "| Vcells | 165197832 | 1260.4 | 289364718 | 2207.7 | 280342913 | 2138.9 |\n",
       "\n"
      ],
      "text/plain": [
       "       used      (Mb)   gc trigger (Mb)   max used  (Mb)  \n",
       "Ncells   2245468  120.0   3856742   206.0   3856742  206.0\n",
       "Vcells 165197832 1260.4 289364718  2207.7 280342913 2138.9"
      ]
     },
     "metadata": {},
     "output_type": "display_data"
    }
   ],
   "source": [
    "B=left_join(B,grp1,by=c(\"SK_ID_CURR\")) \n",
    "B=left_join(B,grp2,by=c(\"SK_ID_CURR\")) \n",
    "rm(grp1,grp2)\n",
    "gc()"
   ]
  },
  {
   "cell_type": "code",
   "execution_count": 44,
   "metadata": {},
   "outputs": [],
   "source": [
    "B= B %>% \n",
    "    mutate(DEBT_CREDIT_RATIO = TOTAL_CUSTOMER_DEBT / TOTAL_CUSTOMER_CREDIT)  %>% \n",
    "    select(-c(TOTAL_CUSTOMER_DEBT,TOTAL_CUSTOMER_CREDIT))"
   ]
  },
  {
   "cell_type": "code",
   "execution_count": 45,
   "metadata": {},
   "outputs": [
    {
     "data": {
      "text/html": [
       "<ol class=list-inline>\n",
       "\t<li>10000</li>\n",
       "\t<li>18</li>\n",
       "</ol>\n"
      ],
      "text/latex": [
       "\\begin{enumerate*}\n",
       "\\item 10000\n",
       "\\item 18\n",
       "\\end{enumerate*}\n"
      ],
      "text/markdown": [
       "1. 10000\n",
       "2. 18\n",
       "\n",
       "\n"
      ],
      "text/plain": [
       "[1] 10000    18"
      ]
     },
     "metadata": {},
     "output_type": "display_data"
    }
   ],
   "source": [
    "dim(B)"
   ]
  },
  {
   "cell_type": "markdown",
   "metadata": {},
   "source": [
    "# FEATURE 9 - OVERDUE OVER DEBT RATIO"
   ]
  },
  {
   "cell_type": "markdown",
   "metadata": {},
   "source": [
    "* What fraction of total Debt is overdue per customer?¶\n",
    "\n",
    "* A high value could indicate a potential DEFAULT"
   ]
  },
  {
   "cell_type": "code",
   "execution_count": 46,
   "metadata": {},
   "outputs": [],
   "source": [
    "B = bureau[1:10000,]\n",
    "B[,'AMT_CREDIT_SUM_DEBT'] = B[,'AMT_CREDIT_SUM_DEBT']  %>% replace_na(0)\n",
    "\n",
    "B[,'AMT_CREDIT_SUM']=B[,'AMT_CREDIT_SUM']  %>% replace_na(0)"
   ]
  },
  {
   "cell_type": "code",
   "execution_count": 47,
   "metadata": {},
   "outputs": [],
   "source": [
    "grp1=B[,c('SK_ID_CURR', 'AMT_CREDIT_SUM_DEBT')]  %>% \n",
    "        group_by(SK_ID_CURR) %>% \n",
    "        summarise_all(sum,na.rm=T) %>%\n",
    "        rename(TOTAL_CUSTOMER_DEBT = AMT_CREDIT_SUM_DEBT)\n",
    "\n",
    "\n",
    "grp2=B[,c('SK_ID_CURR', 'AMT_CREDIT_SUM_OVERDUE')]  %>% \n",
    "        group_by(SK_ID_CURR) %>% \n",
    "        summarise_all(sum,na.rm=T) %>%\n",
    "        rename(TOTAL_CUSTOMER_OVERDUE =AMT_CREDIT_SUM_OVERDUE)"
   ]
  },
  {
   "cell_type": "code",
   "execution_count": 48,
   "metadata": {},
   "outputs": [
    {
     "data": {
      "text/html": [
       "<table>\n",
       "<caption>A matrix: 2 × 6 of type dbl</caption>\n",
       "<thead>\n",
       "\t<tr><th></th><th scope=col>used</th><th scope=col>(Mb)</th><th scope=col>gc trigger</th><th scope=col>(Mb)</th><th scope=col>max used</th><th scope=col>(Mb)</th></tr>\n",
       "</thead>\n",
       "<tbody>\n",
       "\t<tr><th scope=row>Ncells</th><td>  2245465</td><td> 120.0</td><td>  3856742</td><td> 206.0</td><td>  3856742</td><td> 206.0</td></tr>\n",
       "\t<tr><th scope=row>Vcells</th><td>165197825</td><td>1260.4</td><td>289364718</td><td>2207.7</td><td>280342913</td><td>2138.9</td></tr>\n",
       "</tbody>\n",
       "</table>\n"
      ],
      "text/latex": [
       "A matrix: 2 × 6 of type dbl\n",
       "\\begin{tabular}{r|llllll}\n",
       "  & used & (Mb) & gc trigger & (Mb) & max used & (Mb)\\\\\n",
       "\\hline\n",
       "\tNcells &   2245465 &  120.0 &   3856742 &  206.0 &   3856742 &  206.0\\\\\n",
       "\tVcells & 165197825 & 1260.4 & 289364718 & 2207.7 & 280342913 & 2138.9\\\\\n",
       "\\end{tabular}\n"
      ],
      "text/markdown": [
       "\n",
       "A matrix: 2 × 6 of type dbl\n",
       "\n",
       "| <!--/--> | used | (Mb) | gc trigger | (Mb) | max used | (Mb) |\n",
       "|---|---|---|---|---|---|---|\n",
       "| Ncells |   2245465 |  120.0 |   3856742 |  206.0 |   3856742 |  206.0 |\n",
       "| Vcells | 165197825 | 1260.4 | 289364718 | 2207.7 | 280342913 | 2138.9 |\n",
       "\n"
      ],
      "text/plain": [
       "       used      (Mb)   gc trigger (Mb)   max used  (Mb)  \n",
       "Ncells   2245465  120.0   3856742   206.0   3856742  206.0\n",
       "Vcells 165197825 1260.4 289364718  2207.7 280342913 2138.9"
      ]
     },
     "metadata": {},
     "output_type": "display_data"
    }
   ],
   "source": [
    "B=left_join(B,grp1,by=c(\"SK_ID_CURR\")) \n",
    "B=left_join(B,grp2,by=c(\"SK_ID_CURR\")) \n",
    "rm(grp1,grp2)\n",
    "gc()"
   ]
  },
  {
   "cell_type": "code",
   "execution_count": 49,
   "metadata": {},
   "outputs": [],
   "source": [
    "B= B %>% \n",
    "    mutate(OVERDUE_DEBT_RATIO = TOTAL_CUSTOMER_OVERDUE / TOTAL_CUSTOMER_DEBT)  %>% \n",
    "    select(-c(TOTAL_CUSTOMER_DEBT,TOTAL_CUSTOMER_OVERDUE))"
   ]
  },
  {
   "cell_type": "code",
   "execution_count": 50,
   "metadata": {},
   "outputs": [
    {
     "data": {
      "text/html": [
       "<ol class=list-inline>\n",
       "\t<li>10000</li>\n",
       "\t<li>18</li>\n",
       "</ol>\n"
      ],
      "text/latex": [
       "\\begin{enumerate*}\n",
       "\\item 10000\n",
       "\\item 18\n",
       "\\end{enumerate*}\n"
      ],
      "text/markdown": [
       "1. 10000\n",
       "2. 18\n",
       "\n",
       "\n"
      ],
      "text/plain": [
       "[1] 10000    18"
      ]
     },
     "metadata": {},
     "output_type": "display_data"
    }
   ],
   "source": [
    "dim(B)"
   ]
  },
  {
   "cell_type": "markdown",
   "metadata": {},
   "source": [
    "# FEATURE 10 - AVERAGE NUMBER OF LOANS PROLONGED"
   ]
  },
  {
   "cell_type": "code",
   "execution_count": 51,
   "metadata": {},
   "outputs": [],
   "source": [
    "B = bureau[1:10000,]\n",
    "B[,'CNT_CREDIT_PROLONG'] = B[,'CNT_CREDIT_PROLONG']  %>% replace_na(0)"
   ]
  },
  {
   "cell_type": "code",
   "execution_count": 52,
   "metadata": {},
   "outputs": [],
   "source": [
    "grp1=B[,c('SK_ID_CURR', 'CNT_CREDIT_PROLONG')]  %>% \n",
    "        group_by(SK_ID_CURR) %>% \n",
    "        summarise_all(mean,na.rm=T) %>%\n",
    "        rename(AVG_CREDITDAYS_PROLONGED = CNT_CREDIT_PROLONG)"
   ]
  },
  {
   "cell_type": "code",
   "execution_count": 53,
   "metadata": {},
   "outputs": [
    {
     "data": {
      "text/html": [
       "<table>\n",
       "<caption>A tibble: 6 × 2</caption>\n",
       "<thead>\n",
       "\t<tr><th scope=col>SK_ID_CURR</th><th scope=col>AVG_CREDITDAYS_PROLONGED</th></tr>\n",
       "\t<tr><th scope=col>&lt;dbl&gt;</th><th scope=col>&lt;dbl&gt;</th></tr>\n",
       "</thead>\n",
       "<tbody>\n",
       "\t<tr><td>100053</td><td>0</td></tr>\n",
       "\t<tr><td>100568</td><td>0</td></tr>\n",
       "\t<tr><td>100653</td><td>0</td></tr>\n",
       "\t<tr><td>100802</td><td>0</td></tr>\n",
       "\t<tr><td>100819</td><td>0</td></tr>\n",
       "\t<tr><td>100915</td><td>0</td></tr>\n",
       "</tbody>\n",
       "</table>\n"
      ],
      "text/latex": [
       "A tibble: 6 × 2\n",
       "\\begin{tabular}{r|ll}\n",
       " SK\\_ID\\_CURR & AVG\\_CREDITDAYS\\_PROLONGED\\\\\n",
       " <dbl> & <dbl>\\\\\n",
       "\\hline\n",
       "\t 100053 & 0\\\\\n",
       "\t 100568 & 0\\\\\n",
       "\t 100653 & 0\\\\\n",
       "\t 100802 & 0\\\\\n",
       "\t 100819 & 0\\\\\n",
       "\t 100915 & 0\\\\\n",
       "\\end{tabular}\n"
      ],
      "text/markdown": [
       "\n",
       "A tibble: 6 × 2\n",
       "\n",
       "| SK_ID_CURR &lt;dbl&gt; | AVG_CREDITDAYS_PROLONGED &lt;dbl&gt; |\n",
       "|---|---|\n",
       "| 100053 | 0 |\n",
       "| 100568 | 0 |\n",
       "| 100653 | 0 |\n",
       "| 100802 | 0 |\n",
       "| 100819 | 0 |\n",
       "| 100915 | 0 |\n",
       "\n"
      ],
      "text/plain": [
       "  SK_ID_CURR AVG_CREDITDAYS_PROLONGED\n",
       "1 100053     0                       \n",
       "2 100568     0                       \n",
       "3 100653     0                       \n",
       "4 100802     0                       \n",
       "5 100819     0                       \n",
       "6 100915     0                       "
      ]
     },
     "metadata": {},
     "output_type": "display_data"
    }
   ],
   "source": [
    "head(grp1)"
   ]
  },
  {
   "cell_type": "code",
   "execution_count": 54,
   "metadata": {},
   "outputs": [],
   "source": [
    "B=left_join(B,grp1,by=c(\"SK_ID_CURR\")) "
   ]
  },
  {
   "cell_type": "code",
   "execution_count": 55,
   "metadata": {},
   "outputs": [
    {
     "data": {
      "text/html": [
       "<ol class=list-inline>\n",
       "\t<li>10000</li>\n",
       "\t<li>18</li>\n",
       "</ol>\n"
      ],
      "text/latex": [
       "\\begin{enumerate*}\n",
       "\\item 10000\n",
       "\\item 18\n",
       "\\end{enumerate*}\n"
      ],
      "text/markdown": [
       "1. 10000\n",
       "2. 18\n",
       "\n",
       "\n"
      ],
      "text/plain": [
       "[1] 10000    18"
      ]
     },
     "metadata": {},
     "output_type": "display_data"
    }
   ],
   "source": [
    "dim(B)"
   ]
  }
 ],
 "metadata": {
  "kernelspec": {
   "display_name": "R",
   "language": "R",
   "name": "ir"
  },
  "language_info": {
   "codemirror_mode": "r",
   "file_extension": ".r",
   "mimetype": "text/x-r-source",
   "name": "R",
   "pygments_lexer": "r",
   "version": "3.6.0"
  }
 },
 "nbformat": 4,
 "nbformat_minor": 1
}
