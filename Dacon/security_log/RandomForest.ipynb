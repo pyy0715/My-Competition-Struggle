{
 "cells": [
  {
   "cell_type": "code",
   "execution_count": 1,
   "metadata": {
    "ExecuteTime": {
     "end_time": "2021-05-19T17:32:04.488501Z",
     "start_time": "2021-05-19T17:32:03.657068Z"
    }
   },
   "outputs": [],
   "source": [
    "import os\n",
    "import re\n",
    "import numpy as np\n",
    "import pandas as pd\n",
    "\n",
    "from sklearn.feature_extraction.text import CountVectorizer, TfidfVectorizer\n",
    "from sklearn.model_selection import train_test_split, StratifiedKFold\n",
    "from sklearn.linear_model import LogisticRegression\n",
    "from sklearn.metrics import accuracy_score, precision_score, log_loss, recall_score, f1_score, classification_report\n",
    "\n",
    "from tokenizers import BertWordPieceTokenizer, SentencePieceBPETokenizer\n",
    "from lightgbm import LGBMClassifier"
   ]
  },
  {
   "cell_type": "code",
   "execution_count": 2,
   "metadata": {
    "ExecuteTime": {
     "end_time": "2021-05-19T17:32:10.864634Z",
     "start_time": "2021-05-19T17:32:05.436900Z"
    }
   },
   "outputs": [],
   "source": [
    "train_df = pd.read_csv('./dataset/train.csv')\n",
    "test_df = pd.read_csv('./dataset/test.csv')"
   ]
  },
  {
   "cell_type": "code",
   "execution_count": 22,
   "metadata": {
    "ExecuteTime": {
     "end_time": "2021-05-19T17:38:06.389526Z",
     "start_time": "2021-05-19T17:38:06.382526Z"
    }
   },
   "outputs": [],
   "source": [
    "def clean(x):\n",
    "    x = x.lower()\n",
    "    x = re.sub(f'[0-9]', 'N', x)\n",
    "    x = re.sub(r'(\\\\n)', ' ', x)\n",
    "    x = re.sub(r',', ' ', x)\n",
    "    x = re.sub(r'[^a-zA-Zㄱ-ㅣ가-힣\\s]+', '',x)\n",
    "    x = re.sub(r'N', '', x)\n",
    "    x = re.sub(r'jan|feb|oct|dec|mar|nov|sep', '', x)\n",
    "    x = re.sub(r'\\s[a-zA-Z]\\s', ' ', x)\n",
    "    x = re.sub(r'\\s+', ' ', x)\n",
    "    return x.strip()"
   ]
  },
  {
   "cell_type": "code",
   "execution_count": 23,
   "metadata": {
    "ExecuteTime": {
     "end_time": "2021-05-19T17:38:30.257217Z",
     "start_time": "2021-05-19T17:38:06.714532Z"
    },
    "scrolled": true
   },
   "outputs": [
    {
     "name": "stdout",
     "output_type": "stream",
     "text": [
      "CPU times: user 23.4 s, sys: 79.9 ms, total: 23.5 s\n",
      "Wall time: 23.5 s\n"
     ]
    }
   ],
   "source": [
    "%%time\n",
    "\n",
    "train_df['clean_log'] = train_df['full_log'].map(lambda x: clean(x))\n",
    "# test_df['clean_log'] = test_df['full_log'].map(lambda x: clean(x))"
   ]
  },
  {
   "cell_type": "code",
   "execution_count": 34,
   "metadata": {
    "ExecuteTime": {
     "end_time": "2021-05-19T17:39:55.675797Z",
     "start_time": "2021-05-19T17:39:55.318112Z"
    }
   },
   "outputs": [],
   "source": [
    "new_train = train_df.pivot_table(index='clean_log',\n",
    "                                 values='id',\n",
    "                                 columns='level',\n",
    "                                 aggfunc='count',\n",
    "                                 fill_value = 0).reset_index()\n",
    "new_train.columns.name = None\n",
    "new_train['total'] = np.sum(new_train.iloc[:,1:], axis=1)\n",
    "new_train.iloc[:,1:-1] = new_train.iloc[:,1:-1].div(new_train.iloc[:,-1], axis=0)\n",
    "new_train = new_train.drop(['total'], axis=1)"
   ]
  },
  {
   "cell_type": "code",
   "execution_count": 46,
   "metadata": {
    "ExecuteTime": {
     "end_time": "2021-05-19T17:44:31.669181Z",
     "start_time": "2021-05-19T17:44:31.656086Z"
    }
   },
   "outputs": [
    {
     "data": {
      "text/html": [
       "<div>\n",
       "<style scoped>\n",
       "    .dataframe tbody tr th:only-of-type {\n",
       "        vertical-align: middle;\n",
       "    }\n",
       "\n",
       "    .dataframe tbody tr th {\n",
       "        vertical-align: top;\n",
       "    }\n",
       "\n",
       "    .dataframe thead th {\n",
       "        text-align: right;\n",
       "    }\n",
       "</style>\n",
       "<table border=\"1\" class=\"dataframe\">\n",
       "  <thead>\n",
       "    <tr style=\"text-align: right;\">\n",
       "      <th></th>\n",
       "      <th>clean_log</th>\n",
       "      <th>0</th>\n",
       "      <th>1</th>\n",
       "      <th>2</th>\n",
       "      <th>3</th>\n",
       "      <th>4</th>\n",
       "      <th>5</th>\n",
       "      <th>6</th>\n",
       "    </tr>\n",
       "  </thead>\n",
       "  <tbody>\n",
       "    <tr>\n",
       "      <th>0</th>\n",
       "      <td>e proberpminfo rpm db error from dbenvfailchk ...</td>\n",
       "      <td>1.0</td>\n",
       "      <td>0.0</td>\n",
       "      <td>0.0</td>\n",
       "      <td>0.0</td>\n",
       "      <td>0.0</td>\n",
       "      <td>0.0</td>\n",
       "      <td>0.0</td>\n",
       "    </tr>\n",
       "    <tr>\n",
       "      <th>1</th>\n",
       "      <td>e proberpminfo rpm rpmdb bdb threadprocess fai...</td>\n",
       "      <td>1.0</td>\n",
       "      <td>0.0</td>\n",
       "      <td>0.0</td>\n",
       "      <td>0.0</td>\n",
       "      <td>0.0</td>\n",
       "      <td>0.0</td>\n",
       "      <td>0.0</td>\n",
       "    </tr>\n",
       "    <tr>\n",
       "      <th>2</th>\n",
       "      <td>e proberpmverifyfile rpm db error from dbenvfa...</td>\n",
       "      <td>1.0</td>\n",
       "      <td>0.0</td>\n",
       "      <td>0.0</td>\n",
       "      <td>0.0</td>\n",
       "      <td>0.0</td>\n",
       "      <td>0.0</td>\n",
       "      <td>0.0</td>\n",
       "    </tr>\n",
       "    <tr>\n",
       "      <th>3</th>\n",
       "      <td>e proberpmverifyfile rpm rpmdb bdb threadproce...</td>\n",
       "      <td>1.0</td>\n",
       "      <td>0.0</td>\n",
       "      <td>0.0</td>\n",
       "      <td>0.0</td>\n",
       "      <td>0.0</td>\n",
       "      <td>0.0</td>\n",
       "      <td>0.0</td>\n",
       "    </tr>\n",
       "    <tr>\n",
       "      <th>4</th>\n",
       "      <td>error cannot open packages database in</td>\n",
       "      <td>1.0</td>\n",
       "      <td>0.0</td>\n",
       "      <td>0.0</td>\n",
       "      <td>0.0</td>\n",
       "      <td>0.0</td>\n",
       "      <td>0.0</td>\n",
       "      <td>0.0</td>\n",
       "    </tr>\n",
       "  </tbody>\n",
       "</table>\n",
       "</div>"
      ],
      "text/plain": [
       "                                           clean_log    0    1    2    3    4  \\\n",
       "0  e proberpminfo rpm db error from dbenvfailchk ...  1.0  0.0  0.0  0.0  0.0   \n",
       "1  e proberpminfo rpm rpmdb bdb threadprocess fai...  1.0  0.0  0.0  0.0  0.0   \n",
       "2  e proberpmverifyfile rpm db error from dbenvfa...  1.0  0.0  0.0  0.0  0.0   \n",
       "3  e proberpmverifyfile rpm rpmdb bdb threadproce...  1.0  0.0  0.0  0.0  0.0   \n",
       "4             error cannot open packages database in  1.0  0.0  0.0  0.0  0.0   \n",
       "\n",
       "     5    6  \n",
       "0  0.0  0.0  \n",
       "1  0.0  0.0  \n",
       "2  0.0  0.0  \n",
       "3  0.0  0.0  \n",
       "4  0.0  0.0  "
      ]
     },
     "execution_count": 46,
     "metadata": {},
     "output_type": "execute_result"
    }
   ],
   "source": [
    "new_train.head()"
   ]
  },
  {
   "cell_type": "code",
   "execution_count": 48,
   "metadata": {
    "ExecuteTime": {
     "end_time": "2021-05-19T17:45:23.686414Z",
     "start_time": "2021-05-19T17:45:23.682374Z"
    }
   },
   "outputs": [],
   "source": [
    "new_train['new_level'] = np.argmax(new_train.iloc[:,1:].values, axis=1).astype('int')"
   ]
  },
  {
   "cell_type": "markdown",
   "metadata": {},
   "source": [
    "## Final - Stage"
   ]
  },
  {
   "cell_type": "code",
   "execution_count": 59,
   "metadata": {
    "ExecuteTime": {
     "end_time": "2021-05-19T17:47:48.106694Z",
     "start_time": "2021-05-19T17:47:48.100615Z"
    }
   },
   "outputs": [],
   "source": [
    "# train_text = train_df['final_log'].to_list()\n",
    "train_text = new_train['clean_log'].to_list()\n",
    "train_level = new_train.iloc[:, 1:-1].values\n",
    "level = new_train.iloc[:, -1]"
   ]
  },
  {
   "cell_type": "code",
   "execution_count": null,
   "metadata": {},
   "outputs": [],
   "source": []
  },
  {
   "cell_type": "code",
   "execution_count": 37,
   "metadata": {
    "ExecuteTime": {
     "end_time": "2021-05-19T17:40:48.250531Z",
     "start_time": "2021-05-19T17:40:46.859961Z"
    }
   },
   "outputs": [],
   "source": [
    "vectorizer3=CountVectorizer(analyzer=\"word\", \n",
    "                            max_features=20000, \n",
    "                            ngram_range=(1,1), \n",
    "                            min_df=2,\n",
    "                            dtype=np.float32)\n",
    "\n",
    "train_features=vectorizer3.fit_transform(train_text)"
   ]
  },
  {
   "cell_type": "code",
   "execution_count": 38,
   "metadata": {
    "ExecuteTime": {
     "end_time": "2021-05-19T17:40:48.714738Z",
     "start_time": "2021-05-19T17:40:48.711596Z"
    }
   },
   "outputs": [
    {
     "data": {
      "text/plain": [
       "<53910x13407 sparse matrix of type '<class 'numpy.float32'>'\n",
       "\twith 2266795 stored elements in Compressed Sparse Row format>"
      ]
     },
     "execution_count": 38,
     "metadata": {},
     "output_type": "execute_result"
    }
   ],
   "source": [
    "train_features"
   ]
  },
  {
   "cell_type": "code",
   "execution_count": 96,
   "metadata": {
    "ExecuteTime": {
     "end_time": "2021-05-17T17:57:42.054706Z",
     "start_time": "2021-05-17T17:57:42.052608Z"
    }
   },
   "outputs": [],
   "source": [
    "# test_text=test_df['clean_log'].to_list()\n",
    "# test_features=vectorizer3.transform(test_text)"
   ]
  },
  {
   "cell_type": "code",
   "execution_count": 39,
   "metadata": {
    "ExecuteTime": {
     "end_time": "2021-05-19T17:41:38.690397Z",
     "start_time": "2021-05-19T17:41:38.287160Z"
    }
   },
   "outputs": [
    {
     "ename": "ValueError",
     "evalue": "The least populated class in y has only 1 member, which is too few. The minimum number of groups for any class cannot be less than 2.",
     "output_type": "error",
     "traceback": [
      "\u001b[0;31m---------------------------------------------------------------------------\u001b[0m",
      "\u001b[0;31mValueError\u001b[0m                                Traceback (most recent call last)",
      "\u001b[0;32m<ipython-input-39-9202cf9fcb4f>\u001b[0m in \u001b[0;36m<module>\u001b[0;34m()\u001b[0m\n\u001b[1;32m      6\u001b[0m                                                     \u001b[0mshuffle\u001b[0m \u001b[0;34m=\u001b[0m \u001b[0;32mTrue\u001b[0m\u001b[0;34m,\u001b[0m\u001b[0;34m\u001b[0m\u001b[0;34m\u001b[0m\u001b[0m\n\u001b[1;32m      7\u001b[0m                                                     \u001b[0mtest_size\u001b[0m\u001b[0;34m=\u001b[0m\u001b[0mTEST_SIZE\u001b[0m\u001b[0;34m,\u001b[0m\u001b[0;34m\u001b[0m\u001b[0;34m\u001b[0m\u001b[0m\n\u001b[0;32m----> 8\u001b[0;31m                                                     random_state=RANDOM_SEED)\n\u001b[0m\u001b[1;32m      9\u001b[0m \u001b[0;34m\u001b[0m\u001b[0m\n\u001b[1;32m     10\u001b[0m clf = LogisticRegression(random_state=42,\n",
      "\u001b[0;32m/home/yyeon/anaconda3/envs/ML_Server/lib/python3.7/site-packages/sklearn/model_selection/_split.py\u001b[0m in \u001b[0;36mtrain_test_split\u001b[0;34m(*arrays, **options)\u001b[0m\n\u001b[1;32m   2150\u001b[0m                      random_state=random_state)\n\u001b[1;32m   2151\u001b[0m \u001b[0;34m\u001b[0m\u001b[0m\n\u001b[0;32m-> 2152\u001b[0;31m         \u001b[0mtrain\u001b[0m\u001b[0;34m,\u001b[0m \u001b[0mtest\u001b[0m \u001b[0;34m=\u001b[0m \u001b[0mnext\u001b[0m\u001b[0;34m(\u001b[0m\u001b[0mcv\u001b[0m\u001b[0;34m.\u001b[0m\u001b[0msplit\u001b[0m\u001b[0;34m(\u001b[0m\u001b[0mX\u001b[0m\u001b[0;34m=\u001b[0m\u001b[0marrays\u001b[0m\u001b[0;34m[\u001b[0m\u001b[0;36m0\u001b[0m\u001b[0;34m]\u001b[0m\u001b[0;34m,\u001b[0m \u001b[0my\u001b[0m\u001b[0;34m=\u001b[0m\u001b[0mstratify\u001b[0m\u001b[0;34m)\u001b[0m\u001b[0;34m)\u001b[0m\u001b[0;34m\u001b[0m\u001b[0;34m\u001b[0m\u001b[0m\n\u001b[0m\u001b[1;32m   2153\u001b[0m \u001b[0;34m\u001b[0m\u001b[0m\n\u001b[1;32m   2154\u001b[0m     return list(chain.from_iterable((_safe_indexing(a, train),\n",
      "\u001b[0;32m/home/yyeon/anaconda3/envs/ML_Server/lib/python3.7/site-packages/sklearn/model_selection/_split.py\u001b[0m in \u001b[0;36msplit\u001b[0;34m(self, X, y, groups)\u001b[0m\n\u001b[1;32m   1339\u001b[0m         \"\"\"\n\u001b[1;32m   1340\u001b[0m         \u001b[0mX\u001b[0m\u001b[0;34m,\u001b[0m \u001b[0my\u001b[0m\u001b[0;34m,\u001b[0m \u001b[0mgroups\u001b[0m \u001b[0;34m=\u001b[0m \u001b[0mindexable\u001b[0m\u001b[0;34m(\u001b[0m\u001b[0mX\u001b[0m\u001b[0;34m,\u001b[0m \u001b[0my\u001b[0m\u001b[0;34m,\u001b[0m \u001b[0mgroups\u001b[0m\u001b[0;34m)\u001b[0m\u001b[0;34m\u001b[0m\u001b[0;34m\u001b[0m\u001b[0m\n\u001b[0;32m-> 1341\u001b[0;31m         \u001b[0;32mfor\u001b[0m \u001b[0mtrain\u001b[0m\u001b[0;34m,\u001b[0m \u001b[0mtest\u001b[0m \u001b[0;32min\u001b[0m \u001b[0mself\u001b[0m\u001b[0;34m.\u001b[0m\u001b[0m_iter_indices\u001b[0m\u001b[0;34m(\u001b[0m\u001b[0mX\u001b[0m\u001b[0;34m,\u001b[0m \u001b[0my\u001b[0m\u001b[0;34m,\u001b[0m \u001b[0mgroups\u001b[0m\u001b[0;34m)\u001b[0m\u001b[0;34m:\u001b[0m\u001b[0;34m\u001b[0m\u001b[0;34m\u001b[0m\u001b[0m\n\u001b[0m\u001b[1;32m   1342\u001b[0m             \u001b[0;32myield\u001b[0m \u001b[0mtrain\u001b[0m\u001b[0;34m,\u001b[0m \u001b[0mtest\u001b[0m\u001b[0;34m\u001b[0m\u001b[0;34m\u001b[0m\u001b[0m\n\u001b[1;32m   1343\u001b[0m \u001b[0;34m\u001b[0m\u001b[0m\n",
      "\u001b[0;32m/home/yyeon/anaconda3/envs/ML_Server/lib/python3.7/site-packages/sklearn/model_selection/_split.py\u001b[0m in \u001b[0;36m_iter_indices\u001b[0;34m(self, X, y, groups)\u001b[0m\n\u001b[1;32m   1666\u001b[0m         \u001b[0mclass_counts\u001b[0m \u001b[0;34m=\u001b[0m \u001b[0mnp\u001b[0m\u001b[0;34m.\u001b[0m\u001b[0mbincount\u001b[0m\u001b[0;34m(\u001b[0m\u001b[0my_indices\u001b[0m\u001b[0;34m)\u001b[0m\u001b[0;34m\u001b[0m\u001b[0;34m\u001b[0m\u001b[0m\n\u001b[1;32m   1667\u001b[0m         \u001b[0;32mif\u001b[0m \u001b[0mnp\u001b[0m\u001b[0;34m.\u001b[0m\u001b[0mmin\u001b[0m\u001b[0;34m(\u001b[0m\u001b[0mclass_counts\u001b[0m\u001b[0;34m)\u001b[0m \u001b[0;34m<\u001b[0m \u001b[0;36m2\u001b[0m\u001b[0;34m:\u001b[0m\u001b[0;34m\u001b[0m\u001b[0;34m\u001b[0m\u001b[0m\n\u001b[0;32m-> 1668\u001b[0;31m             raise ValueError(\"The least populated class in y has only 1\"\n\u001b[0m\u001b[1;32m   1669\u001b[0m                              \u001b[0;34m\" member, which is too few. The minimum\"\u001b[0m\u001b[0;34m\u001b[0m\u001b[0;34m\u001b[0m\u001b[0m\n\u001b[1;32m   1670\u001b[0m                              \u001b[0;34m\" number of groups for any class cannot\"\u001b[0m\u001b[0;34m\u001b[0m\u001b[0;34m\u001b[0m\u001b[0m\n",
      "\u001b[0;31mValueError\u001b[0m: The least populated class in y has only 1 member, which is too few. The minimum number of groups for any class cannot be less than 2."
     ]
    }
   ],
   "source": [
    "TEST_SIZE = 0.3\n",
    "RANDOM_SEED = 42\n",
    "\n",
    "train_x, eval_x, train_y, eval_y = train_test_split(train_features, train_level,\n",
    "                                                    stratify = train_level,\n",
    "                                                    shuffle = True,\n",
    "                                                    test_size=TEST_SIZE, \n",
    "                                                    random_state=RANDOM_SEED)\n",
    "\n",
    "clf = LogisticRegression(random_state=42,\n",
    "                         solver='newton-cg',\n",
    "                         max_iter=1000,\n",
    "                         n_jobs=-1)\n",
    "\n",
    "clf.fit(train_x, train_y)\n",
    "clf_pred = clf.predict_proba(eval_x)"
   ]
  },
  {
   "cell_type": "code",
   "execution_count": 98,
   "metadata": {
    "ExecuteTime": {
     "end_time": "2021-05-17T17:57:49.681312Z",
     "start_time": "2021-05-17T17:57:49.664027Z"
    },
    "scrolled": true
   },
   "outputs": [
    {
     "name": "stdout",
     "output_type": "stream",
     "text": [
      "CV Accuracy score: 0.98696 \n",
      "CV Precision score: 0.54388 \n",
      "CV Recall score: 0.53272 \n",
      "CV F1 score: 0.53798 \n"
     ]
    },
    {
     "name": "stderr",
     "output_type": "stream",
     "text": [
      "/home/yyeon/anaconda3/envs/ML_Server/lib/python3.7/site-packages/sklearn/metrics/_classification.py:1221: UndefinedMetricWarning: Precision is ill-defined and being set to 0.0 in labels with no predicted samples. Use `zero_division` parameter to control this behavior.\n",
      "  _warn_prf(average, modifier, msg_start, len(result))\n"
     ]
    }
   ],
   "source": [
    "print(\"CV Accuracy score: {:<8.5f}\".format(accuracy_score(eval_y, np.argmax(clf_pred, axis=1))))\n",
    "print(\"CV Precision score: {:<8.5f}\".format(precision_score(eval_y, np.argmax(clf_pred, axis=1), average='macro')))\n",
    "print(\"CV Recall score: {:<8.5f}\".format(recall_score(eval_y, np.argmax(clf_pred, axis=1), average='macro')))\n",
    "print(\"CV F1 score: {:<8.5f}\".format(f1_score(eval_y, np.argmax(clf_pred, axis=1), average='macro')))"
   ]
  },
  {
   "cell_type": "code",
   "execution_count": 89,
   "metadata": {
    "ExecuteTime": {
     "end_time": "2021-05-17T17:56:31.845420Z",
     "start_time": "2021-05-17T17:56:31.827794Z"
    }
   },
   "outputs": [
    {
     "name": "stdout",
     "output_type": "stream",
     "text": [
      "              precision    recall  f1-score   support\n",
      "\n",
      "           0       0.88      0.89      0.88       823\n",
      "           1       0.99      0.99      0.99     15000\n",
      "           2       0.00      0.00      0.00         1\n",
      "           3       0.96      0.96      0.96       157\n",
      "           4       0.00      0.00      0.00         1\n",
      "           5       0.97      0.88      0.92       193\n",
      "           6       0.00      0.00      0.00         1\n",
      "\n",
      "    accuracy                           0.99     16176\n",
      "   macro avg       0.54      0.53      0.54     16176\n",
      "weighted avg       0.99      0.99      0.99     16176\n",
      "\n"
     ]
    },
    {
     "name": "stderr",
     "output_type": "stream",
     "text": [
      "/home/yyeon/anaconda3/envs/ML_Server/lib/python3.7/site-packages/sklearn/metrics/_classification.py:1221: UndefinedMetricWarning: Precision and F-score are ill-defined and being set to 0.0 in labels with no predicted samples. Use `zero_division` parameter to control this behavior.\n",
      "  _warn_prf(average, modifier, msg_start, len(result))\n"
     ]
    }
   ],
   "source": [
    "print(classification_report(eval_y, np.argmax(clf_pred, axis=1)))"
   ]
  },
  {
   "cell_type": "code",
   "execution_count": 24,
   "metadata": {
    "ExecuteTime": {
     "end_time": "2021-05-14T07:44:32.460743Z",
     "start_time": "2021-05-14T07:44:32.441385Z"
    },
    "scrolled": true
   },
   "outputs": [
    {
     "name": "stdout",
     "output_type": "stream",
     "text": [
      "[[0.    1.    0.    0.    0.    0.    0.   ]\n",
      " [0.995 0.    0.    0.    0.    0.005 0.   ]\n",
      " [0.061 0.929 0.001 0.002 0.    0.006 0.002]]\n"
     ]
    }
   ],
   "source": [
    "valid_df = pd.read_csv('./dataset/validation_sample.csv')\n",
    "valid_df['clean_log'] = valid_df['full_log'].map(lambda x: clean(x))\n",
    "# valid_df['first_word'] = valid_df['clean_log'].map(lambda x: truncated_string(x, 32))\n",
    "\n",
    "valid_text=valid_df['clean_log'].to_list()\n",
    "valid_features=vectorizer3.transform(valid_text)\n",
    "\n",
    "eval_results = clf.predict_proba(valid_features)\n",
    "\n",
    "np.set_printoptions(precision=3, suppress=True)\n",
    "print(eval_results)"
   ]
  },
  {
   "cell_type": "code",
   "execution_count": 27,
   "metadata": {
    "ExecuteTime": {
     "end_time": "2021-05-14T07:45:38.553301Z",
     "start_time": "2021-05-14T07:45:38.222631Z"
    }
   },
   "outputs": [],
   "source": [
    "results = clf.predict_proba(test_features)"
   ]
  },
  {
   "cell_type": "code",
   "execution_count": 28,
   "metadata": {
    "ExecuteTime": {
     "end_time": "2021-05-14T07:45:50.969468Z",
     "start_time": "2021-05-14T07:45:50.902780Z"
    }
   },
   "outputs": [],
   "source": [
    "final=np.argmax(results, axis=1)\n",
    "final[np.where(np.max(results, axis=1) < 0.9)] = 7"
   ]
  },
  {
   "cell_type": "code",
   "execution_count": 29,
   "metadata": {
    "ExecuteTime": {
     "end_time": "2021-05-14T07:45:51.661950Z",
     "start_time": "2021-05-14T07:45:51.432185Z"
    }
   },
   "outputs": [
    {
     "data": {
      "text/plain": [
       "Counter({0: 999679,\n",
       "         1: 396206,\n",
       "         3: 12952,\n",
       "         5: 6429,\n",
       "         7: 3557,\n",
       "         2: 34,\n",
       "         4: 34,\n",
       "         6: 25})"
      ]
     },
     "execution_count": 29,
     "metadata": {},
     "output_type": "execute_result"
    }
   ],
   "source": [
    "from collections import Counter\n",
    "Counter(final)"
   ]
  },
  {
   "cell_type": "code",
   "execution_count": 30,
   "metadata": {
    "ExecuteTime": {
     "end_time": "2021-05-14T07:45:55.600960Z",
     "start_time": "2021-05-14T07:45:55.491291Z"
    }
   },
   "outputs": [],
   "source": [
    "submission_df = pd.read_csv('./dataset/sample_submission.csv')\n",
    "submission_df['level'] = final"
   ]
  },
  {
   "cell_type": "code",
   "execution_count": 31,
   "metadata": {
    "ExecuteTime": {
     "end_time": "2021-05-14T07:45:57.638847Z",
     "start_time": "2021-05-14T07:45:56.347051Z"
    }
   },
   "outputs": [],
   "source": [
    "submission_df.to_csv('./logistic_baseline.csv', index=False)"
   ]
  },
  {
   "cell_type": "code",
   "execution_count": null,
   "metadata": {},
   "outputs": [],
   "source": []
  },
  {
   "cell_type": "code",
   "execution_count": null,
   "metadata": {},
   "outputs": [],
   "source": []
  },
  {
   "cell_type": "code",
   "execution_count": 61,
   "metadata": {
    "ExecuteTime": {
     "end_time": "2021-05-19T17:56:12.380883Z",
     "start_time": "2021-05-19T17:56:12.373861Z"
    }
   },
   "outputs": [],
   "source": [
    "param = {'boosting_type':'gbdt',\n",
    "         'max_depth':9, \n",
    "         'num_leaves':31,\n",
    "         'objective': 'multi_logloss',\n",
    "         'n_estimators':1000, \n",
    "         'learning_rate':0.01, \n",
    "         'subsample':0.8, \n",
    "         'colsample_bytree':0.8,\n",
    "#          'reg_alpha':0.5, \n",
    "#          'reg_lambda':1.0, \n",
    "         'random_state':42\n",
    "        }"
   ]
  },
  {
   "cell_type": "code",
   "execution_count": null,
   "metadata": {},
   "outputs": [],
   "source": []
  },
  {
   "cell_type": "code",
   "execution_count": 65,
   "metadata": {
    "ExecuteTime": {
     "end_time": "2021-05-19T17:59:21.391614Z",
     "start_time": "2021-05-19T17:59:21.386895Z"
    }
   },
   "outputs": [
    {
     "data": {
      "text/plain": [
       "1    49746\n",
       "0     3034\n",
       "5      602\n",
       "3      520\n",
       "6        5\n",
       "4        2\n",
       "2        1\n",
       "Name: new_level, dtype: int64"
      ]
     },
     "execution_count": 65,
     "metadata": {},
     "output_type": "execute_result"
    }
   ],
   "source": [
    "level.value_counts()"
   ]
  },
  {
   "cell_type": "code",
   "execution_count": null,
   "metadata": {},
   "outputs": [],
   "source": []
  },
  {
   "cell_type": "code",
   "execution_count": 64,
   "metadata": {
    "ExecuteTime": {
     "end_time": "2021-05-19T17:59:06.723988Z",
     "start_time": "2021-05-19T17:58:59.746581Z"
    },
    "scrolled": false
   },
   "outputs": [
    {
     "name": "stderr",
     "output_type": "stream",
     "text": [
      "/home/yyeon/anaconda3/envs/ML_Server/lib/python3.7/site-packages/sklearn/model_selection/_split.py:672: UserWarning: The least populated class in y has only 1 members, which is less than n_splits=4.\n",
      "  % (min_groups, self.n_splits)), UserWarning)\n"
     ]
    },
    {
     "name": "stdout",
     "output_type": "stream",
     "text": [
      "\n",
      "fold num_: 0\n",
      "Training until validation scores don't improve for 50 rounds\n",
      "[50]\ttraining's multi_logloss: 0.0884352\tvalid_1's multi_logloss: 0.0883127\n",
      "[100]\ttraining's multi_logloss: 0.0446754\tvalid_1's multi_logloss: 0.0447331\n",
      "[150]\ttraining's multi_logloss: 0.0280478\tvalid_1's multi_logloss: 0.0283854\n",
      "[200]\ttraining's multi_logloss: 0.0208695\tvalid_1's multi_logloss: 0.0215463\n",
      "[250]\ttraining's multi_logloss: 0.0175633\tvalid_1's multi_logloss: 0.0187293\n",
      "[300]\ttraining's multi_logloss: 0.0159149\tvalid_1's multi_logloss: 0.017542\n",
      "[350]\ttraining's multi_logloss: 0.0149195\tvalid_1's multi_logloss: 0.0170715\n",
      "[400]\ttraining's multi_logloss: 0.0141598\tvalid_1's multi_logloss: 0.0170017\n",
      "Early stopping, best iteration is:\n",
      "[379]\ttraining's multi_logloss: 0.0144559\tvalid_1's multi_logloss: 0.0169851\n",
      "\n",
      "fold num_: 1\n"
     ]
    },
    {
     "ename": "ValueError",
     "evalue": "y contains previously unseen labels: [2]",
     "output_type": "error",
     "traceback": [
      "\u001b[0;31m---------------------------------------------------------------------------\u001b[0m",
      "\u001b[0;31mValueError\u001b[0m                                Traceback (most recent call last)",
      "\u001b[0;32m<ipython-input-64-a4c61416ea25>\u001b[0m in \u001b[0;36m<module>\u001b[0;34m()\u001b[0m\n\u001b[1;32m     20\u001b[0m             \u001b[0meval_set\u001b[0m\u001b[0;34m=\u001b[0m\u001b[0;34m[\u001b[0m\u001b[0;34m(\u001b[0m\u001b[0mX_train\u001b[0m\u001b[0;34m,\u001b[0m \u001b[0my_train\u001b[0m\u001b[0;34m)\u001b[0m\u001b[0;34m,\u001b[0m \u001b[0;34m(\u001b[0m\u001b[0mX_valid\u001b[0m\u001b[0;34m,\u001b[0m \u001b[0my_valid\u001b[0m\u001b[0;34m)\u001b[0m\u001b[0;34m]\u001b[0m\u001b[0;34m,\u001b[0m\u001b[0;34m\u001b[0m\u001b[0;34m\u001b[0m\u001b[0m\n\u001b[1;32m     21\u001b[0m             \u001b[0mearly_stopping_rounds\u001b[0m\u001b[0;34m=\u001b[0m\u001b[0;36m50\u001b[0m\u001b[0;34m,\u001b[0m\u001b[0;34m\u001b[0m\u001b[0;34m\u001b[0m\u001b[0m\n\u001b[0;32m---> 22\u001b[0;31m             verbose=50)\n\u001b[0m\u001b[1;32m     23\u001b[0m \u001b[0;34m\u001b[0m\u001b[0m\n\u001b[1;32m     24\u001b[0m     \u001b[0moof_lgb\u001b[0m\u001b[0;34m[\u001b[0m\u001b[0mval_idx\u001b[0m\u001b[0;34m]\u001b[0m \u001b[0;34m=\u001b[0m \u001b[0mclf\u001b[0m\u001b[0;34m.\u001b[0m\u001b[0mpredict_proba\u001b[0m\u001b[0;34m(\u001b[0m\u001b[0mX_valid\u001b[0m\u001b[0;34m,\u001b[0m \u001b[0mnum_iteration\u001b[0m\u001b[0;34m=\u001b[0m\u001b[0mclf\u001b[0m\u001b[0;34m.\u001b[0m\u001b[0mbest_iteration_\u001b[0m\u001b[0;34m)\u001b[0m\u001b[0;34m\u001b[0m\u001b[0;34m\u001b[0m\u001b[0m\n",
      "\u001b[0;32m/home/yyeon/anaconda3/envs/ML_Server/lib/python3.7/site-packages/lightgbm/sklearn.py\u001b[0m in \u001b[0;36mfit\u001b[0;34m(self, X, y, sample_weight, init_score, eval_set, eval_names, eval_sample_weight, eval_class_weight, eval_init_score, eval_metric, early_stopping_rounds, verbose, feature_name, categorical_feature, callbacks, init_model)\u001b[0m\n\u001b[1;32m    855\u001b[0m                     \u001b[0mvalid_sets\u001b[0m\u001b[0;34m[\u001b[0m\u001b[0mi\u001b[0m\u001b[0;34m]\u001b[0m \u001b[0;34m=\u001b[0m \u001b[0;34m(\u001b[0m\u001b[0mvalid_x\u001b[0m\u001b[0;34m,\u001b[0m \u001b[0m_y\u001b[0m\u001b[0;34m)\u001b[0m\u001b[0;34m\u001b[0m\u001b[0;34m\u001b[0m\u001b[0m\n\u001b[1;32m    856\u001b[0m                 \u001b[0;32melse\u001b[0m\u001b[0;34m:\u001b[0m\u001b[0;34m\u001b[0m\u001b[0;34m\u001b[0m\u001b[0m\n\u001b[0;32m--> 857\u001b[0;31m                     \u001b[0mvalid_sets\u001b[0m\u001b[0;34m[\u001b[0m\u001b[0mi\u001b[0m\u001b[0;34m]\u001b[0m \u001b[0;34m=\u001b[0m \u001b[0;34m(\u001b[0m\u001b[0mvalid_x\u001b[0m\u001b[0;34m,\u001b[0m \u001b[0mself\u001b[0m\u001b[0;34m.\u001b[0m\u001b[0m_le\u001b[0m\u001b[0;34m.\u001b[0m\u001b[0mtransform\u001b[0m\u001b[0;34m(\u001b[0m\u001b[0mvalid_y\u001b[0m\u001b[0;34m)\u001b[0m\u001b[0;34m)\u001b[0m\u001b[0;34m\u001b[0m\u001b[0;34m\u001b[0m\u001b[0m\n\u001b[0m\u001b[1;32m    858\u001b[0m \u001b[0;34m\u001b[0m\u001b[0m\n\u001b[1;32m    859\u001b[0m         super().fit(X, _y, sample_weight=sample_weight, init_score=init_score, eval_set=valid_sets,\n",
      "\u001b[0;32m/home/yyeon/anaconda3/envs/ML_Server/lib/python3.7/site-packages/sklearn/preprocessing/_label.py\u001b[0m in \u001b[0;36mtransform\u001b[0;34m(self, y)\u001b[0m\n\u001b[1;32m    275\u001b[0m             \u001b[0;32mreturn\u001b[0m \u001b[0mnp\u001b[0m\u001b[0;34m.\u001b[0m\u001b[0marray\u001b[0m\u001b[0;34m(\u001b[0m\u001b[0;34m[\u001b[0m\u001b[0;34m]\u001b[0m\u001b[0;34m)\u001b[0m\u001b[0;34m\u001b[0m\u001b[0;34m\u001b[0m\u001b[0m\n\u001b[1;32m    276\u001b[0m \u001b[0;34m\u001b[0m\u001b[0m\n\u001b[0;32m--> 277\u001b[0;31m         \u001b[0m_\u001b[0m\u001b[0;34m,\u001b[0m \u001b[0my\u001b[0m \u001b[0;34m=\u001b[0m \u001b[0m_encode\u001b[0m\u001b[0;34m(\u001b[0m\u001b[0my\u001b[0m\u001b[0;34m,\u001b[0m \u001b[0muniques\u001b[0m\u001b[0;34m=\u001b[0m\u001b[0mself\u001b[0m\u001b[0;34m.\u001b[0m\u001b[0mclasses_\u001b[0m\u001b[0;34m,\u001b[0m \u001b[0mencode\u001b[0m\u001b[0;34m=\u001b[0m\u001b[0;32mTrue\u001b[0m\u001b[0;34m)\u001b[0m\u001b[0;34m\u001b[0m\u001b[0;34m\u001b[0m\u001b[0m\n\u001b[0m\u001b[1;32m    278\u001b[0m         \u001b[0;32mreturn\u001b[0m \u001b[0my\u001b[0m\u001b[0;34m\u001b[0m\u001b[0;34m\u001b[0m\u001b[0m\n\u001b[1;32m    279\u001b[0m \u001b[0;34m\u001b[0m\u001b[0m\n",
      "\u001b[0;32m/home/yyeon/anaconda3/envs/ML_Server/lib/python3.7/site-packages/sklearn/preprocessing/_label.py\u001b[0m in \u001b[0;36m_encode\u001b[0;34m(values, uniques, encode, check_unknown)\u001b[0m\n\u001b[1;32m    120\u001b[0m     \u001b[0;32melse\u001b[0m\u001b[0;34m:\u001b[0m\u001b[0;34m\u001b[0m\u001b[0;34m\u001b[0m\u001b[0m\n\u001b[1;32m    121\u001b[0m         return _encode_numpy(values, uniques, encode,\n\u001b[0;32m--> 122\u001b[0;31m                              check_unknown=check_unknown)\n\u001b[0m\u001b[1;32m    123\u001b[0m \u001b[0;34m\u001b[0m\u001b[0m\n\u001b[1;32m    124\u001b[0m \u001b[0;34m\u001b[0m\u001b[0m\n",
      "\u001b[0;32m/home/yyeon/anaconda3/envs/ML_Server/lib/python3.7/site-packages/sklearn/preprocessing/_label.py\u001b[0m in \u001b[0;36m_encode_numpy\u001b[0;34m(values, uniques, encode, check_unknown)\u001b[0m\n\u001b[1;32m     49\u001b[0m             \u001b[0;32mif\u001b[0m \u001b[0mdiff\u001b[0m\u001b[0;34m:\u001b[0m\u001b[0;34m\u001b[0m\u001b[0;34m\u001b[0m\u001b[0m\n\u001b[1;32m     50\u001b[0m                 raise ValueError(\"y contains previously unseen labels: %s\"\n\u001b[0;32m---> 51\u001b[0;31m                                  % str(diff))\n\u001b[0m\u001b[1;32m     52\u001b[0m         \u001b[0mencoded\u001b[0m \u001b[0;34m=\u001b[0m \u001b[0mnp\u001b[0m\u001b[0;34m.\u001b[0m\u001b[0msearchsorted\u001b[0m\u001b[0;34m(\u001b[0m\u001b[0muniques\u001b[0m\u001b[0;34m,\u001b[0m \u001b[0mvalues\u001b[0m\u001b[0;34m)\u001b[0m\u001b[0;34m\u001b[0m\u001b[0;34m\u001b[0m\u001b[0m\n\u001b[1;32m     53\u001b[0m         \u001b[0;32mreturn\u001b[0m \u001b[0muniques\u001b[0m\u001b[0;34m,\u001b[0m \u001b[0mencoded\u001b[0m\u001b[0;34m\u001b[0m\u001b[0;34m\u001b[0m\u001b[0m\n",
      "\u001b[0;31mValueError\u001b[0m: y contains previously unseen labels: [2]"
     ]
    }
   ],
   "source": [
    "oof_lgb = np.zeros((len(new_train), 7))\n",
    "lgb_pred = np.zeros((len(test_df), 7))\n",
    "eval_results = np.zeros((3, 7))\n",
    "\n",
    "valid_df = pd.read_csv('./dataset/validation_sample.csv')\n",
    "valid_df['clean_log'] = valid_df['full_log'].map(lambda x: clean(x))\n",
    "valid_text=valid_df['clean_log'].to_list()\n",
    "valid_features=vectorizer3.transform(valid_text)\n",
    "\n",
    "\n",
    "skf = StratifiedKFold(n_splits=4, shuffle=True, random_state=42)\n",
    "\n",
    "for fold_, (trn_idx, val_idx) in enumerate(skf.split(train_features, level)):\n",
    "    print(\"\\nfold num_: {}\".format(fold_))\n",
    "    y_train, y_valid = level[trn_idx], level[val_idx]\n",
    "    X_train, X_valid = train_features[trn_idx], train_features[val_idx]\n",
    "    \n",
    "    clf = LGBMClassifier(**param)\n",
    "    clf.fit(X_train, y_train, \n",
    "            eval_set=[(X_train, y_train), (X_valid, y_valid)], \n",
    "            early_stopping_rounds=50,\n",
    "            verbose=50)\n",
    "    \n",
    "    oof_lgb[val_idx] = clf.predict_proba(X_valid, num_iteration=clf.best_iteration_)   \n",
    "    eval_results += clf.predict_proba(valid_features, num_iteration=clf.best_iteration_)\n",
    "#     lgb_pred += clf.predict_proba(test_features, num_iteration=clf.best_iteration_)\n",
    "\n",
    "eval_results /= 2\n",
    "# lgb_pred /= 3    \n",
    "print('\\nCross Validation Is Complete')\n",
    "print(\"CV Accuracy score: {:<8.5f}\".format(accuracy_score(train_level, np.argmax(oof_lgb, axis=1))))\n",
    "print(\"CV Precision score: {:<8.5f}\".format(precision_score(train_level, np.argmax(oof_lgb, axis=1), average='macro')))\n",
    "print(\"CV Recall score: {:<8.5f}\".format(recall_score(train_level, np.argmax(oof_lgb, axis=1), average='macro')))\n",
    "print(\"CV F1 score: {:<8.5f}\".format(f1_score(train_level, np.argmax(oof_lgb, axis=1), average='macro')))"
   ]
  },
  {
   "cell_type": "code",
   "execution_count": 67,
   "metadata": {
    "ExecuteTime": {
     "end_time": "2021-05-14T08:57:04.076462Z",
     "start_time": "2021-05-14T08:57:04.071462Z"
    }
   },
   "outputs": [
    {
     "name": "stdout",
     "output_type": "stream",
     "text": [
      "[[0.279 0.721 0.    0.    0.    0.    0.   ]\n",
      " [0.08  0.025 0.    0.059 0.    0.837 0.   ]\n",
      " [0.931 0.001 0.    0.    0.    0.068 0.   ]]\n"
     ]
    }
   ],
   "source": [
    "np.set_printoptions(precision=3, suppress=True)\n",
    "print(eval_results)"
   ]
  },
  {
   "cell_type": "code",
   "execution_count": 68,
   "metadata": {
    "ExecuteTime": {
     "end_time": "2021-05-14T08:57:20.131032Z",
     "start_time": "2021-05-14T08:57:20.036524Z"
    }
   },
   "outputs": [],
   "source": [
    "results=np.argmax(lgb_pred, axis=1)\n",
    "results[np.where(np.max(lgb_pred, axis=1) < 0.9)] = 7"
   ]
  },
  {
   "cell_type": "code",
   "execution_count": 69,
   "metadata": {
    "ExecuteTime": {
     "end_time": "2021-05-14T08:57:20.640328Z",
     "start_time": "2021-05-14T08:57:20.392302Z"
    }
   },
   "outputs": [
    {
     "data": {
      "text/plain": [
       "Counter({0: 997019, 1: 395014, 3: 12882, 5: 6253, 7: 7711, 2: 37})"
      ]
     },
     "execution_count": 69,
     "metadata": {},
     "output_type": "execute_result"
    }
   ],
   "source": [
    "from collections import Counter\n",
    "\n",
    "Counter(results)"
   ]
  },
  {
   "cell_type": "code",
   "execution_count": 70,
   "metadata": {
    "ExecuteTime": {
     "end_time": "2021-05-14T08:57:21.079885Z",
     "start_time": "2021-05-14T08:57:20.975856Z"
    }
   },
   "outputs": [],
   "source": [
    "submission_df = pd.read_csv('./dataset/sample_submission.csv')\n",
    "submission_df['level'] = results"
   ]
  },
  {
   "cell_type": "code",
   "execution_count": 71,
   "metadata": {
    "ExecuteTime": {
     "end_time": "2021-05-14T08:57:21.546108Z",
     "start_time": "2021-05-14T08:57:21.539773Z"
    }
   },
   "outputs": [
    {
     "data": {
      "text/html": [
       "<div>\n",
       "<style scoped>\n",
       "    .dataframe tbody tr th:only-of-type {\n",
       "        vertical-align: middle;\n",
       "    }\n",
       "\n",
       "    .dataframe tbody tr th {\n",
       "        vertical-align: top;\n",
       "    }\n",
       "\n",
       "    .dataframe thead th {\n",
       "        text-align: right;\n",
       "    }\n",
       "</style>\n",
       "<table border=\"1\" class=\"dataframe\">\n",
       "  <thead>\n",
       "    <tr style=\"text-align: right;\">\n",
       "      <th></th>\n",
       "      <th>id</th>\n",
       "      <th>level</th>\n",
       "    </tr>\n",
       "  </thead>\n",
       "  <tbody>\n",
       "    <tr>\n",
       "      <th>0</th>\n",
       "      <td>1000000</td>\n",
       "      <td>0</td>\n",
       "    </tr>\n",
       "    <tr>\n",
       "      <th>1</th>\n",
       "      <td>1000001</td>\n",
       "      <td>0</td>\n",
       "    </tr>\n",
       "    <tr>\n",
       "      <th>2</th>\n",
       "      <td>1000002</td>\n",
       "      <td>1</td>\n",
       "    </tr>\n",
       "    <tr>\n",
       "      <th>3</th>\n",
       "      <td>1000003</td>\n",
       "      <td>0</td>\n",
       "    </tr>\n",
       "    <tr>\n",
       "      <th>4</th>\n",
       "      <td>1000004</td>\n",
       "      <td>1</td>\n",
       "    </tr>\n",
       "  </tbody>\n",
       "</table>\n",
       "</div>"
      ],
      "text/plain": [
       "        id  level\n",
       "0  1000000      0\n",
       "1  1000001      0\n",
       "2  1000002      1\n",
       "3  1000003      0\n",
       "4  1000004      1"
      ]
     },
     "execution_count": 71,
     "metadata": {},
     "output_type": "execute_result"
    }
   ],
   "source": [
    "submission_df.head()"
   ]
  },
  {
   "cell_type": "code",
   "execution_count": 72,
   "metadata": {
    "ExecuteTime": {
     "end_time": "2021-05-14T08:57:30.207948Z",
     "start_time": "2021-05-14T08:57:28.833923Z"
    }
   },
   "outputs": [],
   "source": [
    "submission_df.to_csv('./lgb_final2.csv', index=False)"
   ]
  },
  {
   "cell_type": "code",
   "execution_count": null,
   "metadata": {},
   "outputs": [],
   "source": []
  }
 ],
 "metadata": {
  "kernelspec": {
   "display_name": "ML_Server",
   "language": "python",
   "name": "ml_server"
  },
  "language_info": {
   "codemirror_mode": {
    "name": "ipython",
    "version": 3
   },
   "file_extension": ".py",
   "mimetype": "text/x-python",
   "name": "python",
   "nbconvert_exporter": "python",
   "pygments_lexer": "ipython3",
   "version": "3.7.9"
  },
  "latex_envs": {
   "LaTeX_envs_menu_present": true,
   "autoclose": false,
   "autocomplete": true,
   "bibliofile": "biblio.bib",
   "cite_by": "apalike",
   "current_citInitial": 1,
   "eqLabelWithNumbers": true,
   "eqNumInitial": 1,
   "hotkeys": {
    "equation": "Ctrl-E",
    "itemize": "Ctrl-I"
   },
   "labels_anchors": false,
   "latex_user_defs": false,
   "report_style_numbering": false,
   "user_envs_cfg": false
  },
  "toc": {
   "base_numbering": 1,
   "nav_menu": {},
   "number_sections": true,
   "sideBar": true,
   "skip_h1_title": false,
   "title_cell": "Table of Contents",
   "title_sidebar": "Contents",
   "toc_cell": false,
   "toc_position": {},
   "toc_section_display": true,
   "toc_window_display": true
  }
 },
 "nbformat": 4,
 "nbformat_minor": 4
}
