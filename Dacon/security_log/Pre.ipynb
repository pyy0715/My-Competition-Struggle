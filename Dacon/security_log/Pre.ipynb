{
 "cells": [
  {
   "cell_type": "code",
   "execution_count": 1,
   "metadata": {
    "ExecuteTime": {
     "end_time": "2021-05-19T17:26:34.832649Z",
     "start_time": "2021-05-19T17:26:34.286740Z"
    }
   },
   "outputs": [],
   "source": [
    "import os\n",
    "import re\n",
    "import pandas as pd\n",
    "\n",
    "from tokenizers import BertWordPieceTokenizer, SentencePieceBPETokenizer\n",
    "from transformers import BertTokenizerFast\n",
    "\n",
    "from tqdm import tqdm, tqdm_pandas"
   ]
  },
  {
   "cell_type": "code",
   "execution_count": 2,
   "metadata": {
    "ExecuteTime": {
     "end_time": "2021-05-19T17:26:41.675918Z",
     "start_time": "2021-05-19T17:26:34.833547Z"
    }
   },
   "outputs": [],
   "source": [
    "train_df = pd.read_csv('./dataset/train.csv')\n",
    "test_df = pd.read_csv('./dataset/test.csv')"
   ]
  },
  {
   "cell_type": "markdown",
   "metadata": {},
   "source": [
    "## Preprocessing"
   ]
  },
  {
   "cell_type": "code",
   "execution_count": 3,
   "metadata": {
    "ExecuteTime": {
     "end_time": "2021-05-19T17:26:41.680182Z",
     "start_time": "2021-05-19T17:26:41.677068Z"
    }
   },
   "outputs": [],
   "source": [
    "def clean(x):\n",
    "    x = x.lower()\n",
    "    x = re.sub(f'[0-9]', 'N', x)\n",
    "    x = re.sub(r'(\\\\n)', ' ', x)\n",
    "    x = re.sub(r',', ' ', x)\n",
    "    x = re.sub(r'[^a-zㄱ-ㅣ가-힣\\s]+', '',x)\n",
    "    x = re.sub(r'N', '', x)\n",
    "    x = re.sub(r'jan|feb|oct|dec|mar|nov|sep', '', x)\n",
    "    x = re.sub(r'\\s+', ' ', x)\n",
    "    return x.strip()"
   ]
  },
  {
   "cell_type": "code",
   "execution_count": 4,
   "metadata": {
    "ExecuteTime": {
     "end_time": "2021-05-19T17:28:04.556358Z",
     "start_time": "2021-05-19T17:26:43.866536Z"
    }
   },
   "outputs": [
    {
     "name": "stdout",
     "output_type": "stream",
     "text": [
      "CPU times: user 1min 20s, sys: 314 ms, total: 1min 20s\n",
      "Wall time: 1min 20s\n"
     ]
    }
   ],
   "source": [
    "%%time\n",
    "\n",
    "train_df['clean_log'] = train_df['full_log'].map(lambda x: clean(x))\n",
    "test_df['clean_log'] = test_df['full_log'].map(lambda x: clean(x))"
   ]
  },
  {
   "cell_type": "code",
   "execution_count": 5,
   "metadata": {
    "ExecuteTime": {
     "end_time": "2021-05-19T17:28:04.571583Z",
     "start_time": "2021-05-19T17:28:04.558342Z"
    }
   },
   "outputs": [
    {
     "data": {
      "text/html": [
       "<div>\n",
       "<style scoped>\n",
       "    .dataframe tbody tr th:only-of-type {\n",
       "        vertical-align: middle;\n",
       "    }\n",
       "\n",
       "    .dataframe tbody tr th {\n",
       "        vertical-align: top;\n",
       "    }\n",
       "\n",
       "    .dataframe thead th {\n",
       "        text-align: right;\n",
       "    }\n",
       "</style>\n",
       "<table border=\"1\" class=\"dataframe\">\n",
       "  <thead>\n",
       "    <tr style=\"text-align: right;\">\n",
       "      <th></th>\n",
       "      <th>id</th>\n",
       "      <th>level</th>\n",
       "      <th>full_log</th>\n",
       "      <th>clean_log</th>\n",
       "    </tr>\n",
       "  </thead>\n",
       "  <tbody>\n",
       "    <tr>\n",
       "      <th>0</th>\n",
       "      <td>0</td>\n",
       "      <td>0</td>\n",
       "      <td>Sep 24 10:02:22 localhost kibana: {\"type\":\"err...</td>\n",
       "      <td>localhost kibana typeerror timestamptz tagswar...</td>\n",
       "    </tr>\n",
       "    <tr>\n",
       "      <th>1</th>\n",
       "      <td>1</td>\n",
       "      <td>0</td>\n",
       "      <td>Feb  8 16:21:00 localhost logstash: [2021-02-0...</td>\n",
       "      <td>localhost logstash t info logstashoutputselast...</td>\n",
       "    </tr>\n",
       "    <tr>\n",
       "      <th>2</th>\n",
       "      <td>2</td>\n",
       "      <td>0</td>\n",
       "      <td>Jan 13 01:50:40 localhost kibana: {\"type\":\"err...</td>\n",
       "      <td>localhost kibana typeerror timestamptz tagswar...</td>\n",
       "    </tr>\n",
       "    <tr>\n",
       "      <th>3</th>\n",
       "      <td>3</td>\n",
       "      <td>0</td>\n",
       "      <td>Jan  4 10:18:31 localhost kibana: {\"type\":\"err...</td>\n",
       "      <td>localhost kibana typeerror timestamptz tagswar...</td>\n",
       "    </tr>\n",
       "    <tr>\n",
       "      <th>4</th>\n",
       "      <td>4</td>\n",
       "      <td>1</td>\n",
       "      <td>type=SYSCALL msg=audit(1603094402.016:52981): ...</td>\n",
       "      <td>typesyscall msgaudit archce syscall successyes...</td>\n",
       "    </tr>\n",
       "  </tbody>\n",
       "</table>\n",
       "</div>"
      ],
      "text/plain": [
       "   id  level                                           full_log  \\\n",
       "0   0      0  Sep 24 10:02:22 localhost kibana: {\"type\":\"err...   \n",
       "1   1      0  Feb  8 16:21:00 localhost logstash: [2021-02-0...   \n",
       "2   2      0  Jan 13 01:50:40 localhost kibana: {\"type\":\"err...   \n",
       "3   3      0  Jan  4 10:18:31 localhost kibana: {\"type\":\"err...   \n",
       "4   4      1  type=SYSCALL msg=audit(1603094402.016:52981): ...   \n",
       "\n",
       "                                           clean_log  \n",
       "0  localhost kibana typeerror timestamptz tagswar...  \n",
       "1  localhost logstash t info logstashoutputselast...  \n",
       "2  localhost kibana typeerror timestamptz tagswar...  \n",
       "3  localhost kibana typeerror timestamptz tagswar...  \n",
       "4  typesyscall msgaudit archce syscall successyes...  "
      ]
     },
     "execution_count": 5,
     "metadata": {},
     "output_type": "execute_result"
    }
   ],
   "source": [
    "train_df.head()"
   ]
  },
  {
   "cell_type": "code",
   "execution_count": 11,
   "metadata": {
    "ExecuteTime": {
     "end_time": "2021-05-19T17:29:20.464924Z",
     "start_time": "2021-05-19T17:29:20.111222Z"
    }
   },
   "outputs": [],
   "source": [
    "import numpy as np \n",
    "\n",
    "new_train = train_df.pivot_table(index='clean_log',\n",
    "                                 values='id',\n",
    "                                 columns='level',\n",
    "                                 aggfunc='count',\n",
    "                                 fill_value = 0).reset_index()\n",
    "\n",
    "new_train['total'] = np.sum(new_train.iloc[:,1:], axis=1)\n",
    "new_train.iloc[:,1:-1] = new_train.iloc[:,1:-1].div(new_train.iloc[:,-1], axis=0)\n",
    "new_train = new_train.drop(['total'], axis=1)"
   ]
  },
  {
   "cell_type": "code",
   "execution_count": 6,
   "metadata": {
    "ExecuteTime": {
     "end_time": "2021-05-17T18:04:43.189196Z",
     "start_time": "2021-05-17T18:04:43.133532Z"
    }
   },
   "outputs": [],
   "source": [
    "with open('./vocab/corpus.txt', 'w') as f:\n",
    "    for sent in train_df['clean_log']:\n",
    "        f.write(sent+'\\n')"
   ]
  },
  {
   "cell_type": "markdown",
   "metadata": {},
   "source": [
    "## Tokenize"
   ]
  },
  {
   "cell_type": "code",
   "execution_count": 9,
   "metadata": {
    "ExecuteTime": {
     "end_time": "2021-05-17T18:05:03.277003Z",
     "start_time": "2021-05-17T18:05:01.327695Z"
    }
   },
   "outputs": [
    {
     "data": {
      "text/plain": [
       "['./vocab/bert_version_1-vocab.txt']"
      ]
     },
     "execution_count": 9,
     "metadata": {},
     "output_type": "execute_result"
    }
   ],
   "source": [
    "bert_wordpiece_tokenizer = BertWordPieceTokenizer()\n",
    "\n",
    "bert_wordpiece_tokenizer.train(\n",
    "    files = './vocab/corpus.txt',\n",
    "    vocab_size = 30000,\n",
    "    min_frequency = 2,\n",
    "    special_tokens = [\"[PAD]\", \"[UNK]\", \"[CLS]\", \"[SEP]\", \"[MASK]\"],\n",
    "    show_progress = True,\n",
    "    wordpieces_prefix = \"##\",\n",
    ")\n",
    "\n",
    "bert_wordpiece_tokenizer.save_model(\n",
    "    directory='./vocab/',\n",
    "    prefix = 'bert_version_1'\n",
    ")"
   ]
  },
  {
   "cell_type": "code",
   "execution_count": 10,
   "metadata": {
    "ExecuteTime": {
     "end_time": "2021-05-17T18:05:03.692940Z",
     "start_time": "2021-05-17T18:05:03.668561Z"
    }
   },
   "outputs": [
    {
     "name": "stdout",
     "output_type": "stream",
     "text": [
      "30000\n"
     ]
    }
   ],
   "source": [
    "vocab = bert_wordpiece_tokenizer.get_vocab()\n",
    "print(len(vocab))"
   ]
  },
  {
   "cell_type": "code",
   "execution_count": 11,
   "metadata": {
    "ExecuteTime": {
     "end_time": "2021-05-17T18:05:11.014344Z",
     "start_time": "2021-05-17T18:05:10.971470Z"
    }
   },
   "outputs": [],
   "source": [
    "tokenizer = BertTokenizerFast(vocab_file = './vocab/bert_version_1-vocab.txt')"
   ]
  },
  {
   "cell_type": "markdown",
   "metadata": {},
   "source": [
    "## Encoding"
   ]
  },
  {
   "cell_type": "code",
   "execution_count": 12,
   "metadata": {
    "ExecuteTime": {
     "end_time": "2021-05-17T18:05:17.624374Z",
     "start_time": "2021-05-17T18:05:16.664125Z"
    }
   },
   "outputs": [],
   "source": [
    "test_df[['id', 'clean_log']].to_pickle('./dataset/clean_test.pkl')"
   ]
  },
  {
   "cell_type": "code",
   "execution_count": 13,
   "metadata": {
    "ExecuteTime": {
     "end_time": "2021-05-17T18:05:19.669909Z",
     "start_time": "2021-05-17T18:05:18.983715Z"
    }
   },
   "outputs": [],
   "source": [
    "test_drop_df = test_df[['clean_log']].drop_duplicates().reset_index(drop=True)"
   ]
  },
  {
   "cell_type": "code",
   "execution_count": 14,
   "metadata": {
    "ExecuteTime": {
     "end_time": "2021-05-17T18:05:20.035015Z",
     "start_time": "2021-05-17T18:05:20.032245Z"
    }
   },
   "outputs": [
    {
     "name": "stdout",
     "output_type": "stream",
     "text": [
      "(124092, 1)\n"
     ]
    }
   ],
   "source": [
    "print(test_drop_df.shape)"
   ]
  },
  {
   "cell_type": "code",
   "execution_count": 15,
   "metadata": {
    "ExecuteTime": {
     "end_time": "2021-05-17T18:05:26.529460Z",
     "start_time": "2021-05-17T18:05:26.526186Z"
    }
   },
   "outputs": [],
   "source": [
    "def Encoding(x):\n",
    "    output = tokenizer.encode_plus(x,                       \n",
    "                                   truncation=True,\n",
    "                                   max_length = 256,\n",
    "                                   padding='max_length',\n",
    "                                   add_special_tokens=True,\n",
    "                                   return_token_type_ids=False,\n",
    "                                   return_attention_mask=True)\n",
    "    \n",
    "    return pd.Series([output['input_ids'], output['attention_mask']])"
   ]
  },
  {
   "cell_type": "code",
   "execution_count": 16,
   "metadata": {
    "ExecuteTime": {
     "end_time": "2021-05-17T18:05:49.381224Z",
     "start_time": "2021-05-17T18:05:29.191737Z"
    }
   },
   "outputs": [
    {
     "name": "stderr",
     "output_type": "stream",
     "text": [
      "100%|██████████| 53917/53917 [00:20<00:00, 2673.66it/s]\n"
     ]
    }
   ],
   "source": [
    "tqdm.pandas()\n",
    "train_df[['input_ids', 'attention_mask']] = train_df['clean_log'].progress_apply(lambda x: Encoding(x))"
   ]
  },
  {
   "cell_type": "code",
   "execution_count": 17,
   "metadata": {
    "ExecuteTime": {
     "end_time": "2021-05-17T18:06:38.914438Z",
     "start_time": "2021-05-17T18:05:50.357429Z"
    },
    "scrolled": true
   },
   "outputs": [
    {
     "name": "stderr",
     "output_type": "stream",
     "text": [
      "100%|██████████| 124092/124092 [00:48<00:00, 2556.55it/s]\n"
     ]
    }
   ],
   "source": [
    "tqdm.pandas()\n",
    "test_drop_df[['input_ids', 'attention_mask']] = test_drop_df['clean_log'].progress_apply(lambda x: Encoding(x))"
   ]
  },
  {
   "cell_type": "markdown",
   "metadata": {},
   "source": [
    "## Save"
   ]
  },
  {
   "cell_type": "code",
   "execution_count": 18,
   "metadata": {
    "ExecuteTime": {
     "end_time": "2021-05-17T18:06:42.588231Z",
     "start_time": "2021-05-17T18:06:41.427937Z"
    }
   },
   "outputs": [],
   "source": [
    "train_df[['level', 'input_ids', 'attention_mask']].to_pickle('./dataset/clean_train.pkl')\n",
    "test_drop_df[['input_ids', 'attention_mask']].to_pickle('./dataset/clean_drop_test.pkl')"
   ]
  },
  {
   "cell_type": "code",
   "execution_count": null,
   "metadata": {},
   "outputs": [],
   "source": []
  }
 ],
 "metadata": {
  "kernelspec": {
   "display_name": "DL_Server",
   "language": "python",
   "name": "dl_server"
  },
  "language_info": {
   "codemirror_mode": {
    "name": "ipython",
    "version": 3
   },
   "file_extension": ".py",
   "mimetype": "text/x-python",
   "name": "python",
   "nbconvert_exporter": "python",
   "pygments_lexer": "ipython3",
   "version": "3.8.8"
  },
  "latex_envs": {
   "LaTeX_envs_menu_present": true,
   "autoclose": false,
   "autocomplete": true,
   "bibliofile": "biblio.bib",
   "cite_by": "apalike",
   "current_citInitial": 1,
   "eqLabelWithNumbers": true,
   "eqNumInitial": 1,
   "hotkeys": {
    "equation": "Ctrl-E",
    "itemize": "Ctrl-I"
   },
   "labels_anchors": false,
   "latex_user_defs": false,
   "report_style_numbering": false,
   "user_envs_cfg": false
  },
  "toc": {
   "base_numbering": 1,
   "nav_menu": {},
   "number_sections": true,
   "sideBar": true,
   "skip_h1_title": false,
   "title_cell": "Table of Contents",
   "title_sidebar": "Contents",
   "toc_cell": false,
   "toc_position": {},
   "toc_section_display": true,
   "toc_window_display": false
  }
 },
 "nbformat": 4,
 "nbformat_minor": 4
}
