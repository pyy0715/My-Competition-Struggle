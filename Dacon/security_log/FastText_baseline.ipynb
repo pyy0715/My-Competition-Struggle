{
 "cells": [
  {
   "cell_type": "code",
   "execution_count": 1,
   "metadata": {
    "ExecuteTime": {
     "end_time": "2021-05-11T00:51:56.395325Z",
     "start_time": "2021-05-11T00:51:55.774530Z"
    }
   },
   "outputs": [],
   "source": [
    "import os\n",
    "import re\n",
    "import pandas as pd\n",
    "import numpy as np \n",
    "import csv\n",
    "from sklearn.model_selection import train_test_split\n",
    "\n",
    "import warnings\n",
    "warnings.filterwarnings('ignore')"
   ]
  },
  {
   "cell_type": "code",
   "execution_count": 2,
   "metadata": {
    "ExecuteTime": {
     "end_time": "2021-05-11T00:52:02.541087Z",
     "start_time": "2021-05-11T00:51:56.396364Z"
    }
   },
   "outputs": [],
   "source": [
    "train_df = pd.read_csv('./dataset/train.csv')\n",
    "test_df = pd.read_csv('./dataset/test.csv')"
   ]
  },
  {
   "cell_type": "code",
   "execution_count": 3,
   "metadata": {
    "ExecuteTime": {
     "end_time": "2021-05-11T00:52:08.618430Z",
     "start_time": "2021-05-11T00:52:08.614710Z"
    }
   },
   "outputs": [],
   "source": [
    "def clean(x):\n",
    "    x = x.lower()\n",
    "    x = re.sub(f'[0-9]', 'N', x)\n",
    "    x = re.sub(r'(\\\\n)', ' ', x)\n",
    "    x = re.sub(r',', ' ', x)\n",
    "    x = re.sub(r'[^a-zA-Zㄱ-ㅣ가-힣\\s]+', '',x)\n",
    "    x = re.sub(r'N', '', x)\n",
    "    x = re.sub(r'jan|feb|oct|dec|mar|nov|sep', '', x)\n",
    "    x = re.sub(r'\\s+', ' ', x)\n",
    "    return x.strip()"
   ]
  },
  {
   "cell_type": "code",
   "execution_count": 4,
   "metadata": {
    "ExecuteTime": {
     "end_time": "2021-05-11T00:53:35.998569Z",
     "start_time": "2021-05-11T00:52:08.942427Z"
    }
   },
   "outputs": [
    {
     "name": "stdout",
     "output_type": "stream",
     "text": [
      "CPU times: user 1min 26s, sys: 232 ms, total: 1min 27s\n",
      "Wall time: 1min 27s\n"
     ]
    }
   ],
   "source": [
    "%%time\n",
    "\n",
    "train_df['clean_log'] = train_df['full_log'].map(lambda x: clean(x))\n",
    "test_df['clean_log'] = test_df['full_log'].map(lambda x: clean(x))"
   ]
  },
  {
   "cell_type": "code",
   "execution_count": 5,
   "metadata": {
    "ExecuteTime": {
     "end_time": "2021-05-11T00:53:51.732972Z",
     "start_time": "2021-05-11T00:53:51.729819Z"
    }
   },
   "outputs": [],
   "source": [
    "def truncated_string(x, max_length):\n",
    "    arr = []\n",
    "    idx = max_length//2\n",
    "    token_list = x.split(' ')\n",
    "    if len(token_list)>max_length:\n",
    "        arr+=token_list[:idx]\n",
    "        arr+=token_list[-idx:]\n",
    "    else:\n",
    "        arr+=token_list\n",
    "    return ' '.join(arr)"
   ]
  },
  {
   "cell_type": "code",
   "execution_count": 6,
   "metadata": {
    "ExecuteTime": {
     "end_time": "2021-05-11T00:53:58.081217Z",
     "start_time": "2021-05-11T00:53:55.009881Z"
    }
   },
   "outputs": [],
   "source": [
    "train_df['sample_word'] = train_df['clean_log'].map(lambda x: truncated_string(x, 32))\n",
    "test_df['sample_word'] = test_df['clean_log'].map(lambda x: truncated_string(x, 32))"
   ]
  },
  {
   "cell_type": "code",
   "execution_count": 7,
   "metadata": {
    "ExecuteTime": {
     "end_time": "2021-05-11T00:53:58.713692Z",
     "start_time": "2021-05-11T00:53:58.082179Z"
    }
   },
   "outputs": [],
   "source": [
    "train_df['level'] = train_df['level'].map(lambda x: '__label__' + str(x))\n",
    "trn_df, val_df = train_test_split(train_df, stratify=train_df['level'], test_size=0.3, random_state=42)"
   ]
  },
  {
   "cell_type": "code",
   "execution_count": 8,
   "metadata": {
    "ExecuteTime": {
     "end_time": "2021-05-11T00:54:11.434748Z",
     "start_time": "2021-05-11T00:54:09.620113Z"
    }
   },
   "outputs": [],
   "source": [
    "trn_df[['level', 'sample_word']].to_csv('./dataset/train.txt', index=False, sep=' ', header=False, quoting=csv.QUOTE_NONE, quotechar=\"\", escapechar=\" \")\n",
    "val_df[['level', 'sample_word']].to_csv('./dataset/valid.txt', index=False, sep=' ', header=False, quoting=csv.QUOTE_NONE, quotechar=\"\", escapechar=\" \")"
   ]
  },
  {
   "cell_type": "markdown",
   "metadata": {},
   "source": [
    "## Modeling"
   ]
  },
  {
   "cell_type": "code",
   "execution_count": 56,
   "metadata": {
    "ExecuteTime": {
     "end_time": "2021-05-11T01:46:34.790461Z",
     "start_time": "2021-05-11T01:46:34.774894Z"
    }
   },
   "outputs": [
    {
     "name": "stderr",
     "output_type": "stream",
     "text": [
      "Warning : `load_model` does not return WordVectorModel or SupervisedModel any more, but a `FastText` object which is very similar.\n"
     ]
    }
   ],
   "source": [
    "import fasttext\n",
    "\n",
    "model = fasttext.load_model(\"./model_log.bin\")"
   ]
  },
  {
   "cell_type": "code",
   "execution_count": 57,
   "metadata": {
    "ExecuteTime": {
     "end_time": "2021-05-11T01:46:35.285727Z",
     "start_time": "2021-05-11T01:46:35.277409Z"
    }
   },
   "outputs": [
    {
     "data": {
      "text/html": [
       "<div>\n",
       "<style scoped>\n",
       "    .dataframe tbody tr th:only-of-type {\n",
       "        vertical-align: middle;\n",
       "    }\n",
       "\n",
       "    .dataframe tbody tr th {\n",
       "        vertical-align: top;\n",
       "    }\n",
       "\n",
       "    .dataframe thead th {\n",
       "        text-align: right;\n",
       "    }\n",
       "</style>\n",
       "<table border=\"1\" class=\"dataframe\">\n",
       "  <thead>\n",
       "    <tr style=\"text-align: right;\">\n",
       "      <th></th>\n",
       "      <th>id</th>\n",
       "      <th>level</th>\n",
       "      <th>full_log</th>\n",
       "      <th>clean_log</th>\n",
       "      <th>sample_word</th>\n",
       "      <th>label</th>\n",
       "    </tr>\n",
       "  </thead>\n",
       "  <tbody>\n",
       "    <tr>\n",
       "      <th>154958</th>\n",
       "      <td>154958</td>\n",
       "      <td>0</td>\n",
       "      <td>Jan 22 06:01:11 localhost logstash: [2021-01-2...</td>\n",
       "      <td>localhost logstash t warn logstashoutputselast...</td>\n",
       "      <td>localhost logstash t warn logstashoutputselast...</td>\n",
       "      <td>0</td>\n",
       "    </tr>\n",
       "    <tr>\n",
       "      <th>389760</th>\n",
       "      <td>389760</td>\n",
       "      <td>0</td>\n",
       "      <td>Sep 24 14:59:04 localhost logstash: [2020-09-2...</td>\n",
       "      <td>localhost logstash t errorlogstashoutputselast...</td>\n",
       "      <td>localhost logstash t errorlogstashoutputselast...</td>\n",
       "      <td>0</td>\n",
       "    </tr>\n",
       "    <tr>\n",
       "      <th>87830</th>\n",
       "      <td>87830</td>\n",
       "      <td>0</td>\n",
       "      <td>Jan 30 07:41:06 localhost logstash: { 3974 ruf...</td>\n",
       "      <td>localhost logstash rufusscheduler intercepted ...</td>\n",
       "      <td>localhost logstash rufusscheduler intercepted ...</td>\n",
       "      <td>0</td>\n",
       "    </tr>\n",
       "    <tr>\n",
       "      <th>265430</th>\n",
       "      <td>265430</td>\n",
       "      <td>1</td>\n",
       "      <td>type=SYSCALL msg=audit(1611896236.412:526401):...</td>\n",
       "      <td>typesyscall msgaudit archce syscall successyes...</td>\n",
       "      <td>typesyscall msgaudit archce syscall successyes...</td>\n",
       "      <td>1</td>\n",
       "    </tr>\n",
       "    <tr>\n",
       "      <th>210995</th>\n",
       "      <td>210995</td>\n",
       "      <td>1</td>\n",
       "      <td>type=SYSCALL msg=audit(1611886056.087:49868): ...</td>\n",
       "      <td>typesyscall msgaudit archce syscall successyes...</td>\n",
       "      <td>typesyscall msgaudit archce syscall successyes...</td>\n",
       "      <td>1</td>\n",
       "    </tr>\n",
       "  </tbody>\n",
       "</table>\n",
       "</div>"
      ],
      "text/plain": [
       "            id  level                                           full_log  \\\n",
       "154958  154958      0  Jan 22 06:01:11 localhost logstash: [2021-01-2...   \n",
       "389760  389760      0  Sep 24 14:59:04 localhost logstash: [2020-09-2...   \n",
       "87830    87830      0  Jan 30 07:41:06 localhost logstash: { 3974 ruf...   \n",
       "265430  265430      1  type=SYSCALL msg=audit(1611896236.412:526401):...   \n",
       "210995  210995      1  type=SYSCALL msg=audit(1611886056.087:49868): ...   \n",
       "\n",
       "                                                clean_log  \\\n",
       "154958  localhost logstash t warn logstashoutputselast...   \n",
       "389760  localhost logstash t errorlogstashoutputselast...   \n",
       "87830   localhost logstash rufusscheduler intercepted ...   \n",
       "265430  typesyscall msgaudit archce syscall successyes...   \n",
       "210995  typesyscall msgaudit archce syscall successyes...   \n",
       "\n",
       "                                              sample_word  label  \n",
       "154958  localhost logstash t warn logstashoutputselast...      0  \n",
       "389760  localhost logstash t errorlogstashoutputselast...      0  \n",
       "87830   localhost logstash rufusscheduler intercepted ...      0  \n",
       "265430  typesyscall msgaudit archce syscall successyes...      1  \n",
       "210995  typesyscall msgaudit archce syscall successyes...      1  "
      ]
     },
     "execution_count": 57,
     "metadata": {},
     "output_type": "execute_result"
    }
   ],
   "source": [
    "val_df.head()"
   ]
  },
  {
   "cell_type": "code",
   "execution_count": null,
   "metadata": {},
   "outputs": [],
   "source": []
  },
  {
   "cell_type": "code",
   "execution_count": 11,
   "metadata": {
    "ExecuteTime": {
     "end_time": "2021-05-11T00:57:47.956358Z",
     "start_time": "2021-05-11T00:57:47.953867Z"
    }
   },
   "outputs": [],
   "source": [
    "def predict_case(model, x, mode='train'):\n",
    "    if mode=='train':\n",
    "        result = model.predict(x)\n",
    "        return result[0][0][-1]\n",
    "    "
   ]
  },
  {
   "cell_type": "code",
   "execution_count": 58,
   "metadata": {
    "ExecuteTime": {
     "end_time": "2021-05-11T01:46:38.620327Z",
     "start_time": "2021-05-11T01:46:37.425549Z"
    }
   },
   "outputs": [],
   "source": [
    "# val_df['level'] = val_df['level'].apply(lambda x: x[-1]).astype('int')\n",
    "val_df['label'] = val_df['sample_word'].apply(lambda x: predict_case(model, x)).astype('int')"
   ]
  },
  {
   "cell_type": "code",
   "execution_count": 59,
   "metadata": {
    "ExecuteTime": {
     "end_time": "2021-05-11T01:46:38.624565Z",
     "start_time": "2021-05-11T01:46:38.621362Z"
    }
   },
   "outputs": [
    {
     "data": {
      "text/plain": [
       "0    100220\n",
       "1     39755\n",
       "3      1242\n",
       "5       666\n",
       "2         4\n",
       "4         3\n",
       "6         2\n",
       "Name: level, dtype: int64"
      ]
     },
     "execution_count": 59,
     "metadata": {},
     "output_type": "execute_result"
    }
   ],
   "source": [
    "val_df['level'].value_counts()"
   ]
  },
  {
   "cell_type": "code",
   "execution_count": 60,
   "metadata": {
    "ExecuteTime": {
     "end_time": "2021-05-11T01:46:38.828518Z",
     "start_time": "2021-05-11T01:46:38.748313Z"
    }
   },
   "outputs": [
    {
     "name": "stdout",
     "output_type": "stream",
     "text": [
      "Acc: 0.9977518112367153\n",
      "Precision: 0.5654465320254051\n",
      "Recall: 0.5606129352870989\n",
      "F1-Score: 0.5629942924123867\n"
     ]
    }
   ],
   "source": [
    "from sklearn.metrics import accuracy_score, precision_score, recall_score, f1_score, classification_report\n",
    "\n",
    "print('Acc:', accuracy_score(val_df['level'], val_df['label']))\n",
    "print('Precision:', precision_score(val_df['level'], val_df['label'], average='macro'))\n",
    "print('Recall:', recall_score(val_df['level'], val_df['label'], average='macro'))\n",
    "print('F1-Score:', f1_score(val_df['level'], val_df['label'], average='macro'))"
   ]
  },
  {
   "cell_type": "code",
   "execution_count": 61,
   "metadata": {
    "ExecuteTime": {
     "end_time": "2021-05-11T01:46:48.227475Z",
     "start_time": "2021-05-11T01:46:48.123754Z"
    }
   },
   "outputs": [
    {
     "name": "stdout",
     "output_type": "stream",
     "text": [
      "              precision    recall  f1-score   support\n",
      "\n",
      "           0       1.00      1.00      1.00    100220\n",
      "           1       1.00      1.00      1.00     39755\n",
      "           2       0.00      0.00      0.00         4\n",
      "           3       0.99      0.99      0.99      1242\n",
      "           4       0.00      0.00      0.00         3\n",
      "           5       0.97      0.94      0.96       666\n",
      "           6       0.00      0.00      0.00         2\n",
      "\n",
      "    accuracy                           1.00    141892\n",
      "   macro avg       0.57      0.56      0.56    141892\n",
      "weighted avg       1.00      1.00      1.00    141892\n",
      "\n"
     ]
    }
   ],
   "source": [
    "print(classification_report(val_df['level'], val_df['label']))"
   ]
  },
  {
   "cell_type": "code",
   "execution_count": 53,
   "metadata": {
    "ExecuteTime": {
     "end_time": "2021-05-11T01:35:17.001856Z",
     "start_time": "2021-05-11T01:35:16.994760Z"
    }
   },
   "outputs": [],
   "source": [
    "valid_df = pd.read_csv('./dataset/validation_sample.csv')\n",
    "valid_df['clean_log'] = valid_df['full_log'].map(lambda x: clean(x))\n",
    "valid_df['sample_word'] = valid_df['clean_log'].map(lambda x: truncated_string(x, 32))\n",
    "\n",
    "valid_text=valid_df['sample_word'].to_list()"
   ]
  },
  {
   "cell_type": "code",
   "execution_count": 54,
   "metadata": {
    "ExecuteTime": {
     "end_time": "2021-05-11T01:35:17.463776Z",
     "start_time": "2021-05-11T01:35:17.456740Z"
    }
   },
   "outputs": [
    {
     "data": {
      "text/html": [
       "<div>\n",
       "<style scoped>\n",
       "    .dataframe tbody tr th:only-of-type {\n",
       "        vertical-align: middle;\n",
       "    }\n",
       "\n",
       "    .dataframe tbody tr th {\n",
       "        vertical-align: top;\n",
       "    }\n",
       "\n",
       "    .dataframe thead th {\n",
       "        text-align: right;\n",
       "    }\n",
       "</style>\n",
       "<table border=\"1\" class=\"dataframe\">\n",
       "  <thead>\n",
       "    <tr style=\"text-align: right;\">\n",
       "      <th></th>\n",
       "      <th>full_log</th>\n",
       "      <th>clean_log</th>\n",
       "      <th>sample_word</th>\n",
       "    </tr>\n",
       "  </thead>\n",
       "  <tbody>\n",
       "    <tr>\n",
       "      <th>0</th>\n",
       "      <td>type=ANOM_PROMISCUOUS msg=audit(1600402733.466...</td>\n",
       "      <td>typeanompromiscuous msgaudit devenps prom oldp...</td>\n",
       "      <td>typeanompromiscuous msgaudit devenps prom oldp...</td>\n",
       "    </tr>\n",
       "    <tr>\n",
       "      <th>1</th>\n",
       "      <td>oscap: msg: \"xccdf-result\", scan-id: \"00016007...</td>\n",
       "      <td>oscap msg xccdfresult scanid content ssgcentos...</td>\n",
       "      <td>oscap msg xccdfresult scanid content ssgcentos...</td>\n",
       "    </tr>\n",
       "    <tr>\n",
       "      <th>2</th>\n",
       "      <td>Sep 22 10:56:19 localhost kernel: Out of memor...</td>\n",
       "      <td>localhost kernel out of memory kill process pr...</td>\n",
       "      <td>localhost kernel out of memory kill process pr...</td>\n",
       "    </tr>\n",
       "  </tbody>\n",
       "</table>\n",
       "</div>"
      ],
      "text/plain": [
       "                                            full_log  \\\n",
       "0  type=ANOM_PROMISCUOUS msg=audit(1600402733.466...   \n",
       "1  oscap: msg: \"xccdf-result\", scan-id: \"00016007...   \n",
       "2  Sep 22 10:56:19 localhost kernel: Out of memor...   \n",
       "\n",
       "                                           clean_log  \\\n",
       "0  typeanompromiscuous msgaudit devenps prom oldp...   \n",
       "1  oscap msg xccdfresult scanid content ssgcentos...   \n",
       "2  localhost kernel out of memory kill process pr...   \n",
       "\n",
       "                                         sample_word  \n",
       "0  typeanompromiscuous msgaudit devenps prom oldp...  \n",
       "1  oscap msg xccdfresult scanid content ssgcentos...  \n",
       "2  localhost kernel out of memory kill process pr...  "
      ]
     },
     "execution_count": 54,
     "metadata": {},
     "output_type": "execute_result"
    }
   ],
   "source": [
    "valid_df.head()"
   ]
  },
  {
   "cell_type": "code",
   "execution_count": 55,
   "metadata": {
    "ExecuteTime": {
     "end_time": "2021-05-11T01:35:19.319097Z",
     "start_time": "2021-05-11T01:35:19.314257Z"
    }
   },
   "outputs": [
    {
     "data": {
      "text/plain": [
       "([['__label__1',\n",
       "   '__label__3',\n",
       "   '__label__6',\n",
       "   '__label__4',\n",
       "   '__label__2',\n",
       "   '__label__0',\n",
       "   '__label__5'],\n",
       "  ['__label__5',\n",
       "   '__label__3',\n",
       "   '__label__6',\n",
       "   '__label__4',\n",
       "   '__label__2',\n",
       "   '__label__0',\n",
       "   '__label__1'],\n",
       "  ['__label__0',\n",
       "   '__label__1',\n",
       "   '__label__5',\n",
       "   '__label__6',\n",
       "   '__label__2',\n",
       "   '__label__4',\n",
       "   '__label__3']],\n",
       " [array([1., 0., 0., 0., 0., 0., 0.], dtype=float32),\n",
       "  array([0.811, 0.186, 0.001, 0.001, 0.001, 0.   , 0.   ], dtype=float32),\n",
       "  array([0.957, 0.011, 0.011, 0.006, 0.006, 0.005, 0.004], dtype=float32)])"
      ]
     },
     "execution_count": 55,
     "metadata": {},
     "output_type": "execute_result"
    }
   ],
   "source": [
    "np.set_printoptions(precision=3, suppress=True)\n",
    "model.predict(valid_text, k=-1)"
   ]
  },
  {
   "cell_type": "code",
   "execution_count": null,
   "metadata": {},
   "outputs": [],
   "source": []
  },
  {
   "cell_type": "code",
   "execution_count": null,
   "metadata": {},
   "outputs": [],
   "source": []
  },
  {
   "cell_type": "code",
   "execution_count": 22,
   "metadata": {
    "ExecuteTime": {
     "end_time": "2021-05-11T01:11:37.909001Z",
     "start_time": "2021-05-11T01:11:27.853784Z"
    }
   },
   "outputs": [],
   "source": [
    "test_df['label'] = test_df['sample_word'].apply(lambda x: predict_case(model, x))"
   ]
  },
  {
   "cell_type": "code",
   "execution_count": 23,
   "metadata": {
    "ExecuteTime": {
     "end_time": "2021-05-11T01:11:38.599440Z",
     "start_time": "2021-05-11T01:11:38.516409Z"
    }
   },
   "outputs": [
    {
     "data": {
      "text/plain": [
       "0    1002648\n",
       "1     396749\n",
       "3      12998\n",
       "5       6453\n",
       "2         34\n",
       "4         34\n",
       "Name: label, dtype: int64"
      ]
     },
     "execution_count": 23,
     "metadata": {},
     "output_type": "execute_result"
    }
   ],
   "source": [
    "test_df['label'].value_counts()"
   ]
  },
  {
   "cell_type": "code",
   "execution_count": 24,
   "metadata": {
    "ExecuteTime": {
     "end_time": "2021-05-11T01:11:44.635776Z",
     "start_time": "2021-05-11T01:11:44.436444Z"
    }
   },
   "outputs": [],
   "source": [
    "submission_df = pd.read_csv('./dataset/sample_submission.csv')\n",
    "submission_df['level'] = test_df['label'].astype('int')"
   ]
  },
  {
   "cell_type": "code",
   "execution_count": 25,
   "metadata": {
    "ExecuteTime": {
     "end_time": "2021-05-11T01:11:47.316012Z",
     "start_time": "2021-05-11T01:11:45.972446Z"
    }
   },
   "outputs": [],
   "source": [
    "submission_df.to_csv('./fasttext_baseline.csv', index=False)"
   ]
  },
  {
   "cell_type": "code",
   "execution_count": null,
   "metadata": {},
   "outputs": [],
   "source": []
  }
 ],
 "metadata": {
  "kernelspec": {
   "display_name": "DL_Server",
   "language": "python",
   "name": "dl_server"
  },
  "language_info": {
   "codemirror_mode": {
    "name": "ipython",
    "version": 3
   },
   "file_extension": ".py",
   "mimetype": "text/x-python",
   "name": "python",
   "nbconvert_exporter": "python",
   "pygments_lexer": "ipython3",
   "version": "3.8.8"
  },
  "latex_envs": {
   "LaTeX_envs_menu_present": true,
   "autoclose": false,
   "autocomplete": true,
   "bibliofile": "biblio.bib",
   "cite_by": "apalike",
   "current_citInitial": 1,
   "eqLabelWithNumbers": true,
   "eqNumInitial": 1,
   "hotkeys": {
    "equation": "Ctrl-E",
    "itemize": "Ctrl-I"
   },
   "labels_anchors": false,
   "latex_user_defs": false,
   "report_style_numbering": false,
   "user_envs_cfg": false
  },
  "toc": {
   "base_numbering": 1,
   "nav_menu": {},
   "number_sections": true,
   "sideBar": true,
   "skip_h1_title": false,
   "title_cell": "Table of Contents",
   "title_sidebar": "Contents",
   "toc_cell": false,
   "toc_position": {},
   "toc_section_display": true,
   "toc_window_display": false
  }
 },
 "nbformat": 4,
 "nbformat_minor": 4
}
