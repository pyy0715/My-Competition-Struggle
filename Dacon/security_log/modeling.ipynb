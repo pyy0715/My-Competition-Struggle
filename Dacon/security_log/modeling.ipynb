{
 "cells": [
  {
   "cell_type": "code",
   "execution_count": 1,
   "metadata": {
    "ExecuteTime": {
     "end_time": "2021-05-17T18:06:53.347353Z",
     "start_time": "2021-05-17T18:06:51.940355Z"
    }
   },
   "outputs": [],
   "source": [
    "import os\n",
    "import re\n",
    "import pandas as pd\n",
    "import numpy as np \n",
    "\n",
    "import torch\n",
    "from torch.utils.data import Dataset, DataLoader, TensorDataset\n",
    "from torch.utils.data.sampler import SubsetRandomSampler\n",
    "from torch.optim.lr_scheduler import ExponentialLR,CosineAnnealingWarmRestarts\n",
    "\n",
    "from pytorch_lightning import LightningDataModule, LightningModule, Trainer, seed_everything\n",
    "from pytorch_lightning.callbacks import ModelCheckpoint, EarlyStopping\n",
    "\n",
    "from tokenizers import BertWordPieceTokenizer\n",
    "from transformers import BertForSequenceClassification, BertForMultipleChoice,  BertTokenizer, AdamW\n",
    "\n",
    "from sklearn.model_selection import train_test_split\n",
    "from sklearn.metrics import accuracy_score, precision_score, recall_score, f1_score\n",
    "\n",
    "from tqdm import tqdm"
   ]
  },
  {
   "cell_type": "code",
   "execution_count": 2,
   "metadata": {
    "ExecuteTime": {
     "end_time": "2021-05-17T18:06:55.263469Z",
     "start_time": "2021-05-17T18:06:55.249368Z"
    }
   },
   "outputs": [],
   "source": [
    "class LogDataModule(LightningDataModule):\n",
    "    def __init__(self, hparams):\n",
    "        super().__init__()\n",
    "        self.hparams = hparams\n",
    "    \n",
    "    def read_data(self, path):\n",
    "        if path.endswith('csv'):\n",
    "            return pd.read_csv(path)\n",
    "        elif path.endswith('pkl'):\n",
    "            return pd.read_pickle(path)\n",
    "        \n",
    "    def split_data(self, df):\n",
    "        trn_df, val_df = train_test_split(df, stratify=df['level'], test_size=0.3, random_state=42, shuffle=True)\n",
    "        return trn_df, val_df\n",
    "    \n",
    "    def make_dataset(self, df, stage):   \n",
    "        if stage=='Train' or stage=='Valid':\n",
    "            return TensorDataset(torch.tensor(df['input_ids'].to_list(), dtype=torch.long),\n",
    "                                 torch.tensor(df['attention_mask'].to_list(), dtype=torch.long),\n",
    "                                 torch.tensor(df['postion_ids'].to_list(), dtype=torch.long),\n",
    "                                 torch.tensor(df['level'].to_list(), dtype=torch.long))\n",
    "        else:\n",
    "            return TensorDataset(torch.tensor(df['input_ids'].to_list(), dtype=torch.long),\n",
    "                                 torch.tensor(df['attention_mask'].to_list(), dtype=torch.long),\n",
    "                                 torch.tensor(df['postion_ids'].to_list(), dtype=torch.long))\n",
    "        \n",
    "    def setup(self):\n",
    "        train_df = self.read_data(self.hparams['train_data_path'])\n",
    "        test_df = self.read_data(self.hparams['test_data_path'])\n",
    "        \n",
    "        train_df['postion_ids'] = train_df['input_ids'].map(lambda x: [i for i in range(len(x))])\n",
    "        test_df['postion_ids'] = test_df['input_ids'].map(lambda x: [i for i in range(len(x))])\n",
    "        \n",
    "        trn_df, val_df = self.split_data(train_df)\n",
    "        \n",
    "        self.train_ds = self.make_dataset(trn_df, 'Train')\n",
    "        self.val_ds = self.make_dataset(val_df, 'Valid')\n",
    "        self.test_ds = self.make_dataset(test_df, 'Test')\n",
    "        \n",
    "        \n",
    "    def dataloader(self, dataset):\n",
    "        return DataLoader(\n",
    "            dataset,\n",
    "            batch_size = self.hparams['batch_size'],\n",
    "            shuffle = False,\n",
    "            num_workers=self.hparams['num_workers']\n",
    "        )\n",
    "        \n",
    "    def train_dataloader(self):  \n",
    "        return self.dataloader(self.train_ds)\n",
    "    \n",
    "    def val_dataloader(self):\n",
    "        return self.dataloader(self.val_ds)\n",
    "    \n",
    "    def test_dataloader(self):\n",
    "        return  DataLoader(self.test_ds,\n",
    "                           batch_size = self.hparams['test_batch_size'],\n",
    "                           num_workers=self.hparams['num_workers'],\n",
    "                           pin_memory=True)"
   ]
  },
  {
   "cell_type": "code",
   "execution_count": 3,
   "metadata": {
    "ExecuteTime": {
     "end_time": "2021-05-17T18:06:55.860732Z",
     "start_time": "2021-05-17T18:06:55.857177Z"
    }
   },
   "outputs": [],
   "source": [
    "dm_args = {\n",
    "    'train_data_path':'./dataset/clean_train.pkl',\n",
    "    'test_data_path':'./dataset/clean_drop_test.pkl',\n",
    "    'batch_size': 16,\n",
    "    'test_batch_size': 128,\n",
    "    'num_workers': 4,\n",
    "}\n",
    "\n",
    "log_dm = LogDataModule(dm_args)"
   ]
  },
  {
   "cell_type": "code",
   "execution_count": 4,
   "metadata": {
    "ExecuteTime": {
     "end_time": "2021-05-17T18:07:02.026582Z",
     "start_time": "2021-05-17T18:06:56.235917Z"
    }
   },
   "outputs": [],
   "source": [
    "log_dm.setup()"
   ]
  },
  {
   "cell_type": "code",
   "execution_count": 5,
   "metadata": {
    "ExecuteTime": {
     "end_time": "2021-05-17T18:07:02.036182Z",
     "start_time": "2021-05-17T18:07:02.027793Z"
    }
   },
   "outputs": [],
   "source": [
    "class Model(LightningModule):\n",
    "    def __init__(self, **kwargs):\n",
    "        super().__init__()\n",
    "        self.save_hyperparameters() \n",
    "        self.bert = BertForSequenceClassification.from_pretrained(self.hparams.pretrained_model, \n",
    "                                                                  num_labels = 7)\n",
    "    def forward(self, **kwargs):\n",
    "        return self.bert(**kwargs)\n",
    "\n",
    "    def step(self, batch, batch_idx):\n",
    "        output = self.bert(input_ids = batch[0], \n",
    "                           attention_mask = batch[1], \n",
    "                           position_ids = batch[2],\n",
    "                           labels = batch[-1])\n",
    "\n",
    "        # Transformers 4.0.0+\n",
    "        loss = output.loss\n",
    "        logits = output.logits\n",
    "\n",
    "        preds = logits.argmax(dim=-1)\n",
    "\n",
    "        y_true = list(batch[-1].cpu().numpy())\n",
    "        y_pred = list(preds.cpu().numpy())\n",
    "\n",
    "        return {\n",
    "            'loss': loss,\n",
    "            'y_true': y_true,\n",
    "            'y_pred': y_pred,\n",
    "        }\n",
    "\n",
    "    def training_step(self, batch, batch_idx):\n",
    "        return self.step(batch, batch_idx)\n",
    "\n",
    "    def validation_step(self, batch, batch_idx):\n",
    "        return self.step(batch, batch_idx)\n",
    "\n",
    "    def epoch_end(self, outputs, state='train'):\n",
    "        loss = 0.0\n",
    "        y_true = []\n",
    "        y_pred = []\n",
    "        \n",
    "        for i in outputs:\n",
    "            loss += i['loss'].item()\n",
    "            y_true += i['y_true']\n",
    "            y_pred += i['y_pred']\n",
    "            \n",
    "        loss = loss / len(outputs)\n",
    "\n",
    "        self.log(state+'_loss', float(loss), \n",
    "                 on_epoch=True, prog_bar=True)\n",
    "        self.log(state+'_acc', accuracy_score(y_true, y_pred), \n",
    "                 on_epoch=True, prog_bar=True, logger=True)\n",
    "        self.log(state+'_precision', precision_score(y_true, y_pred, average='macro', labels=np.unique(y_true)),\n",
    "                 on_epoch=True, prog_bar=True, logger=True)\n",
    "        self.log(state+'_recall', recall_score(y_true, y_pred, average='macro', labels=np.unique(y_true)),\n",
    "                 on_epoch=True, prog_bar=True, logger=True)\n",
    "        self.log(state+'_f1', f1_score(y_true, y_pred, average='macro', labels=np.unique(y_true)),\n",
    "                 on_epoch=True, prog_bar=True, logger=True)\n",
    "        return {'loss': loss}\n",
    "\n",
    "    def train_epoch_end(self, outputs):\n",
    "        return self.epoch_end(outputs, state='train')\n",
    "\n",
    "    def validation_epoch_end(self, outputs):\n",
    "        return self.epoch_end(outputs, state='val')\n",
    "\n",
    "    def configure_optimizers(self):\n",
    "        if self.hparams.optimizer == 'AdamW':\n",
    "            optimizer = AdamW(self.parameters(), lr=self.hparams.lr)\n",
    "        elif self.hparams.optimizer == 'AdamP':\n",
    "            from adamp import AdamP\n",
    "            optimizer = AdamP(self.parameters(), lr=self.hparams.lr)\n",
    "        else:\n",
    "            raise NotImplementedError('Only AdamW and AdamP is Supported!')\n",
    "        if self.hparams.lr_scheduler == 'cos':\n",
    "            scheduler = CosineAnnealingWarmRestarts(optimizer, T_0=1, T_mult=2)\n",
    "        elif self.hparams.lr_scheduler == 'exp':\n",
    "            scheduler = ExponentialLR(optimizer, gamma=0.5)\n",
    "        else:\n",
    "            raise NotImplementedError(\n",
    "                'Only cos and exp lr scheduler is Supported!')\n",
    "        return {\n",
    "            'optimizer': optimizer,\n",
    "            'scheduler': scheduler,\n",
    "        }"
   ]
  },
  {
   "cell_type": "code",
   "execution_count": 7,
   "metadata": {
    "ExecuteTime": {
     "end_time": "2021-05-17T18:07:28.195913Z",
     "start_time": "2021-05-17T18:07:22.781729Z"
    },
    "scrolled": false
   },
   "outputs": [
    {
     "name": "stderr",
     "output_type": "stream",
     "text": [
      "Some weights of the model checkpoint at bert-base-uncased were not used when initializing BertForSequenceClassification: ['cls.predictions.bias', 'cls.predictions.transform.dense.weight', 'cls.predictions.transform.dense.bias', 'cls.predictions.decoder.weight', 'cls.seq_relationship.weight', 'cls.seq_relationship.bias', 'cls.predictions.transform.LayerNorm.weight', 'cls.predictions.transform.LayerNorm.bias']\n",
      "- This IS expected if you are initializing BertForSequenceClassification from the checkpoint of a model trained on another task or with another architecture (e.g. initializing a BertForSequenceClassification model from a BertForPreTraining model).\n",
      "- This IS NOT expected if you are initializing BertForSequenceClassification from the checkpoint of a model that you expect to be exactly identical (initializing a BertForSequenceClassification model from a BertForSequenceClassification model).\n",
      "Some weights of BertForSequenceClassification were not initialized from the model checkpoint at bert-base-uncased and are newly initialized: ['classifier.weight', 'classifier.bias']\n",
      "You should probably TRAIN this model on a down-stream task to be able to use it for predictions and inference.\n"
     ]
    }
   ],
   "source": [
    "args = {\n",
    "    'random_seed': 42,  # Random Seed\n",
    "    'pretrained_model': 'bert-base-uncased',  # Transformers PLM name\n",
    "    'lr': 5e-5,  # Starting Learning Rate\n",
    "    'epochs': 30,  # Max Epochs\n",
    "    'optimizer': 'AdamW',  # AdamW vs AdamP\n",
    "    'lr_scheduler': 'exp',  # ExponentialLR vs CosineAnnealingWarmRestarts\n",
    "    'fp16': True,  # Enable train on FP16\n",
    "}\n",
    "\n",
    "model = Model(**args)"
   ]
  },
  {
   "cell_type": "code",
   "execution_count": 8,
   "metadata": {
    "ExecuteTime": {
     "end_time": "2021-05-17T18:07:40.167836Z",
     "start_time": "2021-05-17T18:07:40.155778Z"
    }
   },
   "outputs": [],
   "source": [
    "checkpoint_callback = ModelCheckpoint(\n",
    "    filename='{epoch}-{val_f1:.4f}',\n",
    "    monitor='val_f1',\n",
    "    save_top_k=1,\n",
    "    mode='max',\n",
    ")\n",
    "\n",
    "early_stop_callback = EarlyStopping(monitor='val_f1', \n",
    "                                    patience=3, \n",
    "                                    verbose=True, \n",
    "                                    mode='max')"
   ]
  },
  {
   "cell_type": "code",
   "execution_count": 9,
   "metadata": {
    "ExecuteTime": {
     "end_time": "2021-05-17T18:07:42.006878Z",
     "start_time": "2021-05-17T18:07:41.944581Z"
    },
    "scrolled": true
   },
   "outputs": [
    {
     "name": "stderr",
     "output_type": "stream",
     "text": [
      "Global seed set to 42\n",
      "GPU available: True, used: True\n",
      "TPU available: None, using: 0 TPU cores\n",
      "Using native 16bit precision.\n"
     ]
    }
   ],
   "source": [
    "seed_everything(42)\n",
    "\n",
    "trainer = Trainer(\n",
    "        callbacks=[checkpoint_callback, early_stop_callback],\n",
    "        max_epochs=args['epochs'],\n",
    "        fast_dev_run=False,\n",
    "        deterministic=torch.cuda.is_available(),\n",
    "        gpus=-1 if torch.cuda.is_available() else None,\n",
    "        precision= 16 if args['fp16'] else 32\n",
    "    )"
   ]
  },
  {
   "cell_type": "code",
   "execution_count": 10,
   "metadata": {
    "ExecuteTime": {
     "end_time": "2021-05-17T18:40:06.391623Z",
     "start_time": "2021-05-17T18:07:43.047409Z"
    },
    "scrolled": true
   },
   "outputs": [
    {
     "name": "stderr",
     "output_type": "stream",
     "text": [
      "\n",
      "  | Name | Type                          | Params\n",
      "-------------------------------------------------------\n",
      "0 | bert | BertForSequenceClassification | 109 M \n",
      "-------------------------------------------------------\n",
      "109 M     Trainable params\n",
      "0         Non-trainable params\n",
      "109 M     Total params\n",
      "437.950   Total estimated model params size (MB)\n"
     ]
    },
    {
     "data": {
      "application/vnd.jupyter.widget-view+json": {
       "model_id": "",
       "version_major": 2,
       "version_minor": 0
      },
      "text/plain": [
       "Validation sanity check: 0it [00:00, ?it/s]"
      ]
     },
     "metadata": {},
     "output_type": "display_data"
    },
    {
     "name": "stderr",
     "output_type": "stream",
     "text": [
      "/home/yyeon/anaconda3/envs/DL_Server/lib/python3.8/site-packages/pytorch_lightning/utilities/distributed.py:50: UserWarning: The validation_epoch_end should not return anything as of 9.1. To log, use self.log(...) or self.write(...) directly in the LightningModule\n",
      "  warnings.warn(*args, **kwargs)\n"
     ]
    },
    {
     "data": {
      "application/vnd.jupyter.widget-view+json": {
       "model_id": "7dc6a085c0f74a64ad6b0ae9d43d5114",
       "version_major": 2,
       "version_minor": 0
      },
      "text/plain": [
       "Training: 0it [00:00, ?it/s]"
      ]
     },
     "metadata": {},
     "output_type": "display_data"
    },
    {
     "data": {
      "application/vnd.jupyter.widget-view+json": {
       "model_id": "",
       "version_major": 2,
       "version_minor": 0
      },
      "text/plain": [
       "Validating: 0it [00:00, ?it/s]"
      ]
     },
     "metadata": {},
     "output_type": "display_data"
    },
    {
     "name": "stderr",
     "output_type": "stream",
     "text": [
      "/home/yyeon/anaconda3/envs/DL_Server/lib/python3.8/site-packages/sklearn/metrics/_classification.py:1245: UndefinedMetricWarning: Precision is ill-defined and being set to 0.0 in labels with no predicted samples. Use `zero_division` parameter to control this behavior.\n",
      "  _warn_prf(average, modifier, msg_start, len(result))\n"
     ]
    },
    {
     "data": {
      "application/vnd.jupyter.widget-view+json": {
       "model_id": "",
       "version_major": 2,
       "version_minor": 0
      },
      "text/plain": [
       "Validating: 0it [00:00, ?it/s]"
      ]
     },
     "metadata": {},
     "output_type": "display_data"
    },
    {
     "name": "stderr",
     "output_type": "stream",
     "text": [
      "/home/yyeon/anaconda3/envs/DL_Server/lib/python3.8/site-packages/sklearn/metrics/_classification.py:1245: UndefinedMetricWarning: Precision is ill-defined and being set to 0.0 in labels with no predicted samples. Use `zero_division` parameter to control this behavior.\n",
      "  _warn_prf(average, modifier, msg_start, len(result))\n"
     ]
    },
    {
     "data": {
      "application/vnd.jupyter.widget-view+json": {
       "model_id": "",
       "version_major": 2,
       "version_minor": 0
      },
      "text/plain": [
       "Validating: 0it [00:00, ?it/s]"
      ]
     },
     "metadata": {},
     "output_type": "display_data"
    },
    {
     "name": "stderr",
     "output_type": "stream",
     "text": [
      "/home/yyeon/anaconda3/envs/DL_Server/lib/python3.8/site-packages/sklearn/metrics/_classification.py:1245: UndefinedMetricWarning: Precision is ill-defined and being set to 0.0 in labels with no predicted samples. Use `zero_division` parameter to control this behavior.\n",
      "  _warn_prf(average, modifier, msg_start, len(result))\n",
      "/home/yyeon/anaconda3/envs/DL_Server/lib/python3.8/site-packages/pytorch_lightning/utilities/distributed.py:50: UserWarning: Detected KeyboardInterrupt, attempting graceful shutdown...\n",
      "  warnings.warn(*args, **kwargs)\n"
     ]
    },
    {
     "data": {
      "text/plain": [
       "1"
      ]
     },
     "execution_count": 10,
     "metadata": {},
     "output_type": "execute_result"
    }
   ],
   "source": [
    "trainer.fit(model, log_dm)"
   ]
  },
  {
   "cell_type": "markdown",
   "metadata": {},
   "source": [
    "## INFERENCE"
   ]
  },
  {
   "cell_type": "code",
   "execution_count": 8,
   "metadata": {
    "ExecuteTime": {
     "end_time": "2021-05-04T18:37:51.104984Z",
     "start_time": "2021-05-04T18:37:51.064663Z"
    }
   },
   "outputs": [],
   "source": [
    "device = torch.device('cuda' if torch.cuda.is_available() else 'cpu')"
   ]
  },
  {
   "cell_type": "code",
   "execution_count": 9,
   "metadata": {
    "ExecuteTime": {
     "end_time": "2021-05-04T18:37:53.316980Z",
     "start_time": "2021-05-04T18:37:53.314605Z"
    }
   },
   "outputs": [],
   "source": [
    "test_loader = log_dm.test_dataloader()"
   ]
  },
  {
   "cell_type": "code",
   "execution_count": 10,
   "metadata": {
    "ExecuteTime": {
     "end_time": "2021-05-04T18:38:00.137142Z",
     "start_time": "2021-05-04T18:37:54.363032Z"
    },
    "scrolled": true
   },
   "outputs": [
    {
     "name": "stderr",
     "output_type": "stream",
     "text": [
      "Some weights of the model checkpoint at bert-base-uncased were not used when initializing BertForSequenceClassification: ['cls.predictions.bias', 'cls.predictions.transform.dense.weight', 'cls.predictions.transform.dense.bias', 'cls.predictions.decoder.weight', 'cls.seq_relationship.weight', 'cls.seq_relationship.bias', 'cls.predictions.transform.LayerNorm.weight', 'cls.predictions.transform.LayerNorm.bias']\n",
      "- This IS expected if you are initializing BertForSequenceClassification from the checkpoint of a model trained on another task or with another architecture (e.g. initializing a BertForSequenceClassification model from a BertForPreTraining model).\n",
      "- This IS NOT expected if you are initializing BertForSequenceClassification from the checkpoint of a model that you expect to be exactly identical (initializing a BertForSequenceClassification model from a BertForSequenceClassification model).\n",
      "Some weights of BertForSequenceClassification were not initialized from the model checkpoint at bert-base-uncased and are newly initialized: ['classifier.weight', 'classifier.bias']\n",
      "You should probably TRAIN this model on a down-stream task to be able to use it for predictions and inference.\n"
     ]
    }
   ],
   "source": [
    "# best_model_path = trainer.checkpoint_callback.best_model_path\n",
    "best_model_path = './lightning_logs/version_5/checkpoints/epoch=3-val_f1=0.9486.ckpt'\n",
    "best_model = model.load_from_checkpoint(best_model_path).to(device)\n",
    "best_model.freeze()"
   ]
  },
  {
   "cell_type": "code",
   "execution_count": 11,
   "metadata": {
    "ExecuteTime": {
     "end_time": "2021-05-04T18:53:38.321045Z",
     "start_time": "2021-05-04T18:38:30.050836Z"
    }
   },
   "outputs": [
    {
     "name": "stderr",
     "output_type": "stream",
     "text": [
      "Global seed set to 42\n",
      "100%|██████████| 953/953 [15:08<00:00,  1.05it/s]\n"
     ]
    }
   ],
   "source": [
    "seed_everything(42)\n",
    "best_model.eval()\n",
    "\n",
    "result = np.zeros(shape=(1, 7))\n",
    "\n",
    "with torch.no_grad():\n",
    "    for step, batch in enumerate(tqdm(test_loader)):\n",
    "        output = best_model(input_ids = batch[0].to(device),\n",
    "                            attention_mask = batch[1].to(device)\n",
    "                           )\n",
    "        predict_proba = torch.nn.functional.softmax(output.logits, dim=1)\n",
    "        result = np.concatenate((result, predict_proba.detach().cpu().numpy()), axis=0)"
   ]
  },
  {
   "cell_type": "code",
   "execution_count": 16,
   "metadata": {
    "ExecuteTime": {
     "end_time": "2021-05-04T18:54:56.478543Z",
     "start_time": "2021-05-04T18:54:56.475588Z"
    }
   },
   "outputs": [],
   "source": [
    "final = np.argmax(result[1:], axis=1)\n",
    "# final[np.where(np.max(result[1:], axis=1) < 0.9)] = 7"
   ]
  },
  {
   "cell_type": "code",
   "execution_count": 17,
   "metadata": {
    "ExecuteTime": {
     "end_time": "2021-05-04T18:54:57.497955Z",
     "start_time": "2021-05-04T18:54:57.469951Z"
    }
   },
   "outputs": [
    {
     "data": {
      "text/plain": [
       "Counter({1: 121970})"
      ]
     },
     "execution_count": 17,
     "metadata": {},
     "output_type": "execute_result"
    }
   ],
   "source": [
    "from collections import Counter\n",
    "\n",
    "Counter(final)"
   ]
  },
  {
   "cell_type": "code",
   "execution_count": 19,
   "metadata": {
    "ExecuteTime": {
     "end_time": "2021-05-04T18:55:33.285803Z",
     "start_time": "2021-05-04T18:55:33.282610Z"
    }
   },
   "outputs": [
    {
     "data": {
      "text/plain": [
       "121970"
      ]
     },
     "execution_count": 19,
     "metadata": {},
     "output_type": "execute_result"
    }
   ],
   "source": [
    "len(test_drop_df)"
   ]
  },
  {
   "cell_type": "code",
   "execution_count": 24,
   "metadata": {
    "ExecuteTime": {
     "end_time": "2021-05-04T18:57:05.475337Z",
     "start_time": "2021-05-04T18:57:05.446767Z"
    }
   },
   "outputs": [
    {
     "data": {
      "text/plain": [
       "tensor([[ 1.2143,  3.7178, -6.2712, -0.7919, -6.0341,  0.0111, -4.8290],\n",
       "        [ 1.2143,  3.7178, -6.2712, -0.7919, -6.0341,  0.0111, -4.8290],\n",
       "        [ 1.2143,  3.7178, -6.2712, -0.7919, -6.0341,  0.0111, -4.8290],\n",
       "        [ 1.2143,  3.7178, -6.2712, -0.7919, -6.0341,  0.0111, -4.8290],\n",
       "        [ 1.2143,  3.7178, -6.2712, -0.7919, -6.0341,  0.0111, -4.8290],\n",
       "        [ 1.2143,  3.7178, -6.2712, -0.7919, -6.0341,  0.0111, -4.8290],\n",
       "        [ 1.2143,  3.7178, -6.2712, -0.7919, -6.0341,  0.0111, -4.8290],\n",
       "        [ 1.2143,  3.7178, -6.2712, -0.7919, -6.0341,  0.0111, -4.8290],\n",
       "        [ 1.2143,  3.7178, -6.2712, -0.7919, -6.0341,  0.0111, -4.8290],\n",
       "        [ 1.2143,  3.7178, -6.2712, -0.7919, -6.0341,  0.0111, -4.8290],\n",
       "        [ 1.2143,  3.7178, -6.2712, -0.7919, -6.0341,  0.0111, -4.8290],\n",
       "        [ 1.2143,  3.7178, -6.2712, -0.7919, -6.0341,  0.0111, -4.8290],\n",
       "        [ 1.2143,  3.7178, -6.2712, -0.7919, -6.0341,  0.0111, -4.8290],\n",
       "        [ 1.2143,  3.7178, -6.2712, -0.7919, -6.0341,  0.0111, -4.8290],\n",
       "        [ 1.2143,  3.7178, -6.2712, -0.7919, -6.0341,  0.0111, -4.8290],\n",
       "        [ 1.2143,  3.7178, -6.2712, -0.7919, -6.0341,  0.0111, -4.8290],\n",
       "        [ 1.2143,  3.7178, -6.2712, -0.7919, -6.0341,  0.0111, -4.8290],\n",
       "        [ 1.2143,  3.7178, -6.2712, -0.7919, -6.0341,  0.0111, -4.8290],\n",
       "        [ 1.2143,  3.7178, -6.2712, -0.7919, -6.0341,  0.0111, -4.8290],\n",
       "        [ 1.2143,  3.7178, -6.2712, -0.7919, -6.0341,  0.0111, -4.8290],\n",
       "        [ 1.2143,  3.7178, -6.2712, -0.7919, -6.0341,  0.0111, -4.8290],\n",
       "        [ 1.2143,  3.7178, -6.2712, -0.7919, -6.0341,  0.0111, -4.8290],\n",
       "        [ 1.2143,  3.7178, -6.2712, -0.7919, -6.0341,  0.0111, -4.8290],\n",
       "        [ 1.2143,  3.7178, -6.2712, -0.7919, -6.0341,  0.0111, -4.8290],\n",
       "        [ 1.2143,  3.7178, -6.2712, -0.7919, -6.0341,  0.0111, -4.8290],\n",
       "        [ 1.2143,  3.7178, -6.2712, -0.7919, -6.0341,  0.0111, -4.8290],\n",
       "        [ 1.2143,  3.7178, -6.2712, -0.7919, -6.0341,  0.0111, -4.8290],\n",
       "        [ 1.2143,  3.7178, -6.2712, -0.7919, -6.0341,  0.0111, -4.8290],\n",
       "        [ 1.2143,  3.7178, -6.2712, -0.7919, -6.0341,  0.0111, -4.8290],\n",
       "        [ 1.2143,  3.7178, -6.2712, -0.7919, -6.0341,  0.0111, -4.8290],\n",
       "        [ 1.2143,  3.7178, -6.2712, -0.7919, -6.0341,  0.0111, -4.8290],\n",
       "        [ 1.2143,  3.7178, -6.2712, -0.7919, -6.0341,  0.0111, -4.8290],\n",
       "        [ 1.2143,  3.7178, -6.2712, -0.7919, -6.0341,  0.0111, -4.8290],\n",
       "        [ 1.2143,  3.7178, -6.2712, -0.7919, -6.0341,  0.0111, -4.8290],\n",
       "        [ 1.2143,  3.7178, -6.2712, -0.7919, -6.0341,  0.0111, -4.8290],\n",
       "        [ 1.2143,  3.7178, -6.2712, -0.7919, -6.0341,  0.0111, -4.8290],\n",
       "        [ 1.2143,  3.7178, -6.2712, -0.7919, -6.0341,  0.0111, -4.8290],\n",
       "        [ 1.2143,  3.7178, -6.2712, -0.7919, -6.0341,  0.0111, -4.8290],\n",
       "        [ 1.2143,  3.7178, -6.2712, -0.7919, -6.0341,  0.0111, -4.8290],\n",
       "        [ 1.2143,  3.7178, -6.2712, -0.7919, -6.0341,  0.0111, -4.8290],\n",
       "        [ 1.2143,  3.7178, -6.2712, -0.7919, -6.0341,  0.0111, -4.8290],\n",
       "        [ 1.2143,  3.7178, -6.2712, -0.7919, -6.0341,  0.0111, -4.8290],\n",
       "        [ 1.2143,  3.7178, -6.2712, -0.7919, -6.0341,  0.0111, -4.8290],\n",
       "        [ 1.2143,  3.7178, -6.2712, -0.7919, -6.0341,  0.0111, -4.8290],\n",
       "        [ 1.2143,  3.7178, -6.2712, -0.7919, -6.0341,  0.0111, -4.8290],\n",
       "        [ 1.2143,  3.7178, -6.2712, -0.7919, -6.0341,  0.0111, -4.8290],\n",
       "        [ 1.2143,  3.7178, -6.2712, -0.7919, -6.0341,  0.0111, -4.8290],\n",
       "        [ 1.2143,  3.7178, -6.2712, -0.7919, -6.0341,  0.0111, -4.8290],\n",
       "        [ 1.2143,  3.7178, -6.2712, -0.7919, -6.0341,  0.0111, -4.8290],\n",
       "        [ 1.2143,  3.7178, -6.2712, -0.7919, -6.0341,  0.0111, -4.8290],\n",
       "        [ 1.2143,  3.7178, -6.2712, -0.7919, -6.0341,  0.0111, -4.8290],\n",
       "        [ 1.2143,  3.7178, -6.2712, -0.7919, -6.0341,  0.0111, -4.8290],\n",
       "        [ 1.2143,  3.7178, -6.2712, -0.7919, -6.0341,  0.0111, -4.8290],\n",
       "        [ 1.2143,  3.7178, -6.2712, -0.7919, -6.0341,  0.0111, -4.8290],\n",
       "        [ 1.2143,  3.7178, -6.2712, -0.7919, -6.0341,  0.0111, -4.8290],\n",
       "        [ 1.2143,  3.7178, -6.2712, -0.7919, -6.0341,  0.0111, -4.8290],\n",
       "        [ 1.2143,  3.7178, -6.2712, -0.7919, -6.0341,  0.0111, -4.8290],\n",
       "        [ 1.2143,  3.7178, -6.2712, -0.7919, -6.0341,  0.0111, -4.8290],\n",
       "        [ 1.2143,  3.7178, -6.2712, -0.7919, -6.0341,  0.0111, -4.8290],\n",
       "        [ 1.2143,  3.7178, -6.2712, -0.7919, -6.0341,  0.0111, -4.8290],\n",
       "        [ 1.2143,  3.7178, -6.2712, -0.7919, -6.0341,  0.0111, -4.8290],\n",
       "        [ 1.2143,  3.7178, -6.2712, -0.7919, -6.0341,  0.0111, -4.8290],\n",
       "        [ 1.2143,  3.7178, -6.2712, -0.7919, -6.0341,  0.0111, -4.8290],\n",
       "        [ 1.2143,  3.7178, -6.2712, -0.7919, -6.0341,  0.0111, -4.8290],\n",
       "        [ 1.2143,  3.7178, -6.2712, -0.7919, -6.0341,  0.0111, -4.8290],\n",
       "        [ 1.2143,  3.7178, -6.2712, -0.7919, -6.0341,  0.0111, -4.8290],\n",
       "        [ 1.2143,  3.7178, -6.2712, -0.7919, -6.0341,  0.0111, -4.8290],\n",
       "        [ 1.2143,  3.7178, -6.2712, -0.7919, -6.0341,  0.0111, -4.8290],\n",
       "        [ 1.2143,  3.7178, -6.2712, -0.7919, -6.0341,  0.0111, -4.8290],\n",
       "        [ 1.2143,  3.7178, -6.2712, -0.7919, -6.0341,  0.0111, -4.8290],\n",
       "        [ 1.2143,  3.7178, -6.2712, -0.7919, -6.0341,  0.0111, -4.8290],\n",
       "        [ 1.2143,  3.7178, -6.2712, -0.7919, -6.0341,  0.0111, -4.8290],\n",
       "        [ 1.2143,  3.7178, -6.2712, -0.7919, -6.0341,  0.0111, -4.8290],\n",
       "        [ 1.2143,  3.7178, -6.2712, -0.7919, -6.0341,  0.0111, -4.8290],\n",
       "        [ 1.2143,  3.7178, -6.2712, -0.7919, -6.0341,  0.0111, -4.8290],\n",
       "        [ 1.2143,  3.7178, -6.2712, -0.7919, -6.0341,  0.0111, -4.8290],\n",
       "        [ 1.2143,  3.7178, -6.2712, -0.7919, -6.0341,  0.0111, -4.8290],\n",
       "        [ 1.2143,  3.7178, -6.2712, -0.7919, -6.0341,  0.0111, -4.8290],\n",
       "        [ 1.2143,  3.7178, -6.2712, -0.7919, -6.0341,  0.0111, -4.8290],\n",
       "        [ 1.2143,  3.7178, -6.2712, -0.7919, -6.0341,  0.0111, -4.8290],\n",
       "        [ 1.2143,  3.7178, -6.2712, -0.7919, -6.0341,  0.0111, -4.8290],\n",
       "        [ 1.2143,  3.7178, -6.2712, -0.7919, -6.0341,  0.0111, -4.8290],\n",
       "        [ 1.2143,  3.7178, -6.2712, -0.7919, -6.0341,  0.0111, -4.8290],\n",
       "        [ 1.2143,  3.7178, -6.2712, -0.7919, -6.0341,  0.0111, -4.8290],\n",
       "        [ 1.2143,  3.7178, -6.2712, -0.7919, -6.0341,  0.0111, -4.8290],\n",
       "        [ 1.2143,  3.7178, -6.2712, -0.7919, -6.0341,  0.0111, -4.8290],\n",
       "        [ 1.2143,  3.7178, -6.2712, -0.7919, -6.0341,  0.0111, -4.8290],\n",
       "        [ 1.2143,  3.7178, -6.2712, -0.7919, -6.0341,  0.0111, -4.8290],\n",
       "        [ 1.2143,  3.7178, -6.2712, -0.7919, -6.0341,  0.0111, -4.8290],\n",
       "        [ 1.2143,  3.7178, -6.2712, -0.7919, -6.0341,  0.0111, -4.8290],\n",
       "        [ 1.2143,  3.7178, -6.2712, -0.7919, -6.0341,  0.0111, -4.8290],\n",
       "        [ 1.2143,  3.7178, -6.2712, -0.7919, -6.0341,  0.0111, -4.8290],\n",
       "        [ 1.2143,  3.7178, -6.2712, -0.7919, -6.0341,  0.0111, -4.8290],\n",
       "        [ 1.2143,  3.7178, -6.2712, -0.7919, -6.0341,  0.0111, -4.8290],\n",
       "        [ 1.2143,  3.7178, -6.2712, -0.7919, -6.0341,  0.0111, -4.8290],\n",
       "        [ 1.2143,  3.7178, -6.2712, -0.7919, -6.0341,  0.0111, -4.8290],\n",
       "        [ 1.2143,  3.7178, -6.2712, -0.7919, -6.0341,  0.0111, -4.8290],\n",
       "        [ 1.2143,  3.7178, -6.2712, -0.7919, -6.0341,  0.0111, -4.8290],\n",
       "        [ 1.2143,  3.7178, -6.2712, -0.7919, -6.0341,  0.0111, -4.8290],\n",
       "        [ 1.2143,  3.7178, -6.2712, -0.7919, -6.0341,  0.0111, -4.8290],\n",
       "        [ 1.2143,  3.7178, -6.2712, -0.7919, -6.0341,  0.0111, -4.8290],\n",
       "        [ 1.2143,  3.7178, -6.2712, -0.7919, -6.0341,  0.0111, -4.8290],\n",
       "        [ 1.2143,  3.7178, -6.2712, -0.7919, -6.0341,  0.0111, -4.8290],\n",
       "        [ 1.2143,  3.7178, -6.2712, -0.7919, -6.0341,  0.0111, -4.8290],\n",
       "        [ 1.2143,  3.7178, -6.2712, -0.7919, -6.0341,  0.0111, -4.8290],\n",
       "        [ 1.2143,  3.7178, -6.2712, -0.7919, -6.0341,  0.0111, -4.8290],\n",
       "        [ 1.2143,  3.7178, -6.2712, -0.7919, -6.0341,  0.0111, -4.8290],\n",
       "        [ 1.2143,  3.7178, -6.2712, -0.7919, -6.0341,  0.0111, -4.8290],\n",
       "        [ 1.2143,  3.7178, -6.2712, -0.7919, -6.0341,  0.0111, -4.8290],\n",
       "        [ 1.2143,  3.7178, -6.2712, -0.7919, -6.0341,  0.0111, -4.8290],\n",
       "        [ 1.2143,  3.7178, -6.2712, -0.7919, -6.0341,  0.0111, -4.8290],\n",
       "        [ 1.2143,  3.7178, -6.2712, -0.7919, -6.0341,  0.0111, -4.8290],\n",
       "        [ 1.2143,  3.7178, -6.2712, -0.7919, -6.0341,  0.0111, -4.8290],\n",
       "        [ 1.2143,  3.7178, -6.2712, -0.7919, -6.0341,  0.0111, -4.8290]],\n",
       "       device='cuda:0')"
      ]
     },
     "execution_count": 24,
     "metadata": {},
     "output_type": "execute_result"
    }
   ],
   "source": [
    "output.logits"
   ]
  },
  {
   "cell_type": "code",
   "execution_count": 20,
   "metadata": {
    "ExecuteTime": {
     "end_time": "2021-05-04T18:55:58.301471Z",
     "start_time": "2021-05-04T18:55:58.262451Z"
    }
   },
   "outputs": [
    {
     "data": {
      "text/plain": [
       "tensor([[7.3190e-02, 8.9473e-01, 4.1069e-05, 9.8442e-03, 5.2059e-05, 2.1974e-02,\n",
       "         1.7372e-04],\n",
       "        [7.3190e-02, 8.9473e-01, 4.1069e-05, 9.8442e-03, 5.2059e-05, 2.1974e-02,\n",
       "         1.7372e-04],\n",
       "        [7.3190e-02, 8.9473e-01, 4.1069e-05, 9.8442e-03, 5.2059e-05, 2.1974e-02,\n",
       "         1.7372e-04],\n",
       "        [7.3190e-02, 8.9473e-01, 4.1069e-05, 9.8442e-03, 5.2059e-05, 2.1974e-02,\n",
       "         1.7372e-04],\n",
       "        [7.3190e-02, 8.9473e-01, 4.1069e-05, 9.8442e-03, 5.2059e-05, 2.1974e-02,\n",
       "         1.7372e-04],\n",
       "        [7.3190e-02, 8.9473e-01, 4.1069e-05, 9.8442e-03, 5.2059e-05, 2.1974e-02,\n",
       "         1.7372e-04],\n",
       "        [7.3190e-02, 8.9473e-01, 4.1069e-05, 9.8442e-03, 5.2059e-05, 2.1974e-02,\n",
       "         1.7372e-04],\n",
       "        [7.3190e-02, 8.9473e-01, 4.1069e-05, 9.8442e-03, 5.2059e-05, 2.1974e-02,\n",
       "         1.7372e-04],\n",
       "        [7.3190e-02, 8.9473e-01, 4.1069e-05, 9.8442e-03, 5.2059e-05, 2.1974e-02,\n",
       "         1.7372e-04],\n",
       "        [7.3190e-02, 8.9473e-01, 4.1069e-05, 9.8442e-03, 5.2059e-05, 2.1974e-02,\n",
       "         1.7372e-04],\n",
       "        [7.3190e-02, 8.9473e-01, 4.1069e-05, 9.8442e-03, 5.2059e-05, 2.1974e-02,\n",
       "         1.7372e-04],\n",
       "        [7.3190e-02, 8.9473e-01, 4.1069e-05, 9.8442e-03, 5.2059e-05, 2.1974e-02,\n",
       "         1.7372e-04],\n",
       "        [7.3190e-02, 8.9473e-01, 4.1069e-05, 9.8442e-03, 5.2059e-05, 2.1974e-02,\n",
       "         1.7372e-04],\n",
       "        [7.3190e-02, 8.9473e-01, 4.1069e-05, 9.8442e-03, 5.2059e-05, 2.1974e-02,\n",
       "         1.7372e-04],\n",
       "        [7.3190e-02, 8.9473e-01, 4.1069e-05, 9.8442e-03, 5.2059e-05, 2.1974e-02,\n",
       "         1.7372e-04],\n",
       "        [7.3190e-02, 8.9473e-01, 4.1069e-05, 9.8442e-03, 5.2059e-05, 2.1974e-02,\n",
       "         1.7372e-04],\n",
       "        [7.3190e-02, 8.9473e-01, 4.1069e-05, 9.8442e-03, 5.2059e-05, 2.1974e-02,\n",
       "         1.7372e-04],\n",
       "        [7.3190e-02, 8.9473e-01, 4.1069e-05, 9.8442e-03, 5.2059e-05, 2.1974e-02,\n",
       "         1.7372e-04],\n",
       "        [7.3190e-02, 8.9473e-01, 4.1069e-05, 9.8442e-03, 5.2059e-05, 2.1974e-02,\n",
       "         1.7372e-04],\n",
       "        [7.3190e-02, 8.9473e-01, 4.1069e-05, 9.8442e-03, 5.2059e-05, 2.1974e-02,\n",
       "         1.7372e-04],\n",
       "        [7.3190e-02, 8.9473e-01, 4.1069e-05, 9.8442e-03, 5.2059e-05, 2.1974e-02,\n",
       "         1.7372e-04],\n",
       "        [7.3190e-02, 8.9473e-01, 4.1069e-05, 9.8442e-03, 5.2059e-05, 2.1974e-02,\n",
       "         1.7372e-04],\n",
       "        [7.3190e-02, 8.9473e-01, 4.1069e-05, 9.8442e-03, 5.2059e-05, 2.1974e-02,\n",
       "         1.7372e-04],\n",
       "        [7.3190e-02, 8.9473e-01, 4.1069e-05, 9.8442e-03, 5.2059e-05, 2.1974e-02,\n",
       "         1.7372e-04],\n",
       "        [7.3190e-02, 8.9473e-01, 4.1069e-05, 9.8442e-03, 5.2059e-05, 2.1974e-02,\n",
       "         1.7372e-04],\n",
       "        [7.3190e-02, 8.9473e-01, 4.1069e-05, 9.8442e-03, 5.2059e-05, 2.1974e-02,\n",
       "         1.7372e-04],\n",
       "        [7.3190e-02, 8.9473e-01, 4.1069e-05, 9.8442e-03, 5.2059e-05, 2.1974e-02,\n",
       "         1.7372e-04],\n",
       "        [7.3190e-02, 8.9473e-01, 4.1069e-05, 9.8442e-03, 5.2059e-05, 2.1974e-02,\n",
       "         1.7372e-04],\n",
       "        [7.3190e-02, 8.9473e-01, 4.1069e-05, 9.8442e-03, 5.2059e-05, 2.1974e-02,\n",
       "         1.7372e-04],\n",
       "        [7.3190e-02, 8.9473e-01, 4.1069e-05, 9.8442e-03, 5.2059e-05, 2.1974e-02,\n",
       "         1.7372e-04],\n",
       "        [7.3190e-02, 8.9473e-01, 4.1069e-05, 9.8442e-03, 5.2059e-05, 2.1974e-02,\n",
       "         1.7372e-04],\n",
       "        [7.3190e-02, 8.9473e-01, 4.1069e-05, 9.8442e-03, 5.2059e-05, 2.1974e-02,\n",
       "         1.7372e-04],\n",
       "        [7.3190e-02, 8.9473e-01, 4.1069e-05, 9.8442e-03, 5.2059e-05, 2.1974e-02,\n",
       "         1.7372e-04],\n",
       "        [7.3190e-02, 8.9473e-01, 4.1069e-05, 9.8442e-03, 5.2059e-05, 2.1974e-02,\n",
       "         1.7372e-04],\n",
       "        [7.3190e-02, 8.9473e-01, 4.1069e-05, 9.8442e-03, 5.2059e-05, 2.1974e-02,\n",
       "         1.7372e-04],\n",
       "        [7.3190e-02, 8.9473e-01, 4.1069e-05, 9.8442e-03, 5.2059e-05, 2.1974e-02,\n",
       "         1.7372e-04],\n",
       "        [7.3190e-02, 8.9473e-01, 4.1069e-05, 9.8442e-03, 5.2059e-05, 2.1974e-02,\n",
       "         1.7372e-04],\n",
       "        [7.3190e-02, 8.9473e-01, 4.1069e-05, 9.8442e-03, 5.2059e-05, 2.1974e-02,\n",
       "         1.7372e-04],\n",
       "        [7.3190e-02, 8.9473e-01, 4.1069e-05, 9.8442e-03, 5.2059e-05, 2.1974e-02,\n",
       "         1.7372e-04],\n",
       "        [7.3190e-02, 8.9473e-01, 4.1069e-05, 9.8442e-03, 5.2059e-05, 2.1974e-02,\n",
       "         1.7372e-04],\n",
       "        [7.3190e-02, 8.9473e-01, 4.1069e-05, 9.8442e-03, 5.2059e-05, 2.1974e-02,\n",
       "         1.7372e-04],\n",
       "        [7.3190e-02, 8.9473e-01, 4.1069e-05, 9.8442e-03, 5.2059e-05, 2.1974e-02,\n",
       "         1.7372e-04],\n",
       "        [7.3190e-02, 8.9473e-01, 4.1069e-05, 9.8442e-03, 5.2059e-05, 2.1974e-02,\n",
       "         1.7372e-04],\n",
       "        [7.3190e-02, 8.9473e-01, 4.1069e-05, 9.8442e-03, 5.2059e-05, 2.1974e-02,\n",
       "         1.7372e-04],\n",
       "        [7.3190e-02, 8.9473e-01, 4.1069e-05, 9.8442e-03, 5.2059e-05, 2.1974e-02,\n",
       "         1.7372e-04],\n",
       "        [7.3190e-02, 8.9473e-01, 4.1069e-05, 9.8442e-03, 5.2059e-05, 2.1974e-02,\n",
       "         1.7372e-04],\n",
       "        [7.3190e-02, 8.9473e-01, 4.1069e-05, 9.8442e-03, 5.2059e-05, 2.1974e-02,\n",
       "         1.7372e-04],\n",
       "        [7.3190e-02, 8.9473e-01, 4.1069e-05, 9.8442e-03, 5.2059e-05, 2.1974e-02,\n",
       "         1.7372e-04],\n",
       "        [7.3190e-02, 8.9473e-01, 4.1069e-05, 9.8442e-03, 5.2059e-05, 2.1974e-02,\n",
       "         1.7372e-04],\n",
       "        [7.3190e-02, 8.9473e-01, 4.1069e-05, 9.8442e-03, 5.2059e-05, 2.1974e-02,\n",
       "         1.7372e-04],\n",
       "        [7.3190e-02, 8.9473e-01, 4.1069e-05, 9.8442e-03, 5.2059e-05, 2.1974e-02,\n",
       "         1.7372e-04],\n",
       "        [7.3190e-02, 8.9473e-01, 4.1069e-05, 9.8442e-03, 5.2059e-05, 2.1974e-02,\n",
       "         1.7372e-04],\n",
       "        [7.3190e-02, 8.9473e-01, 4.1069e-05, 9.8442e-03, 5.2059e-05, 2.1974e-02,\n",
       "         1.7372e-04],\n",
       "        [7.3190e-02, 8.9473e-01, 4.1069e-05, 9.8442e-03, 5.2059e-05, 2.1974e-02,\n",
       "         1.7372e-04],\n",
       "        [7.3190e-02, 8.9473e-01, 4.1069e-05, 9.8442e-03, 5.2059e-05, 2.1974e-02,\n",
       "         1.7372e-04],\n",
       "        [7.3190e-02, 8.9473e-01, 4.1069e-05, 9.8442e-03, 5.2059e-05, 2.1974e-02,\n",
       "         1.7372e-04],\n",
       "        [7.3190e-02, 8.9473e-01, 4.1069e-05, 9.8442e-03, 5.2059e-05, 2.1974e-02,\n",
       "         1.7372e-04],\n",
       "        [7.3190e-02, 8.9473e-01, 4.1069e-05, 9.8442e-03, 5.2059e-05, 2.1974e-02,\n",
       "         1.7372e-04],\n",
       "        [7.3190e-02, 8.9473e-01, 4.1069e-05, 9.8442e-03, 5.2059e-05, 2.1974e-02,\n",
       "         1.7372e-04],\n",
       "        [7.3190e-02, 8.9473e-01, 4.1069e-05, 9.8442e-03, 5.2059e-05, 2.1974e-02,\n",
       "         1.7372e-04],\n",
       "        [7.3190e-02, 8.9473e-01, 4.1069e-05, 9.8442e-03, 5.2059e-05, 2.1974e-02,\n",
       "         1.7372e-04],\n",
       "        [7.3190e-02, 8.9473e-01, 4.1069e-05, 9.8442e-03, 5.2059e-05, 2.1974e-02,\n",
       "         1.7372e-04],\n",
       "        [7.3190e-02, 8.9473e-01, 4.1069e-05, 9.8442e-03, 5.2059e-05, 2.1974e-02,\n",
       "         1.7372e-04],\n",
       "        [7.3190e-02, 8.9473e-01, 4.1069e-05, 9.8442e-03, 5.2059e-05, 2.1974e-02,\n",
       "         1.7372e-04],\n",
       "        [7.3190e-02, 8.9473e-01, 4.1069e-05, 9.8442e-03, 5.2059e-05, 2.1974e-02,\n",
       "         1.7372e-04],\n",
       "        [7.3190e-02, 8.9473e-01, 4.1069e-05, 9.8442e-03, 5.2059e-05, 2.1974e-02,\n",
       "         1.7372e-04],\n",
       "        [7.3190e-02, 8.9473e-01, 4.1069e-05, 9.8442e-03, 5.2059e-05, 2.1974e-02,\n",
       "         1.7372e-04],\n",
       "        [7.3190e-02, 8.9473e-01, 4.1069e-05, 9.8442e-03, 5.2059e-05, 2.1974e-02,\n",
       "         1.7372e-04],\n",
       "        [7.3190e-02, 8.9473e-01, 4.1069e-05, 9.8442e-03, 5.2059e-05, 2.1974e-02,\n",
       "         1.7372e-04],\n",
       "        [7.3190e-02, 8.9473e-01, 4.1069e-05, 9.8442e-03, 5.2059e-05, 2.1974e-02,\n",
       "         1.7372e-04],\n",
       "        [7.3190e-02, 8.9473e-01, 4.1069e-05, 9.8442e-03, 5.2059e-05, 2.1974e-02,\n",
       "         1.7372e-04],\n",
       "        [7.3190e-02, 8.9473e-01, 4.1069e-05, 9.8442e-03, 5.2059e-05, 2.1974e-02,\n",
       "         1.7372e-04],\n",
       "        [7.3190e-02, 8.9473e-01, 4.1069e-05, 9.8442e-03, 5.2059e-05, 2.1974e-02,\n",
       "         1.7372e-04],\n",
       "        [7.3190e-02, 8.9473e-01, 4.1069e-05, 9.8442e-03, 5.2059e-05, 2.1974e-02,\n",
       "         1.7372e-04],\n",
       "        [7.3190e-02, 8.9473e-01, 4.1069e-05, 9.8442e-03, 5.2059e-05, 2.1974e-02,\n",
       "         1.7372e-04],\n",
       "        [7.3190e-02, 8.9473e-01, 4.1069e-05, 9.8442e-03, 5.2059e-05, 2.1974e-02,\n",
       "         1.7372e-04],\n",
       "        [7.3190e-02, 8.9473e-01, 4.1069e-05, 9.8442e-03, 5.2059e-05, 2.1974e-02,\n",
       "         1.7372e-04],\n",
       "        [7.3190e-02, 8.9473e-01, 4.1069e-05, 9.8442e-03, 5.2059e-05, 2.1974e-02,\n",
       "         1.7372e-04],\n",
       "        [7.3190e-02, 8.9473e-01, 4.1069e-05, 9.8442e-03, 5.2059e-05, 2.1974e-02,\n",
       "         1.7372e-04],\n",
       "        [7.3190e-02, 8.9473e-01, 4.1069e-05, 9.8442e-03, 5.2059e-05, 2.1974e-02,\n",
       "         1.7372e-04],\n",
       "        [7.3190e-02, 8.9473e-01, 4.1069e-05, 9.8442e-03, 5.2059e-05, 2.1974e-02,\n",
       "         1.7372e-04],\n",
       "        [7.3190e-02, 8.9473e-01, 4.1069e-05, 9.8442e-03, 5.2059e-05, 2.1974e-02,\n",
       "         1.7372e-04],\n",
       "        [7.3190e-02, 8.9473e-01, 4.1069e-05, 9.8442e-03, 5.2059e-05, 2.1974e-02,\n",
       "         1.7372e-04],\n",
       "        [7.3190e-02, 8.9473e-01, 4.1069e-05, 9.8442e-03, 5.2059e-05, 2.1974e-02,\n",
       "         1.7372e-04],\n",
       "        [7.3190e-02, 8.9473e-01, 4.1069e-05, 9.8442e-03, 5.2059e-05, 2.1974e-02,\n",
       "         1.7372e-04],\n",
       "        [7.3190e-02, 8.9473e-01, 4.1069e-05, 9.8442e-03, 5.2059e-05, 2.1974e-02,\n",
       "         1.7372e-04],\n",
       "        [7.3190e-02, 8.9473e-01, 4.1069e-05, 9.8442e-03, 5.2059e-05, 2.1974e-02,\n",
       "         1.7372e-04],\n",
       "        [7.3190e-02, 8.9473e-01, 4.1069e-05, 9.8442e-03, 5.2059e-05, 2.1974e-02,\n",
       "         1.7372e-04],\n",
       "        [7.3190e-02, 8.9473e-01, 4.1069e-05, 9.8442e-03, 5.2059e-05, 2.1974e-02,\n",
       "         1.7372e-04],\n",
       "        [7.3190e-02, 8.9473e-01, 4.1069e-05, 9.8442e-03, 5.2059e-05, 2.1974e-02,\n",
       "         1.7372e-04],\n",
       "        [7.3190e-02, 8.9473e-01, 4.1069e-05, 9.8442e-03, 5.2059e-05, 2.1974e-02,\n",
       "         1.7372e-04],\n",
       "        [7.3190e-02, 8.9473e-01, 4.1069e-05, 9.8442e-03, 5.2059e-05, 2.1974e-02,\n",
       "         1.7372e-04],\n",
       "        [7.3190e-02, 8.9473e-01, 4.1069e-05, 9.8442e-03, 5.2059e-05, 2.1974e-02,\n",
       "         1.7372e-04],\n",
       "        [7.3190e-02, 8.9473e-01, 4.1069e-05, 9.8442e-03, 5.2059e-05, 2.1974e-02,\n",
       "         1.7372e-04],\n",
       "        [7.3190e-02, 8.9473e-01, 4.1069e-05, 9.8442e-03, 5.2059e-05, 2.1974e-02,\n",
       "         1.7372e-04],\n",
       "        [7.3190e-02, 8.9473e-01, 4.1069e-05, 9.8442e-03, 5.2059e-05, 2.1974e-02,\n",
       "         1.7372e-04],\n",
       "        [7.3190e-02, 8.9473e-01, 4.1069e-05, 9.8442e-03, 5.2059e-05, 2.1974e-02,\n",
       "         1.7372e-04],\n",
       "        [7.3190e-02, 8.9473e-01, 4.1069e-05, 9.8442e-03, 5.2059e-05, 2.1974e-02,\n",
       "         1.7372e-04],\n",
       "        [7.3190e-02, 8.9473e-01, 4.1069e-05, 9.8442e-03, 5.2059e-05, 2.1974e-02,\n",
       "         1.7372e-04],\n",
       "        [7.3190e-02, 8.9473e-01, 4.1069e-05, 9.8442e-03, 5.2059e-05, 2.1974e-02,\n",
       "         1.7372e-04],\n",
       "        [7.3190e-02, 8.9473e-01, 4.1069e-05, 9.8442e-03, 5.2059e-05, 2.1974e-02,\n",
       "         1.7372e-04],\n",
       "        [7.3190e-02, 8.9473e-01, 4.1069e-05, 9.8442e-03, 5.2059e-05, 2.1974e-02,\n",
       "         1.7372e-04],\n",
       "        [7.3190e-02, 8.9473e-01, 4.1069e-05, 9.8442e-03, 5.2059e-05, 2.1974e-02,\n",
       "         1.7372e-04],\n",
       "        [7.3190e-02, 8.9473e-01, 4.1069e-05, 9.8442e-03, 5.2059e-05, 2.1974e-02,\n",
       "         1.7372e-04],\n",
       "        [7.3190e-02, 8.9473e-01, 4.1069e-05, 9.8442e-03, 5.2059e-05, 2.1974e-02,\n",
       "         1.7372e-04],\n",
       "        [7.3190e-02, 8.9473e-01, 4.1069e-05, 9.8442e-03, 5.2059e-05, 2.1974e-02,\n",
       "         1.7372e-04],\n",
       "        [7.3190e-02, 8.9473e-01, 4.1069e-05, 9.8442e-03, 5.2059e-05, 2.1974e-02,\n",
       "         1.7372e-04],\n",
       "        [7.3190e-02, 8.9473e-01, 4.1069e-05, 9.8442e-03, 5.2059e-05, 2.1974e-02,\n",
       "         1.7372e-04],\n",
       "        [7.3190e-02, 8.9473e-01, 4.1069e-05, 9.8442e-03, 5.2059e-05, 2.1974e-02,\n",
       "         1.7372e-04],\n",
       "        [7.3190e-02, 8.9473e-01, 4.1069e-05, 9.8442e-03, 5.2059e-05, 2.1974e-02,\n",
       "         1.7372e-04],\n",
       "        [7.3190e-02, 8.9473e-01, 4.1069e-05, 9.8442e-03, 5.2059e-05, 2.1974e-02,\n",
       "         1.7372e-04],\n",
       "        [7.3190e-02, 8.9473e-01, 4.1069e-05, 9.8442e-03, 5.2059e-05, 2.1974e-02,\n",
       "         1.7372e-04],\n",
       "        [7.3190e-02, 8.9473e-01, 4.1069e-05, 9.8442e-03, 5.2059e-05, 2.1974e-02,\n",
       "         1.7372e-04],\n",
       "        [7.3190e-02, 8.9473e-01, 4.1069e-05, 9.8442e-03, 5.2059e-05, 2.1974e-02,\n",
       "         1.7372e-04]], device='cuda:0')"
      ]
     },
     "execution_count": 20,
     "metadata": {},
     "output_type": "execute_result"
    }
   ],
   "source": [
    "predict_proba"
   ]
  },
  {
   "cell_type": "code",
   "execution_count": null,
   "metadata": {},
   "outputs": [],
   "source": []
  },
  {
   "cell_type": "code",
   "execution_count": null,
   "metadata": {},
   "outputs": [],
   "source": []
  },
  {
   "cell_type": "code",
   "execution_count": 18,
   "metadata": {
    "ExecuteTime": {
     "end_time": "2021-05-04T18:55:27.641488Z",
     "start_time": "2021-05-04T18:55:24.876845Z"
    }
   },
   "outputs": [],
   "source": [
    "test_df = pd.read_pickle('./dataset/clean_test.pkl')\n",
    "test_drop_df = pd.read_pickle('./dataset/clean_drop_test.pkl')"
   ]
  },
  {
   "cell_type": "code",
   "execution_count": 18,
   "metadata": {
    "ExecuteTime": {
     "end_time": "2021-04-20T17:17:48.366892Z",
     "start_time": "2021-04-20T17:17:48.361845Z"
    }
   },
   "outputs": [],
   "source": [
    "test_drop_df['level'] = np.argmax(result[1:], axis=1)"
   ]
  },
  {
   "cell_type": "code",
   "execution_count": 20,
   "metadata": {
    "ExecuteTime": {
     "end_time": "2021-04-20T17:18:03.248132Z",
     "start_time": "2021-04-20T17:18:03.241287Z"
    },
    "scrolled": true
   },
   "outputs": [
    {
     "data": {
      "text/plain": [
       "1    133639\n",
       "0     11415\n",
       "Name: level, dtype: int64"
      ]
     },
     "execution_count": 20,
     "metadata": {},
     "output_type": "execute_result"
    }
   ],
   "source": [
    "test_log_df['level'].value_counts()"
   ]
  },
  {
   "cell_type": "code",
   "execution_count": 33,
   "metadata": {
    "ExecuteTime": {
     "end_time": "2021-04-20T17:25:25.216061Z",
     "start_time": "2021-04-20T17:25:24.566793Z"
    }
   },
   "outputs": [],
   "source": [
    "test_df = pd.merge(test_df, test_log_df, how='left', on='clean_log')"
   ]
  },
  {
   "cell_type": "code",
   "execution_count": 36,
   "metadata": {
    "ExecuteTime": {
     "end_time": "2021-04-20T17:27:17.647260Z",
     "start_time": "2021-04-20T17:27:16.235665Z"
    }
   },
   "outputs": [],
   "source": [
    "pred = test_df[['id', 'level']]\n",
    "pred.to_csv('./bert_baseline.csv', index=False)"
   ]
  }
 ],
 "metadata": {
  "kernelspec": {
   "display_name": "DL_Server",
   "language": "python",
   "name": "dl_server"
  },
  "language_info": {
   "codemirror_mode": {
    "name": "ipython",
    "version": 3
   },
   "file_extension": ".py",
   "mimetype": "text/x-python",
   "name": "python",
   "nbconvert_exporter": "python",
   "pygments_lexer": "ipython3",
   "version": "3.8.8"
  },
  "latex_envs": {
   "LaTeX_envs_menu_present": true,
   "autoclose": false,
   "autocomplete": true,
   "bibliofile": "biblio.bib",
   "cite_by": "apalike",
   "current_citInitial": 1,
   "eqLabelWithNumbers": true,
   "eqNumInitial": 1,
   "hotkeys": {
    "equation": "Ctrl-E",
    "itemize": "Ctrl-I"
   },
   "labels_anchors": false,
   "latex_user_defs": false,
   "report_style_numbering": false,
   "user_envs_cfg": false
  },
  "toc": {
   "base_numbering": 1,
   "nav_menu": {},
   "number_sections": true,
   "sideBar": true,
   "skip_h1_title": false,
   "title_cell": "Table of Contents",
   "title_sidebar": "Contents",
   "toc_cell": false,
   "toc_position": {},
   "toc_section_display": true,
   "toc_window_display": false
  }
 },
 "nbformat": 4,
 "nbformat_minor": 4
}
