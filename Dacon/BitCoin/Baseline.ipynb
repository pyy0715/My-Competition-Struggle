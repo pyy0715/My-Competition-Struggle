{
 "cells": [
  {
   "cell_type": "code",
   "execution_count": 2,
   "metadata": {
    "ExecuteTime": {
     "end_time": "2021-03-23T04:41:22.444557Z",
     "start_time": "2021-03-23T04:41:22.087318Z"
    }
   },
   "outputs": [
    {
     "name": "stderr",
     "output_type": "stream",
     "text": [
      "Importing plotly failed. Interactive plots will not work.\n"
     ]
    }
   ],
   "source": [
    "import numpy as np\n",
    "import pandas as pd\n",
    "import gc\n",
    "import math\n",
    "import os.path\n",
    "import time\n",
    "import matplotlib.pyplot as plt\n",
    "from datetime import timedelta, datetime\n",
    "from dateutil import parser\n",
    "from tqdm import tqdm\n",
    "import copy\n",
    "from statsmodels.tsa.arima.model import ARIMA\n",
    "from statsmodels.graphics.tsaplots import plot_acf, plot_pacf\n",
    "from fbprophet import Prophet\n",
    "import warnings\n",
    "import datetime\n",
    "warnings.filterwarnings(\"ignore\")"
   ]
  },
  {
   "cell_type": "code",
   "execution_count": 5,
   "metadata": {
    "ExecuteTime": {
     "end_time": "2021-03-23T04:42:31.918459Z",
     "start_time": "2021-03-23T04:42:21.225471Z"
    }
   },
   "outputs": [],
   "source": [
    "data_path = './Datasets'\n",
    "train_x_df = pd.read_csv(data_path  + \"/train_x_df.csv\")\n",
    "train_y_df = pd.read_csv(data_path  + \"/train_y_df.csv\")\n",
    "test_x_df = pd.read_csv(data_path  + \"/test_x_df.csv\")"
   ]
  },
  {
   "cell_type": "code",
   "execution_count": 74,
   "metadata": {
    "ExecuteTime": {
     "end_time": "2021-03-23T13:56:25.336371Z",
     "start_time": "2021-03-23T13:56:25.332560Z"
    }
   },
   "outputs": [
    {
     "data": {
      "text/plain": [
       "830511.9"
      ]
     },
     "execution_count": 74,
     "metadata": {},
     "output_type": "execute_result"
    }
   ],
   "source": [
    "8.305119e+05"
   ]
  },
  {
   "cell_type": "code",
   "execution_count": 75,
   "metadata": {
    "ExecuteTime": {
     "end_time": "2021-03-23T14:01:41.036167Z",
     "start_time": "2021-03-23T14:01:41.032832Z"
    }
   },
   "outputs": [
    {
     "data": {
      "text/plain": [
       "6062.130656934307"
      ]
     },
     "execution_count": 75,
     "metadata": {},
     "output_type": "execute_result"
    }
   ],
   "source": [
    "8.305119e+05/137"
   ]
  },
  {
   "cell_type": "code",
   "execution_count": null,
   "metadata": {},
   "outputs": [],
   "source": []
  },
  {
   "cell_type": "code",
   "execution_count": 73,
   "metadata": {
    "ExecuteTime": {
     "end_time": "2021-03-23T13:56:13.516675Z",
     "start_time": "2021-03-23T13:56:13.502279Z"
    }
   },
   "outputs": [
    {
     "data": {
      "text/html": [
       "<div>\n",
       "<style scoped>\n",
       "    .dataframe tbody tr th:only-of-type {\n",
       "        vertical-align: middle;\n",
       "    }\n",
       "\n",
       "    .dataframe tbody tr th {\n",
       "        vertical-align: top;\n",
       "    }\n",
       "\n",
       "    .dataframe thead th {\n",
       "        text-align: right;\n",
       "    }\n",
       "</style>\n",
       "<table border=\"1\" class=\"dataframe\">\n",
       "  <thead>\n",
       "    <tr style=\"text-align: right;\">\n",
       "      <th></th>\n",
       "      <th>sample_id</th>\n",
       "      <th>time</th>\n",
       "      <th>coin_index</th>\n",
       "      <th>open</th>\n",
       "      <th>high</th>\n",
       "      <th>low</th>\n",
       "      <th>close</th>\n",
       "      <th>volume</th>\n",
       "      <th>quote_av</th>\n",
       "      <th>trades</th>\n",
       "      <th>tb_base_av</th>\n",
       "      <th>tb_quote_av</th>\n",
       "    </tr>\n",
       "  </thead>\n",
       "  <tbody>\n",
       "    <tr>\n",
       "      <th>0</th>\n",
       "      <td>0</td>\n",
       "      <td>0</td>\n",
       "      <td>7</td>\n",
       "      <td>1.000392</td>\n",
       "      <td>1.000588</td>\n",
       "      <td>1.000392</td>\n",
       "      <td>1.000588</td>\n",
       "      <td>8.305119e+05</td>\n",
       "      <td>42356.179688</td>\n",
       "      <td>137.308746</td>\n",
       "      <td>8.305119e+05</td>\n",
       "      <td>42356.179688</td>\n",
       "    </tr>\n",
       "    <tr>\n",
       "      <th>1</th>\n",
       "      <td>0</td>\n",
       "      <td>1</td>\n",
       "      <td>7</td>\n",
       "      <td>1.000588</td>\n",
       "      <td>1.001177</td>\n",
       "      <td>1.000392</td>\n",
       "      <td>1.001177</td>\n",
       "      <td>5.320066e+05</td>\n",
       "      <td>27140.638672</td>\n",
       "      <td>294.233032</td>\n",
       "      <td>4.882738e+05</td>\n",
       "      <td>24909.861328</td>\n",
       "    </tr>\n",
       "    <tr>\n",
       "      <th>2</th>\n",
       "      <td>0</td>\n",
       "      <td>2</td>\n",
       "      <td>7</td>\n",
       "      <td>1.001177</td>\n",
       "      <td>1.001177</td>\n",
       "      <td>1.001177</td>\n",
       "      <td>1.001177</td>\n",
       "      <td>5.113770e+05</td>\n",
       "      <td>26100.681641</td>\n",
       "      <td>58.846603</td>\n",
       "      <td>5.113770e+05</td>\n",
       "      <td>26100.681641</td>\n",
       "    </tr>\n",
       "    <tr>\n",
       "      <th>3</th>\n",
       "      <td>0</td>\n",
       "      <td>3</td>\n",
       "      <td>7</td>\n",
       "      <td>1.001177</td>\n",
       "      <td>1.001373</td>\n",
       "      <td>1.001177</td>\n",
       "      <td>1.001373</td>\n",
       "      <td>1.134853e+06</td>\n",
       "      <td>57929.410156</td>\n",
       "      <td>137.308746</td>\n",
       "      <td>1.095514e+06</td>\n",
       "      <td>55921.156250</td>\n",
       "    </tr>\n",
       "    <tr>\n",
       "      <th>4</th>\n",
       "      <td>0</td>\n",
       "      <td>4</td>\n",
       "      <td>7</td>\n",
       "      <td>1.000981</td>\n",
       "      <td>1.000981</td>\n",
       "      <td>0.999804</td>\n",
       "      <td>1.000196</td>\n",
       "      <td>5.801173e+06</td>\n",
       "      <td>295872.343750</td>\n",
       "      <td>666.928162</td>\n",
       "      <td>9.911239e+05</td>\n",
       "      <td>50528.589844</td>\n",
       "    </tr>\n",
       "    <tr>\n",
       "      <th>5</th>\n",
       "      <td>0</td>\n",
       "      <td>5</td>\n",
       "      <td>7</td>\n",
       "      <td>1.000196</td>\n",
       "      <td>1.000196</td>\n",
       "      <td>0.999215</td>\n",
       "      <td>0.999215</td>\n",
       "      <td>1.173234e+07</td>\n",
       "      <td>597972.125000</td>\n",
       "      <td>1000.392273</td>\n",
       "      <td>9.602350e+06</td>\n",
       "      <td>489444.593750</td>\n",
       "    </tr>\n",
       "    <tr>\n",
       "      <th>6</th>\n",
       "      <td>0</td>\n",
       "      <td>6</td>\n",
       "      <td>7</td>\n",
       "      <td>0.999804</td>\n",
       "      <td>1.000196</td>\n",
       "      <td>0.999804</td>\n",
       "      <td>1.000196</td>\n",
       "      <td>8.071648e+06</td>\n",
       "      <td>411537.437500</td>\n",
       "      <td>451.157288</td>\n",
       "      <td>7.246620e+06</td>\n",
       "      <td>369485.812500</td>\n",
       "    </tr>\n",
       "    <tr>\n",
       "      <th>7</th>\n",
       "      <td>0</td>\n",
       "      <td>7</td>\n",
       "      <td>7</td>\n",
       "      <td>1.000196</td>\n",
       "      <td>1.000196</td>\n",
       "      <td>0.998431</td>\n",
       "      <td>0.999411</td>\n",
       "      <td>8.704294e+06</td>\n",
       "      <td>443386.625000</td>\n",
       "      <td>686.543701</td>\n",
       "      <td>1.935653e+06</td>\n",
       "      <td>98695.015625</td>\n",
       "    </tr>\n",
       "    <tr>\n",
       "      <th>8</th>\n",
       "      <td>0</td>\n",
       "      <td>8</td>\n",
       "      <td>7</td>\n",
       "      <td>0.999019</td>\n",
       "      <td>0.999804</td>\n",
       "      <td>0.998823</td>\n",
       "      <td>0.999411</td>\n",
       "      <td>2.429816e+05</td>\n",
       "      <td>12374.450195</td>\n",
       "      <td>117.693207</td>\n",
       "      <td>2.535504e+04</td>\n",
       "      <td>1292.153931</td>\n",
       "    </tr>\n",
       "    <tr>\n",
       "      <th>9</th>\n",
       "      <td>0</td>\n",
       "      <td>9</td>\n",
       "      <td>7</td>\n",
       "      <td>0.999411</td>\n",
       "      <td>0.999608</td>\n",
       "      <td>0.998627</td>\n",
       "      <td>0.999215</td>\n",
       "      <td>1.062364e+06</td>\n",
       "      <td>54117.152344</td>\n",
       "      <td>215.770889</td>\n",
       "      <td>6.478560e+05</td>\n",
       "      <td>33008.457031</td>\n",
       "    </tr>\n",
       "    <tr>\n",
       "      <th>10</th>\n",
       "      <td>0</td>\n",
       "      <td>10</td>\n",
       "      <td>7</td>\n",
       "      <td>0.999411</td>\n",
       "      <td>0.999411</td>\n",
       "      <td>0.999411</td>\n",
       "      <td>0.999411</td>\n",
       "      <td>1.137721e+05</td>\n",
       "      <td>5796.687012</td>\n",
       "      <td>19.615536</td>\n",
       "      <td>1.137721e+05</td>\n",
       "      <td>5796.687012</td>\n",
       "    </tr>\n",
       "    <tr>\n",
       "      <th>11</th>\n",
       "      <td>0</td>\n",
       "      <td>11</td>\n",
       "      <td>7</td>\n",
       "      <td>0.999804</td>\n",
       "      <td>1.000196</td>\n",
       "      <td>0.999804</td>\n",
       "      <td>1.000000</td>\n",
       "      <td>1.547183e+06</td>\n",
       "      <td>78877.960938</td>\n",
       "      <td>117.693207</td>\n",
       "      <td>1.547183e+06</td>\n",
       "      <td>78877.960938</td>\n",
       "    </tr>\n",
       "    <tr>\n",
       "      <th>12</th>\n",
       "      <td>0</td>\n",
       "      <td>12</td>\n",
       "      <td>7</td>\n",
       "      <td>1.000000</td>\n",
       "      <td>1.000196</td>\n",
       "      <td>0.999411</td>\n",
       "      <td>1.000196</td>\n",
       "      <td>2.022428e+06</td>\n",
       "      <td>103119.539062</td>\n",
       "      <td>117.693207</td>\n",
       "      <td>2.014464e+06</td>\n",
       "      <td>102713.664062</td>\n",
       "    </tr>\n",
       "    <tr>\n",
       "      <th>13</th>\n",
       "      <td>0</td>\n",
       "      <td>13</td>\n",
       "      <td>7</td>\n",
       "      <td>1.000196</td>\n",
       "      <td>1.000196</td>\n",
       "      <td>1.000000</td>\n",
       "      <td>1.000000</td>\n",
       "      <td>3.436548e+06</td>\n",
       "      <td>175228.687500</td>\n",
       "      <td>78.462143</td>\n",
       "      <td>3.349558e+06</td>\n",
       "      <td>170794.000000</td>\n",
       "    </tr>\n",
       "    <tr>\n",
       "      <th>14</th>\n",
       "      <td>0</td>\n",
       "      <td>14</td>\n",
       "      <td>7</td>\n",
       "      <td>1.000196</td>\n",
       "      <td>1.000392</td>\n",
       "      <td>1.000196</td>\n",
       "      <td>1.000392</td>\n",
       "      <td>1.887014e+05</td>\n",
       "      <td>9623.740234</td>\n",
       "      <td>58.846603</td>\n",
       "      <td>1.887014e+05</td>\n",
       "      <td>9623.740234</td>\n",
       "    </tr>\n",
       "  </tbody>\n",
       "</table>\n",
       "</div>"
      ],
      "text/plain": [
       "    sample_id  time  coin_index      open      high       low     close  \\\n",
       "0           0     0           7  1.000392  1.000588  1.000392  1.000588   \n",
       "1           0     1           7  1.000588  1.001177  1.000392  1.001177   \n",
       "2           0     2           7  1.001177  1.001177  1.001177  1.001177   \n",
       "3           0     3           7  1.001177  1.001373  1.001177  1.001373   \n",
       "4           0     4           7  1.000981  1.000981  0.999804  1.000196   \n",
       "5           0     5           7  1.000196  1.000196  0.999215  0.999215   \n",
       "6           0     6           7  0.999804  1.000196  0.999804  1.000196   \n",
       "7           0     7           7  1.000196  1.000196  0.998431  0.999411   \n",
       "8           0     8           7  0.999019  0.999804  0.998823  0.999411   \n",
       "9           0     9           7  0.999411  0.999608  0.998627  0.999215   \n",
       "10          0    10           7  0.999411  0.999411  0.999411  0.999411   \n",
       "11          0    11           7  0.999804  1.000196  0.999804  1.000000   \n",
       "12          0    12           7  1.000000  1.000196  0.999411  1.000196   \n",
       "13          0    13           7  1.000196  1.000196  1.000000  1.000000   \n",
       "14          0    14           7  1.000196  1.000392  1.000196  1.000392   \n",
       "\n",
       "          volume       quote_av       trades    tb_base_av    tb_quote_av  \n",
       "0   8.305119e+05   42356.179688   137.308746  8.305119e+05   42356.179688  \n",
       "1   5.320066e+05   27140.638672   294.233032  4.882738e+05   24909.861328  \n",
       "2   5.113770e+05   26100.681641    58.846603  5.113770e+05   26100.681641  \n",
       "3   1.134853e+06   57929.410156   137.308746  1.095514e+06   55921.156250  \n",
       "4   5.801173e+06  295872.343750   666.928162  9.911239e+05   50528.589844  \n",
       "5   1.173234e+07  597972.125000  1000.392273  9.602350e+06  489444.593750  \n",
       "6   8.071648e+06  411537.437500   451.157288  7.246620e+06  369485.812500  \n",
       "7   8.704294e+06  443386.625000   686.543701  1.935653e+06   98695.015625  \n",
       "8   2.429816e+05   12374.450195   117.693207  2.535504e+04    1292.153931  \n",
       "9   1.062364e+06   54117.152344   215.770889  6.478560e+05   33008.457031  \n",
       "10  1.137721e+05    5796.687012    19.615536  1.137721e+05    5796.687012  \n",
       "11  1.547183e+06   78877.960938   117.693207  1.547183e+06   78877.960938  \n",
       "12  2.022428e+06  103119.539062   117.693207  2.014464e+06  102713.664062  \n",
       "13  3.436548e+06  175228.687500    78.462143  3.349558e+06  170794.000000  \n",
       "14  1.887014e+05    9623.740234    58.846603  1.887014e+05    9623.740234  "
      ]
     },
     "execution_count": 73,
     "metadata": {},
     "output_type": "execute_result"
    }
   ],
   "source": [
    "train_y_df.head(15)"
   ]
  },
  {
   "cell_type": "code",
   "execution_count": null,
   "metadata": {},
   "outputs": [],
   "source": []
  },
  {
   "cell_type": "code",
   "execution_count": 89,
   "metadata": {
    "ExecuteTime": {
     "end_time": "2021-03-23T14:06:26.441353Z",
     "start_time": "2021-03-23T14:06:17.540590Z"
    }
   },
   "outputs": [],
   "source": [
    "train_y_df['sample'] = train_y_df.apply(lambda x: x['open'] * (x['volume'] / x['trades']), axis=1)"
   ]
  },
  {
   "cell_type": "code",
   "execution_count": 90,
   "metadata": {
    "ExecuteTime": {
     "end_time": "2021-03-23T14:06:27.224743Z",
     "start_time": "2021-03-23T14:06:27.210442Z"
    }
   },
   "outputs": [
    {
     "data": {
      "text/html": [
       "<div>\n",
       "<style scoped>\n",
       "    .dataframe tbody tr th:only-of-type {\n",
       "        vertical-align: middle;\n",
       "    }\n",
       "\n",
       "    .dataframe tbody tr th {\n",
       "        vertical-align: top;\n",
       "    }\n",
       "\n",
       "    .dataframe thead th {\n",
       "        text-align: right;\n",
       "    }\n",
       "</style>\n",
       "<table border=\"1\" class=\"dataframe\">\n",
       "  <thead>\n",
       "    <tr style=\"text-align: right;\">\n",
       "      <th></th>\n",
       "      <th>sample_id</th>\n",
       "      <th>time</th>\n",
       "      <th>coin_index</th>\n",
       "      <th>open</th>\n",
       "      <th>high</th>\n",
       "      <th>low</th>\n",
       "      <th>close</th>\n",
       "      <th>volume</th>\n",
       "      <th>quote_av</th>\n",
       "      <th>trades</th>\n",
       "      <th>tb_base_av</th>\n",
       "      <th>tb_quote_av</th>\n",
       "      <th>sample</th>\n",
       "    </tr>\n",
       "  </thead>\n",
       "  <tbody>\n",
       "    <tr>\n",
       "      <th>0</th>\n",
       "      <td>0</td>\n",
       "      <td>0</td>\n",
       "      <td>7</td>\n",
       "      <td>1.000392</td>\n",
       "      <td>1.000588</td>\n",
       "      <td>1.000392</td>\n",
       "      <td>1.000588</td>\n",
       "      <td>8.305119e+05</td>\n",
       "      <td>42356.179688</td>\n",
       "      <td>137.308746</td>\n",
       "      <td>8.305119e+05</td>\n",
       "      <td>42356.179688</td>\n",
       "      <td>6050.872827</td>\n",
       "    </tr>\n",
       "    <tr>\n",
       "      <th>1</th>\n",
       "      <td>0</td>\n",
       "      <td>1</td>\n",
       "      <td>7</td>\n",
       "      <td>1.000588</td>\n",
       "      <td>1.001177</td>\n",
       "      <td>1.000392</td>\n",
       "      <td>1.001177</td>\n",
       "      <td>5.320066e+05</td>\n",
       "      <td>27140.638672</td>\n",
       "      <td>294.233032</td>\n",
       "      <td>4.882738e+05</td>\n",
       "      <td>24909.861328</td>\n",
       "      <td>1809.177110</td>\n",
       "    </tr>\n",
       "    <tr>\n",
       "      <th>2</th>\n",
       "      <td>0</td>\n",
       "      <td>2</td>\n",
       "      <td>7</td>\n",
       "      <td>1.001177</td>\n",
       "      <td>1.001177</td>\n",
       "      <td>1.001177</td>\n",
       "      <td>1.001177</td>\n",
       "      <td>5.113770e+05</td>\n",
       "      <td>26100.681641</td>\n",
       "      <td>58.846603</td>\n",
       "      <td>5.113770e+05</td>\n",
       "      <td>26100.681641</td>\n",
       "      <td>8700.228005</td>\n",
       "    </tr>\n",
       "    <tr>\n",
       "      <th>3</th>\n",
       "      <td>0</td>\n",
       "      <td>3</td>\n",
       "      <td>7</td>\n",
       "      <td>1.001177</td>\n",
       "      <td>1.001373</td>\n",
       "      <td>1.001177</td>\n",
       "      <td>1.001373</td>\n",
       "      <td>1.134853e+06</td>\n",
       "      <td>57929.410156</td>\n",
       "      <td>137.308746</td>\n",
       "      <td>1.095514e+06</td>\n",
       "      <td>55921.156250</td>\n",
       "      <td>8274.698984</td>\n",
       "    </tr>\n",
       "    <tr>\n",
       "      <th>4</th>\n",
       "      <td>0</td>\n",
       "      <td>4</td>\n",
       "      <td>7</td>\n",
       "      <td>1.000981</td>\n",
       "      <td>1.000981</td>\n",
       "      <td>0.999804</td>\n",
       "      <td>1.000196</td>\n",
       "      <td>5.801173e+06</td>\n",
       "      <td>295872.343750</td>\n",
       "      <td>666.928162</td>\n",
       "      <td>9.911239e+05</td>\n",
       "      <td>50528.589844</td>\n",
       "      <td>8706.878411</td>\n",
       "    </tr>\n",
       "  </tbody>\n",
       "</table>\n",
       "</div>"
      ],
      "text/plain": [
       "   sample_id  time  coin_index      open      high       low     close  \\\n",
       "0          0     0           7  1.000392  1.000588  1.000392  1.000588   \n",
       "1          0     1           7  1.000588  1.001177  1.000392  1.001177   \n",
       "2          0     2           7  1.001177  1.001177  1.001177  1.001177   \n",
       "3          0     3           7  1.001177  1.001373  1.001177  1.001373   \n",
       "4          0     4           7  1.000981  1.000981  0.999804  1.000196   \n",
       "\n",
       "         volume       quote_av      trades    tb_base_av   tb_quote_av  \\\n",
       "0  8.305119e+05   42356.179688  137.308746  8.305119e+05  42356.179688   \n",
       "1  5.320066e+05   27140.638672  294.233032  4.882738e+05  24909.861328   \n",
       "2  5.113770e+05   26100.681641   58.846603  5.113770e+05  26100.681641   \n",
       "3  1.134853e+06   57929.410156  137.308746  1.095514e+06  55921.156250   \n",
       "4  5.801173e+06  295872.343750  666.928162  9.911239e+05  50528.589844   \n",
       "\n",
       "        sample  \n",
       "0  6050.872827  \n",
       "1  1809.177110  \n",
       "2  8700.228005  \n",
       "3  8274.698984  \n",
       "4  8706.878411  "
      ]
     },
     "execution_count": 90,
     "metadata": {},
     "output_type": "execute_result"
    }
   ],
   "source": [
    "train_y_df.head()"
   ]
  },
  {
   "cell_type": "code",
   "execution_count": 98,
   "metadata": {
    "ExecuteTime": {
     "end_time": "2021-03-23T14:07:08.783593Z",
     "start_time": "2021-03-23T14:07:08.632856Z"
    }
   },
   "outputs": [
    {
     "data": {
      "text/plain": [
       "<seaborn.axisgrid.FacetGrid at 0x7f5a9b9d04d0>"
      ]
     },
     "execution_count": 98,
     "metadata": {},
     "output_type": "execute_result"
    },
    {
     "data": {
      "image/png": "[encoded data removed]",
      "text/plain": [
       "<Figure size 360x360 with 1 Axes>"
      ]
     },
     "metadata": {
      "needs_background": "light"
     },
     "output_type": "display_data"
    }
   ],
   "source": [
    "import seaborn as sns\n",
    "\n",
    "sns.displot(train_y_df.loc[train_y_df['sample_id']==10]['sample'], kind='kde')"
   ]
  },
  {
   "cell_type": "code",
   "execution_count": null,
   "metadata": {},
   "outputs": [],
   "source": []
  },
  {
   "cell_type": "code",
   "execution_count": null,
   "metadata": {},
   "outputs": [],
   "source": []
  },
  {
   "cell_type": "code",
   "execution_count": null,
   "metadata": {},
   "outputs": [],
   "source": []
  },
  {
   "cell_type": "code",
   "execution_count": 64,
   "metadata": {
    "ExecuteTime": {
     "end_time": "2021-03-23T05:33:30.986205Z",
     "start_time": "2021-03-23T05:33:30.981662Z"
    }
   },
   "outputs": [
    {
     "data": {
      "text/plain": [
       "0.12622599839124965"
      ]
     },
     "execution_count": 64,
     "metadata": {},
     "output_type": "execute_result"
    }
   ],
   "source": [
    "(1.009808*39.231071)/(313.848572)"
   ]
  },
  {
   "cell_type": "code",
   "execution_count": 65,
   "metadata": {
    "ExecuteTime": {
     "end_time": "2021-03-23T06:02:33.999566Z",
     "start_time": "2021-03-23T06:02:33.996367Z"
    }
   },
   "outputs": [
    {
     "data": {
      "text/plain": [
       "2500.0"
      ]
     },
     "execution_count": 65,
     "metadata": {},
     "output_type": "execute_result"
    }
   ],
   "source": [
    "2.5e+3"
   ]
  },
  {
   "cell_type": "code",
   "execution_count": null,
   "metadata": {},
   "outputs": [],
   "source": []
  },
  {
   "cell_type": "code",
   "execution_count": 61,
   "metadata": {
    "ExecuteTime": {
     "end_time": "2021-03-23T05:30:36.119783Z",
     "start_time": "2021-03-23T05:30:36.115944Z"
    }
   },
   "outputs": [
    {
     "data": {
      "text/plain": [
       "0.1258217252396166"
      ]
     },
     "execution_count": 61,
     "metadata": {},
     "output_type": "execute_result"
    }
   ],
   "source": [
    "1.0098 * (39/313)"
   ]
  },
  {
   "cell_type": "code",
   "execution_count": 62,
   "metadata": {
    "ExecuteTime": {
     "end_time": "2021-03-23T05:30:41.485658Z",
     "start_time": "2021-03-23T05:30:41.481919Z"
    }
   },
   "outputs": [
    {
     "data": {
      "text/plain": [
       "1.4550153354632587"
      ]
     },
     "execution_count": 62,
     "metadata": {},
     "output_type": "execute_result"
    }
   ],
   "source": [
    "1.0098 * (451/313)"
   ]
  },
  {
   "cell_type": "code",
   "execution_count": null,
   "metadata": {},
   "outputs": [],
   "source": [
    "# 건바이량 = 거래량 / 거래 건수\n",
    "\n"
   ]
  },
  {
   "cell_type": "code",
   "execution_count": 58,
   "metadata": {
    "ExecuteTime": {
     "end_time": "2021-03-23T05:29:15.545006Z",
     "start_time": "2021-03-23T05:29:15.419326Z"
    }
   },
   "outputs": [
    {
     "data": {
      "text/plain": [
       "sample_id\n",
       "0       313.848572\n",
       "1         3.147624\n",
       "2        42.599419\n",
       "3       257.746399\n",
       "4         0.033450\n",
       "           ...    \n",
       "7357      0.152213\n",
       "7358      0.026188\n",
       "7359      0.132714\n",
       "7360      4.386314\n",
       "7361      0.642631\n",
       "Name: trades, Length: 7362, dtype: float64"
      ]
     },
     "execution_count": 58,
     "metadata": {},
     "output_type": "execute_result"
    }
   ],
   "source": [
    "train_x_df.groupby('sample_id')['trades'].last()"
   ]
  },
  {
   "cell_type": "code",
   "execution_count": null,
   "metadata": {},
   "outputs": [],
   "source": []
  },
  {
   "cell_type": "code",
   "execution_count": null,
   "metadata": {},
   "outputs": [],
   "source": []
  },
  {
   "cell_type": "code",
   "execution_count": 6,
   "metadata": {
    "ExecuteTime": {
     "end_time": "2021-03-23T04:42:31.922645Z",
     "start_time": "2021-03-23T04:42:31.919526Z"
    }
   },
   "outputs": [],
   "source": [
    "def df2d_to_array3d(df_2d):\n",
    "    # 입력 받은 2차원 데이터 프레임을 3차원 numpy array로 변경하는 함수\n",
    "    feature_size = df_2d.iloc[:,2:].shape[1]\n",
    "    time_size = len(df_2d.time.value_counts())\n",
    "    sample_size = len(df_2d.sample_id.value_counts())\n",
    "    sample_index = df_2d.sample_id.value_counts().index\n",
    "    array_3d = df_2d.iloc[:,2:].values.reshape([sample_size, time_size, feature_size])\n",
    "    return array_3d"
   ]
  },
  {
   "cell_type": "code",
   "execution_count": 7,
   "metadata": {
    "ExecuteTime": {
     "end_time": "2021-03-23T04:42:38.382190Z",
     "start_time": "2021-03-23T04:42:37.746130Z"
    }
   },
   "outputs": [],
   "source": [
    "train_x_array = df2d_to_array3d(train_x_df)\n",
    "train_y_array = df2d_to_array3d(train_y_df)\n",
    "test_x_array = df2d_to_array3d(test_x_df)"
   ]
  },
  {
   "cell_type": "code",
   "execution_count": 8,
   "metadata": {
    "ExecuteTime": {
     "end_time": "2021-03-23T04:42:46.378518Z",
     "start_time": "2021-03-23T04:42:46.375620Z"
    }
   },
   "outputs": [
    {
     "name": "stdout",
     "output_type": "stream",
     "text": [
      "(7362, 1380, 10)\n"
     ]
    }
   ],
   "source": [
    "print(train_x_array.shape)"
   ]
  },
  {
   "cell_type": "code",
   "execution_count": 9,
   "metadata": {
    "ExecuteTime": {
     "end_time": "2021-03-23T04:43:34.182569Z",
     "start_time": "2021-03-23T04:43:34.178213Z"
    }
   },
   "outputs": [],
   "source": [
    "def plot_series(x_series, y_series):\n",
    "    #입력 series와 출력 series를 연속적으로 연결하여 시각적으로 보여주는 코드 입니다.\n",
    "    plt.plot(x_series, label = 'input_series')\n",
    "    plt.plot(np.arange(len(x_series), len(x_series)+len(y_series)),\n",
    "             y_series, label = 'output_series')\n",
    "    plt.axhline(1, c = 'red')\n",
    "    plt.legend()"
   ]
  },
  {
   "cell_type": "code",
   "execution_count": 77,
   "metadata": {
    "ExecuteTime": {
     "end_time": "2021-03-23T14:02:51.977765Z",
     "start_time": "2021-03-23T14:02:51.874088Z"
    }
   },
   "outputs": [
    {
     "data": {
      "image/png": "[encoded data removed]",
      "text/plain": [
       "<Figure size 432x288 with 1 Axes>"
      ]
     },
     "metadata": {
      "needs_background": "light"
     },
     "output_type": "display_data"
    }
   ],
   "source": [
    "idx = 0\n",
    "plot_series(train_x_array[idx,:,1], train_y_array[idx,:,1])\n",
    "plt.show()"
   ]
  },
  {
   "cell_type": "code",
   "execution_count": 11,
   "metadata": {
    "ExecuteTime": {
     "end_time": "2021-03-23T04:44:21.267127Z",
     "start_time": "2021-03-23T04:44:21.263723Z"
    }
   },
   "outputs": [],
   "source": [
    "start_time = '2021-01-31 00:00:00'\n",
    "start_dt = datetime.datetime.strptime(start_time, '%Y-%m-%d %H:%M:%S')"
   ]
  },
  {
   "cell_type": "code",
   "execution_count": 12,
   "metadata": {
    "ExecuteTime": {
     "end_time": "2021-03-23T04:44:27.692853Z",
     "start_time": "2021-03-23T04:44:27.689152Z"
    }
   },
   "outputs": [],
   "source": [
    "idx = 1121\n",
    "# train data 중 sample_id 1121에 해당하는 x_series로 arima 모델을 학습한 후\n",
    "# y_sereis를 추론\n",
    "x_series = train_x_array[idx,:,1]\n",
    "y_series = train_y_array[idx,:,1]"
   ]
  },
  {
   "cell_type": "code",
   "execution_count": 13,
   "metadata": {
    "ExecuteTime": {
     "end_time": "2021-03-23T04:44:34.128509Z",
     "start_time": "2021-03-23T04:44:34.113088Z"
    }
   },
   "outputs": [],
   "source": [
    "x_df = pd.DataFrame()\n",
    "x_df['ds'] = [start_dt + datetime.timedelta(minutes = time_min) for time_min in np.arange(1, x_series.shape[0]+1).tolist()]\n",
    "x_df['y'] = x_series.tolist()"
   ]
  },
  {
   "cell_type": "code",
   "execution_count": 14,
   "metadata": {
    "ExecuteTime": {
     "end_time": "2021-03-23T04:44:37.014657Z",
     "start_time": "2021-03-23T04:44:37.000170Z"
    }
   },
   "outputs": [
    {
     "data": {
      "text/html": [
       "<div>\n",
       "<style scoped>\n",
       "    .dataframe tbody tr th:only-of-type {\n",
       "        vertical-align: middle;\n",
       "    }\n",
       "\n",
       "    .dataframe tbody tr th {\n",
       "        vertical-align: top;\n",
       "    }\n",
       "\n",
       "    .dataframe thead th {\n",
       "        text-align: right;\n",
       "    }\n",
       "</style>\n",
       "<table border=\"1\" class=\"dataframe\">\n",
       "  <thead>\n",
       "    <tr style=\"text-align: right;\">\n",
       "      <th></th>\n",
       "      <th>ds</th>\n",
       "      <th>y</th>\n",
       "    </tr>\n",
       "  </thead>\n",
       "  <tbody>\n",
       "    <tr>\n",
       "      <th>0</th>\n",
       "      <td>2021-01-31 00:01:00</td>\n",
       "      <td>1.024379</td>\n",
       "    </tr>\n",
       "    <tr>\n",
       "      <th>1</th>\n",
       "      <td>2021-01-31 00:02:00</td>\n",
       "      <td>1.024140</td>\n",
       "    </tr>\n",
       "    <tr>\n",
       "      <th>2</th>\n",
       "      <td>2021-01-31 00:03:00</td>\n",
       "      <td>1.023901</td>\n",
       "    </tr>\n",
       "    <tr>\n",
       "      <th>3</th>\n",
       "      <td>2021-01-31 00:04:00</td>\n",
       "      <td>1.024140</td>\n",
       "    </tr>\n",
       "    <tr>\n",
       "      <th>4</th>\n",
       "      <td>2021-01-31 00:05:00</td>\n",
       "      <td>1.024618</td>\n",
       "    </tr>\n",
       "  </tbody>\n",
       "</table>\n",
       "</div>"
      ],
      "text/plain": [
       "                   ds         y\n",
       "0 2021-01-31 00:01:00  1.024379\n",
       "1 2021-01-31 00:02:00  1.024140\n",
       "2 2021-01-31 00:03:00  1.023901\n",
       "3 2021-01-31 00:04:00  1.024140\n",
       "4 2021-01-31 00:05:00  1.024618"
      ]
     },
     "execution_count": 14,
     "metadata": {},
     "output_type": "execute_result"
    }
   ],
   "source": [
    "x_df.head()"
   ]
  },
  {
   "cell_type": "code",
   "execution_count": 15,
   "metadata": {
    "ExecuteTime": {
     "end_time": "2021-03-23T04:45:21.321051Z",
     "start_time": "2021-03-23T04:45:20.267664Z"
    }
   },
   "outputs": [
    {
     "data": {
      "text/plain": [
       "<fbprophet.forecaster.Prophet at 0x7f5abf0c0c90>"
      ]
     },
     "execution_count": 15,
     "metadata": {},
     "output_type": "execute_result"
    }
   ],
   "source": [
    "prophet = Prophet(seasonality_mode='multiplicative', \n",
    "                  yearly_seasonality=False,\n",
    "                  weekly_seasonality=False, daily_seasonality=False)\n",
    "prophet.fit(x_df)"
   ]
  },
  {
   "cell_type": "code",
   "execution_count": 16,
   "metadata": {
    "ExecuteTime": {
     "end_time": "2021-03-23T04:45:33.239810Z",
     "start_time": "2021-03-23T04:45:32.107059Z"
    }
   },
   "outputs": [
    {
     "data": {
      "text/html": [
       "<div>\n",
       "<style scoped>\n",
       "    .dataframe tbody tr th:only-of-type {\n",
       "        vertical-align: middle;\n",
       "    }\n",
       "\n",
       "    .dataframe tbody tr th {\n",
       "        vertical-align: top;\n",
       "    }\n",
       "\n",
       "    .dataframe thead th {\n",
       "        text-align: right;\n",
       "    }\n",
       "</style>\n",
       "<table border=\"1\" class=\"dataframe\">\n",
       "  <thead>\n",
       "    <tr style=\"text-align: right;\">\n",
       "      <th></th>\n",
       "      <th>ds</th>\n",
       "      <th>yhat</th>\n",
       "      <th>yhat_lower</th>\n",
       "      <th>yhat_upper</th>\n",
       "    </tr>\n",
       "  </thead>\n",
       "  <tbody>\n",
       "    <tr>\n",
       "      <th>1495</th>\n",
       "      <td>2021-02-01 00:56:00</td>\n",
       "      <td>0.999295</td>\n",
       "      <td>0.986173</td>\n",
       "      <td>1.012911</td>\n",
       "    </tr>\n",
       "    <tr>\n",
       "      <th>1496</th>\n",
       "      <td>2021-02-01 00:57:00</td>\n",
       "      <td>0.999263</td>\n",
       "      <td>0.985952</td>\n",
       "      <td>1.012935</td>\n",
       "    </tr>\n",
       "    <tr>\n",
       "      <th>1497</th>\n",
       "      <td>2021-02-01 00:58:00</td>\n",
       "      <td>0.999231</td>\n",
       "      <td>0.985559</td>\n",
       "      <td>1.013184</td>\n",
       "    </tr>\n",
       "    <tr>\n",
       "      <th>1498</th>\n",
       "      <td>2021-02-01 00:59:00</td>\n",
       "      <td>0.999199</td>\n",
       "      <td>0.985076</td>\n",
       "      <td>1.014237</td>\n",
       "    </tr>\n",
       "    <tr>\n",
       "      <th>1499</th>\n",
       "      <td>2021-02-01 01:00:00</td>\n",
       "      <td>0.999167</td>\n",
       "      <td>0.985181</td>\n",
       "      <td>1.013355</td>\n",
       "    </tr>\n",
       "  </tbody>\n",
       "</table>\n",
       "</div>"
      ],
      "text/plain": [
       "                      ds      yhat  yhat_lower  yhat_upper\n",
       "1495 2021-02-01 00:56:00  0.999295    0.986173    1.012911\n",
       "1496 2021-02-01 00:57:00  0.999263    0.985952    1.012935\n",
       "1497 2021-02-01 00:58:00  0.999231    0.985559    1.013184\n",
       "1498 2021-02-01 00:59:00  0.999199    0.985076    1.014237\n",
       "1499 2021-02-01 01:00:00  0.999167    0.985181    1.013355"
      ]
     },
     "execution_count": 16,
     "metadata": {},
     "output_type": "execute_result"
    }
   ],
   "source": [
    "future_data = prophet.make_future_dataframe(periods=120, freq='min')\n",
    "forecast_data = prophet.predict(future_data)\n",
    "forecast_data[['ds', 'yhat', 'yhat_lower', 'yhat_upper']].tail(5)"
   ]
  },
  {
   "cell_type": "code",
   "execution_count": 17,
   "metadata": {
    "ExecuteTime": {
     "end_time": "2021-03-23T04:45:49.282736Z",
     "start_time": "2021-03-23T04:45:49.158752Z"
    }
   },
   "outputs": [
    {
     "data": {
      "image/png": "[encoded data removed]",
      "text/plain": [
       "<Figure size 432x288 with 1 Axes>"
      ]
     },
     "metadata": {
      "needs_background": "light"
     },
     "output_type": "display_data"
    }
   ],
   "source": [
    "pred_y = forecast_data.yhat.values[-120:]\n",
    "pred_y_lower = forecast_data.yhat_lower.values[-120:]\n",
    "pred_y_upper = forecast_data.yhat_upper.values[-120:]\n",
    "\n",
    "plot_series(x_series, y_series)\n",
    "plt.plot(np.arange(1380, 1380+120), pred_y, label = 'prediction')\n",
    "plt.plot(np.arange(1380, 1380+120), pred_y_lower, label = 'prediction_lower')\n",
    "plt.plot(np.arange(1380, 1380+120), pred_y_upper, label = 'prediction_upper')\n",
    "plt.legend()\n",
    "plt.show()"
   ]
  },
  {
   "cell_type": "code",
   "execution_count": 21,
   "metadata": {
    "ExecuteTime": {
     "end_time": "2021-03-23T04:46:36.155125Z",
     "start_time": "2021-03-23T04:46:36.138756Z"
    }
   },
   "outputs": [],
   "source": [
    "# train 데이터 상단의 300개 샘플로 validation set를 구성하여 학습 및 추론\n",
    "valid_x_df = train_x_df[train_x_df.sample_id < 10]\n",
    "valid_y_df = train_y_df[train_y_df.sample_id < 10]\n",
    "\n",
    "valid_x_array = df2d_to_array3d(valid_x_df)\n",
    "valid_y_array = df2d_to_array3d(valid_y_df)\n",
    "valid_pred_array = np.zeros([10, 120])"
   ]
  },
  {
   "cell_type": "code",
   "execution_count": 22,
   "metadata": {
    "ExecuteTime": {
     "end_time": "2021-03-23T04:47:08.412588Z",
     "start_time": "2021-03-23T04:46:50.391488Z"
    }
   },
   "outputs": [
    {
     "name": "stderr",
     "output_type": "stream",
     "text": [
      "100%|██████████| 10/10 [00:17<00:00,  1.80s/it]\n"
     ]
    }
   ],
   "source": [
    "for idx in tqdm(range(valid_x_array.shape[0])):\n",
    "    try:\n",
    "        x_series = valid_x_array[idx,:,1]\n",
    "\n",
    "        x_df = pd.DataFrame()\n",
    "        x_df['ds'] = [start_dt + datetime.timedelta(minutes = time_min) for time_min in np.arange(1, x_series.shape[0]+1).tolist()]\n",
    "        x_df['y'] = x_series.tolist()\n",
    "\n",
    "        prophet = Prophet(seasonality_mode='multiplicative', \n",
    "                  yearly_seasonality=False,\n",
    "                  weekly_seasonality=False, daily_seasonality=False)\n",
    "        prophet.fit(x_df)\n",
    "\n",
    "        # 120분 테스트 데이터를 예측합니다.\n",
    "        future_data = prophet.make_future_dataframe(periods=120, freq='min')\n",
    "        forecast_data = prophet.predict(future_data)\n",
    "\n",
    "        pred_y = forecast_data.yhat.values[-120:]\n",
    "        pred_y_lower = forecast_data.yhat_lower.values[-120:]\n",
    "        pred_y_upper = forecast_data.yhat_upper.values[-120:]\n",
    "\n",
    "        valid_pred_array[idx,:] = pred_y\n",
    "    except:\n",
    "        print(idx, \" 샘플은 수렴하지 않습니다.\")\n",
    "        pass"
   ]
  },
  {
   "cell_type": "code",
   "execution_count": 24,
   "metadata": {
    "ExecuteTime": {
     "end_time": "2021-03-23T04:47:21.319292Z",
     "start_time": "2021-03-23T04:47:21.315520Z"
    }
   },
   "outputs": [
    {
     "data": {
      "text/plain": [
       "(10, 120)"
      ]
     },
     "execution_count": 24,
     "metadata": {},
     "output_type": "execute_result"
    }
   ],
   "source": [
    "valid_pred_array.shape"
   ]
  },
  {
   "cell_type": "code",
   "execution_count": 29,
   "metadata": {
    "ExecuteTime": {
     "end_time": "2021-03-23T04:51:48.922695Z",
     "start_time": "2021-03-23T04:51:48.918674Z"
    }
   },
   "outputs": [
    {
     "data": {
      "text/plain": [
       "119"
      ]
     },
     "execution_count": 29,
     "metadata": {},
     "output_type": "execute_result"
    }
   ],
   "source": [
    "np.argmax(valid_pred_array[0])"
   ]
  },
  {
   "cell_type": "code",
   "execution_count": 53,
   "metadata": {
    "ExecuteTime": {
     "end_time": "2021-03-23T05:03:46.764155Z",
     "start_time": "2021-03-23T05:03:46.761033Z"
    }
   },
   "outputs": [
    {
     "data": {
      "text/plain": [
       "(10, 120)"
      ]
     },
     "execution_count": 53,
     "metadata": {},
     "output_type": "execute_result"
    }
   ],
   "source": [
    "valid_pred_array.shape"
   ]
  },
  {
   "cell_type": "code",
   "execution_count": 32,
   "metadata": {
    "ExecuteTime": {
     "end_time": "2021-03-23T04:56:15.329270Z",
     "start_time": "2021-03-23T04:56:15.319657Z"
    }
   },
   "outputs": [],
   "source": [
    "def array_to_submission(pred_array):\n",
    "    # 입력 x_arrry와 출력 pred_arry를 통해서 \n",
    "    # buy_quantitiy와 sell_time을 결정\n",
    "    submission = pd.DataFrame(np.zeros([pred_array.shape[0],2], np.int64),\n",
    "                              columns = ['buy_quantity', 'sell_time'])\n",
    "    submission = submission.reset_index()\n",
    "    submission.loc[:, 'buy_quantity'] = 0.1\n",
    "    \n",
    "    buy_price = []\n",
    "    for idx, sell_time in enumerate(np.argmax(pred_array, axis = 1)):\n",
    "        buy_price.append(pred_array[idx, sell_time])\n",
    "    buy_price = np.array(buy_price)\n",
    "    # 115% 이상 상승한하고 예측한 sample에 대해서만 100% 매수\n",
    "    submission.loc[:, 'buy_quantity'] = (buy_price > 1.15) * 1\n",
    "    # 모델이 예측값 중 최대 값에 해당하는 시간에 매도\n",
    "    submission['sell_time'] = np.argmax(pred_array, axis = 1)\n",
    "    submission.columns = ['sample_id','buy_quantity', 'sell_time']\n",
    "    return submission"
   ]
  },
  {
   "cell_type": "code",
   "execution_count": 33,
   "metadata": {
    "ExecuteTime": {
     "end_time": "2021-03-23T04:56:21.213454Z",
     "start_time": "2021-03-23T04:56:21.207675Z"
    }
   },
   "outputs": [],
   "source": [
    "valid_submission = array_to_submission(valid_pred_array)"
   ]
  },
  {
   "cell_type": "code",
   "execution_count": 34,
   "metadata": {
    "ExecuteTime": {
     "end_time": "2021-03-23T04:56:22.096773Z",
     "start_time": "2021-03-23T04:56:22.089798Z"
    }
   },
   "outputs": [
    {
     "data": {
      "text/html": [
       "<div>\n",
       "<style scoped>\n",
       "    .dataframe tbody tr th:only-of-type {\n",
       "        vertical-align: middle;\n",
       "    }\n",
       "\n",
       "    .dataframe tbody tr th {\n",
       "        vertical-align: top;\n",
       "    }\n",
       "\n",
       "    .dataframe thead th {\n",
       "        text-align: right;\n",
       "    }\n",
       "</style>\n",
       "<table border=\"1\" class=\"dataframe\">\n",
       "  <thead>\n",
       "    <tr style=\"text-align: right;\">\n",
       "      <th></th>\n",
       "      <th>sample_id</th>\n",
       "      <th>buy_quantity</th>\n",
       "      <th>sell_time</th>\n",
       "    </tr>\n",
       "  </thead>\n",
       "  <tbody>\n",
       "    <tr>\n",
       "      <th>0</th>\n",
       "      <td>0</td>\n",
       "      <td>0</td>\n",
       "      <td>119</td>\n",
       "    </tr>\n",
       "    <tr>\n",
       "      <th>1</th>\n",
       "      <td>1</td>\n",
       "      <td>0</td>\n",
       "      <td>0</td>\n",
       "    </tr>\n",
       "    <tr>\n",
       "      <th>2</th>\n",
       "      <td>2</td>\n",
       "      <td>0</td>\n",
       "      <td>0</td>\n",
       "    </tr>\n",
       "    <tr>\n",
       "      <th>3</th>\n",
       "      <td>3</td>\n",
       "      <td>0</td>\n",
       "      <td>119</td>\n",
       "    </tr>\n",
       "    <tr>\n",
       "      <th>4</th>\n",
       "      <td>4</td>\n",
       "      <td>0</td>\n",
       "      <td>0</td>\n",
       "    </tr>\n",
       "    <tr>\n",
       "      <th>5</th>\n",
       "      <td>5</td>\n",
       "      <td>0</td>\n",
       "      <td>0</td>\n",
       "    </tr>\n",
       "    <tr>\n",
       "      <th>6</th>\n",
       "      <td>6</td>\n",
       "      <td>0</td>\n",
       "      <td>119</td>\n",
       "    </tr>\n",
       "    <tr>\n",
       "      <th>7</th>\n",
       "      <td>7</td>\n",
       "      <td>0</td>\n",
       "      <td>119</td>\n",
       "    </tr>\n",
       "    <tr>\n",
       "      <th>8</th>\n",
       "      <td>8</td>\n",
       "      <td>0</td>\n",
       "      <td>0</td>\n",
       "    </tr>\n",
       "    <tr>\n",
       "      <th>9</th>\n",
       "      <td>9</td>\n",
       "      <td>0</td>\n",
       "      <td>119</td>\n",
       "    </tr>\n",
       "  </tbody>\n",
       "</table>\n",
       "</div>"
      ],
      "text/plain": [
       "   sample_id  buy_quantity  sell_time\n",
       "0          0             0        119\n",
       "1          1             0          0\n",
       "2          2             0          0\n",
       "3          3             0        119\n",
       "4          4             0          0\n",
       "5          5             0          0\n",
       "6          6             0        119\n",
       "7          7             0        119\n",
       "8          8             0          0\n",
       "9          9             0        119"
      ]
     },
     "execution_count": 34,
     "metadata": {},
     "output_type": "execute_result"
    }
   ],
   "source": [
    "valid_submission"
   ]
  },
  {
   "cell_type": "code",
   "execution_count": 30,
   "metadata": {
    "ExecuteTime": {
     "end_time": "2021-03-23T04:53:57.530520Z",
     "start_time": "2021-03-23T04:53:57.524396Z"
    }
   },
   "outputs": [
    {
     "data": {
      "text/plain": [
       "0    10\n",
       "Name: buy_quantity, dtype: int64"
      ]
     },
     "execution_count": 30,
     "metadata": {},
     "output_type": "execute_result"
    }
   ],
   "source": [
    "valid_submission.buy_quantity.value_counts()"
   ]
  },
  {
   "cell_type": "code",
   "execution_count": 35,
   "metadata": {
    "ExecuteTime": {
     "end_time": "2021-03-23T04:57:18.746613Z",
     "start_time": "2021-03-23T04:57:18.727205Z"
    }
   },
   "outputs": [],
   "source": [
    "def df2d_to_answer(df_2d):\n",
    "    # valid_y_df로부터\n",
    "    # open 가격 정보가 포함된\n",
    "    # [샘플 수, 120분] 크기의 \n",
    "    # 2차원 array를 반환하는 함수\n",
    "    feature_size = df_2d.iloc[:,2:].shape[1]\n",
    "    time_size = len(df_2d.time.value_counts())\n",
    "    sample_size = len(df_2d.sample_id.value_counts())\n",
    "    sample_index = df_2d.sample_id.value_counts().index\n",
    "    array_2d = df_2d.open.values.reshape([sample_size, time_size])\n",
    "    sample_index = list(sample_index)\n",
    "    return array_2d, sample_index\n",
    "\n",
    "\n",
    "def COIN(y_df, submission, df2d_to_answer = df2d_to_answer):\n",
    "    # 2차원 데이터프레임에서 open 시점 데이터만 추출하여 array로 복원\n",
    "    # sample_id정보를 index에 저장\n",
    "    y_array, index = df2d_to_answer(y_df)\n",
    "    \n",
    "    # index 기준으로 submission을 다시 선택\n",
    "    submission = submission.set_index(submission.columns[0])\n",
    "    submission = submission.iloc[index, :]    \n",
    "    \n",
    "    # 초기 투자 비용은 10000 달러\n",
    "    total_momey      = 10000 # dolors\n",
    "    total_momey_list = []\n",
    "    \n",
    "    # 가장 처음 sample_id값\n",
    "    start_index = submission.index[0]\n",
    "    for row_idx in submission.index:\n",
    "        sell_time  = submission.loc[row_idx, 'sell_time']\n",
    "        buy_price  = y_array[row_idx - start_index, 0]\n",
    "        sell_price = y_array[row_idx - start_index, sell_time]\n",
    "        buy_quantity = submission.loc[row_idx, 'buy_quantity'] * total_momey\n",
    "        residual = total_momey - buy_quantity\n",
    "        ratio = sell_price / buy_price\n",
    "        total_momey = buy_quantity * ratio * 0.9995 * 0.9995 + residual        \n",
    "        total_momey_list.append(total_momey)\n",
    "    return total_momey, total_momey_list"
   ]
  },
  {
   "cell_type": "code",
   "execution_count": 36,
   "metadata": {
    "ExecuteTime": {
     "end_time": "2021-03-23T04:57:27.404368Z",
     "start_time": "2021-03-23T04:57:27.394969Z"
    }
   },
   "outputs": [],
   "source": [
    "total_momey, total_momey_list = COIN(valid_y_df, valid_submission)"
   ]
  },
  {
   "cell_type": "code",
   "execution_count": 37,
   "metadata": {
    "ExecuteTime": {
     "end_time": "2021-03-23T04:57:33.036746Z",
     "start_time": "2021-03-23T04:57:33.033760Z"
    }
   },
   "outputs": [
    {
     "name": "stdout",
     "output_type": "stream",
     "text": [
      "10000.0\n"
     ]
    }
   ],
   "source": [
    "print(total_momey)"
   ]
  },
  {
   "cell_type": "code",
   "execution_count": 43,
   "metadata": {
    "ExecuteTime": {
     "end_time": "2021-03-23T04:59:25.534548Z",
     "start_time": "2021-03-23T04:59:25.519060Z"
    }
   },
   "outputs": [
    {
     "data": {
      "text/html": [
       "<div>\n",
       "<style scoped>\n",
       "    .dataframe tbody tr th:only-of-type {\n",
       "        vertical-align: middle;\n",
       "    }\n",
       "\n",
       "    .dataframe tbody tr th {\n",
       "        vertical-align: top;\n",
       "    }\n",
       "\n",
       "    .dataframe thead th {\n",
       "        text-align: right;\n",
       "    }\n",
       "</style>\n",
       "<table border=\"1\" class=\"dataframe\">\n",
       "  <thead>\n",
       "    <tr style=\"text-align: right;\">\n",
       "      <th></th>\n",
       "      <th>sample_id</th>\n",
       "      <th>time</th>\n",
       "      <th>coin_index</th>\n",
       "      <th>open</th>\n",
       "      <th>high</th>\n",
       "      <th>low</th>\n",
       "      <th>close</th>\n",
       "      <th>volume</th>\n",
       "      <th>quote_av</th>\n",
       "      <th>trades</th>\n",
       "      <th>tb_base_av</th>\n",
       "      <th>tb_quote_av</th>\n",
       "    </tr>\n",
       "  </thead>\n",
       "  <tbody>\n",
       "    <tr>\n",
       "      <th>119</th>\n",
       "      <td>0</td>\n",
       "      <td>119</td>\n",
       "      <td>7</td>\n",
       "      <td>1.002550</td>\n",
       "      <td>1.003138</td>\n",
       "      <td>1.002550</td>\n",
       "      <td>1.003138</td>\n",
       "      <td>453603.343750</td>\n",
       "      <td>23192.257812</td>\n",
       "      <td>255.001953</td>\n",
       "      <td>334046.656250</td>\n",
       "      <td>17079.324219</td>\n",
       "    </tr>\n",
       "    <tr>\n",
       "      <th>120</th>\n",
       "      <td>1</td>\n",
       "      <td>0</td>\n",
       "      <td>0</td>\n",
       "      <td>1.000504</td>\n",
       "      <td>1.000535</td>\n",
       "      <td>1.000504</td>\n",
       "      <td>1.000535</td>\n",
       "      <td>5.177841</td>\n",
       "      <td>16.458494</td>\n",
       "      <td>0.944287</td>\n",
       "      <td>5.177841</td>\n",
       "      <td>16.458494</td>\n",
       "    </tr>\n",
       "    <tr>\n",
       "      <th>121</th>\n",
       "      <td>1</td>\n",
       "      <td>1</td>\n",
       "      <td>0</td>\n",
       "      <td>0.999654</td>\n",
       "      <td>0.999654</td>\n",
       "      <td>0.999591</td>\n",
       "      <td>0.999591</td>\n",
       "      <td>74.331123</td>\n",
       "      <td>236.054169</td>\n",
       "      <td>2.832861</td>\n",
       "      <td>0.000000</td>\n",
       "      <td>0.000000</td>\n",
       "    </tr>\n",
       "    <tr>\n",
       "      <th>122</th>\n",
       "      <td>1</td>\n",
       "      <td>2</td>\n",
       "      <td>0</td>\n",
       "      <td>0.999559</td>\n",
       "      <td>0.999559</td>\n",
       "      <td>0.998332</td>\n",
       "      <td>0.999182</td>\n",
       "      <td>1432.489746</td>\n",
       "      <td>4546.403809</td>\n",
       "      <td>7.869059</td>\n",
       "      <td>704.135986</td>\n",
       "      <td>2234.468994</td>\n",
       "    </tr>\n",
       "    <tr>\n",
       "      <th>123</th>\n",
       "      <td>1</td>\n",
       "      <td>3</td>\n",
       "      <td>0</td>\n",
       "      <td>1.000441</td>\n",
       "      <td>1.000441</td>\n",
       "      <td>0.999780</td>\n",
       "      <td>0.999874</td>\n",
       "      <td>5.760151</td>\n",
       "      <td>18.300951</td>\n",
       "      <td>1.573812</td>\n",
       "      <td>5.760151</td>\n",
       "      <td>18.300951</td>\n",
       "    </tr>\n",
       "    <tr>\n",
       "      <th>124</th>\n",
       "      <td>1</td>\n",
       "      <td>4</td>\n",
       "      <td>0</td>\n",
       "      <td>0.999622</td>\n",
       "      <td>0.999622</td>\n",
       "      <td>0.998206</td>\n",
       "      <td>0.999119</td>\n",
       "      <td>64.249290</td>\n",
       "      <td>203.860489</td>\n",
       "      <td>4.721435</td>\n",
       "      <td>5.574441</td>\n",
       "      <td>17.698793</td>\n",
       "    </tr>\n",
       "    <tr>\n",
       "      <th>125</th>\n",
       "      <td>1</td>\n",
       "      <td>5</td>\n",
       "      <td>0</td>\n",
       "      <td>0.998741</td>\n",
       "      <td>0.999056</td>\n",
       "      <td>0.998458</td>\n",
       "      <td>0.998458</td>\n",
       "      <td>16.430595</td>\n",
       "      <td>52.127083</td>\n",
       "      <td>1.888574</td>\n",
       "      <td>2.008184</td>\n",
       "      <td>6.373774</td>\n",
       "    </tr>\n",
       "    <tr>\n",
       "      <th>126</th>\n",
       "      <td>1</td>\n",
       "      <td>6</td>\n",
       "      <td>0</td>\n",
       "      <td>0.998237</td>\n",
       "      <td>1.002109</td>\n",
       "      <td>0.998237</td>\n",
       "      <td>1.002077</td>\n",
       "      <td>2019.955933</td>\n",
       "      <td>6420.939941</td>\n",
       "      <td>20.774315</td>\n",
       "      <td>1266.531250</td>\n",
       "      <td>4027.583496</td>\n",
       "    </tr>\n",
       "    <tr>\n",
       "      <th>127</th>\n",
       "      <td>1</td>\n",
       "      <td>7</td>\n",
       "      <td>0</td>\n",
       "      <td>1.001951</td>\n",
       "      <td>1.010324</td>\n",
       "      <td>1.001889</td>\n",
       "      <td>1.008058</td>\n",
       "      <td>9383.858398</td>\n",
       "      <td>30033.445312</td>\n",
       "      <td>76.802010</td>\n",
       "      <td>5351.573730</td>\n",
       "      <td>17122.837891</td>\n",
       "    </tr>\n",
       "    <tr>\n",
       "      <th>128</th>\n",
       "      <td>1</td>\n",
       "      <td>8</td>\n",
       "      <td>0</td>\n",
       "      <td>1.007145</td>\n",
       "      <td>1.009821</td>\n",
       "      <td>1.004281</td>\n",
       "      <td>1.009821</td>\n",
       "      <td>2522.464600</td>\n",
       "      <td>8069.384277</td>\n",
       "      <td>30.846710</td>\n",
       "      <td>1817.431519</td>\n",
       "      <td>5814.579590</td>\n",
       "    </tr>\n",
       "    <tr>\n",
       "      <th>129</th>\n",
       "      <td>1</td>\n",
       "      <td>9</td>\n",
       "      <td>0</td>\n",
       "      <td>1.009821</td>\n",
       "      <td>1.010607</td>\n",
       "      <td>1.005980</td>\n",
       "      <td>1.007523</td>\n",
       "      <td>2278.337891</td>\n",
       "      <td>7296.541504</td>\n",
       "      <td>27.069563</td>\n",
       "      <td>643.390015</td>\n",
       "      <td>2061.282227</td>\n",
       "    </tr>\n",
       "    <tr>\n",
       "      <th>130</th>\n",
       "      <td>1</td>\n",
       "      <td>10</td>\n",
       "      <td>0</td>\n",
       "      <td>1.006642</td>\n",
       "      <td>1.006642</td>\n",
       "      <td>1.004501</td>\n",
       "      <td>1.004753</td>\n",
       "      <td>770.075562</td>\n",
       "      <td>2459.245117</td>\n",
       "      <td>6.924772</td>\n",
       "      <td>476.635193</td>\n",
       "      <td>1521.619629</td>\n",
       "    </tr>\n",
       "    <tr>\n",
       "      <th>131</th>\n",
       "      <td>1</td>\n",
       "      <td>11</td>\n",
       "      <td>0</td>\n",
       "      <td>1.004533</td>\n",
       "      <td>1.005036</td>\n",
       "      <td>1.001259</td>\n",
       "      <td>1.003085</td>\n",
       "      <td>1565.794678</td>\n",
       "      <td>4992.409180</td>\n",
       "      <td>15.108593</td>\n",
       "      <td>1191.948364</td>\n",
       "      <td>3802.636963</td>\n",
       "    </tr>\n",
       "    <tr>\n",
       "      <th>132</th>\n",
       "      <td>1</td>\n",
       "      <td>12</td>\n",
       "      <td>0</td>\n",
       "      <td>1.003525</td>\n",
       "      <td>1.007114</td>\n",
       "      <td>1.003525</td>\n",
       "      <td>1.006012</td>\n",
       "      <td>1507.695923</td>\n",
       "      <td>4815.045898</td>\n",
       "      <td>14.479068</td>\n",
       "      <td>1045.668823</td>\n",
       "      <td>3338.089844</td>\n",
       "    </tr>\n",
       "    <tr>\n",
       "      <th>133</th>\n",
       "      <td>1</td>\n",
       "      <td>13</td>\n",
       "      <td>0</td>\n",
       "      <td>1.006201</td>\n",
       "      <td>1.006201</td>\n",
       "      <td>1.002298</td>\n",
       "      <td>1.002455</td>\n",
       "      <td>836.027710</td>\n",
       "      <td>2667.216553</td>\n",
       "      <td>8.813346</td>\n",
       "      <td>63.824364</td>\n",
       "      <td>203.484085</td>\n",
       "    </tr>\n",
       "  </tbody>\n",
       "</table>\n",
       "</div>"
      ],
      "text/plain": [
       "     sample_id  time  coin_index      open      high       low     close  \\\n",
       "119          0   119           7  1.002550  1.003138  1.002550  1.003138   \n",
       "120          1     0           0  1.000504  1.000535  1.000504  1.000535   \n",
       "121          1     1           0  0.999654  0.999654  0.999591  0.999591   \n",
       "122          1     2           0  0.999559  0.999559  0.998332  0.999182   \n",
       "123          1     3           0  1.000441  1.000441  0.999780  0.999874   \n",
       "124          1     4           0  0.999622  0.999622  0.998206  0.999119   \n",
       "125          1     5           0  0.998741  0.999056  0.998458  0.998458   \n",
       "126          1     6           0  0.998237  1.002109  0.998237  1.002077   \n",
       "127          1     7           0  1.001951  1.010324  1.001889  1.008058   \n",
       "128          1     8           0  1.007145  1.009821  1.004281  1.009821   \n",
       "129          1     9           0  1.009821  1.010607  1.005980  1.007523   \n",
       "130          1    10           0  1.006642  1.006642  1.004501  1.004753   \n",
       "131          1    11           0  1.004533  1.005036  1.001259  1.003085   \n",
       "132          1    12           0  1.003525  1.007114  1.003525  1.006012   \n",
       "133          1    13           0  1.006201  1.006201  1.002298  1.002455   \n",
       "\n",
       "            volume      quote_av      trades     tb_base_av   tb_quote_av  \n",
       "119  453603.343750  23192.257812  255.001953  334046.656250  17079.324219  \n",
       "120       5.177841     16.458494    0.944287       5.177841     16.458494  \n",
       "121      74.331123    236.054169    2.832861       0.000000      0.000000  \n",
       "122    1432.489746   4546.403809    7.869059     704.135986   2234.468994  \n",
       "123       5.760151     18.300951    1.573812       5.760151     18.300951  \n",
       "124      64.249290    203.860489    4.721435       5.574441     17.698793  \n",
       "125      16.430595     52.127083    1.888574       2.008184      6.373774  \n",
       "126    2019.955933   6420.939941   20.774315    1266.531250   4027.583496  \n",
       "127    9383.858398  30033.445312   76.802010    5351.573730  17122.837891  \n",
       "128    2522.464600   8069.384277   30.846710    1817.431519   5814.579590  \n",
       "129    2278.337891   7296.541504   27.069563     643.390015   2061.282227  \n",
       "130     770.075562   2459.245117    6.924772     476.635193   1521.619629  \n",
       "131    1565.794678   4992.409180   15.108593    1191.948364   3802.636963  \n",
       "132    1507.695923   4815.045898   14.479068    1045.668823   3338.089844  \n",
       "133     836.027710   2667.216553    8.813346      63.824364    203.484085  "
      ]
     },
     "execution_count": 43,
     "metadata": {},
     "output_type": "execute_result"
    }
   ],
   "source": [
    "valid_y_df.iloc[119:134]"
   ]
  },
  {
   "cell_type": "code",
   "execution_count": 38,
   "metadata": {
    "ExecuteTime": {
     "end_time": "2021-03-23T04:58:24.254008Z",
     "start_time": "2021-03-23T04:58:24.248649Z"
    }
   },
   "outputs": [],
   "source": [
    "arr, idx = df2d_to_answer(valid_y_df)"
   ]
  },
  {
   "cell_type": "code",
   "execution_count": 42,
   "metadata": {
    "ExecuteTime": {
     "end_time": "2021-03-23T04:58:56.910930Z",
     "start_time": "2021-03-23T04:58:56.906738Z"
    }
   },
   "outputs": [
    {
     "data": {
      "text/plain": [
       "array([[1.00039232, 1.00058842, 1.00117695, ..., 1.00137305, 1.00137305,\n",
       "        1.00255001],\n",
       "       [1.00050366, 0.99965376, 0.99955934, ..., 1.02219069, 1.02077436,\n",
       "        1.02005041],\n",
       "       [1.0006603 , 1.00055373, 1.00042605, ..., 1.00347185, 1.00227916,\n",
       "        1.00340796],\n",
       "       ...,\n",
       "       [0.99981707, 0.99992424, 0.99987584, ..., 0.99825883, 0.99642682,\n",
       "        0.99784809],\n",
       "       [0.99975771, 1.00003469, 0.99951547, ..., 0.99647027, 0.99591655,\n",
       "        0.99480915],\n",
       "       [1.00137532, 1.00248551, 1.00249374, ..., 0.9675228 , 0.96521956,\n",
       "        0.97285002]])"
      ]
     },
     "execution_count": 42,
     "metadata": {},
     "output_type": "execute_result"
    }
   ],
   "source": [
    "arr"
   ]
  },
  {
   "cell_type": "code",
   "execution_count": 44,
   "metadata": {
    "ExecuteTime": {
     "end_time": "2021-03-23T05:00:22.090964Z",
     "start_time": "2021-03-23T05:00:22.077518Z"
    }
   },
   "outputs": [
    {
     "ename": "NameError",
     "evalue": "name 'submission' is not defined",
     "output_type": "error",
     "traceback": [
      "\u001b[0;31m---------------------------------------------------------------------------\u001b[0m",
      "\u001b[0;31mNameError\u001b[0m                                 Traceback (most recent call last)",
      "\u001b[0;32m<ipython-input-44-9569e5aea754>\u001b[0m in \u001b[0;36m<module>\u001b[0;34m()\u001b[0m\n\u001b[0;32m----> 1\u001b[0;31m \u001b[0msubmission\u001b[0m\u001b[0;34m\u001b[0m\u001b[0;34m\u001b[0m\u001b[0m\n\u001b[0m",
      "\u001b[0;31mNameError\u001b[0m: name 'submission' is not defined"
     ]
    }
   ],
   "source": [
    "valid_submission"
   ]
  },
  {
   "cell_type": "code",
   "execution_count": 47,
   "metadata": {
    "ExecuteTime": {
     "end_time": "2021-03-23T05:01:22.571784Z",
     "start_time": "2021-03-23T05:01:22.567406Z"
    }
   },
   "outputs": [
    {
     "data": {
      "text/plain": [
       "[9, 8, 7, 6, 5, 4, 3, 2, 1, 0]"
      ]
     },
     "execution_count": 47,
     "metadata": {},
     "output_type": "execute_result"
    }
   ],
   "source": [
    "idx"
   ]
  },
  {
   "cell_type": "code",
   "execution_count": 49,
   "metadata": {
    "ExecuteTime": {
     "end_time": "2021-03-23T05:01:45.599329Z",
     "start_time": "2021-03-23T05:01:45.588659Z"
    }
   },
   "outputs": [],
   "source": [
    "def COIN(y_array, index, submission):\n",
    "    # 2차원 데이터프레임에서 open 시점 데이터만 추출하여 array로 복원\n",
    "    # sample_id정보를 index에 저장\n",
    "    # index 기준으로 submission을 다시 선택\n",
    "    submission = submission.set_index(submission.columns[0])\n",
    "    submission = submission.iloc[index, :]    \n",
    "    \n",
    "    # 초기 투자 비용은 10000 달러\n",
    "    total_momey      = 10000 # dolors\n",
    "    total_momey_list = []\n",
    "    \n",
    "    # 가장 처음 sample_id값\n",
    "    start_index = submission.index[0]\n",
    "    for row_idx in submission.index:\n",
    "        sell_time  = submission.loc[row_idx, 'sell_time']\n",
    "        buy_price  = y_array[row_idx - start_index, 0]\n",
    "        sell_price = y_array[row_idx - start_index, sell_time]\n",
    "        buy_quantity = submission.loc[row_idx, 'buy_quantity'] * total_momey\n",
    "        residual = total_momey - buy_quantity\n",
    "        ratio = sell_price / buy_price\n",
    "        total_momey = buy_quantity * ratio * 0.9995 * 0.9995 + residual        \n",
    "        total_momey_list.append(total_momey)\n",
    "        \n",
    "    return total_momey, total_momey_list"
   ]
  },
  {
   "cell_type": "code",
   "execution_count": 50,
   "metadata": {
    "ExecuteTime": {
     "end_time": "2021-03-23T05:01:45.762599Z",
     "start_time": "2021-03-23T05:01:45.756358Z"
    }
   },
   "outputs": [
    {
     "data": {
      "text/plain": [
       "(10000.0,\n",
       " [10000.0,\n",
       "  10000.0,\n",
       "  10000.0,\n",
       "  10000.0,\n",
       "  10000.0,\n",
       "  10000.0,\n",
       "  10000.0,\n",
       "  10000.0,\n",
       "  10000.0,\n",
       "  10000.0])"
      ]
     },
     "execution_count": 50,
     "metadata": {},
     "output_type": "execute_result"
    }
   ],
   "source": [
    "COIN(arr, idx, valid_submission)"
   ]
  },
  {
   "cell_type": "code",
   "execution_count": 52,
   "metadata": {
    "ExecuteTime": {
     "end_time": "2021-03-23T05:02:51.225120Z",
     "start_time": "2021-03-23T05:02:51.221631Z"
    }
   },
   "outputs": [
    {
     "data": {
      "text/plain": [
       "array([[1.00039232, 1.00058842, 1.00117695, ..., 1.00137305, 1.00137305,\n",
       "        1.00255001],\n",
       "       [1.00050366, 0.99965376, 0.99955934, ..., 1.02219069, 1.02077436,\n",
       "        1.02005041],\n",
       "       [1.0006603 , 1.00055373, 1.00042605, ..., 1.00347185, 1.00227916,\n",
       "        1.00340796],\n",
       "       ...,\n",
       "       [0.99981707, 0.99992424, 0.99987584, ..., 0.99825883, 0.99642682,\n",
       "        0.99784809],\n",
       "       [0.99975771, 1.00003469, 0.99951547, ..., 0.99647027, 0.99591655,\n",
       "        0.99480915],\n",
       "       [1.00137532, 1.00248551, 1.00249374, ..., 0.9675228 , 0.96521956,\n",
       "        0.97285002]])"
      ]
     },
     "execution_count": 52,
     "metadata": {},
     "output_type": "execute_result"
    }
   ],
   "source": [
    "arr"
   ]
  },
  {
   "cell_type": "code",
   "execution_count": 51,
   "metadata": {
    "ExecuteTime": {
     "end_time": "2021-03-23T05:02:22.888389Z",
     "start_time": "2021-03-23T05:02:22.882437Z"
    }
   },
   "outputs": [
    {
     "data": {
      "text/html": [
       "<div>\n",
       "<style scoped>\n",
       "    .dataframe tbody tr th:only-of-type {\n",
       "        vertical-align: middle;\n",
       "    }\n",
       "\n",
       "    .dataframe tbody tr th {\n",
       "        vertical-align: top;\n",
       "    }\n",
       "\n",
       "    .dataframe thead th {\n",
       "        text-align: right;\n",
       "    }\n",
       "</style>\n",
       "<table border=\"1\" class=\"dataframe\">\n",
       "  <thead>\n",
       "    <tr style=\"text-align: right;\">\n",
       "      <th></th>\n",
       "      <th>sample_id</th>\n",
       "      <th>buy_quantity</th>\n",
       "      <th>sell_time</th>\n",
       "    </tr>\n",
       "  </thead>\n",
       "  <tbody>\n",
       "    <tr>\n",
       "      <th>0</th>\n",
       "      <td>0</td>\n",
       "      <td>0</td>\n",
       "      <td>119</td>\n",
       "    </tr>\n",
       "    <tr>\n",
       "      <th>1</th>\n",
       "      <td>1</td>\n",
       "      <td>0</td>\n",
       "      <td>0</td>\n",
       "    </tr>\n",
       "    <tr>\n",
       "      <th>2</th>\n",
       "      <td>2</td>\n",
       "      <td>0</td>\n",
       "      <td>0</td>\n",
       "    </tr>\n",
       "    <tr>\n",
       "      <th>3</th>\n",
       "      <td>3</td>\n",
       "      <td>0</td>\n",
       "      <td>119</td>\n",
       "    </tr>\n",
       "    <tr>\n",
       "      <th>4</th>\n",
       "      <td>4</td>\n",
       "      <td>0</td>\n",
       "      <td>0</td>\n",
       "    </tr>\n",
       "    <tr>\n",
       "      <th>5</th>\n",
       "      <td>5</td>\n",
       "      <td>0</td>\n",
       "      <td>0</td>\n",
       "    </tr>\n",
       "    <tr>\n",
       "      <th>6</th>\n",
       "      <td>6</td>\n",
       "      <td>0</td>\n",
       "      <td>119</td>\n",
       "    </tr>\n",
       "    <tr>\n",
       "      <th>7</th>\n",
       "      <td>7</td>\n",
       "      <td>0</td>\n",
       "      <td>119</td>\n",
       "    </tr>\n",
       "    <tr>\n",
       "      <th>8</th>\n",
       "      <td>8</td>\n",
       "      <td>0</td>\n",
       "      <td>0</td>\n",
       "    </tr>\n",
       "    <tr>\n",
       "      <th>9</th>\n",
       "      <td>9</td>\n",
       "      <td>0</td>\n",
       "      <td>119</td>\n",
       "    </tr>\n",
       "  </tbody>\n",
       "</table>\n",
       "</div>"
      ],
      "text/plain": [
       "   sample_id  buy_quantity  sell_time\n",
       "0          0             0        119\n",
       "1          1             0          0\n",
       "2          2             0          0\n",
       "3          3             0        119\n",
       "4          4             0          0\n",
       "5          5             0          0\n",
       "6          6             0        119\n",
       "7          7             0        119\n",
       "8          8             0          0\n",
       "9          9             0        119"
      ]
     },
     "execution_count": 51,
     "metadata": {},
     "output_type": "execute_result"
    }
   ],
   "source": [
    "valid_submission"
   ]
  },
  {
   "cell_type": "code",
   "execution_count": null,
   "metadata": {},
   "outputs": [],
   "source": []
  }
 ],
 "metadata": {
  "kernelspec": {
   "display_name": "ML_Server",
   "language": "python",
   "name": "ml_server"
  },
  "language_info": {
   "codemirror_mode": {
    "name": "ipython",
    "version": 3
   },
   "file_extension": ".py",
   "mimetype": "text/x-python",
   "name": "python",
   "nbconvert_exporter": "python",
   "pygments_lexer": "ipython3",
   "version": "3.7.9"
  },
  "toc": {
   "base_numbering": 1,
   "nav_menu": {},
   "number_sections": true,
   "sideBar": true,
   "skip_h1_title": false,
   "title_cell": "Table of Contents",
   "title_sidebar": "Contents",
   "toc_cell": false,
   "toc_position": {},
   "toc_section_display": true,
   "toc_window_display": false
  }
 },
 "nbformat": 4,
 "nbformat_minor": 4
}
