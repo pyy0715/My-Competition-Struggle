{
 "cells": [
  {
   "cell_type": "code",
   "execution_count": 1,
   "metadata": {
    "ExecuteTime": {
     "end_time": "2021-05-31T06:27:59.029662Z",
     "start_time": "2021-05-31T06:27:58.335237Z"
    }
   },
   "outputs": [],
   "source": [
    "import numpy as np\n",
    "import pandas as pd\n",
    "\n",
    "# EDA\n",
    "import matplotlib.pyplot as plt\n",
    "import seaborn as sns\n",
    "\n",
    "import warnings\n",
    "warnings.filterwarnings('ignore')"
   ]
  },
  {
   "cell_type": "code",
   "execution_count": 4,
   "metadata": {
    "ExecuteTime": {
     "end_time": "2021-05-31T06:28:57.953526Z",
     "start_time": "2021-05-31T06:28:57.884704Z"
    }
   },
   "outputs": [],
   "source": [
    "train_df = pd.read_csv('./dataset/train.csv')\n",
    "test_df = pd.read_csv('./dataset/test.csv')\n",
    "sub = pd.read_csv('./dataset/sample_submission.csv')"
   ]
  },
  {
   "cell_type": "code",
   "execution_count": 5,
   "metadata": {
    "ExecuteTime": {
     "end_time": "2021-05-31T06:29:10.081099Z",
     "start_time": "2021-05-31T06:29:10.077872Z"
    }
   },
   "outputs": [
    {
     "name": "stdout",
     "output_type": "stream",
     "text": [
      "(122400, 10)\n",
      "(10080, 9)\n",
      "(10080, 2)\n"
     ]
    }
   ],
   "source": [
    "print(train_df.shape)\n",
    "print(test_df.shape)\n",
    "print(sub.shape)"
   ]
  },
  {
   "cell_type": "code",
   "execution_count": 7,
   "metadata": {
    "ExecuteTime": {
     "end_time": "2021-05-31T06:30:03.643103Z",
     "start_time": "2021-05-31T06:30:03.639441Z"
    }
   },
   "outputs": [],
   "source": [
    "train_df.columns = ['num','datetime','target','temperature','windspeed','humidity','precipitation','insolation','nelec_cool_flag','solar_flag']\n",
    "test_df.columns = ['num','datetime','temperature','windspeed','humidity','precipitation','insolation','nelec_cool_flag','solar_flag']"
   ]
  },
  {
   "cell_type": "code",
   "execution_count": 8,
   "metadata": {
    "ExecuteTime": {
     "end_time": "2021-05-31T06:30:09.001771Z",
     "start_time": "2021-05-31T06:30:08.987959Z"
    }
   },
   "outputs": [
    {
     "data": {
      "text/html": [
       "<div>\n",
       "<style scoped>\n",
       "    .dataframe tbody tr th:only-of-type {\n",
       "        vertical-align: middle;\n",
       "    }\n",
       "\n",
       "    .dataframe tbody tr th {\n",
       "        vertical-align: top;\n",
       "    }\n",
       "\n",
       "    .dataframe thead th {\n",
       "        text-align: right;\n",
       "    }\n",
       "</style>\n",
       "<table border=\"1\" class=\"dataframe\">\n",
       "  <thead>\n",
       "    <tr style=\"text-align: right;\">\n",
       "      <th></th>\n",
       "      <th>num</th>\n",
       "      <th>datetime</th>\n",
       "      <th>target</th>\n",
       "      <th>temperature</th>\n",
       "      <th>windspeed</th>\n",
       "      <th>humidity</th>\n",
       "      <th>precipitation</th>\n",
       "      <th>insolation</th>\n",
       "      <th>nelec_cool_flag</th>\n",
       "      <th>solar_flag</th>\n",
       "    </tr>\n",
       "  </thead>\n",
       "  <tbody>\n",
       "    <tr>\n",
       "      <th>0</th>\n",
       "      <td>1</td>\n",
       "      <td>2020-06-01 00</td>\n",
       "      <td>8179.056</td>\n",
       "      <td>17.6</td>\n",
       "      <td>2.5</td>\n",
       "      <td>92.0</td>\n",
       "      <td>0.8</td>\n",
       "      <td>0.0</td>\n",
       "      <td>0.0</td>\n",
       "      <td>0.0</td>\n",
       "    </tr>\n",
       "    <tr>\n",
       "      <th>1</th>\n",
       "      <td>1</td>\n",
       "      <td>2020-06-01 01</td>\n",
       "      <td>8135.640</td>\n",
       "      <td>17.7</td>\n",
       "      <td>2.9</td>\n",
       "      <td>91.0</td>\n",
       "      <td>0.3</td>\n",
       "      <td>0.0</td>\n",
       "      <td>0.0</td>\n",
       "      <td>0.0</td>\n",
       "    </tr>\n",
       "    <tr>\n",
       "      <th>2</th>\n",
       "      <td>1</td>\n",
       "      <td>2020-06-01 02</td>\n",
       "      <td>8107.128</td>\n",
       "      <td>17.5</td>\n",
       "      <td>3.2</td>\n",
       "      <td>91.0</td>\n",
       "      <td>0.0</td>\n",
       "      <td>0.0</td>\n",
       "      <td>0.0</td>\n",
       "      <td>0.0</td>\n",
       "    </tr>\n",
       "    <tr>\n",
       "      <th>3</th>\n",
       "      <td>1</td>\n",
       "      <td>2020-06-01 03</td>\n",
       "      <td>8048.808</td>\n",
       "      <td>17.1</td>\n",
       "      <td>3.2</td>\n",
       "      <td>91.0</td>\n",
       "      <td>0.0</td>\n",
       "      <td>0.0</td>\n",
       "      <td>0.0</td>\n",
       "      <td>0.0</td>\n",
       "    </tr>\n",
       "    <tr>\n",
       "      <th>4</th>\n",
       "      <td>1</td>\n",
       "      <td>2020-06-01 04</td>\n",
       "      <td>8043.624</td>\n",
       "      <td>17.0</td>\n",
       "      <td>3.3</td>\n",
       "      <td>92.0</td>\n",
       "      <td>0.0</td>\n",
       "      <td>0.0</td>\n",
       "      <td>0.0</td>\n",
       "      <td>0.0</td>\n",
       "    </tr>\n",
       "  </tbody>\n",
       "</table>\n",
       "</div>"
      ],
      "text/plain": [
       "   num       datetime    target  temperature  windspeed  humidity  \\\n",
       "0    1  2020-06-01 00  8179.056         17.6        2.5      92.0   \n",
       "1    1  2020-06-01 01  8135.640         17.7        2.9      91.0   \n",
       "2    1  2020-06-01 02  8107.128         17.5        3.2      91.0   \n",
       "3    1  2020-06-01 03  8048.808         17.1        3.2      91.0   \n",
       "4    1  2020-06-01 04  8043.624         17.0        3.3      92.0   \n",
       "\n",
       "   precipitation  insolation  nelec_cool_flag  solar_flag  \n",
       "0            0.8         0.0              0.0         0.0  \n",
       "1            0.3         0.0              0.0         0.0  \n",
       "2            0.0         0.0              0.0         0.0  \n",
       "3            0.0         0.0              0.0         0.0  \n",
       "4            0.0         0.0              0.0         0.0  "
      ]
     },
     "execution_count": 8,
     "metadata": {},
     "output_type": "execute_result"
    }
   ],
   "source": [
    "train_df.head()"
   ]
  },
  {
   "cell_type": "code",
   "execution_count": 22,
   "metadata": {
    "ExecuteTime": {
     "end_time": "2021-05-31T06:48:31.559869Z",
     "start_time": "2021-05-31T06:48:31.549177Z"
    }
   },
   "outputs": [
    {
     "data": {
      "text/plain": [
       "array([ 1,  2,  3,  4,  5,  6,  7,  8,  9, 10, 11, 12, 13, 14, 15, 16, 17,\n",
       "       18, 19, 20, 21, 22, 23, 24, 25, 26, 27, 28, 29, 30, 31, 32, 33, 34,\n",
       "       35, 36, 37, 38, 39, 40, 41, 42, 43, 44, 45, 46, 47, 48, 49, 50, 51,\n",
       "       52, 53, 54, 55, 56, 57, 58, 59, 60])"
      ]
     },
     "execution_count": 22,
     "metadata": {},
     "output_type": "execute_result"
    }
   ],
   "source": [
    "train_df['num'].unique()"
   ]
  },
  {
   "cell_type": "code",
   "execution_count": 23,
   "metadata": {
    "ExecuteTime": {
     "end_time": "2021-05-31T06:48:38.379670Z",
     "start_time": "2021-05-31T06:48:38.372254Z"
    }
   },
   "outputs": [
    {
     "data": {
      "text/plain": [
       "num                   0\n",
       "datetime              0\n",
       "temperature        6720\n",
       "windspeed          6720\n",
       "humidity           6720\n",
       "precipitation      8400\n",
       "insolation         6720\n",
       "nelec_cool_flag    7784\n",
       "solar_flag         8456\n",
       "dtype: int64"
      ]
     },
     "execution_count": 23,
     "metadata": {},
     "output_type": "execute_result"
    }
   ],
   "source": [
    "test_df.isnull().sum()"
   ]
  },
  {
   "cell_type": "code",
   "execution_count": 24,
   "metadata": {
    "ExecuteTime": {
     "end_time": "2021-05-31T06:49:03.746878Z",
     "start_time": "2021-05-31T06:49:03.731663Z"
    }
   },
   "outputs": [
    {
     "data": {
      "text/html": [
       "<div>\n",
       "<style scoped>\n",
       "    .dataframe tbody tr th:only-of-type {\n",
       "        vertical-align: middle;\n",
       "    }\n",
       "\n",
       "    .dataframe tbody tr th {\n",
       "        vertical-align: top;\n",
       "    }\n",
       "\n",
       "    .dataframe thead th {\n",
       "        text-align: right;\n",
       "    }\n",
       "</style>\n",
       "<table border=\"1\" class=\"dataframe\">\n",
       "  <thead>\n",
       "    <tr style=\"text-align: right;\">\n",
       "      <th></th>\n",
       "      <th>num</th>\n",
       "      <th>datetime</th>\n",
       "      <th>target</th>\n",
       "      <th>temperature</th>\n",
       "      <th>windspeed</th>\n",
       "      <th>humidity</th>\n",
       "      <th>precipitation</th>\n",
       "      <th>insolation</th>\n",
       "      <th>nelec_cool_flag</th>\n",
       "      <th>solar_flag</th>\n",
       "      <th>THI</th>\n",
       "    </tr>\n",
       "  </thead>\n",
       "  <tbody>\n",
       "    <tr>\n",
       "      <th>122395</th>\n",
       "      <td>60</td>\n",
       "      <td>2020-08-24 19</td>\n",
       "      <td>4114.368</td>\n",
       "      <td>27.8</td>\n",
       "      <td>2.3</td>\n",
       "      <td>68.0</td>\n",
       "      <td>0.0</td>\n",
       "      <td>0.7</td>\n",
       "      <td>1.0</td>\n",
       "      <td>1.0</td>\n",
       "      <td>77.80896</td>\n",
       "    </tr>\n",
       "    <tr>\n",
       "      <th>122396</th>\n",
       "      <td>60</td>\n",
       "      <td>2020-08-24 20</td>\n",
       "      <td>3975.696</td>\n",
       "      <td>27.3</td>\n",
       "      <td>1.2</td>\n",
       "      <td>71.0</td>\n",
       "      <td>0.0</td>\n",
       "      <td>0.0</td>\n",
       "      <td>1.0</td>\n",
       "      <td>1.0</td>\n",
       "      <td>77.44917</td>\n",
       "    </tr>\n",
       "    <tr>\n",
       "      <th>122397</th>\n",
       "      <td>60</td>\n",
       "      <td>2020-08-24 21</td>\n",
       "      <td>3572.208</td>\n",
       "      <td>27.3</td>\n",
       "      <td>1.8</td>\n",
       "      <td>71.0</td>\n",
       "      <td>0.0</td>\n",
       "      <td>0.0</td>\n",
       "      <td>1.0</td>\n",
       "      <td>1.0</td>\n",
       "      <td>77.44917</td>\n",
       "    </tr>\n",
       "    <tr>\n",
       "      <th>122398</th>\n",
       "      <td>60</td>\n",
       "      <td>2020-08-24 22</td>\n",
       "      <td>3299.184</td>\n",
       "      <td>27.1</td>\n",
       "      <td>1.8</td>\n",
       "      <td>74.0</td>\n",
       "      <td>0.0</td>\n",
       "      <td>0.0</td>\n",
       "      <td>1.0</td>\n",
       "      <td>1.0</td>\n",
       "      <td>77.52246</td>\n",
       "    </tr>\n",
       "    <tr>\n",
       "      <th>122399</th>\n",
       "      <td>60</td>\n",
       "      <td>2020-08-24 23</td>\n",
       "      <td>3204.576</td>\n",
       "      <td>27.1</td>\n",
       "      <td>2.6</td>\n",
       "      <td>75.0</td>\n",
       "      <td>0.0</td>\n",
       "      <td>0.0</td>\n",
       "      <td>1.0</td>\n",
       "      <td>1.0</td>\n",
       "      <td>77.64775</td>\n",
       "    </tr>\n",
       "  </tbody>\n",
       "</table>\n",
       "</div>"
      ],
      "text/plain": [
       "        num       datetime    target  temperature  windspeed  humidity  \\\n",
       "122395   60  2020-08-24 19  4114.368         27.8        2.3      68.0   \n",
       "122396   60  2020-08-24 20  3975.696         27.3        1.2      71.0   \n",
       "122397   60  2020-08-24 21  3572.208         27.3        1.8      71.0   \n",
       "122398   60  2020-08-24 22  3299.184         27.1        1.8      74.0   \n",
       "122399   60  2020-08-24 23  3204.576         27.1        2.6      75.0   \n",
       "\n",
       "        precipitation  insolation  nelec_cool_flag  solar_flag       THI  \n",
       "122395            0.0         0.7              1.0         1.0  77.80896  \n",
       "122396            0.0         0.0              1.0         1.0  77.44917  \n",
       "122397            0.0         0.0              1.0         1.0  77.44917  \n",
       "122398            0.0         0.0              1.0         1.0  77.52246  \n",
       "122399            0.0         0.0              1.0         1.0  77.64775  "
      ]
     },
     "execution_count": 24,
     "metadata": {},
     "output_type": "execute_result"
    }
   ],
   "source": [
    "train_df.tail()"
   ]
  },
  {
   "cell_type": "code",
   "execution_count": 25,
   "metadata": {
    "ExecuteTime": {
     "end_time": "2021-05-31T06:49:31.022039Z",
     "start_time": "2021-05-31T06:49:31.008534Z"
    }
   },
   "outputs": [
    {
     "data": {
      "text/plain": [
       "num\n",
       "1     2040\n",
       "2     2040\n",
       "3     2040\n",
       "4     2040\n",
       "5     2040\n",
       "6     2040\n",
       "7     2040\n",
       "8     2040\n",
       "9     2040\n",
       "10    2040\n",
       "11    2040\n",
       "12    2040\n",
       "13    2040\n",
       "14    2040\n",
       "15    2040\n",
       "16    2040\n",
       "17    2040\n",
       "18    2040\n",
       "19    2040\n",
       "20    2040\n",
       "21    2040\n",
       "22    2040\n",
       "23    2040\n",
       "24    2040\n",
       "25    2040\n",
       "26    2040\n",
       "27    2040\n",
       "28    2040\n",
       "29    2040\n",
       "30    2040\n",
       "31    2040\n",
       "32    2040\n",
       "33    2040\n",
       "34    2040\n",
       "35    2040\n",
       "36    2040\n",
       "37    2040\n",
       "38    2040\n",
       "39    2040\n",
       "40    2040\n",
       "41    2040\n",
       "42    2040\n",
       "43    2040\n",
       "44    2040\n",
       "45    2040\n",
       "46    2040\n",
       "47    2040\n",
       "48    2040\n",
       "49    2040\n",
       "50    2040\n",
       "51    2040\n",
       "52    2040\n",
       "53    2040\n",
       "54    2040\n",
       "55    2040\n",
       "56    2040\n",
       "57    2040\n",
       "58    2040\n",
       "59    2040\n",
       "60    2040\n",
       "Name: datetime, dtype: int64"
      ]
     },
     "execution_count": 25,
     "metadata": {},
     "output_type": "execute_result"
    }
   ],
   "source": [
    "train_df.groupby('num')['datetime'].count()"
   ]
  },
  {
   "cell_type": "code",
   "execution_count": null,
   "metadata": {},
   "outputs": [],
   "source": []
  },
  {
   "cell_type": "code",
   "execution_count": null,
   "metadata": {},
   "outputs": [],
   "source": []
  },
  {
   "cell_type": "code",
   "execution_count": null,
   "metadata": {},
   "outputs": [],
   "source": []
  },
  {
   "cell_type": "code",
   "execution_count": 15,
   "metadata": {
    "ExecuteTime": {
     "end_time": "2021-05-31T06:39:23.925866Z",
     "start_time": "2021-05-31T06:39:23.908745Z"
    }
   },
   "outputs": [
    {
     "data": {
      "text/plain": [
       "0         0.92\n",
       "1         0.91\n",
       "2         0.91\n",
       "3         0.91\n",
       "4         0.92\n",
       "          ... \n",
       "122395    0.68\n",
       "122396    0.71\n",
       "122397    0.71\n",
       "122398    0.74\n",
       "122399    0.75\n",
       "Name: humidity, Length: 122400, dtype: float64"
      ]
     },
     "execution_count": 15,
     "metadata": {},
     "output_type": "execute_result"
    }
   ],
   "source": [
    "train_df['humidity']/100"
   ]
  },
  {
   "cell_type": "code",
   "execution_count": 18,
   "metadata": {
    "ExecuteTime": {
     "end_time": "2021-05-31T06:41:57.462690Z",
     "start_time": "2021-05-31T06:41:57.459183Z"
    }
   },
   "outputs": [
    {
     "data": {
      "text/plain": [
       "63.430080000000004"
      ]
     },
     "execution_count": 18,
     "metadata": {},
     "output_type": "execute_result"
    }
   ],
   "source": [
    "THI(17.6, 92)"
   ]
  },
  {
   "cell_type": "code",
   "execution_count": 19,
   "metadata": {
    "ExecuteTime": {
     "end_time": "2021-05-31T06:42:33.747974Z",
     "start_time": "2021-05-31T06:42:32.848798Z"
    }
   },
   "outputs": [],
   "source": [
    "def THI(temp, hum):\n",
    "    index = (1.8 * temp) - 0.55 * (1 - (hum/100)) * (1.8*temp - 26) + 32\n",
    "    return index\n",
    "\n",
    "train_df['THI'] = train_df.apply(lambda x: THI(x['temperature'], x['humidity']), axis=1)"
   ]
  },
  {
   "cell_type": "code",
   "execution_count": 20,
   "metadata": {
    "ExecuteTime": {
     "end_time": "2021-05-31T06:42:42.825555Z",
     "start_time": "2021-05-31T06:42:42.820035Z"
    }
   },
   "outputs": [
    {
     "data": {
      "text/plain": [
       "0         63.43008\n",
       "1         63.56993\n",
       "2         63.22775\n",
       "3         62.54339\n",
       "4         62.39760\n",
       "            ...   \n",
       "122395    77.80896\n",
       "122396    77.44917\n",
       "122397    77.44917\n",
       "122398    77.52246\n",
       "122399    77.64775\n",
       "Name: THI, Length: 122400, dtype: float64"
      ]
     },
     "execution_count": 20,
     "metadata": {},
     "output_type": "execute_result"
    }
   ],
   "source": [
    "train_df['THI']"
   ]
  },
  {
   "cell_type": "code",
   "execution_count": null,
   "metadata": {},
   "outputs": [],
   "source": []
  },
  {
   "cell_type": "code",
   "execution_count": 11,
   "metadata": {
    "ExecuteTime": {
     "end_time": "2021-05-31T06:35:33.345089Z",
     "start_time": "2021-05-31T06:35:33.332343Z"
    }
   },
   "outputs": [
    {
     "data": {
      "text/plain": [
       "num                0\n",
       "datetime           0\n",
       "target             0\n",
       "temperature        0\n",
       "windspeed          0\n",
       "humidity           0\n",
       "precipitation      0\n",
       "insolation         0\n",
       "nelec_cool_flag    0\n",
       "solar_flag         0\n",
       "dtype: int64"
      ]
     },
     "execution_count": 11,
     "metadata": {},
     "output_type": "execute_result"
    }
   ],
   "source": [
    "train_df.isnull().sum()"
   ]
  }
 ],
 "metadata": {
  "kernelspec": {
   "display_name": "DL_Server",
   "language": "python",
   "name": "dl_server"
  },
  "language_info": {
   "codemirror_mode": {
    "name": "ipython",
    "version": 3
   },
   "file_extension": ".py",
   "mimetype": "text/x-python",
   "name": "python",
   "nbconvert_exporter": "python",
   "pygments_lexer": "ipython3",
   "version": "3.8.8"
  },
  "latex_envs": {
   "LaTeX_envs_menu_present": true,
   "autoclose": false,
   "autocomplete": true,
   "bibliofile": "biblio.bib",
   "cite_by": "apalike",
   "current_citInitial": 1,
   "eqLabelWithNumbers": true,
   "eqNumInitial": 1,
   "hotkeys": {
    "equation": "Ctrl-E",
    "itemize": "Ctrl-I"
   },
   "labels_anchors": false,
   "latex_user_defs": false,
   "report_style_numbering": false,
   "user_envs_cfg": false
  },
  "toc": {
   "base_numbering": 1,
   "nav_menu": {},
   "number_sections": true,
   "sideBar": true,
   "skip_h1_title": false,
   "title_cell": "Table of Contents",
   "title_sidebar": "Contents",
   "toc_cell": false,
   "toc_position": {},
   "toc_section_display": true,
   "toc_window_display": false
  }
 },
 "nbformat": 4,
 "nbformat_minor": 4
}
